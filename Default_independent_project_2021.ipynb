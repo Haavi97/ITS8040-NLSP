{
  "nbformat": 4,
  "nbformat_minor": 0,
  "metadata": {
    "colab": {
      "name": "Default_independent_project_2021.ipynb",
      "provenance": [],
      "collapsed_sections": [
        "dXLUiLBL__R7",
        "OPm3-daEqWP2",
        "uab8IEZdoJM_",
        "bBs7fnCn_ZXY",
        "i3kc6ozYVoo1",
        "tBLqZ6BMXeN7",
        "1p0VaHZP9Beu",
        "POWaEnWjnRf_",
        "c7Dx82CJpZi9",
        "QdkY_C2txEoD",
        "SBpIYV8MFGT8",
        "R7DvuE4DGwt1"
      ],
      "toc_visible": true,
      "include_colab_link": true
    },
    "kernelspec": {
      "name": "python3",
      "display_name": "Python 3"
    },
    "accelerator": "GPU",
    "widgets": {
      "application/vnd.jupyter.widget-state+json": {
        "564f59b86a2c4397857f7d3953b7e271": {
          "model_module": "@jupyter-widgets/controls",
          "model_name": "HBoxModel",
          "state": {
            "_view_name": "HBoxView",
            "_dom_classes": [],
            "_model_name": "HBoxModel",
            "_view_module": "@jupyter-widgets/controls",
            "_model_module_version": "1.5.0",
            "_view_count": null,
            "_view_module_version": "1.5.0",
            "box_style": "",
            "layout": "IPY_MODEL_016af4990fe543a6aad551aee84bb41c",
            "_model_module": "@jupyter-widgets/controls",
            "children": [
              "IPY_MODEL_fcfbbae8804e40968fe3ad2c99e3705e",
              "IPY_MODEL_2183ea9f8ec54c368314abcfc185097b"
            ]
          }
        },
        "016af4990fe543a6aad551aee84bb41c": {
          "model_module": "@jupyter-widgets/base",
          "model_name": "LayoutModel",
          "state": {
            "_view_name": "LayoutView",
            "grid_template_rows": null,
            "right": null,
            "justify_content": null,
            "_view_module": "@jupyter-widgets/base",
            "overflow": null,
            "_model_module_version": "1.2.0",
            "_view_count": null,
            "flex_flow": null,
            "width": null,
            "min_width": null,
            "border": null,
            "align_items": null,
            "bottom": null,
            "_model_module": "@jupyter-widgets/base",
            "top": null,
            "grid_column": null,
            "overflow_y": null,
            "overflow_x": null,
            "grid_auto_flow": null,
            "grid_area": null,
            "grid_template_columns": null,
            "flex": null,
            "_model_name": "LayoutModel",
            "justify_items": null,
            "grid_row": null,
            "max_height": null,
            "align_content": null,
            "visibility": null,
            "align_self": null,
            "height": null,
            "min_height": null,
            "padding": null,
            "grid_auto_rows": null,
            "grid_gap": null,
            "max_width": null,
            "order": null,
            "_view_module_version": "1.2.0",
            "grid_template_areas": null,
            "object_position": null,
            "object_fit": null,
            "grid_auto_columns": null,
            "margin": null,
            "display": null,
            "left": null
          }
        },
        "fcfbbae8804e40968fe3ad2c99e3705e": {
          "model_module": "@jupyter-widgets/controls",
          "model_name": "FloatProgressModel",
          "state": {
            "_view_name": "ProgressView",
            "style": "IPY_MODEL_0d7ad79d47034a1ca8cf92e9d6af8b60",
            "_dom_classes": [],
            "description": "Downloading: 100%",
            "_model_name": "FloatProgressModel",
            "bar_style": "success",
            "max": 213450,
            "_view_module": "@jupyter-widgets/controls",
            "_model_module_version": "1.5.0",
            "value": 213450,
            "_view_count": null,
            "_view_module_version": "1.5.0",
            "orientation": "horizontal",
            "min": 0,
            "description_tooltip": null,
            "_model_module": "@jupyter-widgets/controls",
            "layout": "IPY_MODEL_0b9ffadd46d14e78921944832397a809"
          }
        },
        "2183ea9f8ec54c368314abcfc185097b": {
          "model_module": "@jupyter-widgets/controls",
          "model_name": "HTMLModel",
          "state": {
            "_view_name": "HTMLView",
            "style": "IPY_MODEL_b17f84b93c5745cdb5b6ba8fb295a215",
            "_dom_classes": [],
            "description": "",
            "_model_name": "HTMLModel",
            "placeholder": "​",
            "_view_module": "@jupyter-widgets/controls",
            "_model_module_version": "1.5.0",
            "value": " 213k/213k [00:02&lt;00:00, 104kB/s]",
            "_view_count": null,
            "_view_module_version": "1.5.0",
            "description_tooltip": null,
            "_model_module": "@jupyter-widgets/controls",
            "layout": "IPY_MODEL_c153ef25b2904e1e9678b7b21d65f4b5"
          }
        },
        "0d7ad79d47034a1ca8cf92e9d6af8b60": {
          "model_module": "@jupyter-widgets/controls",
          "model_name": "ProgressStyleModel",
          "state": {
            "_view_name": "StyleView",
            "_model_name": "ProgressStyleModel",
            "description_width": "initial",
            "_view_module": "@jupyter-widgets/base",
            "_model_module_version": "1.5.0",
            "_view_count": null,
            "_view_module_version": "1.2.0",
            "bar_color": null,
            "_model_module": "@jupyter-widgets/controls"
          }
        },
        "0b9ffadd46d14e78921944832397a809": {
          "model_module": "@jupyter-widgets/base",
          "model_name": "LayoutModel",
          "state": {
            "_view_name": "LayoutView",
            "grid_template_rows": null,
            "right": null,
            "justify_content": null,
            "_view_module": "@jupyter-widgets/base",
            "overflow": null,
            "_model_module_version": "1.2.0",
            "_view_count": null,
            "flex_flow": null,
            "width": null,
            "min_width": null,
            "border": null,
            "align_items": null,
            "bottom": null,
            "_model_module": "@jupyter-widgets/base",
            "top": null,
            "grid_column": null,
            "overflow_y": null,
            "overflow_x": null,
            "grid_auto_flow": null,
            "grid_area": null,
            "grid_template_columns": null,
            "flex": null,
            "_model_name": "LayoutModel",
            "justify_items": null,
            "grid_row": null,
            "max_height": null,
            "align_content": null,
            "visibility": null,
            "align_self": null,
            "height": null,
            "min_height": null,
            "padding": null,
            "grid_auto_rows": null,
            "grid_gap": null,
            "max_width": null,
            "order": null,
            "_view_module_version": "1.2.0",
            "grid_template_areas": null,
            "object_position": null,
            "object_fit": null,
            "grid_auto_columns": null,
            "margin": null,
            "display": null,
            "left": null
          }
        },
        "b17f84b93c5745cdb5b6ba8fb295a215": {
          "model_module": "@jupyter-widgets/controls",
          "model_name": "DescriptionStyleModel",
          "state": {
            "_view_name": "StyleView",
            "_model_name": "DescriptionStyleModel",
            "description_width": "",
            "_view_module": "@jupyter-widgets/base",
            "_model_module_version": "1.5.0",
            "_view_count": null,
            "_view_module_version": "1.2.0",
            "_model_module": "@jupyter-widgets/controls"
          }
        },
        "c153ef25b2904e1e9678b7b21d65f4b5": {
          "model_module": "@jupyter-widgets/base",
          "model_name": "LayoutModel",
          "state": {
            "_view_name": "LayoutView",
            "grid_template_rows": null,
            "right": null,
            "justify_content": null,
            "_view_module": "@jupyter-widgets/base",
            "overflow": null,
            "_model_module_version": "1.2.0",
            "_view_count": null,
            "flex_flow": null,
            "width": null,
            "min_width": null,
            "border": null,
            "align_items": null,
            "bottom": null,
            "_model_module": "@jupyter-widgets/base",
            "top": null,
            "grid_column": null,
            "overflow_y": null,
            "overflow_x": null,
            "grid_auto_flow": null,
            "grid_area": null,
            "grid_template_columns": null,
            "flex": null,
            "_model_name": "LayoutModel",
            "justify_items": null,
            "grid_row": null,
            "max_height": null,
            "align_content": null,
            "visibility": null,
            "align_self": null,
            "height": null,
            "min_height": null,
            "padding": null,
            "grid_auto_rows": null,
            "grid_gap": null,
            "max_width": null,
            "order": null,
            "_view_module_version": "1.2.0",
            "grid_template_areas": null,
            "object_position": null,
            "object_fit": null,
            "grid_auto_columns": null,
            "margin": null,
            "display": null,
            "left": null
          }
        },
        "9cb3b141f9d54a61babec08b488449d9": {
          "model_module": "@jupyter-widgets/controls",
          "model_name": "HBoxModel",
          "state": {
            "_view_name": "HBoxView",
            "_dom_classes": [],
            "_model_name": "HBoxModel",
            "_view_module": "@jupyter-widgets/controls",
            "_model_module_version": "1.5.0",
            "_view_count": null,
            "_view_module_version": "1.5.0",
            "box_style": "",
            "layout": "IPY_MODEL_895ed621ae634c6d8288e471dda247d3",
            "_model_module": "@jupyter-widgets/controls",
            "children": [
              "IPY_MODEL_4b6f8cf8fc5a4bd0ae64bc939eaa5a89",
              "IPY_MODEL_19cb1fecd3d74799b7d94192b141727f"
            ]
          }
        },
        "895ed621ae634c6d8288e471dda247d3": {
          "model_module": "@jupyter-widgets/base",
          "model_name": "LayoutModel",
          "state": {
            "_view_name": "LayoutView",
            "grid_template_rows": null,
            "right": null,
            "justify_content": null,
            "_view_module": "@jupyter-widgets/base",
            "overflow": null,
            "_model_module_version": "1.2.0",
            "_view_count": null,
            "flex_flow": null,
            "width": null,
            "min_width": null,
            "border": null,
            "align_items": null,
            "bottom": null,
            "_model_module": "@jupyter-widgets/base",
            "top": null,
            "grid_column": null,
            "overflow_y": null,
            "overflow_x": null,
            "grid_auto_flow": null,
            "grid_area": null,
            "grid_template_columns": null,
            "flex": null,
            "_model_name": "LayoutModel",
            "justify_items": null,
            "grid_row": null,
            "max_height": null,
            "align_content": null,
            "visibility": null,
            "align_self": null,
            "height": null,
            "min_height": null,
            "padding": null,
            "grid_auto_rows": null,
            "grid_gap": null,
            "max_width": null,
            "order": null,
            "_view_module_version": "1.2.0",
            "grid_template_areas": null,
            "object_position": null,
            "object_fit": null,
            "grid_auto_columns": null,
            "margin": null,
            "display": null,
            "left": null
          }
        },
        "4b6f8cf8fc5a4bd0ae64bc939eaa5a89": {
          "model_module": "@jupyter-widgets/controls",
          "model_name": "FloatProgressModel",
          "state": {
            "_view_name": "ProgressView",
            "style": "IPY_MODEL_5c762655e76240cca2f7506a74596dac",
            "_dom_classes": [],
            "description": "Downloading: 100%",
            "_model_name": "FloatProgressModel",
            "bar_style": "success",
            "max": 29,
            "_view_module": "@jupyter-widgets/controls",
            "_model_module_version": "1.5.0",
            "value": 29,
            "_view_count": null,
            "_view_module_version": "1.5.0",
            "orientation": "horizontal",
            "min": 0,
            "description_tooltip": null,
            "_model_module": "@jupyter-widgets/controls",
            "layout": "IPY_MODEL_ec729de3afda4c6789ebd0114ef45da8"
          }
        },
        "19cb1fecd3d74799b7d94192b141727f": {
          "model_module": "@jupyter-widgets/controls",
          "model_name": "HTMLModel",
          "state": {
            "_view_name": "HTMLView",
            "style": "IPY_MODEL_62815593d79c45db967dffe0744cfc3e",
            "_dom_classes": [],
            "description": "",
            "_model_name": "HTMLModel",
            "placeholder": "​",
            "_view_module": "@jupyter-widgets/controls",
            "_model_module_version": "1.5.0",
            "value": " 29.0/29.0 [00:00&lt;00:00, 46.3B/s]",
            "_view_count": null,
            "_view_module_version": "1.5.0",
            "description_tooltip": null,
            "_model_module": "@jupyter-widgets/controls",
            "layout": "IPY_MODEL_1a2308cea7494d88beef09d9fc5224f4"
          }
        },
        "5c762655e76240cca2f7506a74596dac": {
          "model_module": "@jupyter-widgets/controls",
          "model_name": "ProgressStyleModel",
          "state": {
            "_view_name": "StyleView",
            "_model_name": "ProgressStyleModel",
            "description_width": "initial",
            "_view_module": "@jupyter-widgets/base",
            "_model_module_version": "1.5.0",
            "_view_count": null,
            "_view_module_version": "1.2.0",
            "bar_color": null,
            "_model_module": "@jupyter-widgets/controls"
          }
        },
        "ec729de3afda4c6789ebd0114ef45da8": {
          "model_module": "@jupyter-widgets/base",
          "model_name": "LayoutModel",
          "state": {
            "_view_name": "LayoutView",
            "grid_template_rows": null,
            "right": null,
            "justify_content": null,
            "_view_module": "@jupyter-widgets/base",
            "overflow": null,
            "_model_module_version": "1.2.0",
            "_view_count": null,
            "flex_flow": null,
            "width": null,
            "min_width": null,
            "border": null,
            "align_items": null,
            "bottom": null,
            "_model_module": "@jupyter-widgets/base",
            "top": null,
            "grid_column": null,
            "overflow_y": null,
            "overflow_x": null,
            "grid_auto_flow": null,
            "grid_area": null,
            "grid_template_columns": null,
            "flex": null,
            "_model_name": "LayoutModel",
            "justify_items": null,
            "grid_row": null,
            "max_height": null,
            "align_content": null,
            "visibility": null,
            "align_self": null,
            "height": null,
            "min_height": null,
            "padding": null,
            "grid_auto_rows": null,
            "grid_gap": null,
            "max_width": null,
            "order": null,
            "_view_module_version": "1.2.0",
            "grid_template_areas": null,
            "object_position": null,
            "object_fit": null,
            "grid_auto_columns": null,
            "margin": null,
            "display": null,
            "left": null
          }
        },
        "62815593d79c45db967dffe0744cfc3e": {
          "model_module": "@jupyter-widgets/controls",
          "model_name": "DescriptionStyleModel",
          "state": {
            "_view_name": "StyleView",
            "_model_name": "DescriptionStyleModel",
            "description_width": "",
            "_view_module": "@jupyter-widgets/base",
            "_model_module_version": "1.5.0",
            "_view_count": null,
            "_view_module_version": "1.2.0",
            "_model_module": "@jupyter-widgets/controls"
          }
        },
        "1a2308cea7494d88beef09d9fc5224f4": {
          "model_module": "@jupyter-widgets/base",
          "model_name": "LayoutModel",
          "state": {
            "_view_name": "LayoutView",
            "grid_template_rows": null,
            "right": null,
            "justify_content": null,
            "_view_module": "@jupyter-widgets/base",
            "overflow": null,
            "_model_module_version": "1.2.0",
            "_view_count": null,
            "flex_flow": null,
            "width": null,
            "min_width": null,
            "border": null,
            "align_items": null,
            "bottom": null,
            "_model_module": "@jupyter-widgets/base",
            "top": null,
            "grid_column": null,
            "overflow_y": null,
            "overflow_x": null,
            "grid_auto_flow": null,
            "grid_area": null,
            "grid_template_columns": null,
            "flex": null,
            "_model_name": "LayoutModel",
            "justify_items": null,
            "grid_row": null,
            "max_height": null,
            "align_content": null,
            "visibility": null,
            "align_self": null,
            "height": null,
            "min_height": null,
            "padding": null,
            "grid_auto_rows": null,
            "grid_gap": null,
            "max_width": null,
            "order": null,
            "_view_module_version": "1.2.0",
            "grid_template_areas": null,
            "object_position": null,
            "object_fit": null,
            "grid_auto_columns": null,
            "margin": null,
            "display": null,
            "left": null
          }
        },
        "691a9f7d057748179ea6c0f74470f5be": {
          "model_module": "@jupyter-widgets/controls",
          "model_name": "HBoxModel",
          "state": {
            "_view_name": "HBoxView",
            "_dom_classes": [],
            "_model_name": "HBoxModel",
            "_view_module": "@jupyter-widgets/controls",
            "_model_module_version": "1.5.0",
            "_view_count": null,
            "_view_module_version": "1.5.0",
            "box_style": "",
            "layout": "IPY_MODEL_835d376cf1dc4e089b7942ad0d35e809",
            "_model_module": "@jupyter-widgets/controls",
            "children": [
              "IPY_MODEL_1cdaa8bf02fe4dc0a09f6ff0d2b8d712",
              "IPY_MODEL_b311e12dce7b4e9bb311bef4450afc7a"
            ]
          }
        },
        "835d376cf1dc4e089b7942ad0d35e809": {
          "model_module": "@jupyter-widgets/base",
          "model_name": "LayoutModel",
          "state": {
            "_view_name": "LayoutView",
            "grid_template_rows": null,
            "right": null,
            "justify_content": null,
            "_view_module": "@jupyter-widgets/base",
            "overflow": null,
            "_model_module_version": "1.2.0",
            "_view_count": null,
            "flex_flow": null,
            "width": null,
            "min_width": null,
            "border": null,
            "align_items": null,
            "bottom": null,
            "_model_module": "@jupyter-widgets/base",
            "top": null,
            "grid_column": null,
            "overflow_y": null,
            "overflow_x": null,
            "grid_auto_flow": null,
            "grid_area": null,
            "grid_template_columns": null,
            "flex": null,
            "_model_name": "LayoutModel",
            "justify_items": null,
            "grid_row": null,
            "max_height": null,
            "align_content": null,
            "visibility": null,
            "align_self": null,
            "height": null,
            "min_height": null,
            "padding": null,
            "grid_auto_rows": null,
            "grid_gap": null,
            "max_width": null,
            "order": null,
            "_view_module_version": "1.2.0",
            "grid_template_areas": null,
            "object_position": null,
            "object_fit": null,
            "grid_auto_columns": null,
            "margin": null,
            "display": null,
            "left": null
          }
        },
        "1cdaa8bf02fe4dc0a09f6ff0d2b8d712": {
          "model_module": "@jupyter-widgets/controls",
          "model_name": "FloatProgressModel",
          "state": {
            "_view_name": "ProgressView",
            "style": "IPY_MODEL_ff34c6826afc4787ae03340c9f3d9355",
            "_dom_classes": [],
            "description": "Downloading: 100%",
            "_model_name": "FloatProgressModel",
            "bar_style": "success",
            "max": 435797,
            "_view_module": "@jupyter-widgets/controls",
            "_model_module_version": "1.5.0",
            "value": 435797,
            "_view_count": null,
            "_view_module_version": "1.5.0",
            "orientation": "horizontal",
            "min": 0,
            "description_tooltip": null,
            "_model_module": "@jupyter-widgets/controls",
            "layout": "IPY_MODEL_ec961b07d16e42bfa1edb0d3e0422b35"
          }
        },
        "b311e12dce7b4e9bb311bef4450afc7a": {
          "model_module": "@jupyter-widgets/controls",
          "model_name": "HTMLModel",
          "state": {
            "_view_name": "HTMLView",
            "style": "IPY_MODEL_054c221d4725483099894d5ef5b06b5f",
            "_dom_classes": [],
            "description": "",
            "_model_name": "HTMLModel",
            "placeholder": "​",
            "_view_module": "@jupyter-widgets/controls",
            "_model_module_version": "1.5.0",
            "value": " 436k/436k [00:00&lt;00:00, 2.65MB/s]",
            "_view_count": null,
            "_view_module_version": "1.5.0",
            "description_tooltip": null,
            "_model_module": "@jupyter-widgets/controls",
            "layout": "IPY_MODEL_ad8c5cc3fb4d46259d8322ebd3614c3a"
          }
        },
        "ff34c6826afc4787ae03340c9f3d9355": {
          "model_module": "@jupyter-widgets/controls",
          "model_name": "ProgressStyleModel",
          "state": {
            "_view_name": "StyleView",
            "_model_name": "ProgressStyleModel",
            "description_width": "initial",
            "_view_module": "@jupyter-widgets/base",
            "_model_module_version": "1.5.0",
            "_view_count": null,
            "_view_module_version": "1.2.0",
            "bar_color": null,
            "_model_module": "@jupyter-widgets/controls"
          }
        },
        "ec961b07d16e42bfa1edb0d3e0422b35": {
          "model_module": "@jupyter-widgets/base",
          "model_name": "LayoutModel",
          "state": {
            "_view_name": "LayoutView",
            "grid_template_rows": null,
            "right": null,
            "justify_content": null,
            "_view_module": "@jupyter-widgets/base",
            "overflow": null,
            "_model_module_version": "1.2.0",
            "_view_count": null,
            "flex_flow": null,
            "width": null,
            "min_width": null,
            "border": null,
            "align_items": null,
            "bottom": null,
            "_model_module": "@jupyter-widgets/base",
            "top": null,
            "grid_column": null,
            "overflow_y": null,
            "overflow_x": null,
            "grid_auto_flow": null,
            "grid_area": null,
            "grid_template_columns": null,
            "flex": null,
            "_model_name": "LayoutModel",
            "justify_items": null,
            "grid_row": null,
            "max_height": null,
            "align_content": null,
            "visibility": null,
            "align_self": null,
            "height": null,
            "min_height": null,
            "padding": null,
            "grid_auto_rows": null,
            "grid_gap": null,
            "max_width": null,
            "order": null,
            "_view_module_version": "1.2.0",
            "grid_template_areas": null,
            "object_position": null,
            "object_fit": null,
            "grid_auto_columns": null,
            "margin": null,
            "display": null,
            "left": null
          }
        },
        "054c221d4725483099894d5ef5b06b5f": {
          "model_module": "@jupyter-widgets/controls",
          "model_name": "DescriptionStyleModel",
          "state": {
            "_view_name": "StyleView",
            "_model_name": "DescriptionStyleModel",
            "description_width": "",
            "_view_module": "@jupyter-widgets/base",
            "_model_module_version": "1.5.0",
            "_view_count": null,
            "_view_module_version": "1.2.0",
            "_model_module": "@jupyter-widgets/controls"
          }
        },
        "ad8c5cc3fb4d46259d8322ebd3614c3a": {
          "model_module": "@jupyter-widgets/base",
          "model_name": "LayoutModel",
          "state": {
            "_view_name": "LayoutView",
            "grid_template_rows": null,
            "right": null,
            "justify_content": null,
            "_view_module": "@jupyter-widgets/base",
            "overflow": null,
            "_model_module_version": "1.2.0",
            "_view_count": null,
            "flex_flow": null,
            "width": null,
            "min_width": null,
            "border": null,
            "align_items": null,
            "bottom": null,
            "_model_module": "@jupyter-widgets/base",
            "top": null,
            "grid_column": null,
            "overflow_y": null,
            "overflow_x": null,
            "grid_auto_flow": null,
            "grid_area": null,
            "grid_template_columns": null,
            "flex": null,
            "_model_name": "LayoutModel",
            "justify_items": null,
            "grid_row": null,
            "max_height": null,
            "align_content": null,
            "visibility": null,
            "align_self": null,
            "height": null,
            "min_height": null,
            "padding": null,
            "grid_auto_rows": null,
            "grid_gap": null,
            "max_width": null,
            "order": null,
            "_view_module_version": "1.2.0",
            "grid_template_areas": null,
            "object_position": null,
            "object_fit": null,
            "grid_auto_columns": null,
            "margin": null,
            "display": null,
            "left": null
          }
        },
        "cd74e81523d34500bac207b1177516d3": {
          "model_module": "@jupyter-widgets/controls",
          "model_name": "HBoxModel",
          "state": {
            "_view_name": "HBoxView",
            "_dom_classes": [],
            "_model_name": "HBoxModel",
            "_view_module": "@jupyter-widgets/controls",
            "_model_module_version": "1.5.0",
            "_view_count": null,
            "_view_module_version": "1.5.0",
            "box_style": "",
            "layout": "IPY_MODEL_d72762ab2d0142c48f5b56c5b073f4d4",
            "_model_module": "@jupyter-widgets/controls",
            "children": [
              "IPY_MODEL_c44f7129071a48119287c7d71b878907",
              "IPY_MODEL_b3153e4f114d4c4193e452aa3d6d43a3"
            ]
          }
        },
        "d72762ab2d0142c48f5b56c5b073f4d4": {
          "model_module": "@jupyter-widgets/base",
          "model_name": "LayoutModel",
          "state": {
            "_view_name": "LayoutView",
            "grid_template_rows": null,
            "right": null,
            "justify_content": null,
            "_view_module": "@jupyter-widgets/base",
            "overflow": null,
            "_model_module_version": "1.2.0",
            "_view_count": null,
            "flex_flow": null,
            "width": null,
            "min_width": null,
            "border": null,
            "align_items": null,
            "bottom": null,
            "_model_module": "@jupyter-widgets/base",
            "top": null,
            "grid_column": null,
            "overflow_y": null,
            "overflow_x": null,
            "grid_auto_flow": null,
            "grid_area": null,
            "grid_template_columns": null,
            "flex": null,
            "_model_name": "LayoutModel",
            "justify_items": null,
            "grid_row": null,
            "max_height": null,
            "align_content": null,
            "visibility": null,
            "align_self": null,
            "height": null,
            "min_height": null,
            "padding": null,
            "grid_auto_rows": null,
            "grid_gap": null,
            "max_width": null,
            "order": null,
            "_view_module_version": "1.2.0",
            "grid_template_areas": null,
            "object_position": null,
            "object_fit": null,
            "grid_auto_columns": null,
            "margin": null,
            "display": null,
            "left": null
          }
        },
        "c44f7129071a48119287c7d71b878907": {
          "model_module": "@jupyter-widgets/controls",
          "model_name": "FloatProgressModel",
          "state": {
            "_view_name": "ProgressView",
            "style": "IPY_MODEL_4b50243cd7db45d4b3baf4258f257993",
            "_dom_classes": [],
            "description": "Downloading: 100%",
            "_model_name": "FloatProgressModel",
            "bar_style": "success",
            "max": 570,
            "_view_module": "@jupyter-widgets/controls",
            "_model_module_version": "1.5.0",
            "value": 570,
            "_view_count": null,
            "_view_module_version": "1.5.0",
            "orientation": "horizontal",
            "min": 0,
            "description_tooltip": null,
            "_model_module": "@jupyter-widgets/controls",
            "layout": "IPY_MODEL_6a399d87ddd44e8aafdef2087cd765be"
          }
        },
        "b3153e4f114d4c4193e452aa3d6d43a3": {
          "model_module": "@jupyter-widgets/controls",
          "model_name": "HTMLModel",
          "state": {
            "_view_name": "HTMLView",
            "style": "IPY_MODEL_9355296092c94f729a16a3083da32382",
            "_dom_classes": [],
            "description": "",
            "_model_name": "HTMLModel",
            "placeholder": "​",
            "_view_module": "@jupyter-widgets/controls",
            "_model_module_version": "1.5.0",
            "value": " 570/570 [00:09&lt;00:00, 58.2B/s]",
            "_view_count": null,
            "_view_module_version": "1.5.0",
            "description_tooltip": null,
            "_model_module": "@jupyter-widgets/controls",
            "layout": "IPY_MODEL_88a9ab8f30ef4bf4b29f942b845bde6a"
          }
        },
        "4b50243cd7db45d4b3baf4258f257993": {
          "model_module": "@jupyter-widgets/controls",
          "model_name": "ProgressStyleModel",
          "state": {
            "_view_name": "StyleView",
            "_model_name": "ProgressStyleModel",
            "description_width": "initial",
            "_view_module": "@jupyter-widgets/base",
            "_model_module_version": "1.5.0",
            "_view_count": null,
            "_view_module_version": "1.2.0",
            "bar_color": null,
            "_model_module": "@jupyter-widgets/controls"
          }
        },
        "6a399d87ddd44e8aafdef2087cd765be": {
          "model_module": "@jupyter-widgets/base",
          "model_name": "LayoutModel",
          "state": {
            "_view_name": "LayoutView",
            "grid_template_rows": null,
            "right": null,
            "justify_content": null,
            "_view_module": "@jupyter-widgets/base",
            "overflow": null,
            "_model_module_version": "1.2.0",
            "_view_count": null,
            "flex_flow": null,
            "width": null,
            "min_width": null,
            "border": null,
            "align_items": null,
            "bottom": null,
            "_model_module": "@jupyter-widgets/base",
            "top": null,
            "grid_column": null,
            "overflow_y": null,
            "overflow_x": null,
            "grid_auto_flow": null,
            "grid_area": null,
            "grid_template_columns": null,
            "flex": null,
            "_model_name": "LayoutModel",
            "justify_items": null,
            "grid_row": null,
            "max_height": null,
            "align_content": null,
            "visibility": null,
            "align_self": null,
            "height": null,
            "min_height": null,
            "padding": null,
            "grid_auto_rows": null,
            "grid_gap": null,
            "max_width": null,
            "order": null,
            "_view_module_version": "1.2.0",
            "grid_template_areas": null,
            "object_position": null,
            "object_fit": null,
            "grid_auto_columns": null,
            "margin": null,
            "display": null,
            "left": null
          }
        },
        "9355296092c94f729a16a3083da32382": {
          "model_module": "@jupyter-widgets/controls",
          "model_name": "DescriptionStyleModel",
          "state": {
            "_view_name": "StyleView",
            "_model_name": "DescriptionStyleModel",
            "description_width": "",
            "_view_module": "@jupyter-widgets/base",
            "_model_module_version": "1.5.0",
            "_view_count": null,
            "_view_module_version": "1.2.0",
            "_model_module": "@jupyter-widgets/controls"
          }
        },
        "88a9ab8f30ef4bf4b29f942b845bde6a": {
          "model_module": "@jupyter-widgets/base",
          "model_name": "LayoutModel",
          "state": {
            "_view_name": "LayoutView",
            "grid_template_rows": null,
            "right": null,
            "justify_content": null,
            "_view_module": "@jupyter-widgets/base",
            "overflow": null,
            "_model_module_version": "1.2.0",
            "_view_count": null,
            "flex_flow": null,
            "width": null,
            "min_width": null,
            "border": null,
            "align_items": null,
            "bottom": null,
            "_model_module": "@jupyter-widgets/base",
            "top": null,
            "grid_column": null,
            "overflow_y": null,
            "overflow_x": null,
            "grid_auto_flow": null,
            "grid_area": null,
            "grid_template_columns": null,
            "flex": null,
            "_model_name": "LayoutModel",
            "justify_items": null,
            "grid_row": null,
            "max_height": null,
            "align_content": null,
            "visibility": null,
            "align_self": null,
            "height": null,
            "min_height": null,
            "padding": null,
            "grid_auto_rows": null,
            "grid_gap": null,
            "max_width": null,
            "order": null,
            "_view_module_version": "1.2.0",
            "grid_template_areas": null,
            "object_position": null,
            "object_fit": null,
            "grid_auto_columns": null,
            "margin": null,
            "display": null,
            "left": null
          }
        },
        "868fd48b5aa744168677e766103814b8": {
          "model_module": "@jupyter-widgets/controls",
          "model_name": "HBoxModel",
          "state": {
            "_view_name": "HBoxView",
            "_dom_classes": [],
            "_model_name": "HBoxModel",
            "_view_module": "@jupyter-widgets/controls",
            "_model_module_version": "1.5.0",
            "_view_count": null,
            "_view_module_version": "1.5.0",
            "box_style": "",
            "layout": "IPY_MODEL_3ead2e80daa8406a9e81eaba206cc708",
            "_model_module": "@jupyter-widgets/controls",
            "children": [
              "IPY_MODEL_7b698af6e0324e118858f2e15fde7424",
              "IPY_MODEL_967f99af49b84e16b09bef96c38a3d08"
            ]
          }
        },
        "3ead2e80daa8406a9e81eaba206cc708": {
          "model_module": "@jupyter-widgets/base",
          "model_name": "LayoutModel",
          "state": {
            "_view_name": "LayoutView",
            "grid_template_rows": null,
            "right": null,
            "justify_content": null,
            "_view_module": "@jupyter-widgets/base",
            "overflow": null,
            "_model_module_version": "1.2.0",
            "_view_count": null,
            "flex_flow": null,
            "width": null,
            "min_width": null,
            "border": null,
            "align_items": null,
            "bottom": null,
            "_model_module": "@jupyter-widgets/base",
            "top": null,
            "grid_column": null,
            "overflow_y": null,
            "overflow_x": null,
            "grid_auto_flow": null,
            "grid_area": null,
            "grid_template_columns": null,
            "flex": null,
            "_model_name": "LayoutModel",
            "justify_items": null,
            "grid_row": null,
            "max_height": null,
            "align_content": null,
            "visibility": null,
            "align_self": null,
            "height": null,
            "min_height": null,
            "padding": null,
            "grid_auto_rows": null,
            "grid_gap": null,
            "max_width": null,
            "order": null,
            "_view_module_version": "1.2.0",
            "grid_template_areas": null,
            "object_position": null,
            "object_fit": null,
            "grid_auto_columns": null,
            "margin": null,
            "display": null,
            "left": null
          }
        },
        "7b698af6e0324e118858f2e15fde7424": {
          "model_module": "@jupyter-widgets/controls",
          "model_name": "FloatProgressModel",
          "state": {
            "_view_name": "ProgressView",
            "style": "IPY_MODEL_a84a282aeb8b45a58f3bdd2b6cb2df33",
            "_dom_classes": [],
            "description": "Downloading: 100%",
            "_model_name": "FloatProgressModel",
            "bar_style": "success",
            "max": 435779157,
            "_view_module": "@jupyter-widgets/controls",
            "_model_module_version": "1.5.0",
            "value": 435779157,
            "_view_count": null,
            "_view_module_version": "1.5.0",
            "orientation": "horizontal",
            "min": 0,
            "description_tooltip": null,
            "_model_module": "@jupyter-widgets/controls",
            "layout": "IPY_MODEL_67454c76fae44f3b9342cf738d013cd1"
          }
        },
        "967f99af49b84e16b09bef96c38a3d08": {
          "model_module": "@jupyter-widgets/controls",
          "model_name": "HTMLModel",
          "state": {
            "_view_name": "HTMLView",
            "style": "IPY_MODEL_7667b86e27a34732ad5a417406476c42",
            "_dom_classes": [],
            "description": "",
            "_model_name": "HTMLModel",
            "placeholder": "​",
            "_view_module": "@jupyter-widgets/controls",
            "_model_module_version": "1.5.0",
            "value": " 436M/436M [00:08&lt;00:00, 49.1MB/s]",
            "_view_count": null,
            "_view_module_version": "1.5.0",
            "description_tooltip": null,
            "_model_module": "@jupyter-widgets/controls",
            "layout": "IPY_MODEL_3d9f74aed7bb4c73b2b29f2873199bd3"
          }
        },
        "a84a282aeb8b45a58f3bdd2b6cb2df33": {
          "model_module": "@jupyter-widgets/controls",
          "model_name": "ProgressStyleModel",
          "state": {
            "_view_name": "StyleView",
            "_model_name": "ProgressStyleModel",
            "description_width": "initial",
            "_view_module": "@jupyter-widgets/base",
            "_model_module_version": "1.5.0",
            "_view_count": null,
            "_view_module_version": "1.2.0",
            "bar_color": null,
            "_model_module": "@jupyter-widgets/controls"
          }
        },
        "67454c76fae44f3b9342cf738d013cd1": {
          "model_module": "@jupyter-widgets/base",
          "model_name": "LayoutModel",
          "state": {
            "_view_name": "LayoutView",
            "grid_template_rows": null,
            "right": null,
            "justify_content": null,
            "_view_module": "@jupyter-widgets/base",
            "overflow": null,
            "_model_module_version": "1.2.0",
            "_view_count": null,
            "flex_flow": null,
            "width": null,
            "min_width": null,
            "border": null,
            "align_items": null,
            "bottom": null,
            "_model_module": "@jupyter-widgets/base",
            "top": null,
            "grid_column": null,
            "overflow_y": null,
            "overflow_x": null,
            "grid_auto_flow": null,
            "grid_area": null,
            "grid_template_columns": null,
            "flex": null,
            "_model_name": "LayoutModel",
            "justify_items": null,
            "grid_row": null,
            "max_height": null,
            "align_content": null,
            "visibility": null,
            "align_self": null,
            "height": null,
            "min_height": null,
            "padding": null,
            "grid_auto_rows": null,
            "grid_gap": null,
            "max_width": null,
            "order": null,
            "_view_module_version": "1.2.0",
            "grid_template_areas": null,
            "object_position": null,
            "object_fit": null,
            "grid_auto_columns": null,
            "margin": null,
            "display": null,
            "left": null
          }
        },
        "7667b86e27a34732ad5a417406476c42": {
          "model_module": "@jupyter-widgets/controls",
          "model_name": "DescriptionStyleModel",
          "state": {
            "_view_name": "StyleView",
            "_model_name": "DescriptionStyleModel",
            "description_width": "",
            "_view_module": "@jupyter-widgets/base",
            "_model_module_version": "1.5.0",
            "_view_count": null,
            "_view_module_version": "1.2.0",
            "_model_module": "@jupyter-widgets/controls"
          }
        },
        "3d9f74aed7bb4c73b2b29f2873199bd3": {
          "model_module": "@jupyter-widgets/base",
          "model_name": "LayoutModel",
          "state": {
            "_view_name": "LayoutView",
            "grid_template_rows": null,
            "right": null,
            "justify_content": null,
            "_view_module": "@jupyter-widgets/base",
            "overflow": null,
            "_model_module_version": "1.2.0",
            "_view_count": null,
            "flex_flow": null,
            "width": null,
            "min_width": null,
            "border": null,
            "align_items": null,
            "bottom": null,
            "_model_module": "@jupyter-widgets/base",
            "top": null,
            "grid_column": null,
            "overflow_y": null,
            "overflow_x": null,
            "grid_auto_flow": null,
            "grid_area": null,
            "grid_template_columns": null,
            "flex": null,
            "_model_name": "LayoutModel",
            "justify_items": null,
            "grid_row": null,
            "max_height": null,
            "align_content": null,
            "visibility": null,
            "align_self": null,
            "height": null,
            "min_height": null,
            "padding": null,
            "grid_auto_rows": null,
            "grid_gap": null,
            "max_width": null,
            "order": null,
            "_view_module_version": "1.2.0",
            "grid_template_areas": null,
            "object_position": null,
            "object_fit": null,
            "grid_auto_columns": null,
            "margin": null,
            "display": null,
            "left": null
          }
        }
      }
    }
  },
  "cells": [
    {
      "cell_type": "markdown",
      "metadata": {
        "id": "view-in-github",
        "colab_type": "text"
      },
      "source": [
        "<a href=\"https://colab.research.google.com/github/Haavi97/ITS8040-NLSP/blob/master/Default_independent_project_2021.ipynb\" target=\"_parent\"><img src=\"https://colab.research.google.com/assets/colab-badge.svg\" alt=\"Open In Colab\"/></a>"
      ]
    },
    {
      "cell_type": "markdown",
      "metadata": {
        "id": "xDOAOeayqH1R"
      },
      "source": [
        "# Task description"
      ]
    },
    {
      "cell_type": "markdown",
      "metadata": {
        "id": "wTfOjDBLLvIJ"
      },
      "source": [
        "The \"default\" project topic is about Aspect-Based Sentiment Analysis (ABSA). By \"default\" it is meant that you are supposed to choose this topic if you don't have any preferences about the topic yourself. You are free to choose any other sufficiently challenging topic, but please consult with the lecturer.\n",
        "\n",
        "The task comes from the SemEval 2016 Shared Task 5: http://alt.qcri.org/semeval2016/task5/\n",
        "\n",
        "There are different subtasks and slots in this task. You can limit you work on Task 1 Slot 1: Aspect Category Detection, and you can further focus on the restaurant domain only.\n",
        "\n",
        "The task is: given a sentence taken from a restaurant review, your system has to decide about which aspect category of the restaurant this sentence is, if any. The number of different aspect categories is fixed. One sentnce can correspond to zero, one or more aspect categories.\n",
        "\n",
        "Some examples:\n",
        "\n",
        "*   \"I was very disappointed with this restaurant.\" -> RESTAURANT#GENERAL\n",
        "*   \"I’ve asked a cart attendant for a lotus leaf wrapped rice and she replied back rice and just walked away.\" -> SERVICE#GENERAL\n",
        "*   \"Chow fun was dry; pork shu mai was more than usually greasy and had to share a table with loud and rude family.\" -> FOOD#QUALITY, AMBIENCE#GENERAL\n",
        "\n",
        "The Slot 3 of the task would be finding the polarity (negative, neutral, positive) of the aspect, but you don't have to implement this.\n",
        "\n",
        "Since the data and evaluation tools for this Shared task come in quite complex form, I have implemented very basic data loading for you, together with a simplest possible sklearn-based implementation for this task.\n",
        "\n",
        "\n",
        "\n"
      ]
    },
    {
      "cell_type": "markdown",
      "metadata": {
        "id": "zwYQtYiEO4kd"
      },
      "source": [
        "I have packed the data for the restaurant domain for this subtask on my site. Let's download it:"
      ]
    },
    {
      "cell_type": "code",
      "metadata": {
        "id": "VruNWeGQ85Dp",
        "colab": {
          "base_uri": "https://localhost:8080/"
        },
        "outputId": "e0b68b15-5513-4914-f2b4-8eeb2ddb2949"
      },
      "source": [
        "! wget --no-check-certificate https://www.phon.ioc.ee/~tanela/tmp/absa-en-restaurant.zip"
      ],
      "execution_count": 1,
      "outputs": [
        {
          "output_type": "stream",
          "text": [
            "--2021-06-05 15:39:59--  https://www.phon.ioc.ee/~tanela/tmp/absa-en-restaurant.zip\n",
            "Resolving www.phon.ioc.ee (www.phon.ioc.ee)... 193.40.251.126\n",
            "Connecting to www.phon.ioc.ee (www.phon.ioc.ee)|193.40.251.126|:443... connected.\n",
            "WARNING: cannot verify www.phon.ioc.ee's certificate, issued by ‘CN=TERENA SSL CA 3,O=TERENA,L=Amsterdam,ST=Noord-Holland,C=NL’:\n",
            "  Issued certificate has expired.\n",
            "WARNING: no certificate subject alternative name matches\n",
            "\trequested host name ‘www.phon.ioc.ee’.\n",
            "HTTP request sent, awaiting response... 200 OK\n",
            "Length: 136921 (134K) [application/zip]\n",
            "Saving to: ‘absa-en-restaurant.zip’\n",
            "\n",
            "absa-en-restaurant. 100%[===================>] 133.71K   208KB/s    in 0.6s    \n",
            "\n",
            "2021-06-05 15:40:01 (208 KB/s) - ‘absa-en-restaurant.zip’ saved [136921/136921]\n",
            "\n"
          ],
          "name": "stdout"
        }
      ]
    },
    {
      "cell_type": "code",
      "metadata": {
        "id": "-_zt54N989bW",
        "colab": {
          "base_uri": "https://localhost:8080/"
        },
        "outputId": "a2ee18e1-e5f3-4318-85d8-62a3e41e436d"
      },
      "source": [
        "! unzip absa-en-restaurant.zip"
      ],
      "execution_count": 2,
      "outputs": [
        {
          "output_type": "stream",
          "text": [
            "Archive:  absa-en-restaurant.zip\n",
            "  inflating: ABSA16_Restaurants_Train_SB1_v2.xml  \n",
            "  inflating: EN_REST_SB1_TEST.xml.gold  \n"
          ],
          "name": "stdout"
        }
      ]
    },
    {
      "cell_type": "markdown",
      "metadata": {
        "id": "JJiLrjJYPGf0"
      },
      "source": [
        "There are two files: training and test files. Both are in XML formats. Let's  take a peek:"
      ]
    },
    {
      "cell_type": "code",
      "metadata": {
        "id": "LqQznoWI9Gfe"
      },
      "source": [
        "#! head -20 ABSA16_Restaurants_Train_SB1_v2.xml  "
      ],
      "execution_count": 3,
      "outputs": []
    },
    {
      "cell_type": "code",
      "metadata": {
        "id": "Gekhfl_29N51"
      },
      "source": [
        "#! head -20 ABSA16_Restaurants_Train_SB1_v2.xml  "
      ],
      "execution_count": 4,
      "outputs": []
    },
    {
      "cell_type": "markdown",
      "metadata": {
        "id": "Mw5X3UIhZOOA"
      },
      "source": [
        "There is a lot of information in this XML: each sentence has a list of Opinions, where each Opinion consists of category, polarity and the target word or phrase. We are really interested only in the raw sentence and the corresponding opinion categories.\n",
        "\n",
        "There are many ways to parse XML in Python. In this example we use a method that parses XML to Python dict, which is we will then process via loops."
      ]
    },
    {
      "cell_type": "code",
      "metadata": {
        "id": "Y9bSdaZk9RJW",
        "colab": {
          "base_uri": "https://localhost:8080/"
        },
        "outputId": "41fb9e33-16e6-4179-e54e-9254b2fe32d3"
      },
      "source": [
        "! pip install xmltodict"
      ],
      "execution_count": 5,
      "outputs": [
        {
          "output_type": "stream",
          "text": [
            "Collecting xmltodict\n",
            "  Downloading https://files.pythonhosted.org/packages/28/fd/30d5c1d3ac29ce229f6bdc40bbc20b28f716e8b363140c26eff19122d8a5/xmltodict-0.12.0-py2.py3-none-any.whl\n",
            "Installing collected packages: xmltodict\n",
            "Successfully installed xmltodict-0.12.0\n"
          ],
          "name": "stdout"
        }
      ]
    },
    {
      "cell_type": "code",
      "metadata": {
        "id": "RNTRKIio-g3e"
      },
      "source": [
        "import xmltodict as xd\n",
        "\n",
        "\n",
        "with open('EN_REST_SB1_TEST.xml.gold','rb') as f:\n",
        "    d = xd.parse(f)"
      ],
      "execution_count": 6,
      "outputs": []
    },
    {
      "cell_type": "code",
      "metadata": {
        "id": "X0sxmb5s-ug0",
        "colab": {
          "base_uri": "https://localhost:8080/"
        },
        "outputId": "1e6a380d-10dc-403e-9f79-cb135bfb5349"
      },
      "source": [
        "d[\"Reviews\"][\"Review\"][0][\"sentences\"][\"sentence\"][0]"
      ],
      "execution_count": 7,
      "outputs": [
        {
          "output_type": "execute_result",
          "data": {
            "text/plain": [
              "OrderedDict([('@id', 'en_BlueRibbonSushi_478218171:0'),\n",
              "             ('text', 'Yum!'),\n",
              "             ('Opinions',\n",
              "              OrderedDict([('Opinion',\n",
              "                            OrderedDict([('@target', 'NULL'),\n",
              "                                         ('@category', 'FOOD#QUALITY'),\n",
              "                                         ('@polarity', 'positive'),\n",
              "                                         ('@from', '0'),\n",
              "                                         ('@to', '0')]))]))])"
            ]
          },
          "metadata": {
            "tags": []
          },
          "execution_count": 7
        }
      ]
    },
    {
      "cell_type": "markdown",
      "metadata": {
        "id": "DRHwXfhvaJMT"
      },
      "source": [
        "Here is the function that parses the XML and returns a list containing sentences and the corresponding list of categories:"
      ]
    },
    {
      "cell_type": "code",
      "metadata": {
        "id": "XBjDpQc6-xpG"
      },
      "source": [
        "def read_data(filename):\n",
        "  result = []\n",
        "  with open(filename,'rb') as f:\n",
        "    d = xd.parse(f, force_list=('sentence', 'Opinion'))\n",
        "  for review in d[\"Reviews\"][\"Review\"]:\n",
        "    #print(review)\n",
        "    for sentence in review[\"sentences\"][\"sentence\"]:\n",
        "      \n",
        "      text = sentence[\"text\"]\n",
        "      opinion_cats = []\n",
        "      \n",
        "      if \"Opinions\" in sentence and sentence[\"Opinions\"] is not None:\n",
        "        opinions = sentence[\"Opinions\"][\"Opinion\"]\n",
        "        for opinion in opinions:\n",
        "          opinion_cats.append(opinion[\"@category\"])\n",
        "      result.append((text, opinion_cats))\n",
        "  return result\n",
        "\n"
      ],
      "execution_count": 8,
      "outputs": []
    },
    {
      "cell_type": "code",
      "metadata": {
        "id": "HGpT08S_AtAI"
      },
      "source": [
        "train_data = read_data(\"ABSA16_Restaurants_Train_SB1_v2.xml\")\n",
        "test_data = read_data(\"EN_REST_SB1_TEST.xml.gold\")"
      ],
      "execution_count": 9,
      "outputs": []
    },
    {
      "cell_type": "code",
      "metadata": {
        "id": "--w93Sg4ePQn",
        "colab": {
          "base_uri": "https://localhost:8080/"
        },
        "outputId": "a7c8559b-c8a0-45a4-af28-1c2844230a7d"
      },
      "source": [
        "print(len(train_data), len(test_data))"
      ],
      "execution_count": 10,
      "outputs": [
        {
          "output_type": "stream",
          "text": [
            "2000 676\n"
          ],
          "name": "stdout"
        }
      ]
    },
    {
      "cell_type": "code",
      "metadata": {
        "id": "20RpEpp9Azno"
      },
      "source": [
        "#train_data[:5]"
      ],
      "execution_count": 11,
      "outputs": []
    },
    {
      "cell_type": "markdown",
      "metadata": {
        "id": "dXLUiLBL__R7"
      },
      "source": [
        "# Pipelines"
      ]
    },
    {
      "cell_type": "markdown",
      "metadata": {
        "id": "OPm3-daEqWP2"
      },
      "source": [
        "## Multilabel binarizer"
      ]
    },
    {
      "cell_type": "markdown",
      "metadata": {
        "id": "2TvfCaAJanRj"
      },
      "source": [
        "So, each sentence can have zero or more categories. This task is called multi-label classification, as opposed to single-label classification where each sample corresponds to one and only one category.\n",
        "\n",
        "The sklearn package has some useful utilities for multi-label classification tasks."
      ]
    },
    {
      "cell_type": "code",
      "metadata": {
        "id": "UxSuYx03Dub3"
      },
      "source": [
        "from sklearn.preprocessing import MultiLabelBinarizer"
      ],
      "execution_count": 12,
      "outputs": []
    },
    {
      "cell_type": "markdown",
      "metadata": {
        "id": "mNAU8zmkbhdI"
      },
      "source": [
        "MultiLabelBinarizer builds a mapping from multi-label labels to IDs, and also constructs a label matrix for our training ans test data."
      ]
    },
    {
      "cell_type": "code",
      "metadata": {
        "id": "rAVKh_ALIVme"
      },
      "source": [
        "mlb = MultiLabelBinarizer()\n",
        "train_labels = mlb.fit_transform([set(sample[1]) for sample in train_data])"
      ],
      "execution_count": 13,
      "outputs": []
    },
    {
      "cell_type": "code",
      "metadata": {
        "id": "QeHPL6aMJDmY",
        "colab": {
          "base_uri": "https://localhost:8080/"
        },
        "outputId": "b5e7710f-8acf-4581-a21a-d95cc9e4ae0a"
      },
      "source": [
        "train_labels[0:5]"
      ],
      "execution_count": 14,
      "outputs": [
        {
          "output_type": "execute_result",
          "data": {
            "text/plain": [
              "array([[0, 0, 0, 0, 0, 0, 0, 0, 1, 0, 0, 0],\n",
              "       [0, 0, 0, 0, 0, 0, 0, 0, 0, 0, 0, 1],\n",
              "       [0, 0, 0, 0, 0, 0, 0, 0, 0, 0, 0, 1],\n",
              "       [0, 0, 0, 0, 0, 1, 1, 0, 0, 0, 0, 0],\n",
              "       [0, 0, 0, 0, 0, 0, 0, 0, 0, 0, 0, 1]])"
            ]
          },
          "metadata": {
            "tags": []
          },
          "execution_count": 14
        }
      ]
    },
    {
      "cell_type": "code",
      "metadata": {
        "id": "_wWDXL7BJPTR",
        "colab": {
          "base_uri": "https://localhost:8080/"
        },
        "outputId": "bfbf4302-4178-445c-c81c-211098c7769c"
      },
      "source": [
        "mlb.classes_"
      ],
      "execution_count": 15,
      "outputs": [
        {
          "output_type": "execute_result",
          "data": {
            "text/plain": [
              "array(['AMBIENCE#GENERAL', 'DRINKS#PRICES', 'DRINKS#QUALITY',\n",
              "       'DRINKS#STYLE_OPTIONS', 'FOOD#PRICES', 'FOOD#QUALITY',\n",
              "       'FOOD#STYLE_OPTIONS', 'LOCATION#GENERAL', 'RESTAURANT#GENERAL',\n",
              "       'RESTAURANT#MISCELLANEOUS', 'RESTAURANT#PRICES', 'SERVICE#GENERAL'],\n",
              "      dtype=object)"
            ]
          },
          "metadata": {
            "tags": []
          },
          "execution_count": 15
        }
      ]
    },
    {
      "cell_type": "code",
      "metadata": {
        "id": "9CWgZlI0T8sl"
      },
      "source": [
        "#print(test_data)"
      ],
      "execution_count": 16,
      "outputs": []
    },
    {
      "cell_type": "code",
      "metadata": {
        "id": "5gHEvKiUJc6O"
      },
      "source": [
        "test_labels = mlb.transform([set(sample[1]) for sample in test_data])"
      ],
      "execution_count": 17,
      "outputs": []
    },
    {
      "cell_type": "code",
      "metadata": {
        "id": "DnVk_1f2gQaE",
        "colab": {
          "base_uri": "https://localhost:8080/"
        },
        "outputId": "785cfd0d-774d-4f53-90e9-d4488630066b"
      },
      "source": [
        "test_labels[0:5]"
      ],
      "execution_count": 18,
      "outputs": [
        {
          "output_type": "execute_result",
          "data": {
            "text/plain": [
              "array([[0, 0, 0, 0, 0, 1, 0, 0, 0, 0, 0, 0],\n",
              "       [0, 0, 0, 0, 0, 1, 0, 0, 0, 0, 0, 0],\n",
              "       [0, 0, 0, 0, 0, 0, 1, 0, 0, 0, 0, 0],\n",
              "       [0, 0, 0, 0, 0, 1, 0, 0, 0, 0, 0, 0],\n",
              "       [0, 0, 0, 0, 0, 1, 0, 0, 0, 0, 0, 0]])"
            ]
          },
          "metadata": {
            "tags": []
          },
          "execution_count": 18
        }
      ]
    },
    {
      "cell_type": "markdown",
      "metadata": {
        "id": "J022vabVb0_I"
      },
      "source": [
        "So, our labels are now stored as binary matrices -- exactly as we need them.\n",
        "\n",
        "Let's also construct a list of training inputs, as sklearn likes it:"
      ]
    },
    {
      "cell_type": "code",
      "metadata": {
        "id": "kQAKqSS-h7Wu"
      },
      "source": [
        "train_text = [review[0] for review in train_data]\n",
        "test_text = [review[0] for review in test_data]"
      ],
      "execution_count": 19,
      "outputs": []
    },
    {
      "cell_type": "code",
      "metadata": {
        "id": "1pK7VcpdiHPb",
        "colab": {
          "base_uri": "https://localhost:8080/"
        },
        "outputId": "60b02d87-0354-4265-9d17-303f842e37e6"
      },
      "source": [
        "train_text[0:5]"
      ],
      "execution_count": 20,
      "outputs": [
        {
          "output_type": "execute_result",
          "data": {
            "text/plain": [
              "['Judging from previous posts this used to be a good place, but not any longer.',\n",
              " 'We, there were four of us, arrived at noon - the place was empty - and the staff acted like we were imposing on them and they were very rude.',\n",
              " 'They never brought us complimentary noodles, ignored repeated requests for sugar, and threw our dishes on the table.',\n",
              " 'The food was lousy - too sweet or too salty and the portions tiny.',\n",
              " 'After all that, they complained to me about the small tip.']"
            ]
          },
          "metadata": {
            "tags": []
          },
          "execution_count": 20
        }
      ]
    },
    {
      "cell_type": "markdown",
      "metadata": {
        "id": "uab8IEZdoJM_"
      },
      "source": [
        "## Data shape\n",
        "\n",
        "Printing data to have a clear picture."
      ]
    },
    {
      "cell_type": "code",
      "metadata": {
        "colab": {
          "base_uri": "https://localhost:8080/"
        },
        "id": "mog7s0wvoW7v",
        "outputId": "fe822d46-0930-4884-aef6-2c8ffc964fc3"
      },
      "source": [
        "print('Train text data is of type: {}'.format(type(train_text)))\n",
        "print('Train label data is of type: {}'.format(type(train_labels)))\n",
        "print('Train text size: {}'.format(len(train_text)))\n",
        "print('Test text size: {}'.format(len(test_text)))\n",
        "print('Train labels size: {}'.format(train_labels.shape))\n",
        "print('Test labels size: {}'.format(test_labels.shape))\n",
        "n_labels = test_labels.shape[1]\n",
        "print('Number of labels: {}'.format(n_labels))\n",
        "TAGS = mlb.classes_\n",
        "print('\\nThis are the different labels:')\n",
        "print(TAGS)"
      ],
      "execution_count": 21,
      "outputs": [
        {
          "output_type": "stream",
          "text": [
            "Train text data is of type: <class 'list'>\n",
            "Train label data is of type: <class 'numpy.ndarray'>\n",
            "Train text size: 2000\n",
            "Test text size: 676\n",
            "Train labels size: (2000, 12)\n",
            "Test labels size: (676, 12)\n",
            "Number of labels: 12\n",
            "\n",
            "This are the different labels:\n",
            "['AMBIENCE#GENERAL' 'DRINKS#PRICES' 'DRINKS#QUALITY'\n",
            " 'DRINKS#STYLE_OPTIONS' 'FOOD#PRICES' 'FOOD#QUALITY' 'FOOD#STYLE_OPTIONS'\n",
            " 'LOCATION#GENERAL' 'RESTAURANT#GENERAL' 'RESTAURANT#MISCELLANEOUS'\n",
            " 'RESTAURANT#PRICES' 'SERVICE#GENERAL']\n"
          ],
          "name": "stdout"
        }
      ]
    },
    {
      "cell_type": "markdown",
      "metadata": {
        "id": "bBs7fnCn_ZXY"
      },
      "source": [
        "## OneVsRestClassifier"
      ]
    },
    {
      "cell_type": "markdown",
      "metadata": {
        "id": "BwRkaD4wcE6q"
      },
      "source": [
        "Now we can train a simple multi-label classifier.\n",
        "\n",
        "We use Sklearn's OneVsRestClassifier to do this. This basically builds a seperate base classifier for each of our labels."
      ]
    },
    {
      "cell_type": "code",
      "metadata": {
        "id": "w6WxqVrBg4X4"
      },
      "source": [
        "from sklearn.pipeline import Pipeline\n",
        "from sklearn.naive_bayes import MultinomialNB\n",
        "from sklearn.linear_model import LogisticRegression\n",
        "from sklearn.feature_extraction.text import CountVectorizer\n",
        "from sklearn.feature_extraction.text import TfidfTransformer\n",
        "from sklearn.multiclass import OneVsRestClassifier\n",
        "\n",
        "text_clf = Pipeline([\n",
        "     ('vect', CountVectorizer()),\n",
        "     ('tfidf', TfidfTransformer()),\n",
        "     ('clf',  OneVsRestClassifier(LogisticRegression()))\n",
        " ])"
      ],
      "execution_count": 22,
      "outputs": []
    },
    {
      "cell_type": "code",
      "metadata": {
        "id": "wuDR3_Z_hka8",
        "colab": {
          "base_uri": "https://localhost:8080/"
        },
        "outputId": "60ef9cab-0f71-468e-e5b1-082cfeb9a515"
      },
      "source": [
        "text_clf.fit(train_text, train_labels )"
      ],
      "execution_count": 23,
      "outputs": [
        {
          "output_type": "execute_result",
          "data": {
            "text/plain": [
              "Pipeline(memory=None,\n",
              "         steps=[('vect',\n",
              "                 CountVectorizer(analyzer='word', binary=False,\n",
              "                                 decode_error='strict',\n",
              "                                 dtype=<class 'numpy.int64'>, encoding='utf-8',\n",
              "                                 input='content', lowercase=True, max_df=1.0,\n",
              "                                 max_features=None, min_df=1,\n",
              "                                 ngram_range=(1, 1), preprocessor=None,\n",
              "                                 stop_words=None, strip_accents=None,\n",
              "                                 token_pattern='(?u)\\\\b\\\\w\\\\w+\\\\b',\n",
              "                                 tokenizer=None, vocabulary=Non...\n",
              "                 TfidfTransformer(norm='l2', smooth_idf=True,\n",
              "                                  sublinear_tf=False, use_idf=True)),\n",
              "                ('clf',\n",
              "                 OneVsRestClassifier(estimator=LogisticRegression(C=1.0,\n",
              "                                                                  class_weight=None,\n",
              "                                                                  dual=False,\n",
              "                                                                  fit_intercept=True,\n",
              "                                                                  intercept_scaling=1,\n",
              "                                                                  l1_ratio=None,\n",
              "                                                                  max_iter=100,\n",
              "                                                                  multi_class='auto',\n",
              "                                                                  n_jobs=None,\n",
              "                                                                  penalty='l2',\n",
              "                                                                  random_state=None,\n",
              "                                                                  solver='lbfgs',\n",
              "                                                                  tol=0.0001,\n",
              "                                                                  verbose=0,\n",
              "                                                                  warm_start=False),\n",
              "                                     n_jobs=None))],\n",
              "         verbose=False)"
            ]
          },
          "metadata": {
            "tags": []
          },
          "execution_count": 23
        }
      ]
    },
    {
      "cell_type": "markdown",
      "metadata": {
        "id": "uKFXy8x7chr3"
      },
      "source": [
        "Classifier is trained. Let's first see how can we apply it on test data. What comes out when we feed it some test data?"
      ]
    },
    {
      "cell_type": "code",
      "metadata": {
        "id": "bUBVNMOMiMdH"
      },
      "source": [
        "test_predictions = text_clf.predict(test_text)"
      ],
      "execution_count": 24,
      "outputs": []
    },
    {
      "cell_type": "code",
      "metadata": {
        "id": "BljUvwTpjBW0",
        "colab": {
          "base_uri": "https://localhost:8080/"
        },
        "outputId": "507ae83c-8316-4b97-e9cf-b589d2523729"
      },
      "source": [
        "test_predictions[0:5]"
      ],
      "execution_count": 25,
      "outputs": [
        {
          "output_type": "execute_result",
          "data": {
            "text/plain": [
              "array([[0, 0, 0, 0, 0, 0, 0, 0, 0, 0, 0, 0],\n",
              "       [0, 0, 0, 0, 0, 1, 0, 0, 0, 0, 0, 0],\n",
              "       [0, 0, 0, 0, 0, 0, 0, 0, 0, 0, 0, 0],\n",
              "       [0, 0, 0, 0, 0, 0, 0, 0, 0, 0, 0, 0],\n",
              "       [0, 0, 0, 0, 0, 0, 0, 0, 0, 0, 0, 0]])"
            ]
          },
          "metadata": {
            "tags": []
          },
          "execution_count": 25
        }
      ]
    },
    {
      "cell_type": "code",
      "metadata": {
        "id": "u0Bm_vDsET8x",
        "colab": {
          "base_uri": "https://localhost:8080/"
        },
        "outputId": "2401040e-0a39-49d3-8258-6d548781ba50"
      },
      "source": [
        "test_labels[0:5]"
      ],
      "execution_count": 26,
      "outputs": [
        {
          "output_type": "execute_result",
          "data": {
            "text/plain": [
              "array([[0, 0, 0, 0, 0, 1, 0, 0, 0, 0, 0, 0],\n",
              "       [0, 0, 0, 0, 0, 1, 0, 0, 0, 0, 0, 0],\n",
              "       [0, 0, 0, 0, 0, 0, 1, 0, 0, 0, 0, 0],\n",
              "       [0, 0, 0, 0, 0, 1, 0, 0, 0, 0, 0, 0],\n",
              "       [0, 0, 0, 0, 0, 1, 0, 0, 0, 0, 0, 0]])"
            ]
          },
          "metadata": {
            "tags": []
          },
          "execution_count": 26
        }
      ]
    },
    {
      "cell_type": "markdown",
      "metadata": {
        "id": "xt3PUdPbcs88"
      },
      "source": [
        "So, the output of our classifier is also a binary matrix. We can evaluate the performance of our model using F1 measure (which is a geometric mean of precision and recall). \n",
        "\n",
        "F1 measure can be computed for each label independently and then merged using either macro or micro averaging. We will use micro-averaging that sums up the individual true positives, false positives, and false negatives of the system for different sets and the apply them to get the statistics. \n",
        "\n"
      ]
    },
    {
      "cell_type": "code",
      "metadata": {
        "id": "SqxTrW3AiSSy"
      },
      "source": [
        "from sklearn.metrics import f1_score, classification_report"
      ],
      "execution_count": 27,
      "outputs": []
    },
    {
      "cell_type": "code",
      "metadata": {
        "id": "iZ_fjQSgigIM",
        "colab": {
          "base_uri": "https://localhost:8080/"
        },
        "outputId": "cd3dede4-1b5b-4731-924e-9934f8f44d5f"
      },
      "source": [
        "f1_score(test_labels,\n",
        "         test_predictions,\n",
        "         average='micro')"
      ],
      "execution_count": 28,
      "outputs": [
        {
          "output_type": "execute_result",
          "data": {
            "text/plain": [
              "0.4503441494591937"
            ]
          },
          "metadata": {
            "tags": []
          },
          "execution_count": 28
        }
      ]
    },
    {
      "cell_type": "code",
      "metadata": {
        "id": "R2vnMB7eiuTC",
        "colab": {
          "base_uri": "https://localhost:8080/"
        },
        "outputId": "7efd7522-54f6-410c-9107-7351a0cfaf2c"
      },
      "source": [
        "print(classification_report(test_labels, test_predictions, target_names=mlb.classes_, zero_division=0))"
      ],
      "execution_count": 29,
      "outputs": [
        {
          "output_type": "stream",
          "text": [
            "                          precision    recall  f1-score   support\n",
            "\n",
            "        AMBIENCE#GENERAL       1.00      0.21      0.35        57\n",
            "           DRINKS#PRICES       0.00      0.00      0.00         3\n",
            "          DRINKS#QUALITY       0.00      0.00      0.00        21\n",
            "    DRINKS#STYLE_OPTIONS       0.00      0.00      0.00        12\n",
            "             FOOD#PRICES       0.00      0.00      0.00        22\n",
            "            FOOD#QUALITY       0.78      0.54      0.64       226\n",
            "      FOOD#STYLE_OPTIONS       0.00      0.00      0.00        48\n",
            "        LOCATION#GENERAL       0.00      0.00      0.00        13\n",
            "      RESTAURANT#GENERAL       0.84      0.23      0.36       142\n",
            "RESTAURANT#MISCELLANEOUS       0.00      0.00      0.00        33\n",
            "       RESTAURANT#PRICES       0.00      0.00      0.00        21\n",
            "         SERVICE#GENERAL       0.95      0.43      0.60       145\n",
            "\n",
            "               micro avg       0.84      0.31      0.45       743\n",
            "               macro avg       0.30      0.12      0.16       743\n",
            "            weighted avg       0.66      0.31      0.41       743\n",
            "             samples avg       0.32      0.28      0.29       743\n",
            "\n"
          ],
          "name": "stdout"
        }
      ]
    },
    {
      "cell_type": "markdown",
      "metadata": {
        "id": "7ILNRIidLtJe"
      },
      "source": [
        "It's now your task to improve this.\n",
        "\n",
        "You can try a lot of things to make the classifier more accurate. Of course, it's very recommended to try different DNN based approaches. \n",
        "\n",
        "Note that there are only 2000 training sentences. This makes the task basically an excercise of transfer learning. You can try using pre-trained word embeddings, pre-trained models like BERT, etc.\n",
        "\n",
        "Note that the labels have some structure in them. Each label consists of two parts: e.g. FOOD#QUALITY consists of FOOD and QUALITY. Maybe try splitting the labels into two parts and predicting each part independanty? Of course, you need to glue them back up when doing evaluation.\n",
        "\n",
        "Multi-label classification can be easily handled with neural network models with a model that has one output for each label, but instead of simple cross-entropy, binary cross-entropy has to be used for optimization.\n",
        "\n",
        "Multi-label classification is a quite popular task and you can find a lot of tutorials on the internet. For example, many many text classification where a text can be assigned many tags (as in StackOverflow) are multi-label tasks.\n",
        "\n",
        "\n",
        "Check the slides of Lecture 1 on how the final project should look like, what parts it should contain and how it will be graded.\n",
        "\n",
        "\n"
      ]
    },
    {
      "cell_type": "markdown",
      "metadata": {
        "id": "i3kc6ozYVoo1"
      },
      "source": [
        "## OneVsOne Classifier"
      ]
    },
    {
      "cell_type": "code",
      "metadata": {
        "id": "icGZVw0IS_Q_"
      },
      "source": [
        "def get_index(l):\n",
        "  try:\n",
        "    return list(l).index(1)\n",
        "  except: \n",
        "    #print(l)\n",
        "    return 13"
      ],
      "execution_count": 30,
      "outputs": []
    },
    {
      "cell_type": "code",
      "metadata": {
        "id": "wqL-prRmUu2R"
      },
      "source": [
        "import numpy as np\n",
        "\n",
        "def reverse(l):\n",
        "  result = []\n",
        "  for e in l:\n",
        "    zeros = np.zeros(12, int)\n",
        "    if e != 13:\n",
        "      zeros[e] = 1\n",
        "    result.append(zeros)\n",
        "  return np.array(result)\n"
      ],
      "execution_count": 31,
      "outputs": []
    },
    {
      "cell_type": "code",
      "metadata": {
        "id": "ZuwKorIkjdA3",
        "colab": {
          "base_uri": "https://localhost:8080/"
        },
        "outputId": "5af2572d-25f8-400c-d19c-7389836e6b0f"
      },
      "source": [
        "from sklearn.multiclass import OneVsOneClassifier\n",
        "\n",
        "text_clf_1vs1 = Pipeline([\n",
        "     ('vect', CountVectorizer()),\n",
        "     ('tfidf', TfidfTransformer()),\n",
        "     ('clf',  OneVsOneClassifier(LogisticRegression()))\n",
        " ])\n",
        "train_labels_1vs1 = list(map(lambda x: get_index(x), train_labels))\n",
        "text_clf_1vs1.fit(train_text, train_labels_1vs1)\n",
        "\n",
        "test_predictions = text_clf_1vs1.predict(test_text)\n",
        "\n",
        "test_predictions = reverse(test_predictions)\n",
        "print(test_predictions)\n",
        "test_labels_1vs1 = list(map(lambda x: get_index(x), test_labels))\n",
        "print(test_predictions)\n",
        "f1 = f1_score(test_labels,\n",
        "         test_predictions,\n",
        "         average='micro')\n",
        "print('F1: {}'.format(f1))\n",
        "print(classification_report(test_labels, test_predictions, target_names=mlb.classes_, zero_division=0))"
      ],
      "execution_count": 32,
      "outputs": [
        {
          "output_type": "stream",
          "text": [
            "[[0 0 0 ... 0 0 0]\n",
            " [0 0 0 ... 0 0 0]\n",
            " [0 0 0 ... 0 0 0]\n",
            " ...\n",
            " [0 0 0 ... 0 0 0]\n",
            " [0 0 0 ... 0 0 0]\n",
            " [0 0 0 ... 0 0 0]]\n",
            "F1: 0.5303703703703704\n",
            "                          precision    recall  f1-score   support\n",
            "\n",
            "        AMBIENCE#GENERAL       0.79      0.47      0.59        57\n",
            "           DRINKS#PRICES       0.00      0.00      0.00         3\n",
            "          DRINKS#QUALITY       0.00      0.00      0.00        21\n",
            "    DRINKS#STYLE_OPTIONS       0.00      0.00      0.00        12\n",
            "             FOOD#PRICES       0.00      0.00      0.00        22\n",
            "            FOOD#QUALITY       0.53      0.88      0.66       226\n",
            "      FOOD#STYLE_OPTIONS       0.00      0.00      0.00        48\n",
            "        LOCATION#GENERAL       0.00      0.00      0.00        13\n",
            "      RESTAURANT#GENERAL       0.61      0.56      0.58       142\n",
            "RESTAURANT#MISCELLANEOUS       0.00      0.00      0.00        33\n",
            "       RESTAURANT#PRICES       0.00      0.00      0.00        21\n",
            "         SERVICE#GENERAL       0.85      0.37      0.51       145\n",
            "\n",
            "               micro avg       0.59      0.48      0.53       743\n",
            "               macro avg       0.23      0.19      0.20       743\n",
            "            weighted avg       0.50      0.48      0.46       743\n",
            "             samples avg       0.53      0.45      0.48       743\n",
            "\n"
          ],
          "name": "stdout"
        }
      ]
    },
    {
      "cell_type": "markdown",
      "metadata": {
        "id": "tBLqZ6BMXeN7"
      },
      "source": [
        "## OutputCode"
      ]
    },
    {
      "cell_type": "code",
      "metadata": {
        "colab": {
          "base_uri": "https://localhost:8080/"
        },
        "id": "K-zgMkaZXgLX",
        "outputId": "566b4f0a-57ad-47b3-f05e-83ddbac33a9d"
      },
      "source": [
        "from sklearn.multiclass import OutputCodeClassifier\n",
        "from sklearn.preprocessing import FunctionTransformer\n",
        "\n",
        "text_clf_occ = Pipeline([\n",
        "     ('vect', CountVectorizer()),\n",
        "     ('tfidf', TfidfTransformer()), \n",
        "     ('to_dense', FunctionTransformer(lambda x: x.todense(), accept_sparse=True)),\n",
        "     ('clf',  OutputCodeClassifier(LogisticRegression()))\n",
        " ])\n",
        "#train_labels_1vs1 = list(map(lambda x: get_index(x), train_labels))\n",
        "#text_clf_occ.fit(train_text, train_labels)\n",
        "\n",
        "#test_predictions = text_clf_occ.predict(test_text)\n",
        "\n",
        "#test_predictions = reverse(test_predictions)\n",
        "print(test_predictions)\n",
        "#test_labels_1vs1 = list(map(lambda x: get_index(x), test_labels))\n",
        "#print(test_predictions)\n",
        "f1 = f1_score(test_labels,\n",
        "         test_predictions,\n",
        "         average='micro')\n",
        "print('F1: {}'.format(f1))\n",
        "print(classification_report(test_labels, test_predictions, target_names=mlb.classes_, zero_division=0))"
      ],
      "execution_count": 33,
      "outputs": [
        {
          "output_type": "stream",
          "text": [
            "[[0 0 0 ... 0 0 0]\n",
            " [0 0 0 ... 0 0 0]\n",
            " [0 0 0 ... 0 0 0]\n",
            " ...\n",
            " [0 0 0 ... 0 0 0]\n",
            " [0 0 0 ... 0 0 0]\n",
            " [0 0 0 ... 0 0 0]]\n",
            "F1: 0.5303703703703704\n",
            "                          precision    recall  f1-score   support\n",
            "\n",
            "        AMBIENCE#GENERAL       0.79      0.47      0.59        57\n",
            "           DRINKS#PRICES       0.00      0.00      0.00         3\n",
            "          DRINKS#QUALITY       0.00      0.00      0.00        21\n",
            "    DRINKS#STYLE_OPTIONS       0.00      0.00      0.00        12\n",
            "             FOOD#PRICES       0.00      0.00      0.00        22\n",
            "            FOOD#QUALITY       0.53      0.88      0.66       226\n",
            "      FOOD#STYLE_OPTIONS       0.00      0.00      0.00        48\n",
            "        LOCATION#GENERAL       0.00      0.00      0.00        13\n",
            "      RESTAURANT#GENERAL       0.61      0.56      0.58       142\n",
            "RESTAURANT#MISCELLANEOUS       0.00      0.00      0.00        33\n",
            "       RESTAURANT#PRICES       0.00      0.00      0.00        21\n",
            "         SERVICE#GENERAL       0.85      0.37      0.51       145\n",
            "\n",
            "               micro avg       0.59      0.48      0.53       743\n",
            "               macro avg       0.23      0.19      0.20       743\n",
            "            weighted avg       0.50      0.48      0.46       743\n",
            "             samples avg       0.53      0.45      0.48       743\n",
            "\n"
          ],
          "name": "stdout"
        }
      ]
    },
    {
      "cell_type": "markdown",
      "metadata": {
        "id": "fMkKv3DbfLEw"
      },
      "source": [
        "# BERT approach\n",
        "  "
      ]
    },
    {
      "cell_type": "markdown",
      "metadata": {
        "id": "1p0VaHZP9Beu"
      },
      "source": [
        "## Requirements"
      ]
    },
    {
      "cell_type": "code",
      "metadata": {
        "colab": {
          "base_uri": "https://localhost:8080/"
        },
        "id": "rA2RSDiEfK28",
        "outputId": "858a8b4b-6576-4eed-9f79-ce5a10d2156f"
      },
      "source": [
        "!pip install transformers"
      ],
      "execution_count": 34,
      "outputs": [
        {
          "output_type": "stream",
          "text": [
            "Collecting transformers\n",
            "\u001b[?25l  Downloading https://files.pythonhosted.org/packages/d5/43/cfe4ee779bbd6a678ac6a97c5a5cdeb03c35f9eaebbb9720b036680f9a2d/transformers-4.6.1-py3-none-any.whl (2.2MB)\n",
            "\r\u001b[K     |▏                               | 10kB 26.3MB/s eta 0:00:01\r\u001b[K     |▎                               | 20kB 24.9MB/s eta 0:00:01\r\u001b[K     |▍                               | 30kB 17.2MB/s eta 0:00:01\r\u001b[K     |▋                               | 40kB 14.9MB/s eta 0:00:01\r\u001b[K     |▊                               | 51kB 8.2MB/s eta 0:00:01\r\u001b[K     |▉                               | 61kB 8.2MB/s eta 0:00:01\r\u001b[K     |█                               | 71kB 8.5MB/s eta 0:00:01\r\u001b[K     |█▏                              | 81kB 9.4MB/s eta 0:00:01\r\u001b[K     |█▎                              | 92kB 9.8MB/s eta 0:00:01\r\u001b[K     |█▌                              | 102kB 8.1MB/s eta 0:00:01\r\u001b[K     |█▋                              | 112kB 8.1MB/s eta 0:00:01\r\u001b[K     |█▊                              | 122kB 8.1MB/s eta 0:00:01\r\u001b[K     |██                              | 133kB 8.1MB/s eta 0:00:01\r\u001b[K     |██                              | 143kB 8.1MB/s eta 0:00:01\r\u001b[K     |██▏                             | 153kB 8.1MB/s eta 0:00:01\r\u001b[K     |██▎                             | 163kB 8.1MB/s eta 0:00:01\r\u001b[K     |██▌                             | 174kB 8.1MB/s eta 0:00:01\r\u001b[K     |██▋                             | 184kB 8.1MB/s eta 0:00:01\r\u001b[K     |██▊                             | 194kB 8.1MB/s eta 0:00:01\r\u001b[K     |███                             | 204kB 8.1MB/s eta 0:00:01\r\u001b[K     |███                             | 215kB 8.1MB/s eta 0:00:01\r\u001b[K     |███▏                            | 225kB 8.1MB/s eta 0:00:01\r\u001b[K     |███▍                            | 235kB 8.1MB/s eta 0:00:01\r\u001b[K     |███▌                            | 245kB 8.1MB/s eta 0:00:01\r\u001b[K     |███▋                            | 256kB 8.1MB/s eta 0:00:01\r\u001b[K     |███▉                            | 266kB 8.1MB/s eta 0:00:01\r\u001b[K     |████                            | 276kB 8.1MB/s eta 0:00:01\r\u001b[K     |████                            | 286kB 8.1MB/s eta 0:00:01\r\u001b[K     |████▎                           | 296kB 8.1MB/s eta 0:00:01\r\u001b[K     |████▍                           | 307kB 8.1MB/s eta 0:00:01\r\u001b[K     |████▌                           | 317kB 8.1MB/s eta 0:00:01\r\u001b[K     |████▋                           | 327kB 8.1MB/s eta 0:00:01\r\u001b[K     |████▉                           | 337kB 8.1MB/s eta 0:00:01\r\u001b[K     |█████                           | 348kB 8.1MB/s eta 0:00:01\r\u001b[K     |█████                           | 358kB 8.1MB/s eta 0:00:01\r\u001b[K     |█████▎                          | 368kB 8.1MB/s eta 0:00:01\r\u001b[K     |█████▍                          | 378kB 8.1MB/s eta 0:00:01\r\u001b[K     |█████▌                          | 389kB 8.1MB/s eta 0:00:01\r\u001b[K     |█████▊                          | 399kB 8.1MB/s eta 0:00:01\r\u001b[K     |█████▉                          | 409kB 8.1MB/s eta 0:00:01\r\u001b[K     |██████                          | 419kB 8.1MB/s eta 0:00:01\r\u001b[K     |██████▏                         | 430kB 8.1MB/s eta 0:00:01\r\u001b[K     |██████▎                         | 440kB 8.1MB/s eta 0:00:01\r\u001b[K     |██████▍                         | 450kB 8.1MB/s eta 0:00:01\r\u001b[K     |██████▌                         | 460kB 8.1MB/s eta 0:00:01\r\u001b[K     |██████▊                         | 471kB 8.1MB/s eta 0:00:01\r\u001b[K     |██████▉                         | 481kB 8.1MB/s eta 0:00:01\r\u001b[K     |███████                         | 491kB 8.1MB/s eta 0:00:01\r\u001b[K     |███████▏                        | 501kB 8.1MB/s eta 0:00:01\r\u001b[K     |███████▎                        | 512kB 8.1MB/s eta 0:00:01\r\u001b[K     |███████▍                        | 522kB 8.1MB/s eta 0:00:01\r\u001b[K     |███████▋                        | 532kB 8.1MB/s eta 0:00:01\r\u001b[K     |███████▊                        | 542kB 8.1MB/s eta 0:00:01\r\u001b[K     |███████▉                        | 552kB 8.1MB/s eta 0:00:01\r\u001b[K     |████████                        | 563kB 8.1MB/s eta 0:00:01\r\u001b[K     |████████▏                       | 573kB 8.1MB/s eta 0:00:01\r\u001b[K     |████████▎                       | 583kB 8.1MB/s eta 0:00:01\r\u001b[K     |████████▌                       | 593kB 8.1MB/s eta 0:00:01\r\u001b[K     |████████▋                       | 604kB 8.1MB/s eta 0:00:01\r\u001b[K     |████████▊                       | 614kB 8.1MB/s eta 0:00:01\r\u001b[K     |████████▉                       | 624kB 8.1MB/s eta 0:00:01\r\u001b[K     |█████████                       | 634kB 8.1MB/s eta 0:00:01\r\u001b[K     |█████████▏                      | 645kB 8.1MB/s eta 0:00:01\r\u001b[K     |█████████▎                      | 655kB 8.1MB/s eta 0:00:01\r\u001b[K     |█████████▌                      | 665kB 8.1MB/s eta 0:00:01\r\u001b[K     |█████████▋                      | 675kB 8.1MB/s eta 0:00:01\r\u001b[K     |█████████▊                      | 686kB 8.1MB/s eta 0:00:01\r\u001b[K     |██████████                      | 696kB 8.1MB/s eta 0:00:01\r\u001b[K     |██████████                      | 706kB 8.1MB/s eta 0:00:01\r\u001b[K     |██████████▏                     | 716kB 8.1MB/s eta 0:00:01\r\u001b[K     |██████████▍                     | 727kB 8.1MB/s eta 0:00:01\r\u001b[K     |██████████▌                     | 737kB 8.1MB/s eta 0:00:01\r\u001b[K     |██████████▋                     | 747kB 8.1MB/s eta 0:00:01\r\u001b[K     |██████████▉                     | 757kB 8.1MB/s eta 0:00:01\r\u001b[K     |███████████                     | 768kB 8.1MB/s eta 0:00:01\r\u001b[K     |███████████                     | 778kB 8.1MB/s eta 0:00:01\r\u001b[K     |███████████▏                    | 788kB 8.1MB/s eta 0:00:01\r\u001b[K     |███████████▍                    | 798kB 8.1MB/s eta 0:00:01\r\u001b[K     |███████████▌                    | 808kB 8.1MB/s eta 0:00:01\r\u001b[K     |███████████▋                    | 819kB 8.1MB/s eta 0:00:01\r\u001b[K     |███████████▉                    | 829kB 8.1MB/s eta 0:00:01\r\u001b[K     |████████████                    | 839kB 8.1MB/s eta 0:00:01\r\u001b[K     |████████████                    | 849kB 8.1MB/s eta 0:00:01\r\u001b[K     |████████████▎                   | 860kB 8.1MB/s eta 0:00:01\r\u001b[K     |████████████▍                   | 870kB 8.1MB/s eta 0:00:01\r\u001b[K     |████████████▌                   | 880kB 8.1MB/s eta 0:00:01\r\u001b[K     |████████████▊                   | 890kB 8.1MB/s eta 0:00:01\r\u001b[K     |████████████▉                   | 901kB 8.1MB/s eta 0:00:01\r\u001b[K     |█████████████                   | 911kB 8.1MB/s eta 0:00:01\r\u001b[K     |█████████████                   | 921kB 8.1MB/s eta 0:00:01\r\u001b[K     |█████████████▎                  | 931kB 8.1MB/s eta 0:00:01\r\u001b[K     |█████████████▍                  | 942kB 8.1MB/s eta 0:00:01\r\u001b[K     |█████████████▌                  | 952kB 8.1MB/s eta 0:00:01\r\u001b[K     |█████████████▊                  | 962kB 8.1MB/s eta 0:00:01\r\u001b[K     |█████████████▉                  | 972kB 8.1MB/s eta 0:00:01\r\u001b[K     |██████████████                  | 983kB 8.1MB/s eta 0:00:01\r\u001b[K     |██████████████▏                 | 993kB 8.1MB/s eta 0:00:01\r\u001b[K     |██████████████▎                 | 1.0MB 8.1MB/s eta 0:00:01\r\u001b[K     |██████████████▍                 | 1.0MB 8.1MB/s eta 0:00:01\r\u001b[K     |██████████████▋                 | 1.0MB 8.1MB/s eta 0:00:01\r\u001b[K     |██████████████▊                 | 1.0MB 8.1MB/s eta 0:00:01\r\u001b[K     |██████████████▉                 | 1.0MB 8.1MB/s eta 0:00:01\r\u001b[K     |███████████████                 | 1.1MB 8.1MB/s eta 0:00:01\r\u001b[K     |███████████████▏                | 1.1MB 8.1MB/s eta 0:00:01\r\u001b[K     |███████████████▎                | 1.1MB 8.1MB/s eta 0:00:01\r\u001b[K     |███████████████▍                | 1.1MB 8.1MB/s eta 0:00:01\r\u001b[K     |███████████████▋                | 1.1MB 8.1MB/s eta 0:00:01\r\u001b[K     |███████████████▊                | 1.1MB 8.1MB/s eta 0:00:01\r\u001b[K     |███████████████▉                | 1.1MB 8.1MB/s eta 0:00:01\r\u001b[K     |████████████████                | 1.1MB 8.1MB/s eta 0:00:01\r\u001b[K     |████████████████▏               | 1.1MB 8.1MB/s eta 0:00:01\r\u001b[K     |████████████████▎               | 1.1MB 8.1MB/s eta 0:00:01\r\u001b[K     |████████████████▌               | 1.2MB 8.1MB/s eta 0:00:01\r\u001b[K     |████████████████▋               | 1.2MB 8.1MB/s eta 0:00:01\r\u001b[K     |████████████████▊               | 1.2MB 8.1MB/s eta 0:00:01\r\u001b[K     |█████████████████               | 1.2MB 8.1MB/s eta 0:00:01\r\u001b[K     |█████████████████               | 1.2MB 8.1MB/s eta 0:00:01\r\u001b[K     |█████████████████▏              | 1.2MB 8.1MB/s eta 0:00:01\r\u001b[K     |█████████████████▎              | 1.2MB 8.1MB/s eta 0:00:01\r\u001b[K     |█████████████████▌              | 1.2MB 8.1MB/s eta 0:00:01\r\u001b[K     |█████████████████▋              | 1.2MB 8.1MB/s eta 0:00:01\r\u001b[K     |█████████████████▊              | 1.2MB 8.1MB/s eta 0:00:01\r\u001b[K     |██████████████████              | 1.3MB 8.1MB/s eta 0:00:01\r\u001b[K     |██████████████████              | 1.3MB 8.1MB/s eta 0:00:01\r\u001b[K     |██████████████████▏             | 1.3MB 8.1MB/s eta 0:00:01\r\u001b[K     |██████████████████▍             | 1.3MB 8.1MB/s eta 0:00:01\r\u001b[K     |██████████████████▌             | 1.3MB 8.1MB/s eta 0:00:01\r\u001b[K     |██████████████████▋             | 1.3MB 8.1MB/s eta 0:00:01\r\u001b[K     |██████████████████▉             | 1.3MB 8.1MB/s eta 0:00:01\r\u001b[K     |███████████████████             | 1.3MB 8.1MB/s eta 0:00:01\r\u001b[K     |███████████████████             | 1.3MB 8.1MB/s eta 0:00:01\r\u001b[K     |███████████████████▎            | 1.4MB 8.1MB/s eta 0:00:01\r\u001b[K     |███████████████████▍            | 1.4MB 8.1MB/s eta 0:00:01\r\u001b[K     |███████████████████▌            | 1.4MB 8.1MB/s eta 0:00:01\r\u001b[K     |███████████████████▋            | 1.4MB 8.1MB/s eta 0:00:01\r\u001b[K     |███████████████████▉            | 1.4MB 8.1MB/s eta 0:00:01\r\u001b[K     |████████████████████            | 1.4MB 8.1MB/s eta 0:00:01\r\u001b[K     |████████████████████            | 1.4MB 8.1MB/s eta 0:00:01\r\u001b[K     |████████████████████▎           | 1.4MB 8.1MB/s eta 0:00:01\r\u001b[K     |████████████████████▍           | 1.4MB 8.1MB/s eta 0:00:01\r\u001b[K     |████████████████████▌           | 1.4MB 8.1MB/s eta 0:00:01\r\u001b[K     |████████████████████▊           | 1.5MB 8.1MB/s eta 0:00:01\r\u001b[K     |████████████████████▉           | 1.5MB 8.1MB/s eta 0:00:01\r\u001b[K     |█████████████████████           | 1.5MB 8.1MB/s eta 0:00:01\r\u001b[K     |█████████████████████▏          | 1.5MB 8.1MB/s eta 0:00:01\r\u001b[K     |█████████████████████▎          | 1.5MB 8.1MB/s eta 0:00:01\r\u001b[K     |█████████████████████▍          | 1.5MB 8.1MB/s eta 0:00:01\r\u001b[K     |█████████████████████▋          | 1.5MB 8.1MB/s eta 0:00:01\r\u001b[K     |█████████████████████▊          | 1.5MB 8.1MB/s eta 0:00:01\r\u001b[K     |█████████████████████▉          | 1.5MB 8.1MB/s eta 0:00:01\r\u001b[K     |██████████████████████          | 1.5MB 8.1MB/s eta 0:00:01\r\u001b[K     |██████████████████████▏         | 1.6MB 8.1MB/s eta 0:00:01\r\u001b[K     |██████████████████████▎         | 1.6MB 8.1MB/s eta 0:00:01\r\u001b[K     |██████████████████████▍         | 1.6MB 8.1MB/s eta 0:00:01\r\u001b[K     |██████████████████████▋         | 1.6MB 8.1MB/s eta 0:00:01\r\u001b[K     |██████████████████████▊         | 1.6MB 8.1MB/s eta 0:00:01\r\u001b[K     |██████████████████████▉         | 1.6MB 8.1MB/s eta 0:00:01\r\u001b[K     |███████████████████████         | 1.6MB 8.1MB/s eta 0:00:01\r\u001b[K     |███████████████████████▏        | 1.6MB 8.1MB/s eta 0:00:01\r\u001b[K     |███████████████████████▎        | 1.6MB 8.1MB/s eta 0:00:01\r\u001b[K     |███████████████████████▌        | 1.6MB 8.1MB/s eta 0:00:01\r\u001b[K     |███████████████████████▋        | 1.7MB 8.1MB/s eta 0:00:01\r\u001b[K     |███████████████████████▊        | 1.7MB 8.1MB/s eta 0:00:01\r\u001b[K     |███████████████████████▉        | 1.7MB 8.1MB/s eta 0:00:01\r\u001b[K     |████████████████████████        | 1.7MB 8.1MB/s eta 0:00:01\r\u001b[K     |████████████████████████▏       | 1.7MB 8.1MB/s eta 0:00:01\r\u001b[K     |████████████████████████▎       | 1.7MB 8.1MB/s eta 0:00:01\r\u001b[K     |████████████████████████▌       | 1.7MB 8.1MB/s eta 0:00:01\r\u001b[K     |████████████████████████▋       | 1.7MB 8.1MB/s eta 0:00:01\r\u001b[K     |████████████████████████▊       | 1.7MB 8.1MB/s eta 0:00:01\r\u001b[K     |█████████████████████████       | 1.8MB 8.1MB/s eta 0:00:01\r\u001b[K     |█████████████████████████       | 1.8MB 8.1MB/s eta 0:00:01\r\u001b[K     |█████████████████████████▏      | 1.8MB 8.1MB/s eta 0:00:01\r\u001b[K     |█████████████████████████▍      | 1.8MB 8.1MB/s eta 0:00:01\r\u001b[K     |█████████████████████████▌      | 1.8MB 8.1MB/s eta 0:00:01\r\u001b[K     |█████████████████████████▋      | 1.8MB 8.1MB/s eta 0:00:01\r\u001b[K     |█████████████████████████▉      | 1.8MB 8.1MB/s eta 0:00:01\r\u001b[K     |██████████████████████████      | 1.8MB 8.1MB/s eta 0:00:01\r\u001b[K     |██████████████████████████      | 1.8MB 8.1MB/s eta 0:00:01\r\u001b[K     |██████████████████████████▏     | 1.8MB 8.1MB/s eta 0:00:01\r\u001b[K     |██████████████████████████▍     | 1.9MB 8.1MB/s eta 0:00:01\r\u001b[K     |██████████████████████████▌     | 1.9MB 8.1MB/s eta 0:00:01\r\u001b[K     |██████████████████████████▋     | 1.9MB 8.1MB/s eta 0:00:01\r\u001b[K     |██████████████████████████▉     | 1.9MB 8.1MB/s eta 0:00:01\r\u001b[K     |███████████████████████████     | 1.9MB 8.1MB/s eta 0:00:01\r\u001b[K     |███████████████████████████     | 1.9MB 8.1MB/s eta 0:00:01\r\u001b[K     |███████████████████████████▎    | 1.9MB 8.1MB/s eta 0:00:01\r\u001b[K     |███████████████████████████▍    | 1.9MB 8.1MB/s eta 0:00:01\r\u001b[K     |███████████████████████████▌    | 1.9MB 8.1MB/s eta 0:00:01\r\u001b[K     |███████████████████████████▊    | 1.9MB 8.1MB/s eta 0:00:01\r\u001b[K     |███████████████████████████▉    | 2.0MB 8.1MB/s eta 0:00:01\r\u001b[K     |████████████████████████████    | 2.0MB 8.1MB/s eta 0:00:01\r\u001b[K     |████████████████████████████▏   | 2.0MB 8.1MB/s eta 0:00:01\r\u001b[K     |████████████████████████████▎   | 2.0MB 8.1MB/s eta 0:00:01\r\u001b[K     |████████████████████████████▍   | 2.0MB 8.1MB/s eta 0:00:01\r\u001b[K     |████████████████████████████▌   | 2.0MB 8.1MB/s eta 0:00:01\r\u001b[K     |████████████████████████████▊   | 2.0MB 8.1MB/s eta 0:00:01\r\u001b[K     |████████████████████████████▉   | 2.0MB 8.1MB/s eta 0:00:01\r\u001b[K     |█████████████████████████████   | 2.0MB 8.1MB/s eta 0:00:01\r\u001b[K     |█████████████████████████████▏  | 2.0MB 8.1MB/s eta 0:00:01\r\u001b[K     |█████████████████████████████▎  | 2.1MB 8.1MB/s eta 0:00:01\r\u001b[K     |█████████████████████████████▍  | 2.1MB 8.1MB/s eta 0:00:01\r\u001b[K     |█████████████████████████████▋  | 2.1MB 8.1MB/s eta 0:00:01\r\u001b[K     |█████████████████████████████▊  | 2.1MB 8.1MB/s eta 0:00:01\r\u001b[K     |█████████████████████████████▉  | 2.1MB 8.1MB/s eta 0:00:01\r\u001b[K     |██████████████████████████████  | 2.1MB 8.1MB/s eta 0:00:01\r\u001b[K     |██████████████████████████████▏ | 2.1MB 8.1MB/s eta 0:00:01\r\u001b[K     |██████████████████████████████▎ | 2.1MB 8.1MB/s eta 0:00:01\r\u001b[K     |██████████████████████████████▍ | 2.1MB 8.1MB/s eta 0:00:01\r\u001b[K     |██████████████████████████████▋ | 2.2MB 8.1MB/s eta 0:00:01\r\u001b[K     |██████████████████████████████▊ | 2.2MB 8.1MB/s eta 0:00:01\r\u001b[K     |██████████████████████████████▉ | 2.2MB 8.1MB/s eta 0:00:01\r\u001b[K     |███████████████████████████████ | 2.2MB 8.1MB/s eta 0:00:01\r\u001b[K     |███████████████████████████████▏| 2.2MB 8.1MB/s eta 0:00:01\r\u001b[K     |███████████████████████████████▎| 2.2MB 8.1MB/s eta 0:00:01\r\u001b[K     |███████████████████████████████▌| 2.2MB 8.1MB/s eta 0:00:01\r\u001b[K     |███████████████████████████████▋| 2.2MB 8.1MB/s eta 0:00:01\r\u001b[K     |███████████████████████████████▊| 2.2MB 8.1MB/s eta 0:00:01\r\u001b[K     |████████████████████████████████| 2.2MB 8.1MB/s eta 0:00:01\r\u001b[K     |████████████████████████████████| 2.3MB 8.1MB/s \n",
            "\u001b[?25hRequirement already satisfied: packaging in /usr/local/lib/python3.7/dist-packages (from transformers) (20.9)\n",
            "Requirement already satisfied: tqdm>=4.27 in /usr/local/lib/python3.7/dist-packages (from transformers) (4.41.1)\n",
            "Requirement already satisfied: regex!=2019.12.17 in /usr/local/lib/python3.7/dist-packages (from transformers) (2019.12.20)\n",
            "Requirement already satisfied: requests in /usr/local/lib/python3.7/dist-packages (from transformers) (2.23.0)\n",
            "Requirement already satisfied: numpy>=1.17 in /usr/local/lib/python3.7/dist-packages (from transformers) (1.19.5)\n",
            "Collecting huggingface-hub==0.0.8\n",
            "  Downloading https://files.pythonhosted.org/packages/a1/88/7b1e45720ecf59c6c6737ff332f41c955963090a18e72acbcbeac6b25e86/huggingface_hub-0.0.8-py3-none-any.whl\n",
            "Requirement already satisfied: importlib-metadata; python_version < \"3.8\" in /usr/local/lib/python3.7/dist-packages (from transformers) (4.0.1)\n",
            "Requirement already satisfied: filelock in /usr/local/lib/python3.7/dist-packages (from transformers) (3.0.12)\n",
            "Collecting tokenizers<0.11,>=0.10.1\n",
            "\u001b[?25l  Downloading https://files.pythonhosted.org/packages/d4/e2/df3543e8ffdab68f5acc73f613de9c2b155ac47f162e725dcac87c521c11/tokenizers-0.10.3-cp37-cp37m-manylinux_2_5_x86_64.manylinux1_x86_64.manylinux_2_12_x86_64.manylinux2010_x86_64.whl (3.3MB)\n",
            "\u001b[K     |████████████████████████████████| 3.3MB 48.9MB/s \n",
            "\u001b[?25hCollecting sacremoses\n",
            "\u001b[?25l  Downloading https://files.pythonhosted.org/packages/75/ee/67241dc87f266093c533a2d4d3d69438e57d7a90abb216fa076e7d475d4a/sacremoses-0.0.45-py3-none-any.whl (895kB)\n",
            "\u001b[K     |████████████████████████████████| 901kB 43.8MB/s \n",
            "\u001b[?25hRequirement already satisfied: pyparsing>=2.0.2 in /usr/local/lib/python3.7/dist-packages (from packaging->transformers) (2.4.7)\n",
            "Requirement already satisfied: idna<3,>=2.5 in /usr/local/lib/python3.7/dist-packages (from requests->transformers) (2.10)\n",
            "Requirement already satisfied: certifi>=2017.4.17 in /usr/local/lib/python3.7/dist-packages (from requests->transformers) (2020.12.5)\n",
            "Requirement already satisfied: chardet<4,>=3.0.2 in /usr/local/lib/python3.7/dist-packages (from requests->transformers) (3.0.4)\n",
            "Requirement already satisfied: urllib3!=1.25.0,!=1.25.1,<1.26,>=1.21.1 in /usr/local/lib/python3.7/dist-packages (from requests->transformers) (1.24.3)\n",
            "Requirement already satisfied: zipp>=0.5 in /usr/local/lib/python3.7/dist-packages (from importlib-metadata; python_version < \"3.8\"->transformers) (3.4.1)\n",
            "Requirement already satisfied: typing-extensions>=3.6.4; python_version < \"3.8\" in /usr/local/lib/python3.7/dist-packages (from importlib-metadata; python_version < \"3.8\"->transformers) (3.7.4.3)\n",
            "Requirement already satisfied: six in /usr/local/lib/python3.7/dist-packages (from sacremoses->transformers) (1.15.0)\n",
            "Requirement already satisfied: click in /usr/local/lib/python3.7/dist-packages (from sacremoses->transformers) (7.1.2)\n",
            "Requirement already satisfied: joblib in /usr/local/lib/python3.7/dist-packages (from sacremoses->transformers) (1.0.1)\n",
            "Installing collected packages: huggingface-hub, tokenizers, sacremoses, transformers\n",
            "Successfully installed huggingface-hub-0.0.8 sacremoses-0.0.45 tokenizers-0.10.3 transformers-4.6.1\n"
          ],
          "name": "stdout"
        }
      ]
    },
    {
      "cell_type": "code",
      "metadata": {
        "colab": {
          "base_uri": "https://localhost:8080/"
        },
        "id": "306lRrowfUcX",
        "outputId": "9718f3fc-3ad6-4095-f18d-699bad9afa41"
      },
      "source": [
        "import numpy as np\n",
        "import torch\n",
        "from torch.utils.data import Dataset, DataLoader\n",
        "\n",
        "import torch \n",
        "\n",
        "device = 'cpu'\n",
        "if torch.cuda.is_available():\n",
        "  device = torch.device('cuda')\n",
        "\n",
        "print(device)"
      ],
      "execution_count": 35,
      "outputs": [
        {
          "output_type": "stream",
          "text": [
            "cuda\n"
          ],
          "name": "stdout"
        }
      ]
    },
    {
      "cell_type": "markdown",
      "metadata": {
        "id": "PCWWRqDhq_sb"
      },
      "source": [
        "## BERT tokenizer"
      ]
    },
    {
      "cell_type": "code",
      "metadata": {
        "colab": {
          "base_uri": "https://localhost:8080/"
        },
        "id": "FRyFIFEArFiZ",
        "outputId": "18989855-8924-4a5c-93f5-172e0db2866a"
      },
      "source": [
        "!pip install transformers"
      ],
      "execution_count": 36,
      "outputs": [
        {
          "output_type": "stream",
          "text": [
            "Requirement already satisfied: transformers in /usr/local/lib/python3.7/dist-packages (4.6.1)\n",
            "Requirement already satisfied: numpy>=1.17 in /usr/local/lib/python3.7/dist-packages (from transformers) (1.19.5)\n",
            "Requirement already satisfied: filelock in /usr/local/lib/python3.7/dist-packages (from transformers) (3.0.12)\n",
            "Requirement already satisfied: huggingface-hub==0.0.8 in /usr/local/lib/python3.7/dist-packages (from transformers) (0.0.8)\n",
            "Requirement already satisfied: requests in /usr/local/lib/python3.7/dist-packages (from transformers) (2.23.0)\n",
            "Requirement already satisfied: importlib-metadata; python_version < \"3.8\" in /usr/local/lib/python3.7/dist-packages (from transformers) (4.0.1)\n",
            "Requirement already satisfied: tqdm>=4.27 in /usr/local/lib/python3.7/dist-packages (from transformers) (4.41.1)\n",
            "Requirement already satisfied: packaging in /usr/local/lib/python3.7/dist-packages (from transformers) (20.9)\n",
            "Requirement already satisfied: regex!=2019.12.17 in /usr/local/lib/python3.7/dist-packages (from transformers) (2019.12.20)\n",
            "Requirement already satisfied: sacremoses in /usr/local/lib/python3.7/dist-packages (from transformers) (0.0.45)\n",
            "Requirement already satisfied: tokenizers<0.11,>=0.10.1 in /usr/local/lib/python3.7/dist-packages (from transformers) (0.10.3)\n",
            "Requirement already satisfied: idna<3,>=2.5 in /usr/local/lib/python3.7/dist-packages (from requests->transformers) (2.10)\n",
            "Requirement already satisfied: urllib3!=1.25.0,!=1.25.1,<1.26,>=1.21.1 in /usr/local/lib/python3.7/dist-packages (from requests->transformers) (1.24.3)\n",
            "Requirement already satisfied: certifi>=2017.4.17 in /usr/local/lib/python3.7/dist-packages (from requests->transformers) (2020.12.5)\n",
            "Requirement already satisfied: chardet<4,>=3.0.2 in /usr/local/lib/python3.7/dist-packages (from requests->transformers) (3.0.4)\n",
            "Requirement already satisfied: typing-extensions>=3.6.4; python_version < \"3.8\" in /usr/local/lib/python3.7/dist-packages (from importlib-metadata; python_version < \"3.8\"->transformers) (3.7.4.3)\n",
            "Requirement already satisfied: zipp>=0.5 in /usr/local/lib/python3.7/dist-packages (from importlib-metadata; python_version < \"3.8\"->transformers) (3.4.1)\n",
            "Requirement already satisfied: pyparsing>=2.0.2 in /usr/local/lib/python3.7/dist-packages (from packaging->transformers) (2.4.7)\n",
            "Requirement already satisfied: joblib in /usr/local/lib/python3.7/dist-packages (from sacremoses->transformers) (1.0.1)\n",
            "Requirement already satisfied: six in /usr/local/lib/python3.7/dist-packages (from sacremoses->transformers) (1.15.0)\n",
            "Requirement already satisfied: click in /usr/local/lib/python3.7/dist-packages (from sacremoses->transformers) (7.1.2)\n"
          ],
          "name": "stdout"
        }
      ]
    },
    {
      "cell_type": "code",
      "metadata": {
        "colab": {
          "base_uri": "https://localhost:8080/",
          "height": 165,
          "referenced_widgets": [
            "564f59b86a2c4397857f7d3953b7e271",
            "016af4990fe543a6aad551aee84bb41c",
            "fcfbbae8804e40968fe3ad2c99e3705e",
            "2183ea9f8ec54c368314abcfc185097b",
            "0d7ad79d47034a1ca8cf92e9d6af8b60",
            "0b9ffadd46d14e78921944832397a809",
            "b17f84b93c5745cdb5b6ba8fb295a215",
            "c153ef25b2904e1e9678b7b21d65f4b5",
            "9cb3b141f9d54a61babec08b488449d9",
            "895ed621ae634c6d8288e471dda247d3",
            "4b6f8cf8fc5a4bd0ae64bc939eaa5a89",
            "19cb1fecd3d74799b7d94192b141727f",
            "5c762655e76240cca2f7506a74596dac",
            "ec729de3afda4c6789ebd0114ef45da8",
            "62815593d79c45db967dffe0744cfc3e",
            "1a2308cea7494d88beef09d9fc5224f4",
            "691a9f7d057748179ea6c0f74470f5be",
            "835d376cf1dc4e089b7942ad0d35e809",
            "1cdaa8bf02fe4dc0a09f6ff0d2b8d712",
            "b311e12dce7b4e9bb311bef4450afc7a",
            "ff34c6826afc4787ae03340c9f3d9355",
            "ec961b07d16e42bfa1edb0d3e0422b35",
            "054c221d4725483099894d5ef5b06b5f",
            "ad8c5cc3fb4d46259d8322ebd3614c3a"
          ]
        },
        "id": "GSzeXGhHrBz5",
        "outputId": "dc53fef9-1e02-4968-8230-d766c8b47678"
      },
      "source": [
        "from transformers import BertTokenizer\n",
        "tokenizer = BertTokenizer.from_pretrained('bert-base-cased', do_lower_case=False)"
      ],
      "execution_count": 37,
      "outputs": [
        {
          "output_type": "display_data",
          "data": {
            "application/vnd.jupyter.widget-view+json": {
              "model_id": "564f59b86a2c4397857f7d3953b7e271",
              "version_minor": 0,
              "version_major": 2
            },
            "text/plain": [
              "HBox(children=(FloatProgress(value=0.0, description='Downloading', max=213450.0, style=ProgressStyle(descripti…"
            ]
          },
          "metadata": {
            "tags": []
          }
        },
        {
          "output_type": "stream",
          "text": [
            "\n"
          ],
          "name": "stdout"
        },
        {
          "output_type": "display_data",
          "data": {
            "application/vnd.jupyter.widget-view+json": {
              "model_id": "9cb3b141f9d54a61babec08b488449d9",
              "version_minor": 0,
              "version_major": 2
            },
            "text/plain": [
              "HBox(children=(FloatProgress(value=0.0, description='Downloading', max=29.0, style=ProgressStyle(description_w…"
            ]
          },
          "metadata": {
            "tags": []
          }
        },
        {
          "output_type": "stream",
          "text": [
            "\n"
          ],
          "name": "stdout"
        },
        {
          "output_type": "display_data",
          "data": {
            "application/vnd.jupyter.widget-view+json": {
              "model_id": "691a9f7d057748179ea6c0f74470f5be",
              "version_minor": 0,
              "version_major": 2
            },
            "text/plain": [
              "HBox(children=(FloatProgress(value=0.0, description='Downloading', max=435797.0, style=ProgressStyle(descripti…"
            ]
          },
          "metadata": {
            "tags": []
          }
        },
        {
          "output_type": "stream",
          "text": [
            "\n"
          ],
          "name": "stdout"
        }
      ]
    },
    {
      "cell_type": "markdown",
      "metadata": {
        "id": "Zd9yJce1s-Pb"
      },
      "source": [
        "## TextDataset"
      ]
    },
    {
      "cell_type": "code",
      "metadata": {
        "id": "RDj8xCpWtAIb"
      },
      "source": [
        "class TextLabelDataset (Dataset):\n",
        "    def __init__(self, text, labels, tokenizer, max_len):\n",
        "        self.tokenizer = tokenizer\n",
        "        self.text = text\n",
        "        self.labels = labels\n",
        "        self.max_len = max_len\n",
        "        \n",
        "    def __len__(self):\n",
        "        return len(self.text)\n",
        "    \n",
        "    def __getitem__(self, item_idx):\n",
        "        text = self.text[item_idx]\n",
        "        inputs = self.tokenizer.encode_plus(\n",
        "            text,\n",
        "            None,\n",
        "            add_special_tokens=True,\n",
        "            max_length= self.max_len,\n",
        "            padding = 'max_length',\n",
        "            return_token_type_ids= False,\n",
        "            return_attention_mask= True,\n",
        "            truncation=True,\n",
        "            return_tensors = 'pt'\n",
        "          )\n",
        "        \n",
        "        input_ids = inputs['input_ids'].flatten()\n",
        "        attn_mask = inputs['attention_mask'].flatten()\n",
        "               \n",
        "        return {\n",
        "          'input_ids': input_ids ,\n",
        "          'attention_mask': attn_mask,\n",
        "          'label_ids':torch.tensor(self.labels[item_idx],dtype= torch.float)\n",
        "        }"
      ],
      "execution_count": 38,
      "outputs": []
    },
    {
      "cell_type": "code",
      "metadata": {
        "colab": {
          "base_uri": "https://localhost:8080/"
        },
        "id": "8gWAr-Ndzvvd",
        "outputId": "1b3f80fb-9b4d-4b6e-d4f2-fed426aa3cc1"
      },
      "source": [
        "all_text = train_text + test_text\n",
        "all_text_lengths = map(lambda x: len(tokenizer.tokenize(x)), all_text)\n",
        "MAX_LEN = max(all_text_lengths) + 2\n",
        "print(MAX_LEN)"
      ],
      "execution_count": 39,
      "outputs": [
        {
          "output_type": "stream",
          "text": [
            "110\n"
          ],
          "name": "stdout"
        }
      ]
    },
    {
      "cell_type": "code",
      "metadata": {
        "id": "5FmAeTiPx2jj"
      },
      "source": [
        "train_dataset = TextLabelDataset(train_text, train_labels, tokenizer, MAX_LEN)\n",
        "test_dataset = TextLabelDataset(test_text, test_labels, tokenizer, MAX_LEN)"
      ],
      "execution_count": 40,
      "outputs": []
    },
    {
      "cell_type": "markdown",
      "metadata": {
        "id": "UwH569MgmCg_"
      },
      "source": [
        "## BERT Model"
      ]
    },
    {
      "cell_type": "code",
      "metadata": {
        "id": "9SSkpo3il2Fo"
      },
      "source": [
        "import torch.nn as nn\n",
        "import torch.nn.functional as F\n",
        "from transformers import BertModel\n",
        "\n",
        "class MyBertModel(nn.Module):\n",
        "    def __init__(self, num_classes, device='cpu', finetuning=False):\n",
        "        super().__init__()\n",
        "        self.bert = BertModel.from_pretrained('bert-base-cased', \n",
        "                                              return_dict=True)\n",
        "\n",
        "        self.fc = nn.Linear(self.bert.config.hidden_size, num_classes)\n",
        "        self.sig = nn.Sigmoid()\n",
        "\n",
        "        self.device = device\n",
        "        self.finetuning = finetuning\n",
        "\n",
        "    def forward(self, x, attn):\n",
        "        '''\n",
        "        x: (N, T). int64\n",
        "        Returns\n",
        "        enc: (N, T, num_classes)\n",
        "        '''\n",
        "        x = x.to(self.device)\n",
        "        # feed input tokens through BERT\n",
        "        if self.training and self.finetuning:\n",
        "            self.bert.train()\n",
        "\n",
        "            outputs = self.bert(input_ids=x,attention_mask=attn)\n",
        "        else:\n",
        "            self.bert.eval()\n",
        "            with torch.no_grad():\n",
        "              outputs = self.bert(x)\n",
        "        logits = self.fc(outputs.pooler_output)\n",
        "\n",
        "        return self.sig(logits)\n",
        "    \n",
        "    def to_labels(self, result, threshold=0.5):\n",
        "        to_return = torch.empty_like(result)\n",
        "        for i in range(result.shape[0]):\n",
        "            for j in range(result.shape[1]):\n",
        "                if result[i][j] > threshold:\n",
        "                    to_return[i][j] = 1\n",
        "                else:\n",
        "                    to_return[i][j] = 0\n",
        "        return to_return\n"
      ],
      "execution_count": 41,
      "outputs": []
    },
    {
      "cell_type": "markdown",
      "metadata": {
        "id": "rGBEt5PjmFfd"
      },
      "source": [
        "## Train function"
      ]
    },
    {
      "cell_type": "code",
      "metadata": {
        "colab": {
          "base_uri": "https://localhost:8080/"
        },
        "id": "0vAVZb2F7_Yj",
        "outputId": "0021310c-2739-4052-b45d-d55b6de71923"
      },
      "source": [
        "!pip install sklearn_crfsuite\n",
        "import sklearn_crfsuite\n",
        "import sklearn_crfsuite.metrics"
      ],
      "execution_count": 42,
      "outputs": [
        {
          "output_type": "stream",
          "text": [
            "Collecting sklearn_crfsuite\n",
            "  Downloading https://files.pythonhosted.org/packages/25/74/5b7befa513482e6dee1f3dd68171a6c9dfc14c0eaa00f885ffeba54fe9b0/sklearn_crfsuite-0.3.6-py2.py3-none-any.whl\n",
            "Collecting python-crfsuite>=0.8.3\n",
            "\u001b[?25l  Downloading https://files.pythonhosted.org/packages/79/47/58f16c46506139f17de4630dbcfb877ce41a6355a1bbf3c443edb9708429/python_crfsuite-0.9.7-cp37-cp37m-manylinux1_x86_64.whl (743kB)\n",
            "\u001b[K     |████████████████████████████████| 747kB 11.2MB/s \n",
            "\u001b[?25hRequirement already satisfied: tqdm>=2.0 in /usr/local/lib/python3.7/dist-packages (from sklearn_crfsuite) (4.41.1)\n",
            "Requirement already satisfied: tabulate in /usr/local/lib/python3.7/dist-packages (from sklearn_crfsuite) (0.8.9)\n",
            "Requirement already satisfied: six in /usr/local/lib/python3.7/dist-packages (from sklearn_crfsuite) (1.15.0)\n",
            "Installing collected packages: python-crfsuite, sklearn-crfsuite\n",
            "Successfully installed python-crfsuite-0.9.7 sklearn-crfsuite-0.3.6\n"
          ],
          "name": "stdout"
        }
      ]
    },
    {
      "cell_type": "code",
      "metadata": {
        "id": "jXK4N3hamHav"
      },
      "source": [
        "def train(model, num_epochs, train_iter, dev_iter):\n",
        "  criterion = nn.BCELoss()\n",
        "  optimizer = torch.optim.Adam(model.parameters(), lr=0.0001)\n",
        "\n",
        "  for epoch in range(1, num_epochs+1):\n",
        "    print(\"Epoch %d\" % epoch)\n",
        "    \n",
        "    for i, batch in enumerate(train_iter):\n",
        "        model.train()\n",
        "        x = batch[\"input_ids\"]\n",
        "        y = batch[\"label_ids\"]\n",
        "        attn = batch[\"attention_mask\"]\n",
        "\n",
        "        #print(x.shape)\n",
        "        #print(y.shape)\n",
        "\n",
        "        optimizer.zero_grad()\n",
        "        x = x.to(device)\n",
        "        attn = attn.to(device)\n",
        "        logits = model(x, attn) # logits: (N, T, TAGS), y: (N, T)\n",
        "        #print(logits[0])\n",
        "\n",
        "        logits = logits.view(-1, logits.shape[-1]) # (N*T, TAGS)\n",
        "        y = y.to(device)\n",
        "        #y = y.view(-1)  # (N*T,)\n",
        "        #logits = logits.view(-1)\n",
        "        #print(logits.shape)\n",
        "        #print(y.shape)\n",
        "\n",
        "        loss = criterion(logits, y)\n",
        "        loss.backward()\n",
        "\n",
        "        optimizer.step()\n",
        "\n",
        "\n",
        "        if i % 10 == 0: # monitoring\n",
        "            print(f\"step: {i}, loss: {loss.item()}\")\n",
        "\n",
        "        if i % 100 == 0: # let's evaluate more frequently than every epoch\n",
        "            evaluate(\"test set\", dev_iter, model)"
      ],
      "execution_count": 43,
      "outputs": []
    },
    {
      "cell_type": "markdown",
      "metadata": {
        "id": "JmkTDgVcGfdQ"
      },
      "source": [
        "## Evaluate function"
      ]
    },
    {
      "cell_type": "code",
      "metadata": {
        "id": "RSBatQWrGiet"
      },
      "source": [
        "from sklearn.metrics import classification_report\n",
        "\n",
        "def evaluate(dataset_name, data_iter, model, full_report=False, threshold=0.5):\n",
        "  \n",
        "  model.eval()\n",
        "  not_started = True\n",
        "  with torch.no_grad():\n",
        "    for batch in data_iter:\n",
        "      x = batch[\"input_ids\"]\n",
        "      y = batch[\"label_ids\"]\n",
        "      attn = batch[\"attention_mask\"]\n",
        "      x = x.to(device)\n",
        "      y = y.to(device)\n",
        "\n",
        "      logits = model(x, attn)\n",
        "      y_pred = logits\n",
        "\n",
        "      if not_started:\n",
        "        y_seq = y\n",
        "        y_pred_seq = logits\n",
        "        not_started = False\n",
        "      else:\n",
        "        #print(y_seq.shape)\n",
        "        #print(y_pred_seq.shape)\n",
        "        y_seq = torch.cat((y_seq,y), dim=0)\n",
        "        y_pred_seq = torch.cat((y_pred_seq, y_pred), dim=0)\n",
        "  \n",
        "  y_pred_seq = model.to_labels(y_pred_seq, threshold)\n",
        "  y_seq = y_seq.cpu()\n",
        "  y_pred_seq = y_pred_seq.cpu()\n",
        "  accuracy = sklearn_crfsuite.metrics.flat_accuracy_score(y_seq, y_pred_seq)\n",
        "\n",
        "  f1 = f1_score(y_seq, y_pred_seq, average='micro')\n",
        "  \n",
        "  print('  Evaluation on {} -  acc: {:.4f}%'.format(dataset_name, accuracy))\n",
        "  print('     F1: {}'.format(f1))\n",
        "  if full_report:\n",
        "    print(classification_report(y_seq, y_pred_seq, target_names=list(TAGS)))\n",
        "  return f1"
      ],
      "execution_count": 44,
      "outputs": []
    },
    {
      "cell_type": "markdown",
      "metadata": {
        "id": "POWaEnWjnRf_"
      },
      "source": [
        "## Model call"
      ]
    },
    {
      "cell_type": "code",
      "metadata": {
        "colab": {
          "base_uri": "https://localhost:8080/",
          "height": 0,
          "referenced_widgets": [
            "cd74e81523d34500bac207b1177516d3",
            "d72762ab2d0142c48f5b56c5b073f4d4",
            "c44f7129071a48119287c7d71b878907",
            "b3153e4f114d4c4193e452aa3d6d43a3",
            "4b50243cd7db45d4b3baf4258f257993",
            "6a399d87ddd44e8aafdef2087cd765be",
            "9355296092c94f729a16a3083da32382",
            "88a9ab8f30ef4bf4b29f942b845bde6a",
            "868fd48b5aa744168677e766103814b8",
            "3ead2e80daa8406a9e81eaba206cc708",
            "7b698af6e0324e118858f2e15fde7424",
            "967f99af49b84e16b09bef96c38a3d08",
            "a84a282aeb8b45a58f3bdd2b6cb2df33",
            "67454c76fae44f3b9342cf738d013cd1",
            "7667b86e27a34732ad5a417406476c42",
            "3d9f74aed7bb4c73b2b29f2873199bd3"
          ]
        },
        "id": "rO7Dvj2fnTtz",
        "outputId": "bdff18c0-f34f-4541-8738-d52377dc5320"
      },
      "source": [
        "model = MyBertModel(n_labels, device, True).to(device)"
      ],
      "execution_count": 45,
      "outputs": [
        {
          "output_type": "display_data",
          "data": {
            "application/vnd.jupyter.widget-view+json": {
              "model_id": "cd74e81523d34500bac207b1177516d3",
              "version_minor": 0,
              "version_major": 2
            },
            "text/plain": [
              "HBox(children=(FloatProgress(value=0.0, description='Downloading', max=570.0, style=ProgressStyle(description_…"
            ]
          },
          "metadata": {
            "tags": []
          }
        },
        {
          "output_type": "stream",
          "text": [
            "\n"
          ],
          "name": "stdout"
        },
        {
          "output_type": "display_data",
          "data": {
            "application/vnd.jupyter.widget-view+json": {
              "model_id": "868fd48b5aa744168677e766103814b8",
              "version_minor": 0,
              "version_major": 2
            },
            "text/plain": [
              "HBox(children=(FloatProgress(value=0.0, description='Downloading', max=435779157.0, style=ProgressStyle(descri…"
            ]
          },
          "metadata": {
            "tags": []
          }
        },
        {
          "output_type": "stream",
          "text": [
            "\n"
          ],
          "name": "stdout"
        },
        {
          "output_type": "stream",
          "text": [
            "Some weights of the model checkpoint at bert-base-cased were not used when initializing BertModel: ['cls.predictions.transform.dense.bias', 'cls.seq_relationship.bias', 'cls.predictions.transform.LayerNorm.bias', 'cls.predictions.decoder.weight', 'cls.predictions.transform.LayerNorm.weight', 'cls.predictions.bias', 'cls.seq_relationship.weight', 'cls.predictions.transform.dense.weight']\n",
            "- This IS expected if you are initializing BertModel from the checkpoint of a model trained on another task or with another architecture (e.g. initializing a BertForSequenceClassification model from a BertForPreTraining model).\n",
            "- This IS NOT expected if you are initializing BertModel from the checkpoint of a model that you expect to be exactly identical (initializing a BertForSequenceClassification model from a BertForSequenceClassification model).\n"
          ],
          "name": "stderr"
        }
      ]
    },
    {
      "cell_type": "markdown",
      "metadata": {
        "id": "2VUny0KGpQUw"
      },
      "source": [
        "## Batching"
      ]
    },
    {
      "cell_type": "code",
      "metadata": {
        "id": "LpUaWt0MpSf5"
      },
      "source": [
        "# we use a small batch size, as BERT needs a lot of memory\n",
        "batch_size = 16\n",
        "\n",
        "train_iter = DataLoader(dataset=train_dataset,\n",
        "                                 batch_size=batch_size,\n",
        "                                 shuffle=True,\n",
        "                                 num_workers=2)\n",
        "dev_iter = DataLoader(dataset=test_dataset,\n",
        "                                 batch_size=batch_size,\n",
        "                                 shuffle=False,\n",
        "                                 num_workers=2)"
      ],
      "execution_count": 46,
      "outputs": []
    },
    {
      "cell_type": "markdown",
      "metadata": {
        "id": "c7Dx82CJpZi9"
      },
      "source": [
        "## Training"
      ]
    },
    {
      "cell_type": "code",
      "metadata": {
        "colab": {
          "base_uri": "https://localhost:8080/"
        },
        "id": "ezDsKWt1pb51",
        "outputId": "ef268af3-06ac-4d57-fff5-680eb7a4e843"
      },
      "source": [
        "train(model, 10, train_iter, dev_iter)"
      ],
      "execution_count": 47,
      "outputs": [
        {
          "output_type": "stream",
          "text": [
            "Epoch 1\n",
            "step: 0, loss: 0.6937462687492371\n",
            "  Evaluation on test set -  acc: 0.6285%\n",
            "     F1: 0.16648230088495575\n",
            "step: 10, loss: 0.33852773904800415\n",
            "step: 20, loss: 0.20726749300956726\n",
            "step: 30, loss: 0.2630786895751953\n",
            "step: 40, loss: 0.2466280460357666\n",
            "step: 50, loss: 0.17340826988220215\n",
            "step: 60, loss: 0.22024181485176086\n",
            "step: 70, loss: 0.170180082321167\n",
            "step: 80, loss: 0.15837208926677704\n",
            "step: 90, loss: 0.184199720621109\n",
            "step: 100, loss: 0.1626483052968979\n",
            "  Evaluation on test set -  acc: 0.9342%\n",
            "     F1: 0.4894837476099427\n",
            "step: 110, loss: 0.13868534564971924\n",
            "step: 120, loss: 0.19705533981323242\n",
            "Epoch 2\n",
            "step: 0, loss: 0.13195767998695374\n",
            "  Evaluation on test set -  acc: 0.9371%\n",
            "     F1: 0.5405405405405406\n",
            "step: 10, loss: 0.150522381067276\n",
            "step: 20, loss: 0.17694076895713806\n",
            "step: 30, loss: 0.1207612007856369\n",
            "step: 40, loss: 0.21289023756980896\n",
            "step: 50, loss: 0.1391446441411972\n",
            "step: 60, loss: 0.22509539127349854\n",
            "step: 70, loss: 0.16501355171203613\n",
            "step: 80, loss: 0.1056254506111145\n",
            "step: 90, loss: 0.1158704161643982\n",
            "step: 100, loss: 0.1800537109375\n",
            "  Evaluation on test set -  acc: 0.9443%\n",
            "     F1: 0.6325203252032521\n",
            "step: 110, loss: 0.14549660682678223\n",
            "step: 120, loss: 0.16519421339035034\n",
            "Epoch 3\n",
            "step: 0, loss: 0.08130766451358795\n",
            "  Evaluation on test set -  acc: 0.9375%\n",
            "     F1: 0.6150341685649203\n",
            "step: 10, loss: 0.040708914399147034\n",
            "step: 20, loss: 0.09207459539175034\n",
            "step: 30, loss: 0.1314171850681305\n",
            "step: 40, loss: 0.06069157272577286\n",
            "step: 50, loss: 0.08796253055334091\n",
            "step: 60, loss: 0.1283070147037506\n",
            "step: 70, loss: 0.11566700041294098\n",
            "step: 80, loss: 0.1182306706905365\n",
            "step: 90, loss: 0.1651112139225006\n",
            "step: 100, loss: 0.09468158334493637\n",
            "  Evaluation on test set -  acc: 0.9421%\n",
            "     F1: 0.6428571428571428\n",
            "step: 110, loss: 0.08747141808271408\n",
            "step: 120, loss: 0.07236948609352112\n",
            "Epoch 4\n",
            "step: 0, loss: 0.06971518695354462\n",
            "  Evaluation on test set -  acc: 0.9439%\n",
            "     F1: 0.6470131885182312\n",
            "step: 10, loss: 0.06628462672233582\n",
            "step: 20, loss: 0.057081423699855804\n",
            "step: 30, loss: 0.08576500415802002\n",
            "step: 40, loss: 0.0610666498541832\n",
            "step: 50, loss: 0.06108752638101578\n",
            "step: 60, loss: 0.07448764145374298\n",
            "step: 70, loss: 0.07403013855218887\n",
            "step: 80, loss: 0.04006819427013397\n",
            "step: 90, loss: 0.0769939050078392\n",
            "step: 100, loss: 0.04909297078847885\n",
            "  Evaluation on test set -  acc: 0.9449%\n",
            "     F1: 0.6595582635186595\n",
            "step: 110, loss: 0.04002852365374565\n",
            "step: 120, loss: 0.03878456726670265\n",
            "Epoch 5\n",
            "step: 0, loss: 0.0666305348277092\n",
            "  Evaluation on test set -  acc: 0.9418%\n",
            "     F1: 0.6559766763848396\n",
            "step: 10, loss: 0.06384045630693436\n",
            "step: 20, loss: 0.032267067581415176\n",
            "step: 30, loss: 0.029143985360860825\n",
            "step: 40, loss: 0.055694952607154846\n",
            "step: 50, loss: 0.05328448861837387\n",
            "step: 60, loss: 0.04937584325671196\n",
            "step: 70, loss: 0.012745112180709839\n",
            "step: 80, loss: 0.059766825288534164\n",
            "step: 90, loss: 0.060265615582466125\n",
            "step: 100, loss: 0.05929708480834961\n",
            "  Evaluation on test set -  acc: 0.9472%\n",
            "     F1: 0.7202614379084967\n",
            "step: 110, loss: 0.07749554514884949\n",
            "step: 120, loss: 0.05623789131641388\n",
            "Epoch 6\n",
            "step: 0, loss: 0.028973331674933434\n",
            "  Evaluation on test set -  acc: 0.9429%\n",
            "     F1: 0.7108057464084948\n",
            "step: 10, loss: 0.060183048248291016\n",
            "step: 20, loss: 0.012772468850016594\n",
            "step: 30, loss: 0.012709476053714752\n",
            "step: 40, loss: 0.06307312101125717\n",
            "step: 50, loss: 0.04865721985697746\n",
            "step: 60, loss: 0.056924186646938324\n",
            "step: 70, loss: 0.04763017222285271\n",
            "step: 80, loss: 0.05584511160850525\n",
            "step: 90, loss: 0.03441750258207321\n",
            "step: 100, loss: 0.06458606570959091\n",
            "  Evaluation on test set -  acc: 0.9199%\n",
            "     F1: 0.622969837587007\n",
            "step: 110, loss: 0.04190105199813843\n",
            "step: 120, loss: 0.025486145168542862\n",
            "Epoch 7\n",
            "step: 0, loss: 0.01712943986058235\n",
            "  Evaluation on test set -  acc: 0.9426%\n",
            "     F1: 0.6205211726384365\n",
            "step: 10, loss: 0.03561655804514885\n",
            "step: 20, loss: 0.03373952582478523\n",
            "step: 30, loss: 0.021558968350291252\n",
            "step: 40, loss: 0.011864162981510162\n",
            "step: 50, loss: 0.02065223455429077\n",
            "step: 60, loss: 0.02515316754579544\n",
            "step: 70, loss: 0.03971189633011818\n",
            "step: 80, loss: 0.023433867841959\n",
            "step: 90, loss: 0.017041057348251343\n",
            "step: 100, loss: 0.032095767557621\n",
            "  Evaluation on test set -  acc: 0.9196%\n",
            "     F1: 0.615112160566706\n",
            "step: 110, loss: 0.00834823027253151\n",
            "step: 120, loss: 0.019696246832609177\n",
            "Epoch 8\n",
            "step: 0, loss: 0.00968073308467865\n",
            "  Evaluation on test set -  acc: 0.9370%\n",
            "     F1: 0.5598621877691645\n",
            "step: 10, loss: 0.0263015478849411\n",
            "step: 20, loss: 0.01938427984714508\n",
            "step: 30, loss: 0.017344657331705093\n",
            "step: 40, loss: 0.05383739620447159\n",
            "step: 50, loss: 0.01750921458005905\n",
            "step: 60, loss: 0.014422512613236904\n",
            "step: 70, loss: 0.01118419598788023\n",
            "step: 80, loss: 0.023801416158676147\n",
            "step: 90, loss: 0.0424976721405983\n",
            "step: 100, loss: 0.010583361610770226\n",
            "  Evaluation on test set -  acc: 0.8948%\n",
            "     F1: 0.5315760571114772\n",
            "step: 110, loss: 0.012717505916953087\n",
            "step: 120, loss: 0.01643860898911953\n",
            "Epoch 9\n",
            "step: 0, loss: 0.03155849128961563\n",
            "  Evaluation on test set -  acc: 0.8966%\n",
            "     F1: 0.5704045058883769\n",
            "step: 10, loss: 0.02616051398217678\n",
            "step: 20, loss: 0.010494536720216274\n",
            "step: 30, loss: 0.015084639191627502\n",
            "step: 40, loss: 0.005664381198585033\n",
            "step: 50, loss: 0.015583964996039867\n",
            "step: 60, loss: 0.010661009699106216\n",
            "step: 70, loss: 0.016853418201208115\n",
            "step: 80, loss: 0.015464065596461296\n",
            "step: 90, loss: 0.019965065643191338\n",
            "step: 100, loss: 0.025060255080461502\n",
            "  Evaluation on test set -  acc: 0.8994%\n",
            "     F1: 0.5631691648822269\n",
            "step: 110, loss: 0.006381460931152105\n",
            "step: 120, loss: 0.026112377643585205\n",
            "Epoch 10\n",
            "step: 0, loss: 0.015207587741315365\n",
            "  Evaluation on test set -  acc: 0.9136%\n",
            "     F1: 0.6154690071311025\n",
            "step: 10, loss: 0.07277916371822357\n",
            "step: 20, loss: 0.006654204800724983\n",
            "step: 30, loss: 0.01766549050807953\n",
            "step: 40, loss: 0.06096789240837097\n",
            "step: 50, loss: 0.022013328969478607\n",
            "step: 60, loss: 0.012914888560771942\n",
            "step: 70, loss: 0.0351816862821579\n",
            "step: 80, loss: 0.029718002304434776\n",
            "step: 90, loss: 0.008499749936163425\n",
            "step: 100, loss: 0.03320440277457237\n",
            "  Evaluation on test set -  acc: 0.9257%\n",
            "     F1: 0.6395696353855349\n",
            "step: 110, loss: 0.013177510350942612\n",
            "step: 120, loss: 0.01305121835321188\n"
          ],
          "name": "stdout"
        }
      ]
    },
    {
      "cell_type": "markdown",
      "metadata": {
        "id": "QdkY_C2txEoD"
      },
      "source": [
        "## Evaluation"
      ]
    },
    {
      "cell_type": "code",
      "metadata": {
        "id": "sXZGF1ZmxERw",
        "colab": {
          "base_uri": "https://localhost:8080/"
        },
        "outputId": "0af99412-7ca0-460b-94e4-9dfacd33a9bd"
      },
      "source": [
        "evaluate(\"dev\", dev_iter, model, full_report=True)"
      ],
      "execution_count": 48,
      "outputs": [
        {
          "output_type": "stream",
          "text": [
            "  Evaluation on dev -  acc: 0.9354%\n",
            "     F1: 0.6850961538461539\n",
            "                          precision    recall  f1-score   support\n",
            "\n",
            "        AMBIENCE#GENERAL       0.54      0.86      0.67        57\n",
            "           DRINKS#PRICES       0.00      0.00      0.00         3\n",
            "          DRINKS#QUALITY       0.60      0.71      0.65        21\n",
            "    DRINKS#STYLE_OPTIONS       0.80      0.33      0.47        12\n",
            "             FOOD#PRICES       0.67      0.55      0.60        22\n",
            "            FOOD#QUALITY       0.67      0.96      0.79       226\n",
            "      FOOD#STYLE_OPTIONS       0.67      0.38      0.48        48\n",
            "        LOCATION#GENERAL       0.82      0.69      0.75        13\n",
            "      RESTAURANT#GENERAL       0.48      0.80      0.60       142\n",
            "RESTAURANT#MISCELLANEOUS       1.00      0.06      0.11        33\n",
            "       RESTAURANT#PRICES       0.57      0.38      0.46        21\n",
            "         SERVICE#GENERAL       0.72      0.86      0.78       145\n",
            "\n",
            "               micro avg       0.62      0.77      0.69       743\n",
            "               macro avg       0.63      0.55      0.53       743\n",
            "            weighted avg       0.65      0.77      0.66       743\n",
            "             samples avg       0.63      0.68      0.64       743\n",
            "\n"
          ],
          "name": "stdout"
        },
        {
          "output_type": "stream",
          "text": [
            "/usr/local/lib/python3.7/dist-packages/sklearn/metrics/_classification.py:1272: UndefinedMetricWarning: Precision and F-score are ill-defined and being set to 0.0 in samples with no predicted labels. Use `zero_division` parameter to control this behavior.\n",
            "  _warn_prf(average, modifier, msg_start, len(result))\n",
            "/usr/local/lib/python3.7/dist-packages/sklearn/metrics/_classification.py:1272: UndefinedMetricWarning: Recall and F-score are ill-defined and being set to 0.0 in samples with no true labels. Use `zero_division` parameter to control this behavior.\n",
            "  _warn_prf(average, modifier, msg_start, len(result))\n"
          ],
          "name": "stderr"
        }
      ]
    },
    {
      "cell_type": "markdown",
      "metadata": {
        "id": "NpnRhPPVFDN1"
      },
      "source": [
        "# Iterative search"
      ]
    },
    {
      "cell_type": "markdown",
      "metadata": {
        "id": "SBpIYV8MFGT8"
      },
      "source": [
        "## Model call"
      ]
    },
    {
      "cell_type": "code",
      "metadata": {
        "colab": {
          "base_uri": "https://localhost:8080/"
        },
        "id": "0cutBDGwFIkE",
        "outputId": "9c9fecde-304d-4c97-cd9c-2be64701b045"
      },
      "source": [
        "model2 = MyBertModel(n_labels, device, True).to(device)"
      ],
      "execution_count": 49,
      "outputs": [
        {
          "output_type": "stream",
          "text": [
            "Some weights of the model checkpoint at bert-base-cased were not used when initializing BertModel: ['cls.predictions.transform.dense.bias', 'cls.seq_relationship.bias', 'cls.predictions.transform.LayerNorm.bias', 'cls.predictions.decoder.weight', 'cls.predictions.transform.LayerNorm.weight', 'cls.predictions.bias', 'cls.seq_relationship.weight', 'cls.predictions.transform.dense.weight']\n",
            "- This IS expected if you are initializing BertModel from the checkpoint of a model trained on another task or with another architecture (e.g. initializing a BertForSequenceClassification model from a BertForPreTraining model).\n",
            "- This IS NOT expected if you are initializing BertModel from the checkpoint of a model that you expect to be exactly identical (initializing a BertForSequenceClassification model from a BertForSequenceClassification model).\n"
          ],
          "name": "stderr"
        }
      ]
    },
    {
      "cell_type": "markdown",
      "metadata": {
        "id": "wUHLNSrSFnzt"
      },
      "source": [
        "## Train function"
      ]
    },
    {
      "cell_type": "code",
      "metadata": {
        "id": "OHdwEdLMFnLD"
      },
      "source": [
        "def train(model, num_epochs, train_iter, dev_iter, threshold,\n",
        "          learning_rate=0.0001):\n",
        "  criterion = nn.BCELoss()\n",
        "  optimizer = torch.optim.Adam(model.parameters(), lr=learning_rate)\n",
        "\n",
        "  for epoch in range(1, num_epochs+1):\n",
        "    print(\"Epoch %d\" % epoch)\n",
        "    \n",
        "    for i, batch in enumerate(train_iter):\n",
        "        model.train()\n",
        "        x = batch[\"input_ids\"]\n",
        "        y = batch[\"label_ids\"]\n",
        "        attn = batch[\"attention_mask\"]\n",
        "\n",
        "        optimizer.zero_grad()\n",
        "        x = x.to(device)\n",
        "        attn = attn.to(device)\n",
        "        logits = model(x, attn) \n",
        "\n",
        "        logits = logits.view(-1, logits.shape[-1]) # (N*T, TAGS)\n",
        "        y = y.to(device)\n",
        "\n",
        "        loss = criterion(logits, y)\n",
        "        loss.backward()\n",
        "\n",
        "        optimizer.step()\n",
        "\n",
        "    return evaluate(\"test set\", dev_iter, model)"
      ],
      "execution_count": 50,
      "outputs": []
    },
    {
      "cell_type": "markdown",
      "metadata": {
        "id": "R7DvuE4DGwt1"
      },
      "source": [
        "## Iterative learning rate"
      ]
    },
    {
      "cell_type": "code",
      "metadata": {
        "colab": {
          "base_uri": "https://localhost:8080/"
        },
        "id": "rzHVHgFyGwYd",
        "outputId": "191055b6-28b9-44fc-dddc-29ba80fab0aa"
      },
      "source": [
        "lrs = [0.00006, 0.00007, 0.00008, 0.00009,  0.0001, 0.00011, 0.00015] # already from 0.005 F1 gets 0 all the time\n",
        "thrs = [0.3, 0.35, 0.4, 0.45, 0.5, 0.55 0.6, 0.65, 0.7]\n",
        "results = []\n",
        "i, j = 0, 0\n",
        "for lr in lrs:\n",
        "    for th in thrs:\n",
        "        model2 = MyBertModel(n_labels, device, True).to(device)\n",
        "        print(('***********\\n' + \\\n",
        "              'Current iteration:\\n' + \\\n",
        "              '\\tLearning rate:\\t{}\\n'+ \\\n",
        "              '\\tThreshold:\\t{}\\n'+ \\\n",
        "              '***********').format(lr, th))\n",
        "        results[i][j] = train(model2, 5, train_iter, dev_iter, th, learning_rate=lr)\n",
        "        j += 1\n",
        "    i += 1"
      ],
      "execution_count": 54,
      "outputs": [
        {
          "output_type": "stream",
          "text": [
            "Some weights of the model checkpoint at bert-base-cased were not used when initializing BertModel: ['cls.predictions.decoder.weight', 'cls.predictions.transform.LayerNorm.bias', 'cls.predictions.transform.dense.weight', 'cls.seq_relationship.weight', 'cls.predictions.bias', 'cls.seq_relationship.bias', 'cls.predictions.transform.dense.bias', 'cls.predictions.transform.LayerNorm.weight']\n",
            "- This IS expected if you are initializing BertModel from the checkpoint of a model trained on another task or with another architecture (e.g. initializing a BertForSequenceClassification model from a BertForPreTraining model).\n",
            "- This IS NOT expected if you are initializing BertModel from the checkpoint of a model that you expect to be exactly identical (initializing a BertForSequenceClassification model from a BertForSequenceClassification model).\n"
          ],
          "name": "stderr"
        },
        {
          "output_type": "stream",
          "text": [
            "***********\n",
            "Current iteration:\n",
            "\tLearning rate:\t8e-05\n",
            "\tThreshold:\t0.3\n",
            "***********\n",
            "Epoch 1\n",
            "  Evaluation on test set -  acc: 0.9257%\n",
            "     F1: 0.3523093447905478\n",
            "Epoch 2\n",
            "  Evaluation on test set -  acc: 0.9463%\n",
            "     F1: 0.669195751138088\n",
            "Epoch 3\n",
            "  Evaluation on test set -  acc: 0.9502%\n",
            "     F1: 0.6980568011958147\n",
            "Epoch 4\n",
            "  Evaluation on test set -  acc: 0.9405%\n",
            "     F1: 0.6139088729016786\n",
            "Epoch 5\n",
            "  Evaluation on test set -  acc: 0.9100%\n",
            "     F1: 0.546583850931677\n"
          ],
          "name": "stdout"
        },
        {
          "output_type": "stream",
          "text": [
            "Some weights of the model checkpoint at bert-base-cased were not used when initializing BertModel: ['cls.predictions.decoder.weight', 'cls.predictions.transform.LayerNorm.bias', 'cls.predictions.transform.dense.weight', 'cls.seq_relationship.weight', 'cls.predictions.bias', 'cls.seq_relationship.bias', 'cls.predictions.transform.dense.bias', 'cls.predictions.transform.LayerNorm.weight']\n",
            "- This IS expected if you are initializing BertModel from the checkpoint of a model trained on another task or with another architecture (e.g. initializing a BertForSequenceClassification model from a BertForPreTraining model).\n",
            "- This IS NOT expected if you are initializing BertModel from the checkpoint of a model that you expect to be exactly identical (initializing a BertForSequenceClassification model from a BertForSequenceClassification model).\n"
          ],
          "name": "stderr"
        },
        {
          "output_type": "stream",
          "text": [
            "***********\n",
            "Current iteration:\n",
            "\tLearning rate:\t8e-05\n",
            "\tThreshold:\t0.4\n",
            "***********\n",
            "Epoch 1\n",
            "  Evaluation on test set -  acc: 0.9271%\n",
            "     F1: 0.3679144385026738\n",
            "Epoch 2\n",
            "  Evaluation on test set -  acc: 0.9241%\n",
            "     F1: 0.3404710920770878\n",
            "Epoch 3\n",
            "  Evaluation on test set -  acc: 0.9418%\n",
            "     F1: 0.6418816388467375\n",
            "Epoch 4\n",
            "  Evaluation on test set -  acc: 0.9075%\n",
            "     F1: 0.5404411764705882\n",
            "Epoch 5\n",
            "  Evaluation on test set -  acc: 0.9099%\n",
            "     F1: 0.5625374027528427\n"
          ],
          "name": "stdout"
        },
        {
          "output_type": "stream",
          "text": [
            "Some weights of the model checkpoint at bert-base-cased were not used when initializing BertModel: ['cls.predictions.decoder.weight', 'cls.predictions.transform.LayerNorm.bias', 'cls.predictions.transform.dense.weight', 'cls.seq_relationship.weight', 'cls.predictions.bias', 'cls.seq_relationship.bias', 'cls.predictions.transform.dense.bias', 'cls.predictions.transform.LayerNorm.weight']\n",
            "- This IS expected if you are initializing BertModel from the checkpoint of a model trained on another task or with another architecture (e.g. initializing a BertForSequenceClassification model from a BertForPreTraining model).\n",
            "- This IS NOT expected if you are initializing BertModel from the checkpoint of a model that you expect to be exactly identical (initializing a BertForSequenceClassification model from a BertForSequenceClassification model).\n"
          ],
          "name": "stderr"
        },
        {
          "output_type": "stream",
          "text": [
            "***********\n",
            "Current iteration:\n",
            "\tLearning rate:\t8e-05\n",
            "\tThreshold:\t0.5\n",
            "***********\n",
            "Epoch 1\n",
            "  Evaluation on test set -  acc: 0.9347%\n",
            "     F1: 0.5207956600361664\n",
            "Epoch 2\n",
            "  Evaluation on test set -  acc: 0.9332%\n",
            "     F1: 0.47480620155038755\n",
            "Epoch 3\n",
            "  Evaluation on test set -  acc: 0.9339%\n",
            "     F1: 0.4765625\n",
            "Epoch 4\n",
            "  Evaluation on test set -  acc: 0.9487%\n",
            "     F1: 0.6963503649635037\n",
            "Epoch 5\n",
            "  Evaluation on test set -  acc: 0.9273%\n",
            "     F1: 0.6173800259403371\n"
          ],
          "name": "stdout"
        },
        {
          "output_type": "stream",
          "text": [
            "Some weights of the model checkpoint at bert-base-cased were not used when initializing BertModel: ['cls.predictions.decoder.weight', 'cls.predictions.transform.LayerNorm.bias', 'cls.predictions.transform.dense.weight', 'cls.seq_relationship.weight', 'cls.predictions.bias', 'cls.seq_relationship.bias', 'cls.predictions.transform.dense.bias', 'cls.predictions.transform.LayerNorm.weight']\n",
            "- This IS expected if you are initializing BertModel from the checkpoint of a model trained on another task or with another architecture (e.g. initializing a BertForSequenceClassification model from a BertForPreTraining model).\n",
            "- This IS NOT expected if you are initializing BertModel from the checkpoint of a model that you expect to be exactly identical (initializing a BertForSequenceClassification model from a BertForSequenceClassification model).\n"
          ],
          "name": "stderr"
        },
        {
          "output_type": "stream",
          "text": [
            "***********\n",
            "Current iteration:\n",
            "\tLearning rate:\t8e-05\n",
            "\tThreshold:\t0.6\n",
            "***********\n",
            "Epoch 1\n",
            "  Evaluation on test set -  acc: 0.9257%\n",
            "     F1: 0.33953997809419495\n",
            "Epoch 2\n",
            "  Evaluation on test set -  acc: 0.9279%\n",
            "     F1: 0.3835616438356165\n",
            "Epoch 3\n",
            "  Evaluation on test set -  acc: 0.9432%\n",
            "     F1: 0.6520754716981132\n",
            "Epoch 4\n",
            "  Evaluation on test set -  acc: 0.9286%\n",
            "     F1: 0.4073694984646878\n",
            "Epoch 5\n",
            "  Evaluation on test set -  acc: 0.9322%\n",
            "     F1: 0.46808510638297873\n"
          ],
          "name": "stdout"
        },
        {
          "output_type": "stream",
          "text": [
            "Some weights of the model checkpoint at bert-base-cased were not used when initializing BertModel: ['cls.predictions.decoder.weight', 'cls.predictions.transform.LayerNorm.bias', 'cls.predictions.transform.dense.weight', 'cls.seq_relationship.weight', 'cls.predictions.bias', 'cls.seq_relationship.bias', 'cls.predictions.transform.dense.bias', 'cls.predictions.transform.LayerNorm.weight']\n",
            "- This IS expected if you are initializing BertModel from the checkpoint of a model trained on another task or with another architecture (e.g. initializing a BertForSequenceClassification model from a BertForPreTraining model).\n",
            "- This IS NOT expected if you are initializing BertModel from the checkpoint of a model that you expect to be exactly identical (initializing a BertForSequenceClassification model from a BertForSequenceClassification model).\n"
          ],
          "name": "stderr"
        },
        {
          "output_type": "stream",
          "text": [
            "***********\n",
            "Current iteration:\n",
            "\tLearning rate:\t0.0001\n",
            "\tThreshold:\t0.3\n",
            "***********\n",
            "Epoch 1\n",
            "  Evaluation on test set -  acc: 0.9395%\n",
            "     F1: 0.5524156791248861\n",
            "Epoch 2\n",
            "  Evaluation on test set -  acc: 0.9357%\n",
            "     F1: 0.5019083969465649\n",
            "Epoch 3\n",
            "  Evaluation on test set -  acc: 0.9413%\n",
            "     F1: 0.5979729729729729\n",
            "Epoch 4\n",
            "  Evaluation on test set -  acc: 0.9465%\n",
            "     F1: 0.6692073170731708\n",
            "Epoch 5\n",
            "  Evaluation on test set -  acc: 0.9451%\n",
            "     F1: 0.6605644546147978\n"
          ],
          "name": "stdout"
        },
        {
          "output_type": "stream",
          "text": [
            "Some weights of the model checkpoint at bert-base-cased were not used when initializing BertModel: ['cls.predictions.decoder.weight', 'cls.predictions.transform.LayerNorm.bias', 'cls.predictions.transform.dense.weight', 'cls.seq_relationship.weight', 'cls.predictions.bias', 'cls.seq_relationship.bias', 'cls.predictions.transform.dense.bias', 'cls.predictions.transform.LayerNorm.weight']\n",
            "- This IS expected if you are initializing BertModel from the checkpoint of a model trained on another task or with another architecture (e.g. initializing a BertForSequenceClassification model from a BertForPreTraining model).\n",
            "- This IS NOT expected if you are initializing BertModel from the checkpoint of a model that you expect to be exactly identical (initializing a BertForSequenceClassification model from a BertForSequenceClassification model).\n"
          ],
          "name": "stderr"
        },
        {
          "output_type": "stream",
          "text": [
            "***********\n",
            "Current iteration:\n",
            "\tLearning rate:\t0.0001\n",
            "\tThreshold:\t0.4\n",
            "***********\n",
            "Epoch 1\n",
            "  Evaluation on test set -  acc: 0.9329%\n",
            "     F1: 0.4738878143133462\n",
            "Epoch 2\n",
            "  Evaluation on test set -  acc: 0.9413%\n",
            "     F1: 0.5853658536585366\n",
            "Epoch 3\n",
            "  Evaluation on test set -  acc: 0.9398%\n",
            "     F1: 0.5734265734265735\n",
            "Epoch 4\n",
            "  Evaluation on test set -  acc: 0.9480%\n",
            "     F1: 0.6618589743589743\n",
            "Epoch 5\n",
            "  Evaluation on test set -  acc: 0.9234%\n",
            "     F1: 0.6072106261859582\n"
          ],
          "name": "stdout"
        },
        {
          "output_type": "stream",
          "text": [
            "Some weights of the model checkpoint at bert-base-cased were not used when initializing BertModel: ['cls.predictions.decoder.weight', 'cls.predictions.transform.LayerNorm.bias', 'cls.predictions.transform.dense.weight', 'cls.seq_relationship.weight', 'cls.predictions.bias', 'cls.seq_relationship.bias', 'cls.predictions.transform.dense.bias', 'cls.predictions.transform.LayerNorm.weight']\n",
            "- This IS expected if you are initializing BertModel from the checkpoint of a model trained on another task or with another architecture (e.g. initializing a BertForSequenceClassification model from a BertForPreTraining model).\n",
            "- This IS NOT expected if you are initializing BertModel from the checkpoint of a model that you expect to be exactly identical (initializing a BertForSequenceClassification model from a BertForSequenceClassification model).\n"
          ],
          "name": "stderr"
        },
        {
          "output_type": "stream",
          "text": [
            "***********\n",
            "Current iteration:\n",
            "\tLearning rate:\t0.0001\n",
            "\tThreshold:\t0.5\n",
            "***********\n",
            "Epoch 1\n",
            "  Evaluation on test set -  acc: 0.9249%\n",
            "     F1: 0.46904969485614645\n",
            "Epoch 2\n",
            "  Evaluation on test set -  acc: 0.9417%\n",
            "     F1: 0.6301798279906178\n",
            "Epoch 3\n",
            "  Evaluation on test set -  acc: 0.9421%\n",
            "     F1: 0.5825932504440497\n",
            "Epoch 4\n",
            "  Evaluation on test set -  acc: 0.9424%\n",
            "     F1: 0.5977605512489234\n",
            "Epoch 5\n",
            "  Evaluation on test set -  acc: 0.9384%\n",
            "     F1: 0.6723460026212319\n"
          ],
          "name": "stdout"
        },
        {
          "output_type": "stream",
          "text": [
            "Some weights of the model checkpoint at bert-base-cased were not used when initializing BertModel: ['cls.predictions.decoder.weight', 'cls.predictions.transform.LayerNorm.bias', 'cls.predictions.transform.dense.weight', 'cls.seq_relationship.weight', 'cls.predictions.bias', 'cls.seq_relationship.bias', 'cls.predictions.transform.dense.bias', 'cls.predictions.transform.LayerNorm.weight']\n",
            "- This IS expected if you are initializing BertModel from the checkpoint of a model trained on another task or with another architecture (e.g. initializing a BertForSequenceClassification model from a BertForPreTraining model).\n",
            "- This IS NOT expected if you are initializing BertModel from the checkpoint of a model that you expect to be exactly identical (initializing a BertForSequenceClassification model from a BertForSequenceClassification model).\n"
          ],
          "name": "stderr"
        },
        {
          "output_type": "stream",
          "text": [
            "***********\n",
            "Current iteration:\n",
            "\tLearning rate:\t0.0001\n",
            "\tThreshold:\t0.6\n",
            "***********\n",
            "Epoch 1\n",
            "  Evaluation on test set -  acc: 0.9334%\n",
            "     F1: 0.47162426614481406\n",
            "Epoch 2\n",
            "  Evaluation on test set -  acc: 0.9324%\n",
            "     F1: 0.49353049907578556\n",
            "Epoch 3\n",
            "  Evaluation on test set -  acc: 0.9307%\n",
            "     F1: 0.4218106995884774\n",
            "Epoch 4\n",
            "  Evaluation on test set -  acc: 0.9328%\n",
            "     F1: 0.46932814021421626\n",
            "Epoch 5\n",
            "  Evaluation on test set -  acc: 0.9323%\n",
            "     F1: 0.44489383215369066\n"
          ],
          "name": "stdout"
        },
        {
          "output_type": "stream",
          "text": [
            "Some weights of the model checkpoint at bert-base-cased were not used when initializing BertModel: ['cls.predictions.decoder.weight', 'cls.predictions.transform.LayerNorm.bias', 'cls.predictions.transform.dense.weight', 'cls.seq_relationship.weight', 'cls.predictions.bias', 'cls.seq_relationship.bias', 'cls.predictions.transform.dense.bias', 'cls.predictions.transform.LayerNorm.weight']\n",
            "- This IS expected if you are initializing BertModel from the checkpoint of a model trained on another task or with another architecture (e.g. initializing a BertForSequenceClassification model from a BertForPreTraining model).\n",
            "- This IS NOT expected if you are initializing BertModel from the checkpoint of a model that you expect to be exactly identical (initializing a BertForSequenceClassification model from a BertForSequenceClassification model).\n"
          ],
          "name": "stderr"
        },
        {
          "output_type": "stream",
          "text": [
            "***********\n",
            "Current iteration:\n",
            "\tLearning rate:\t0.00015\n",
            "\tThreshold:\t0.3\n",
            "***********\n",
            "Epoch 1\n",
            "  Evaluation on test set -  acc: 0.9243%\n",
            "     F1: 0.3311546840958605\n",
            "Epoch 2\n",
            "  Evaluation on test set -  acc: 0.9331%\n",
            "     F1: 0.4872521246458924\n",
            "Epoch 3\n",
            "  Evaluation on test set -  acc: 0.9019%\n",
            "     F1: 0.48177083333333337\n",
            "Epoch 4\n",
            "  Evaluation on test set -  acc: 0.9348%\n",
            "     F1: 0.5653245686113394\n",
            "Epoch 5\n",
            "  Evaluation on test set -  acc: 0.8739%\n",
            "     F1: 0.35862068965517235\n"
          ],
          "name": "stdout"
        },
        {
          "output_type": "stream",
          "text": [
            "Some weights of the model checkpoint at bert-base-cased were not used when initializing BertModel: ['cls.predictions.decoder.weight', 'cls.predictions.transform.LayerNorm.bias', 'cls.predictions.transform.dense.weight', 'cls.seq_relationship.weight', 'cls.predictions.bias', 'cls.seq_relationship.bias', 'cls.predictions.transform.dense.bias', 'cls.predictions.transform.LayerNorm.weight']\n",
            "- This IS expected if you are initializing BertModel from the checkpoint of a model trained on another task or with another architecture (e.g. initializing a BertForSequenceClassification model from a BertForPreTraining model).\n",
            "- This IS NOT expected if you are initializing BertModel from the checkpoint of a model that you expect to be exactly identical (initializing a BertForSequenceClassification model from a BertForSequenceClassification model).\n"
          ],
          "name": "stderr"
        },
        {
          "output_type": "stream",
          "text": [
            "***********\n",
            "Current iteration:\n",
            "\tLearning rate:\t0.00015\n",
            "\tThreshold:\t0.4\n",
            "***********\n",
            "Epoch 1\n",
            "  Evaluation on test set -  acc: 0.9080%\n",
            "     F1: 0.48622589531680444\n",
            "Epoch 2\n",
            "  Evaluation on test set -  acc: 0.9316%\n",
            "     F1: 0.5378850957535387\n",
            "Epoch 3\n",
            "  Evaluation on test set -  acc: 0.9343%\n",
            "     F1: 0.600749063670412\n",
            "Epoch 4\n",
            "  Evaluation on test set -  acc: 0.9164%\n",
            "     F1: 0.45498392282958194\n",
            "Epoch 5\n",
            "  Evaluation on test set -  acc: 0.8979%\n",
            "     F1: 0.45382585751978893\n"
          ],
          "name": "stdout"
        },
        {
          "output_type": "stream",
          "text": [
            "Some weights of the model checkpoint at bert-base-cased were not used when initializing BertModel: ['cls.predictions.decoder.weight', 'cls.predictions.transform.LayerNorm.bias', 'cls.predictions.transform.dense.weight', 'cls.seq_relationship.weight', 'cls.predictions.bias', 'cls.seq_relationship.bias', 'cls.predictions.transform.dense.bias', 'cls.predictions.transform.LayerNorm.weight']\n",
            "- This IS expected if you are initializing BertModel from the checkpoint of a model trained on another task or with another architecture (e.g. initializing a BertForSequenceClassification model from a BertForPreTraining model).\n",
            "- This IS NOT expected if you are initializing BertModel from the checkpoint of a model that you expect to be exactly identical (initializing a BertForSequenceClassification model from a BertForSequenceClassification model).\n"
          ],
          "name": "stderr"
        },
        {
          "output_type": "stream",
          "text": [
            "***********\n",
            "Current iteration:\n",
            "\tLearning rate:\t0.00015\n",
            "\tThreshold:\t0.5\n",
            "***********\n",
            "Epoch 1\n",
            "  Evaluation on test set -  acc: 0.9248%\n",
            "     F1: 0.36983471074380164\n",
            "Epoch 2\n",
            "  Evaluation on test set -  acc: 0.9305%\n",
            "     F1: 0.42914979757085026\n",
            "Epoch 3\n",
            "  Evaluation on test set -  acc: 0.9375%\n",
            "     F1: 0.5361390667886551\n",
            "Epoch 4\n",
            "  Evaluation on test set -  acc: 0.9347%\n",
            "     F1: 0.5173041894353371\n",
            "Epoch 5\n",
            "  Evaluation on test set -  acc: 0.9205%\n",
            "     F1: 0.580896686159844\n"
          ],
          "name": "stdout"
        },
        {
          "output_type": "stream",
          "text": [
            "Some weights of the model checkpoint at bert-base-cased were not used when initializing BertModel: ['cls.predictions.decoder.weight', 'cls.predictions.transform.LayerNorm.bias', 'cls.predictions.transform.dense.weight', 'cls.seq_relationship.weight', 'cls.predictions.bias', 'cls.seq_relationship.bias', 'cls.predictions.transform.dense.bias', 'cls.predictions.transform.LayerNorm.weight']\n",
            "- This IS expected if you are initializing BertModel from the checkpoint of a model trained on another task or with another architecture (e.g. initializing a BertForSequenceClassification model from a BertForPreTraining model).\n",
            "- This IS NOT expected if you are initializing BertModel from the checkpoint of a model that you expect to be exactly identical (initializing a BertForSequenceClassification model from a BertForSequenceClassification model).\n"
          ],
          "name": "stderr"
        },
        {
          "output_type": "stream",
          "text": [
            "***********\n",
            "Current iteration:\n",
            "\tLearning rate:\t0.00015\n",
            "\tThreshold:\t0.6\n",
            "***********\n",
            "Epoch 1\n",
            "  Evaluation on test set -  acc: 0.9214%\n",
            "     F1: 0.3829787234042554\n",
            "Epoch 2\n",
            "  Evaluation on test set -  acc: 0.9305%\n",
            "     F1: 0.49097472924187724\n",
            "Epoch 3\n",
            "  Evaluation on test set -  acc: 0.8706%\n",
            "     F1: 0.37500000000000006\n",
            "Epoch 4\n",
            "  Evaluation on test set -  acc: 0.9432%\n",
            "     F1: 0.6378633150039277\n",
            "Epoch 5\n",
            "  Evaluation on test set -  acc: 0.8708%\n",
            "     F1: 0.40250855188141393\n"
          ],
          "name": "stdout"
        }
      ]
    },
    {
      "cell_type": "markdown",
      "metadata": {
        "id": "05j4m9Hr0u7l"
      },
      "source": [
        "## Training with found parameters"
      ]
    },
    {
      "cell_type": "code",
      "metadata": {
        "colab": {
          "base_uri": "https://localhost:8080/"
        },
        "id": "UJQ_ChD505F3",
        "outputId": "3ff95e5b-b829-443c-d6a7-8b037c821856"
      },
      "source": [
        "model3 = MyBertModel(n_labels, device, True).to(device)\n",
        "train(model3, 15, train_iter, dev_iter, 0.6, learning_rate=0.0001)"
      ],
      "execution_count": 51,
      "outputs": [
        {
          "output_type": "stream",
          "text": [
            "Some weights of the model checkpoint at bert-base-cased were not used when initializing BertModel: ['cls.predictions.transform.dense.bias', 'cls.seq_relationship.bias', 'cls.predictions.transform.LayerNorm.bias', 'cls.predictions.decoder.weight', 'cls.predictions.transform.LayerNorm.weight', 'cls.predictions.bias', 'cls.seq_relationship.weight', 'cls.predictions.transform.dense.weight']\n",
            "- This IS expected if you are initializing BertModel from the checkpoint of a model trained on another task or with another architecture (e.g. initializing a BertForSequenceClassification model from a BertForPreTraining model).\n",
            "- This IS NOT expected if you are initializing BertModel from the checkpoint of a model that you expect to be exactly identical (initializing a BertForSequenceClassification model from a BertForSequenceClassification model).\n"
          ],
          "name": "stderr"
        },
        {
          "output_type": "stream",
          "text": [
            "Epoch 1\n",
            "  Evaluation on test set -  acc: 0.9258%\n",
            "     F1: 0.3967935871743487\n",
            "Epoch 2\n",
            "  Evaluation on test set -  acc: 0.9289%\n",
            "     F1: 0.4045407636738906\n",
            "Epoch 3\n",
            "  Evaluation on test set -  acc: 0.9385%\n",
            "     F1: 0.5774767146486028\n",
            "Epoch 4\n",
            "  Evaluation on test set -  acc: 0.9380%\n",
            "     F1: 0.5927125506072873\n",
            "Epoch 5\n",
            "  Evaluation on test set -  acc: 0.9290%\n",
            "     F1: 0.5891583452211127\n",
            "Epoch 6\n",
            "  Evaluation on test set -  acc: 0.9305%\n",
            "     F1: 0.646173149309912\n",
            "Epoch 7\n",
            "  Evaluation on test set -  acc: 0.9426%\n",
            "     F1: 0.6573529411764706\n",
            "Epoch 8\n",
            "  Evaluation on test set -  acc: 0.9305%\n",
            "     F1: 0.6777142857142857\n",
            "Epoch 9\n",
            "  Evaluation on test set -  acc: 0.9046%\n",
            "     F1: 0.5852090032154341\n",
            "Epoch 10\n",
            "  Evaluation on test set -  acc: 0.9464%\n",
            "     F1: 0.6808510638297873\n",
            "Epoch 11\n",
            "  Evaluation on test set -  acc: 0.9170%\n",
            "     F1: 0.596764529658478\n",
            "Epoch 12\n",
            "  Evaluation on test set -  acc: 0.8847%\n",
            "     F1: 0.5502645502645502\n",
            "Epoch 13\n",
            "  Evaluation on test set -  acc: 0.8013%\n",
            "     F1: 0.3998510796723753\n",
            "Epoch 14\n",
            "  Evaluation on test set -  acc: 0.9428%\n",
            "     F1: 0.7052096569250318\n",
            "Epoch 15\n",
            "  Evaluation on test set -  acc: 0.8845%\n",
            "     F1: 0.5298544907175113\n"
          ],
          "name": "stdout"
        }
      ]
    },
    {
      "cell_type": "code",
      "metadata": {
        "colab": {
          "base_uri": "https://localhost:8080/"
        },
        "id": "6I3nTxsiGvB9",
        "outputId": "9ee75263-7050-4221-b254-bf0de606186d"
      },
      "source": [
        "evaluate(\"dev\", dev_iter, model3, full_report=True)"
      ],
      "execution_count": 52,
      "outputs": [
        {
          "output_type": "stream",
          "text": [
            "  Evaluation on dev -  acc: 0.8845%\n",
            "     F1: 0.5298544907175113\n",
            "                          precision    recall  f1-score   support\n",
            "\n",
            "        AMBIENCE#GENERAL       0.77      0.72      0.75        57\n",
            "           DRINKS#PRICES       0.50      0.33      0.40         3\n",
            "          DRINKS#QUALITY       0.67      0.10      0.17        21\n",
            "    DRINKS#STYLE_OPTIONS       0.32      0.67      0.43        12\n",
            "             FOOD#PRICES       0.46      0.95      0.62        22\n",
            "            FOOD#QUALITY       0.78      0.78      0.78       226\n",
            "      FOOD#STYLE_OPTIONS       0.61      0.35      0.45        48\n",
            "        LOCATION#GENERAL       0.03      0.69      0.06        13\n",
            "      RESTAURANT#GENERAL       0.32      0.94      0.48       142\n",
            "RESTAURANT#MISCELLANEOUS       0.36      0.12      0.18        33\n",
            "       RESTAURANT#PRICES       0.34      0.48      0.40        21\n",
            "         SERVICE#GENERAL       0.93      0.72      0.81       145\n",
            "\n",
            "               micro avg       0.42      0.71      0.53       743\n",
            "               macro avg       0.51      0.57      0.46       743\n",
            "            weighted avg       0.64      0.71      0.62       743\n",
            "             samples avg       0.45      0.62      0.50       743\n",
            "\n"
          ],
          "name": "stdout"
        },
        {
          "output_type": "stream",
          "text": [
            "/usr/local/lib/python3.7/dist-packages/sklearn/metrics/_classification.py:1272: UndefinedMetricWarning: Precision and F-score are ill-defined and being set to 0.0 in samples with no predicted labels. Use `zero_division` parameter to control this behavior.\n",
            "  _warn_prf(average, modifier, msg_start, len(result))\n",
            "/usr/local/lib/python3.7/dist-packages/sklearn/metrics/_classification.py:1272: UndefinedMetricWarning: Recall and F-score are ill-defined and being set to 0.0 in samples with no true labels. Use `zero_division` parameter to control this behavior.\n",
            "  _warn_prf(average, modifier, msg_start, len(result))\n"
          ],
          "name": "stderr"
        }
      ]
    },
    {
      "cell_type": "markdown",
      "metadata": {
        "id": "yjvf6t71uhy1"
      },
      "source": [
        "# Predictor"
      ]
    },
    {
      "cell_type": "code",
      "metadata": {
        "id": "xcnUEYmKuj3Y"
      },
      "source": [
        "def return_true(x, y):\n",
        "  if x:\n",
        "    return y\n",
        "  else:\n",
        "    return ''\n",
        "\n",
        "  \n",
        "def predictor(model, text, threshold=0.6):\n",
        "    model.eval()\n",
        "    inputs = tokenizer.encode_plus(\n",
        "        text,\n",
        "        None,\n",
        "        add_special_tokens=True,\n",
        "        max_length= MAX_LEN,\n",
        "        padding = 'max_length',\n",
        "        return_token_type_ids= False,\n",
        "        return_attention_mask= True,\n",
        "        truncation=True,\n",
        "        return_tensors = 'pt'\n",
        "      )\n",
        "    \n",
        "    input_ids = inputs['input_ids'].flatten()\n",
        "    attn_mask = inputs['attention_mask'].flatten()\n",
        "\n",
        "    output = model(input_ids, attn_mask)\n",
        "    labels = model.to_labels(output, threshold)\n",
        "    return list(map(lambda x, y: y if x else '', labels, TAGS))"
      ],
      "execution_count": 56,
      "outputs": []
    },
    {
      "cell_type": "markdown",
      "metadata": {
        "id": "f7DGfHcxvYC1"
      },
      "source": [
        "Some examples:\n",
        "\n",
        "*   \"I was very disappointed with this restaurant.\" -> RESTAURANT#GENERAL\n",
        "*   \"I’ve asked a cart attendant for a lotus leaf wrapped rice and she replied back rice and just walked away.\" -> SERVICE#GENERAL\n",
        "*   \"Chow fun was dry; pork shu mai was more than usually greasy and had to share a table with loud and rude family.\" -> FOOD#QUALITY, AMBIENCE#GENERAL"
      ]
    },
    {
      "cell_type": "code",
      "metadata": {
        "id": "82lrEIZ02JBU"
      },
      "source": [
        "test1 = \"I was very disappointed with this restaurant.\"\n",
        "test2 = \"I’ve asked a cart attendant for a lotus leaf wrapped rice and she replied back rice and just walked away.\"\n",
        "test3 = \"Chow fun was dry; pork shu mai was more than usually greasy and had to share a table with loud and rude family.\"\n",
        "\n",
        "print(predictor(model3, test1)) # RESTAURANT#GENERAL\n",
        "print(predictor(model3, test2)) # SERVICE#GENERAL\n",
        "print(predictor(model3, test3)) # FOOD#QUALITY, AMBIENCE#GENERAL"
      ],
      "execution_count": null,
      "outputs": []
    }
  ]
}