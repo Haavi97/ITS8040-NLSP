{
  "nbformat": 4,
  "nbformat_minor": 0,
  "metadata": {
    "colab": {
      "name": "Default_independent_project_2021.ipynb",
      "provenance": [],
      "collapsed_sections": [
        "PCWWRqDhq_sb",
        "UwH569MgmCg_",
        "POWaEnWjnRf_",
        "2VUny0KGpQUw",
        "QdkY_C2txEoD"
      ],
      "include_colab_link": true
    },
    "kernelspec": {
      "name": "python3",
      "display_name": "Python 3"
    },
    "accelerator": "GPU",
    "widgets": {
      "application/vnd.jupyter.widget-state+json": {
        "29cf10ae394f403897e6de0a4e202af5": {
          "model_module": "@jupyter-widgets/controls",
          "model_name": "HBoxModel",
          "state": {
            "_view_name": "HBoxView",
            "_dom_classes": [],
            "_model_name": "HBoxModel",
            "_view_module": "@jupyter-widgets/controls",
            "_model_module_version": "1.5.0",
            "_view_count": null,
            "_view_module_version": "1.5.0",
            "box_style": "",
            "layout": "IPY_MODEL_ebd351dd90e84031901b4a12f654020f",
            "_model_module": "@jupyter-widgets/controls",
            "children": [
              "IPY_MODEL_a56b0f73c629491388b7c078d96fd29f",
              "IPY_MODEL_c0935987060142df87e342762fa739dc"
            ]
          }
        },
        "ebd351dd90e84031901b4a12f654020f": {
          "model_module": "@jupyter-widgets/base",
          "model_name": "LayoutModel",
          "state": {
            "_view_name": "LayoutView",
            "grid_template_rows": null,
            "right": null,
            "justify_content": null,
            "_view_module": "@jupyter-widgets/base",
            "overflow": null,
            "_model_module_version": "1.2.0",
            "_view_count": null,
            "flex_flow": null,
            "width": null,
            "min_width": null,
            "border": null,
            "align_items": null,
            "bottom": null,
            "_model_module": "@jupyter-widgets/base",
            "top": null,
            "grid_column": null,
            "overflow_y": null,
            "overflow_x": null,
            "grid_auto_flow": null,
            "grid_area": null,
            "grid_template_columns": null,
            "flex": null,
            "_model_name": "LayoutModel",
            "justify_items": null,
            "grid_row": null,
            "max_height": null,
            "align_content": null,
            "visibility": null,
            "align_self": null,
            "height": null,
            "min_height": null,
            "padding": null,
            "grid_auto_rows": null,
            "grid_gap": null,
            "max_width": null,
            "order": null,
            "_view_module_version": "1.2.0",
            "grid_template_areas": null,
            "object_position": null,
            "object_fit": null,
            "grid_auto_columns": null,
            "margin": null,
            "display": null,
            "left": null
          }
        },
        "a56b0f73c629491388b7c078d96fd29f": {
          "model_module": "@jupyter-widgets/controls",
          "model_name": "FloatProgressModel",
          "state": {
            "_view_name": "ProgressView",
            "style": "IPY_MODEL_78de4807f5ce41f7a2eeabff6a24eb72",
            "_dom_classes": [],
            "description": "Downloading: 100%",
            "_model_name": "FloatProgressModel",
            "bar_style": "success",
            "max": 213450,
            "_view_module": "@jupyter-widgets/controls",
            "_model_module_version": "1.5.0",
            "value": 213450,
            "_view_count": null,
            "_view_module_version": "1.5.0",
            "orientation": "horizontal",
            "min": 0,
            "description_tooltip": null,
            "_model_module": "@jupyter-widgets/controls",
            "layout": "IPY_MODEL_93252dad22d14933a2861484b85cfd46"
          }
        },
        "c0935987060142df87e342762fa739dc": {
          "model_module": "@jupyter-widgets/controls",
          "model_name": "HTMLModel",
          "state": {
            "_view_name": "HTMLView",
            "style": "IPY_MODEL_ba31d9a46be8400a945e385c53e36c31",
            "_dom_classes": [],
            "description": "",
            "_model_name": "HTMLModel",
            "placeholder": "​",
            "_view_module": "@jupyter-widgets/controls",
            "_model_module_version": "1.5.0",
            "value": " 213k/213k [00:02&lt;00:00, 96.9kB/s]",
            "_view_count": null,
            "_view_module_version": "1.5.0",
            "description_tooltip": null,
            "_model_module": "@jupyter-widgets/controls",
            "layout": "IPY_MODEL_8da21352a1c34490a397e9e3e061ec5f"
          }
        },
        "78de4807f5ce41f7a2eeabff6a24eb72": {
          "model_module": "@jupyter-widgets/controls",
          "model_name": "ProgressStyleModel",
          "state": {
            "_view_name": "StyleView",
            "_model_name": "ProgressStyleModel",
            "description_width": "initial",
            "_view_module": "@jupyter-widgets/base",
            "_model_module_version": "1.5.0",
            "_view_count": null,
            "_view_module_version": "1.2.0",
            "bar_color": null,
            "_model_module": "@jupyter-widgets/controls"
          }
        },
        "93252dad22d14933a2861484b85cfd46": {
          "model_module": "@jupyter-widgets/base",
          "model_name": "LayoutModel",
          "state": {
            "_view_name": "LayoutView",
            "grid_template_rows": null,
            "right": null,
            "justify_content": null,
            "_view_module": "@jupyter-widgets/base",
            "overflow": null,
            "_model_module_version": "1.2.0",
            "_view_count": null,
            "flex_flow": null,
            "width": null,
            "min_width": null,
            "border": null,
            "align_items": null,
            "bottom": null,
            "_model_module": "@jupyter-widgets/base",
            "top": null,
            "grid_column": null,
            "overflow_y": null,
            "overflow_x": null,
            "grid_auto_flow": null,
            "grid_area": null,
            "grid_template_columns": null,
            "flex": null,
            "_model_name": "LayoutModel",
            "justify_items": null,
            "grid_row": null,
            "max_height": null,
            "align_content": null,
            "visibility": null,
            "align_self": null,
            "height": null,
            "min_height": null,
            "padding": null,
            "grid_auto_rows": null,
            "grid_gap": null,
            "max_width": null,
            "order": null,
            "_view_module_version": "1.2.0",
            "grid_template_areas": null,
            "object_position": null,
            "object_fit": null,
            "grid_auto_columns": null,
            "margin": null,
            "display": null,
            "left": null
          }
        },
        "ba31d9a46be8400a945e385c53e36c31": {
          "model_module": "@jupyter-widgets/controls",
          "model_name": "DescriptionStyleModel",
          "state": {
            "_view_name": "StyleView",
            "_model_name": "DescriptionStyleModel",
            "description_width": "",
            "_view_module": "@jupyter-widgets/base",
            "_model_module_version": "1.5.0",
            "_view_count": null,
            "_view_module_version": "1.2.0",
            "_model_module": "@jupyter-widgets/controls"
          }
        },
        "8da21352a1c34490a397e9e3e061ec5f": {
          "model_module": "@jupyter-widgets/base",
          "model_name": "LayoutModel",
          "state": {
            "_view_name": "LayoutView",
            "grid_template_rows": null,
            "right": null,
            "justify_content": null,
            "_view_module": "@jupyter-widgets/base",
            "overflow": null,
            "_model_module_version": "1.2.0",
            "_view_count": null,
            "flex_flow": null,
            "width": null,
            "min_width": null,
            "border": null,
            "align_items": null,
            "bottom": null,
            "_model_module": "@jupyter-widgets/base",
            "top": null,
            "grid_column": null,
            "overflow_y": null,
            "overflow_x": null,
            "grid_auto_flow": null,
            "grid_area": null,
            "grid_template_columns": null,
            "flex": null,
            "_model_name": "LayoutModel",
            "justify_items": null,
            "grid_row": null,
            "max_height": null,
            "align_content": null,
            "visibility": null,
            "align_self": null,
            "height": null,
            "min_height": null,
            "padding": null,
            "grid_auto_rows": null,
            "grid_gap": null,
            "max_width": null,
            "order": null,
            "_view_module_version": "1.2.0",
            "grid_template_areas": null,
            "object_position": null,
            "object_fit": null,
            "grid_auto_columns": null,
            "margin": null,
            "display": null,
            "left": null
          }
        },
        "58b757da1d4840508b148754d5239133": {
          "model_module": "@jupyter-widgets/controls",
          "model_name": "HBoxModel",
          "state": {
            "_view_name": "HBoxView",
            "_dom_classes": [],
            "_model_name": "HBoxModel",
            "_view_module": "@jupyter-widgets/controls",
            "_model_module_version": "1.5.0",
            "_view_count": null,
            "_view_module_version": "1.5.0",
            "box_style": "",
            "layout": "IPY_MODEL_066cf5aae9124cafb4c5cf3ea5cb71df",
            "_model_module": "@jupyter-widgets/controls",
            "children": [
              "IPY_MODEL_1bbc145b3f9f442c8b1e7acf6aa862e7",
              "IPY_MODEL_89e20a289e444bca91f0439a86abebc6"
            ]
          }
        },
        "066cf5aae9124cafb4c5cf3ea5cb71df": {
          "model_module": "@jupyter-widgets/base",
          "model_name": "LayoutModel",
          "state": {
            "_view_name": "LayoutView",
            "grid_template_rows": null,
            "right": null,
            "justify_content": null,
            "_view_module": "@jupyter-widgets/base",
            "overflow": null,
            "_model_module_version": "1.2.0",
            "_view_count": null,
            "flex_flow": null,
            "width": null,
            "min_width": null,
            "border": null,
            "align_items": null,
            "bottom": null,
            "_model_module": "@jupyter-widgets/base",
            "top": null,
            "grid_column": null,
            "overflow_y": null,
            "overflow_x": null,
            "grid_auto_flow": null,
            "grid_area": null,
            "grid_template_columns": null,
            "flex": null,
            "_model_name": "LayoutModel",
            "justify_items": null,
            "grid_row": null,
            "max_height": null,
            "align_content": null,
            "visibility": null,
            "align_self": null,
            "height": null,
            "min_height": null,
            "padding": null,
            "grid_auto_rows": null,
            "grid_gap": null,
            "max_width": null,
            "order": null,
            "_view_module_version": "1.2.0",
            "grid_template_areas": null,
            "object_position": null,
            "object_fit": null,
            "grid_auto_columns": null,
            "margin": null,
            "display": null,
            "left": null
          }
        },
        "1bbc145b3f9f442c8b1e7acf6aa862e7": {
          "model_module": "@jupyter-widgets/controls",
          "model_name": "FloatProgressModel",
          "state": {
            "_view_name": "ProgressView",
            "style": "IPY_MODEL_c7256fb33a48409d8b3b679e8def4f0d",
            "_dom_classes": [],
            "description": "Downloading: 100%",
            "_model_name": "FloatProgressModel",
            "bar_style": "success",
            "max": 29,
            "_view_module": "@jupyter-widgets/controls",
            "_model_module_version": "1.5.0",
            "value": 29,
            "_view_count": null,
            "_view_module_version": "1.5.0",
            "orientation": "horizontal",
            "min": 0,
            "description_tooltip": null,
            "_model_module": "@jupyter-widgets/controls",
            "layout": "IPY_MODEL_f04399a0121c48d49eb9df6a1d711f1c"
          }
        },
        "89e20a289e444bca91f0439a86abebc6": {
          "model_module": "@jupyter-widgets/controls",
          "model_name": "HTMLModel",
          "state": {
            "_view_name": "HTMLView",
            "style": "IPY_MODEL_0b4b0f46668b4751b53f510772bd0d5c",
            "_dom_classes": [],
            "description": "",
            "_model_name": "HTMLModel",
            "placeholder": "​",
            "_view_module": "@jupyter-widgets/controls",
            "_model_module_version": "1.5.0",
            "value": " 29.0/29.0 [00:00&lt;00:00, 46.3B/s]",
            "_view_count": null,
            "_view_module_version": "1.5.0",
            "description_tooltip": null,
            "_model_module": "@jupyter-widgets/controls",
            "layout": "IPY_MODEL_a370c970cbc0495787261c59151c8e2b"
          }
        },
        "c7256fb33a48409d8b3b679e8def4f0d": {
          "model_module": "@jupyter-widgets/controls",
          "model_name": "ProgressStyleModel",
          "state": {
            "_view_name": "StyleView",
            "_model_name": "ProgressStyleModel",
            "description_width": "initial",
            "_view_module": "@jupyter-widgets/base",
            "_model_module_version": "1.5.0",
            "_view_count": null,
            "_view_module_version": "1.2.0",
            "bar_color": null,
            "_model_module": "@jupyter-widgets/controls"
          }
        },
        "f04399a0121c48d49eb9df6a1d711f1c": {
          "model_module": "@jupyter-widgets/base",
          "model_name": "LayoutModel",
          "state": {
            "_view_name": "LayoutView",
            "grid_template_rows": null,
            "right": null,
            "justify_content": null,
            "_view_module": "@jupyter-widgets/base",
            "overflow": null,
            "_model_module_version": "1.2.0",
            "_view_count": null,
            "flex_flow": null,
            "width": null,
            "min_width": null,
            "border": null,
            "align_items": null,
            "bottom": null,
            "_model_module": "@jupyter-widgets/base",
            "top": null,
            "grid_column": null,
            "overflow_y": null,
            "overflow_x": null,
            "grid_auto_flow": null,
            "grid_area": null,
            "grid_template_columns": null,
            "flex": null,
            "_model_name": "LayoutModel",
            "justify_items": null,
            "grid_row": null,
            "max_height": null,
            "align_content": null,
            "visibility": null,
            "align_self": null,
            "height": null,
            "min_height": null,
            "padding": null,
            "grid_auto_rows": null,
            "grid_gap": null,
            "max_width": null,
            "order": null,
            "_view_module_version": "1.2.0",
            "grid_template_areas": null,
            "object_position": null,
            "object_fit": null,
            "grid_auto_columns": null,
            "margin": null,
            "display": null,
            "left": null
          }
        },
        "0b4b0f46668b4751b53f510772bd0d5c": {
          "model_module": "@jupyter-widgets/controls",
          "model_name": "DescriptionStyleModel",
          "state": {
            "_view_name": "StyleView",
            "_model_name": "DescriptionStyleModel",
            "description_width": "",
            "_view_module": "@jupyter-widgets/base",
            "_model_module_version": "1.5.0",
            "_view_count": null,
            "_view_module_version": "1.2.0",
            "_model_module": "@jupyter-widgets/controls"
          }
        },
        "a370c970cbc0495787261c59151c8e2b": {
          "model_module": "@jupyter-widgets/base",
          "model_name": "LayoutModel",
          "state": {
            "_view_name": "LayoutView",
            "grid_template_rows": null,
            "right": null,
            "justify_content": null,
            "_view_module": "@jupyter-widgets/base",
            "overflow": null,
            "_model_module_version": "1.2.0",
            "_view_count": null,
            "flex_flow": null,
            "width": null,
            "min_width": null,
            "border": null,
            "align_items": null,
            "bottom": null,
            "_model_module": "@jupyter-widgets/base",
            "top": null,
            "grid_column": null,
            "overflow_y": null,
            "overflow_x": null,
            "grid_auto_flow": null,
            "grid_area": null,
            "grid_template_columns": null,
            "flex": null,
            "_model_name": "LayoutModel",
            "justify_items": null,
            "grid_row": null,
            "max_height": null,
            "align_content": null,
            "visibility": null,
            "align_self": null,
            "height": null,
            "min_height": null,
            "padding": null,
            "grid_auto_rows": null,
            "grid_gap": null,
            "max_width": null,
            "order": null,
            "_view_module_version": "1.2.0",
            "grid_template_areas": null,
            "object_position": null,
            "object_fit": null,
            "grid_auto_columns": null,
            "margin": null,
            "display": null,
            "left": null
          }
        },
        "f2c8e883512b41f7bef0ffaf471cf726": {
          "model_module": "@jupyter-widgets/controls",
          "model_name": "HBoxModel",
          "state": {
            "_view_name": "HBoxView",
            "_dom_classes": [],
            "_model_name": "HBoxModel",
            "_view_module": "@jupyter-widgets/controls",
            "_model_module_version": "1.5.0",
            "_view_count": null,
            "_view_module_version": "1.5.0",
            "box_style": "",
            "layout": "IPY_MODEL_cfd42b1c62c44b97aa8da5b7b0cb4184",
            "_model_module": "@jupyter-widgets/controls",
            "children": [
              "IPY_MODEL_99f0f9adeb3a4eeb9184278a49830771",
              "IPY_MODEL_52c46e2f4bcf43d5932f3e0b738d809f"
            ]
          }
        },
        "cfd42b1c62c44b97aa8da5b7b0cb4184": {
          "model_module": "@jupyter-widgets/base",
          "model_name": "LayoutModel",
          "state": {
            "_view_name": "LayoutView",
            "grid_template_rows": null,
            "right": null,
            "justify_content": null,
            "_view_module": "@jupyter-widgets/base",
            "overflow": null,
            "_model_module_version": "1.2.0",
            "_view_count": null,
            "flex_flow": null,
            "width": null,
            "min_width": null,
            "border": null,
            "align_items": null,
            "bottom": null,
            "_model_module": "@jupyter-widgets/base",
            "top": null,
            "grid_column": null,
            "overflow_y": null,
            "overflow_x": null,
            "grid_auto_flow": null,
            "grid_area": null,
            "grid_template_columns": null,
            "flex": null,
            "_model_name": "LayoutModel",
            "justify_items": null,
            "grid_row": null,
            "max_height": null,
            "align_content": null,
            "visibility": null,
            "align_self": null,
            "height": null,
            "min_height": null,
            "padding": null,
            "grid_auto_rows": null,
            "grid_gap": null,
            "max_width": null,
            "order": null,
            "_view_module_version": "1.2.0",
            "grid_template_areas": null,
            "object_position": null,
            "object_fit": null,
            "grid_auto_columns": null,
            "margin": null,
            "display": null,
            "left": null
          }
        },
        "99f0f9adeb3a4eeb9184278a49830771": {
          "model_module": "@jupyter-widgets/controls",
          "model_name": "FloatProgressModel",
          "state": {
            "_view_name": "ProgressView",
            "style": "IPY_MODEL_2633032c854042fe81f481f2c2797194",
            "_dom_classes": [],
            "description": "Downloading: 100%",
            "_model_name": "FloatProgressModel",
            "bar_style": "success",
            "max": 435797,
            "_view_module": "@jupyter-widgets/controls",
            "_model_module_version": "1.5.0",
            "value": 435797,
            "_view_count": null,
            "_view_module_version": "1.5.0",
            "orientation": "horizontal",
            "min": 0,
            "description_tooltip": null,
            "_model_module": "@jupyter-widgets/controls",
            "layout": "IPY_MODEL_b523c1436532402598c7c89f186aca17"
          }
        },
        "52c46e2f4bcf43d5932f3e0b738d809f": {
          "model_module": "@jupyter-widgets/controls",
          "model_name": "HTMLModel",
          "state": {
            "_view_name": "HTMLView",
            "style": "IPY_MODEL_a5841738fa564f3bb0641b9deb2760c8",
            "_dom_classes": [],
            "description": "",
            "_model_name": "HTMLModel",
            "placeholder": "​",
            "_view_module": "@jupyter-widgets/controls",
            "_model_module_version": "1.5.0",
            "value": " 436k/436k [00:00&lt;00:00, 2.60MB/s]",
            "_view_count": null,
            "_view_module_version": "1.5.0",
            "description_tooltip": null,
            "_model_module": "@jupyter-widgets/controls",
            "layout": "IPY_MODEL_eca962448be749809be36eca747d9b81"
          }
        },
        "2633032c854042fe81f481f2c2797194": {
          "model_module": "@jupyter-widgets/controls",
          "model_name": "ProgressStyleModel",
          "state": {
            "_view_name": "StyleView",
            "_model_name": "ProgressStyleModel",
            "description_width": "initial",
            "_view_module": "@jupyter-widgets/base",
            "_model_module_version": "1.5.0",
            "_view_count": null,
            "_view_module_version": "1.2.0",
            "bar_color": null,
            "_model_module": "@jupyter-widgets/controls"
          }
        },
        "b523c1436532402598c7c89f186aca17": {
          "model_module": "@jupyter-widgets/base",
          "model_name": "LayoutModel",
          "state": {
            "_view_name": "LayoutView",
            "grid_template_rows": null,
            "right": null,
            "justify_content": null,
            "_view_module": "@jupyter-widgets/base",
            "overflow": null,
            "_model_module_version": "1.2.0",
            "_view_count": null,
            "flex_flow": null,
            "width": null,
            "min_width": null,
            "border": null,
            "align_items": null,
            "bottom": null,
            "_model_module": "@jupyter-widgets/base",
            "top": null,
            "grid_column": null,
            "overflow_y": null,
            "overflow_x": null,
            "grid_auto_flow": null,
            "grid_area": null,
            "grid_template_columns": null,
            "flex": null,
            "_model_name": "LayoutModel",
            "justify_items": null,
            "grid_row": null,
            "max_height": null,
            "align_content": null,
            "visibility": null,
            "align_self": null,
            "height": null,
            "min_height": null,
            "padding": null,
            "grid_auto_rows": null,
            "grid_gap": null,
            "max_width": null,
            "order": null,
            "_view_module_version": "1.2.0",
            "grid_template_areas": null,
            "object_position": null,
            "object_fit": null,
            "grid_auto_columns": null,
            "margin": null,
            "display": null,
            "left": null
          }
        },
        "a5841738fa564f3bb0641b9deb2760c8": {
          "model_module": "@jupyter-widgets/controls",
          "model_name": "DescriptionStyleModel",
          "state": {
            "_view_name": "StyleView",
            "_model_name": "DescriptionStyleModel",
            "description_width": "",
            "_view_module": "@jupyter-widgets/base",
            "_model_module_version": "1.5.0",
            "_view_count": null,
            "_view_module_version": "1.2.0",
            "_model_module": "@jupyter-widgets/controls"
          }
        },
        "eca962448be749809be36eca747d9b81": {
          "model_module": "@jupyter-widgets/base",
          "model_name": "LayoutModel",
          "state": {
            "_view_name": "LayoutView",
            "grid_template_rows": null,
            "right": null,
            "justify_content": null,
            "_view_module": "@jupyter-widgets/base",
            "overflow": null,
            "_model_module_version": "1.2.0",
            "_view_count": null,
            "flex_flow": null,
            "width": null,
            "min_width": null,
            "border": null,
            "align_items": null,
            "bottom": null,
            "_model_module": "@jupyter-widgets/base",
            "top": null,
            "grid_column": null,
            "overflow_y": null,
            "overflow_x": null,
            "grid_auto_flow": null,
            "grid_area": null,
            "grid_template_columns": null,
            "flex": null,
            "_model_name": "LayoutModel",
            "justify_items": null,
            "grid_row": null,
            "max_height": null,
            "align_content": null,
            "visibility": null,
            "align_self": null,
            "height": null,
            "min_height": null,
            "padding": null,
            "grid_auto_rows": null,
            "grid_gap": null,
            "max_width": null,
            "order": null,
            "_view_module_version": "1.2.0",
            "grid_template_areas": null,
            "object_position": null,
            "object_fit": null,
            "grid_auto_columns": null,
            "margin": null,
            "display": null,
            "left": null
          }
        },
        "4d2e35c0131a4d34bb343880436c6b58": {
          "model_module": "@jupyter-widgets/controls",
          "model_name": "HBoxModel",
          "state": {
            "_view_name": "HBoxView",
            "_dom_classes": [],
            "_model_name": "HBoxModel",
            "_view_module": "@jupyter-widgets/controls",
            "_model_module_version": "1.5.0",
            "_view_count": null,
            "_view_module_version": "1.5.0",
            "box_style": "",
            "layout": "IPY_MODEL_89b678ebafcb425ea42115eb6e5b136e",
            "_model_module": "@jupyter-widgets/controls",
            "children": [
              "IPY_MODEL_edf45df2a68145f6a1c6ed60d3ccdcd2",
              "IPY_MODEL_9273570752de4a0da41bce670faab8da"
            ]
          }
        },
        "89b678ebafcb425ea42115eb6e5b136e": {
          "model_module": "@jupyter-widgets/base",
          "model_name": "LayoutModel",
          "state": {
            "_view_name": "LayoutView",
            "grid_template_rows": null,
            "right": null,
            "justify_content": null,
            "_view_module": "@jupyter-widgets/base",
            "overflow": null,
            "_model_module_version": "1.2.0",
            "_view_count": null,
            "flex_flow": null,
            "width": null,
            "min_width": null,
            "border": null,
            "align_items": null,
            "bottom": null,
            "_model_module": "@jupyter-widgets/base",
            "top": null,
            "grid_column": null,
            "overflow_y": null,
            "overflow_x": null,
            "grid_auto_flow": null,
            "grid_area": null,
            "grid_template_columns": null,
            "flex": null,
            "_model_name": "LayoutModel",
            "justify_items": null,
            "grid_row": null,
            "max_height": null,
            "align_content": null,
            "visibility": null,
            "align_self": null,
            "height": null,
            "min_height": null,
            "padding": null,
            "grid_auto_rows": null,
            "grid_gap": null,
            "max_width": null,
            "order": null,
            "_view_module_version": "1.2.0",
            "grid_template_areas": null,
            "object_position": null,
            "object_fit": null,
            "grid_auto_columns": null,
            "margin": null,
            "display": null,
            "left": null
          }
        },
        "edf45df2a68145f6a1c6ed60d3ccdcd2": {
          "model_module": "@jupyter-widgets/controls",
          "model_name": "FloatProgressModel",
          "state": {
            "_view_name": "ProgressView",
            "style": "IPY_MODEL_aedaaec0451a4f33b6615243bd19d47f",
            "_dom_classes": [],
            "description": "Downloading: 100%",
            "_model_name": "FloatProgressModel",
            "bar_style": "success",
            "max": 570,
            "_view_module": "@jupyter-widgets/controls",
            "_model_module_version": "1.5.0",
            "value": 570,
            "_view_count": null,
            "_view_module_version": "1.5.0",
            "orientation": "horizontal",
            "min": 0,
            "description_tooltip": null,
            "_model_module": "@jupyter-widgets/controls",
            "layout": "IPY_MODEL_aa2bfe50f261432bb52f67aa9b005d2d"
          }
        },
        "9273570752de4a0da41bce670faab8da": {
          "model_module": "@jupyter-widgets/controls",
          "model_name": "HTMLModel",
          "state": {
            "_view_name": "HTMLView",
            "style": "IPY_MODEL_13f91b92ee9d47209ac48e32f1102e98",
            "_dom_classes": [],
            "description": "",
            "_model_name": "HTMLModel",
            "placeholder": "​",
            "_view_module": "@jupyter-widgets/controls",
            "_model_module_version": "1.5.0",
            "value": " 570/570 [00:00&lt;00:00, 1.72kB/s]",
            "_view_count": null,
            "_view_module_version": "1.5.0",
            "description_tooltip": null,
            "_model_module": "@jupyter-widgets/controls",
            "layout": "IPY_MODEL_9cedcabe03244d99be74c751a8bf5b9e"
          }
        },
        "aedaaec0451a4f33b6615243bd19d47f": {
          "model_module": "@jupyter-widgets/controls",
          "model_name": "ProgressStyleModel",
          "state": {
            "_view_name": "StyleView",
            "_model_name": "ProgressStyleModel",
            "description_width": "initial",
            "_view_module": "@jupyter-widgets/base",
            "_model_module_version": "1.5.0",
            "_view_count": null,
            "_view_module_version": "1.2.0",
            "bar_color": null,
            "_model_module": "@jupyter-widgets/controls"
          }
        },
        "aa2bfe50f261432bb52f67aa9b005d2d": {
          "model_module": "@jupyter-widgets/base",
          "model_name": "LayoutModel",
          "state": {
            "_view_name": "LayoutView",
            "grid_template_rows": null,
            "right": null,
            "justify_content": null,
            "_view_module": "@jupyter-widgets/base",
            "overflow": null,
            "_model_module_version": "1.2.0",
            "_view_count": null,
            "flex_flow": null,
            "width": null,
            "min_width": null,
            "border": null,
            "align_items": null,
            "bottom": null,
            "_model_module": "@jupyter-widgets/base",
            "top": null,
            "grid_column": null,
            "overflow_y": null,
            "overflow_x": null,
            "grid_auto_flow": null,
            "grid_area": null,
            "grid_template_columns": null,
            "flex": null,
            "_model_name": "LayoutModel",
            "justify_items": null,
            "grid_row": null,
            "max_height": null,
            "align_content": null,
            "visibility": null,
            "align_self": null,
            "height": null,
            "min_height": null,
            "padding": null,
            "grid_auto_rows": null,
            "grid_gap": null,
            "max_width": null,
            "order": null,
            "_view_module_version": "1.2.0",
            "grid_template_areas": null,
            "object_position": null,
            "object_fit": null,
            "grid_auto_columns": null,
            "margin": null,
            "display": null,
            "left": null
          }
        },
        "13f91b92ee9d47209ac48e32f1102e98": {
          "model_module": "@jupyter-widgets/controls",
          "model_name": "DescriptionStyleModel",
          "state": {
            "_view_name": "StyleView",
            "_model_name": "DescriptionStyleModel",
            "description_width": "",
            "_view_module": "@jupyter-widgets/base",
            "_model_module_version": "1.5.0",
            "_view_count": null,
            "_view_module_version": "1.2.0",
            "_model_module": "@jupyter-widgets/controls"
          }
        },
        "9cedcabe03244d99be74c751a8bf5b9e": {
          "model_module": "@jupyter-widgets/base",
          "model_name": "LayoutModel",
          "state": {
            "_view_name": "LayoutView",
            "grid_template_rows": null,
            "right": null,
            "justify_content": null,
            "_view_module": "@jupyter-widgets/base",
            "overflow": null,
            "_model_module_version": "1.2.0",
            "_view_count": null,
            "flex_flow": null,
            "width": null,
            "min_width": null,
            "border": null,
            "align_items": null,
            "bottom": null,
            "_model_module": "@jupyter-widgets/base",
            "top": null,
            "grid_column": null,
            "overflow_y": null,
            "overflow_x": null,
            "grid_auto_flow": null,
            "grid_area": null,
            "grid_template_columns": null,
            "flex": null,
            "_model_name": "LayoutModel",
            "justify_items": null,
            "grid_row": null,
            "max_height": null,
            "align_content": null,
            "visibility": null,
            "align_self": null,
            "height": null,
            "min_height": null,
            "padding": null,
            "grid_auto_rows": null,
            "grid_gap": null,
            "max_width": null,
            "order": null,
            "_view_module_version": "1.2.0",
            "grid_template_areas": null,
            "object_position": null,
            "object_fit": null,
            "grid_auto_columns": null,
            "margin": null,
            "display": null,
            "left": null
          }
        },
        "67a3988e0d384ac5b86c67b68cc5f461": {
          "model_module": "@jupyter-widgets/controls",
          "model_name": "HBoxModel",
          "state": {
            "_view_name": "HBoxView",
            "_dom_classes": [],
            "_model_name": "HBoxModel",
            "_view_module": "@jupyter-widgets/controls",
            "_model_module_version": "1.5.0",
            "_view_count": null,
            "_view_module_version": "1.5.0",
            "box_style": "",
            "layout": "IPY_MODEL_3a1ba2ff8a04423aa68a6aa1577be480",
            "_model_module": "@jupyter-widgets/controls",
            "children": [
              "IPY_MODEL_39a8e86941c14e4684ffe23cfd3156b1",
              "IPY_MODEL_25e43079723b4b8ba7212b53964a893a"
            ]
          }
        },
        "3a1ba2ff8a04423aa68a6aa1577be480": {
          "model_module": "@jupyter-widgets/base",
          "model_name": "LayoutModel",
          "state": {
            "_view_name": "LayoutView",
            "grid_template_rows": null,
            "right": null,
            "justify_content": null,
            "_view_module": "@jupyter-widgets/base",
            "overflow": null,
            "_model_module_version": "1.2.0",
            "_view_count": null,
            "flex_flow": null,
            "width": null,
            "min_width": null,
            "border": null,
            "align_items": null,
            "bottom": null,
            "_model_module": "@jupyter-widgets/base",
            "top": null,
            "grid_column": null,
            "overflow_y": null,
            "overflow_x": null,
            "grid_auto_flow": null,
            "grid_area": null,
            "grid_template_columns": null,
            "flex": null,
            "_model_name": "LayoutModel",
            "justify_items": null,
            "grid_row": null,
            "max_height": null,
            "align_content": null,
            "visibility": null,
            "align_self": null,
            "height": null,
            "min_height": null,
            "padding": null,
            "grid_auto_rows": null,
            "grid_gap": null,
            "max_width": null,
            "order": null,
            "_view_module_version": "1.2.0",
            "grid_template_areas": null,
            "object_position": null,
            "object_fit": null,
            "grid_auto_columns": null,
            "margin": null,
            "display": null,
            "left": null
          }
        },
        "39a8e86941c14e4684ffe23cfd3156b1": {
          "model_module": "@jupyter-widgets/controls",
          "model_name": "FloatProgressModel",
          "state": {
            "_view_name": "ProgressView",
            "style": "IPY_MODEL_953672c87e9843ebbe65fa90b43c501a",
            "_dom_classes": [],
            "description": "Downloading: 100%",
            "_model_name": "FloatProgressModel",
            "bar_style": "success",
            "max": 435779157,
            "_view_module": "@jupyter-widgets/controls",
            "_model_module_version": "1.5.0",
            "value": 435779157,
            "_view_count": null,
            "_view_module_version": "1.5.0",
            "orientation": "horizontal",
            "min": 0,
            "description_tooltip": null,
            "_model_module": "@jupyter-widgets/controls",
            "layout": "IPY_MODEL_ae68818a2bc64da1bca7cceab5cdbd59"
          }
        },
        "25e43079723b4b8ba7212b53964a893a": {
          "model_module": "@jupyter-widgets/controls",
          "model_name": "HTMLModel",
          "state": {
            "_view_name": "HTMLView",
            "style": "IPY_MODEL_b985abc2e15a4db196c3e627e1f10c45",
            "_dom_classes": [],
            "description": "",
            "_model_name": "HTMLModel",
            "placeholder": "​",
            "_view_module": "@jupyter-widgets/controls",
            "_model_module_version": "1.5.0",
            "value": " 436M/436M [00:09&lt;00:00, 46.9MB/s]",
            "_view_count": null,
            "_view_module_version": "1.5.0",
            "description_tooltip": null,
            "_model_module": "@jupyter-widgets/controls",
            "layout": "IPY_MODEL_209a8bf1b9d14fa98d14c42d3f908b5e"
          }
        },
        "953672c87e9843ebbe65fa90b43c501a": {
          "model_module": "@jupyter-widgets/controls",
          "model_name": "ProgressStyleModel",
          "state": {
            "_view_name": "StyleView",
            "_model_name": "ProgressStyleModel",
            "description_width": "initial",
            "_view_module": "@jupyter-widgets/base",
            "_model_module_version": "1.5.0",
            "_view_count": null,
            "_view_module_version": "1.2.0",
            "bar_color": null,
            "_model_module": "@jupyter-widgets/controls"
          }
        },
        "ae68818a2bc64da1bca7cceab5cdbd59": {
          "model_module": "@jupyter-widgets/base",
          "model_name": "LayoutModel",
          "state": {
            "_view_name": "LayoutView",
            "grid_template_rows": null,
            "right": null,
            "justify_content": null,
            "_view_module": "@jupyter-widgets/base",
            "overflow": null,
            "_model_module_version": "1.2.0",
            "_view_count": null,
            "flex_flow": null,
            "width": null,
            "min_width": null,
            "border": null,
            "align_items": null,
            "bottom": null,
            "_model_module": "@jupyter-widgets/base",
            "top": null,
            "grid_column": null,
            "overflow_y": null,
            "overflow_x": null,
            "grid_auto_flow": null,
            "grid_area": null,
            "grid_template_columns": null,
            "flex": null,
            "_model_name": "LayoutModel",
            "justify_items": null,
            "grid_row": null,
            "max_height": null,
            "align_content": null,
            "visibility": null,
            "align_self": null,
            "height": null,
            "min_height": null,
            "padding": null,
            "grid_auto_rows": null,
            "grid_gap": null,
            "max_width": null,
            "order": null,
            "_view_module_version": "1.2.0",
            "grid_template_areas": null,
            "object_position": null,
            "object_fit": null,
            "grid_auto_columns": null,
            "margin": null,
            "display": null,
            "left": null
          }
        },
        "b985abc2e15a4db196c3e627e1f10c45": {
          "model_module": "@jupyter-widgets/controls",
          "model_name": "DescriptionStyleModel",
          "state": {
            "_view_name": "StyleView",
            "_model_name": "DescriptionStyleModel",
            "description_width": "",
            "_view_module": "@jupyter-widgets/base",
            "_model_module_version": "1.5.0",
            "_view_count": null,
            "_view_module_version": "1.2.0",
            "_model_module": "@jupyter-widgets/controls"
          }
        },
        "209a8bf1b9d14fa98d14c42d3f908b5e": {
          "model_module": "@jupyter-widgets/base",
          "model_name": "LayoutModel",
          "state": {
            "_view_name": "LayoutView",
            "grid_template_rows": null,
            "right": null,
            "justify_content": null,
            "_view_module": "@jupyter-widgets/base",
            "overflow": null,
            "_model_module_version": "1.2.0",
            "_view_count": null,
            "flex_flow": null,
            "width": null,
            "min_width": null,
            "border": null,
            "align_items": null,
            "bottom": null,
            "_model_module": "@jupyter-widgets/base",
            "top": null,
            "grid_column": null,
            "overflow_y": null,
            "overflow_x": null,
            "grid_auto_flow": null,
            "grid_area": null,
            "grid_template_columns": null,
            "flex": null,
            "_model_name": "LayoutModel",
            "justify_items": null,
            "grid_row": null,
            "max_height": null,
            "align_content": null,
            "visibility": null,
            "align_self": null,
            "height": null,
            "min_height": null,
            "padding": null,
            "grid_auto_rows": null,
            "grid_gap": null,
            "max_width": null,
            "order": null,
            "_view_module_version": "1.2.0",
            "grid_template_areas": null,
            "object_position": null,
            "object_fit": null,
            "grid_auto_columns": null,
            "margin": null,
            "display": null,
            "left": null
          }
        }
      }
    }
  },
  "cells": [
    {
      "cell_type": "markdown",
      "metadata": {
        "id": "view-in-github",
        "colab_type": "text"
      },
      "source": [
        "<a href=\"https://colab.research.google.com/github/Haavi97/ITS8040-NLSP/blob/master/Default_independent_project_2021.ipynb\" target=\"_parent\"><img src=\"https://colab.research.google.com/assets/colab-badge.svg\" alt=\"Open In Colab\"/></a>"
      ]
    },
    {
      "cell_type": "markdown",
      "metadata": {
        "id": "xDOAOeayqH1R"
      },
      "source": [
        "# Task description"
      ]
    },
    {
      "cell_type": "markdown",
      "metadata": {
        "id": "wTfOjDBLLvIJ"
      },
      "source": [
        "The \"default\" project topic is about Aspect-Based Sentiment Analysis (ABSA). By \"default\" it is meant that you are supposed to choose this topic if you don't have any preferences about the topic yourself. You are free to choose any other sufficiently challenging topic, but please consult with the lecturer.\n",
        "\n",
        "The task comes from the SemEval 2016 Shared Task 5: http://alt.qcri.org/semeval2016/task5/\n",
        "\n",
        "There are different subtasks and slots in this task. You can limit you work on Task 1 Slot 1: Aspect Category Detection, and you can further focus on the restaurant domain only.\n",
        "\n",
        "The task is: given a sentence taken from a restaurant review, your system has to decide about which aspect category of the restaurant this sentence is, if any. The number of different aspect categories is fixed. One sentnce can correspond to zero, one or more aspect categories.\n",
        "\n",
        "Some examples:\n",
        "\n",
        "*   \"I was very disappointed with this restaurant.\" -> RESTAURANT#GENERAL\n",
        "*   \"I’ve asked a cart attendant for a lotus leaf wrapped rice and she replied back rice and just walked away.\" -> SERVICE#GENERAL\n",
        "*   \"Chow fun was dry; pork shu mai was more than usually greasy and had to share a table with loud and rude family.\" -> FOOD#QUALITY, AMBIENCE#GENERAL\n",
        "\n",
        "The Slot 3 of the task would be finding the polarity (negative, neutral, positive) of the aspect, but you don't have to implement this.\n",
        "\n",
        "Since the data and evaluation tools for this Shared task come in quite complex form, I have implemented very basic data loading for you, together with a simplest possible sklearn-based implementation for this task.\n",
        "\n",
        "\n",
        "\n"
      ]
    },
    {
      "cell_type": "markdown",
      "metadata": {
        "id": "zwYQtYiEO4kd"
      },
      "source": [
        "I have packed the data for the restaurant domain for this subtask on my site. Let's download it:"
      ]
    },
    {
      "cell_type": "code",
      "metadata": {
        "id": "VruNWeGQ85Dp",
        "colab": {
          "base_uri": "https://localhost:8080/"
        },
        "outputId": "849587e2-096c-40a1-9ab5-da3342ca194c"
      },
      "source": [
        "! wget --no-check-certificate https://www.phon.ioc.ee/~tanela/tmp/absa-en-restaurant.zip"
      ],
      "execution_count": 1,
      "outputs": [
        {
          "output_type": "stream",
          "text": [
            "--2021-06-04 08:28:41--  https://www.phon.ioc.ee/~tanela/tmp/absa-en-restaurant.zip\n",
            "Resolving www.phon.ioc.ee (www.phon.ioc.ee)... 193.40.251.126\n",
            "Connecting to www.phon.ioc.ee (www.phon.ioc.ee)|193.40.251.126|:443... connected.\n",
            "WARNING: cannot verify www.phon.ioc.ee's certificate, issued by ‘CN=TERENA SSL CA 3,O=TERENA,L=Amsterdam,ST=Noord-Holland,C=NL’:\n",
            "  Issued certificate has expired.\n",
            "WARNING: no certificate subject alternative name matches\n",
            "\trequested host name ‘www.phon.ioc.ee’.\n",
            "HTTP request sent, awaiting response... 200 OK\n",
            "Length: 136921 (134K) [application/zip]\n",
            "Saving to: ‘absa-en-restaurant.zip’\n",
            "\n",
            "absa-en-restaurant. 100%[===================>] 133.71K   204KB/s    in 0.7s    \n",
            "\n",
            "2021-06-04 08:28:43 (204 KB/s) - ‘absa-en-restaurant.zip’ saved [136921/136921]\n",
            "\n"
          ],
          "name": "stdout"
        }
      ]
    },
    {
      "cell_type": "code",
      "metadata": {
        "id": "-_zt54N989bW",
        "colab": {
          "base_uri": "https://localhost:8080/"
        },
        "outputId": "fe8497a5-e7ef-403f-d0ab-64725cc01c18"
      },
      "source": [
        "! unzip absa-en-restaurant.zip"
      ],
      "execution_count": 2,
      "outputs": [
        {
          "output_type": "stream",
          "text": [
            "Archive:  absa-en-restaurant.zip\n",
            "  inflating: ABSA16_Restaurants_Train_SB1_v2.xml  \n",
            "  inflating: EN_REST_SB1_TEST.xml.gold  \n"
          ],
          "name": "stdout"
        }
      ]
    },
    {
      "cell_type": "markdown",
      "metadata": {
        "id": "JJiLrjJYPGf0"
      },
      "source": [
        "There are two files: training and test files. Both are in XML formats. Let's  take a peek:"
      ]
    },
    {
      "cell_type": "code",
      "metadata": {
        "id": "LqQznoWI9Gfe"
      },
      "source": [
        "#! head -20 ABSA16_Restaurants_Train_SB1_v2.xml  "
      ],
      "execution_count": 3,
      "outputs": []
    },
    {
      "cell_type": "code",
      "metadata": {
        "id": "Gekhfl_29N51"
      },
      "source": [
        "#! head -20 ABSA16_Restaurants_Train_SB1_v2.xml  "
      ],
      "execution_count": 4,
      "outputs": []
    },
    {
      "cell_type": "markdown",
      "metadata": {
        "id": "Mw5X3UIhZOOA"
      },
      "source": [
        "There is a lot of information in this XML: each sentence has a list of Opinions, where each Opinion consists of category, polarity and the target word or phrase. We are really interested only in the raw sentence and the corresponding opinion categories.\n",
        "\n",
        "There are many ways to parse XML in Python. In this example we use a method that parses XML to Python dict, which is we will then process via loops."
      ]
    },
    {
      "cell_type": "code",
      "metadata": {
        "id": "Y9bSdaZk9RJW",
        "colab": {
          "base_uri": "https://localhost:8080/"
        },
        "outputId": "15fef6dd-c78a-45c9-8f43-7a9f8d4cd4f5"
      },
      "source": [
        "! pip install xmltodict"
      ],
      "execution_count": 5,
      "outputs": [
        {
          "output_type": "stream",
          "text": [
            "Collecting xmltodict\n",
            "  Downloading https://files.pythonhosted.org/packages/28/fd/30d5c1d3ac29ce229f6bdc40bbc20b28f716e8b363140c26eff19122d8a5/xmltodict-0.12.0-py2.py3-none-any.whl\n",
            "Installing collected packages: xmltodict\n",
            "Successfully installed xmltodict-0.12.0\n"
          ],
          "name": "stdout"
        }
      ]
    },
    {
      "cell_type": "code",
      "metadata": {
        "id": "RNTRKIio-g3e"
      },
      "source": [
        "import xmltodict as xd\n",
        "\n",
        "\n",
        "with open('EN_REST_SB1_TEST.xml.gold','rb') as f:\n",
        "    d = xd.parse(f)"
      ],
      "execution_count": 6,
      "outputs": []
    },
    {
      "cell_type": "code",
      "metadata": {
        "id": "X0sxmb5s-ug0",
        "colab": {
          "base_uri": "https://localhost:8080/"
        },
        "outputId": "a383e615-b23d-4370-9d1a-07b08b7c91f2"
      },
      "source": [
        "d[\"Reviews\"][\"Review\"][0][\"sentences\"][\"sentence\"][0]"
      ],
      "execution_count": 7,
      "outputs": [
        {
          "output_type": "execute_result",
          "data": {
            "text/plain": [
              "OrderedDict([('@id', 'en_BlueRibbonSushi_478218171:0'),\n",
              "             ('text', 'Yum!'),\n",
              "             ('Opinions',\n",
              "              OrderedDict([('Opinion',\n",
              "                            OrderedDict([('@target', 'NULL'),\n",
              "                                         ('@category', 'FOOD#QUALITY'),\n",
              "                                         ('@polarity', 'positive'),\n",
              "                                         ('@from', '0'),\n",
              "                                         ('@to', '0')]))]))])"
            ]
          },
          "metadata": {
            "tags": []
          },
          "execution_count": 7
        }
      ]
    },
    {
      "cell_type": "markdown",
      "metadata": {
        "id": "DRHwXfhvaJMT"
      },
      "source": [
        "Here is the function that parses the XML and returns a list containing sentences and the corresponding list of categories:"
      ]
    },
    {
      "cell_type": "code",
      "metadata": {
        "id": "XBjDpQc6-xpG"
      },
      "source": [
        "def read_data(filename):\n",
        "  result = []\n",
        "  with open(filename,'rb') as f:\n",
        "    d = xd.parse(f, force_list=('sentence', 'Opinion'))\n",
        "  for review in d[\"Reviews\"][\"Review\"]:\n",
        "    #print(review)\n",
        "    for sentence in review[\"sentences\"][\"sentence\"]:\n",
        "      \n",
        "      text = sentence[\"text\"]\n",
        "      opinion_cats = []\n",
        "      \n",
        "      if \"Opinions\" in sentence and sentence[\"Opinions\"] is not None:\n",
        "        opinions = sentence[\"Opinions\"][\"Opinion\"]\n",
        "        for opinion in opinions:\n",
        "          opinion_cats.append(opinion[\"@category\"])\n",
        "      result.append((text, opinion_cats))\n",
        "  return result\n",
        "\n"
      ],
      "execution_count": 8,
      "outputs": []
    },
    {
      "cell_type": "code",
      "metadata": {
        "id": "HGpT08S_AtAI"
      },
      "source": [
        "train_data = read_data(\"ABSA16_Restaurants_Train_SB1_v2.xml\")\n",
        "test_data = read_data(\"EN_REST_SB1_TEST.xml.gold\")"
      ],
      "execution_count": 9,
      "outputs": []
    },
    {
      "cell_type": "code",
      "metadata": {
        "id": "--w93Sg4ePQn",
        "colab": {
          "base_uri": "https://localhost:8080/"
        },
        "outputId": "8fde3780-cd40-469a-e87a-a2002c2b34de"
      },
      "source": [
        "print(len(train_data), len(test_data))"
      ],
      "execution_count": 10,
      "outputs": [
        {
          "output_type": "stream",
          "text": [
            "2000 676\n"
          ],
          "name": "stdout"
        }
      ]
    },
    {
      "cell_type": "code",
      "metadata": {
        "id": "20RpEpp9Azno"
      },
      "source": [
        "#train_data[:5]"
      ],
      "execution_count": 11,
      "outputs": []
    },
    {
      "cell_type": "markdown",
      "metadata": {
        "id": "dXLUiLBL__R7"
      },
      "source": [
        "# Pipelines"
      ]
    },
    {
      "cell_type": "markdown",
      "metadata": {
        "id": "OPm3-daEqWP2"
      },
      "source": [
        "## Multilabel binarizer"
      ]
    },
    {
      "cell_type": "markdown",
      "metadata": {
        "id": "2TvfCaAJanRj"
      },
      "source": [
        "So, each sentence can have zero or more categories. This task is called multi-label classification, as opposed to single-label classification where each sample corresponds to one and only one category.\n",
        "\n",
        "The sklearn package has some useful utilities for multi-label classification tasks."
      ]
    },
    {
      "cell_type": "code",
      "metadata": {
        "id": "UxSuYx03Dub3"
      },
      "source": [
        "from sklearn.preprocessing import MultiLabelBinarizer"
      ],
      "execution_count": 12,
      "outputs": []
    },
    {
      "cell_type": "markdown",
      "metadata": {
        "id": "mNAU8zmkbhdI"
      },
      "source": [
        "MultiLabelBinarizer builds a mapping from multi-label labels to IDs, and also constructs a label matrix for our training ans test data."
      ]
    },
    {
      "cell_type": "code",
      "metadata": {
        "id": "rAVKh_ALIVme"
      },
      "source": [
        "mlb = MultiLabelBinarizer()\n",
        "train_labels = mlb.fit_transform([set(sample[1]) for sample in train_data])"
      ],
      "execution_count": 13,
      "outputs": []
    },
    {
      "cell_type": "code",
      "metadata": {
        "id": "QeHPL6aMJDmY",
        "colab": {
          "base_uri": "https://localhost:8080/"
        },
        "outputId": "dc7a6ab8-0a52-47e3-b678-30ee7bf12f13"
      },
      "source": [
        "train_labels[0:5]"
      ],
      "execution_count": 14,
      "outputs": [
        {
          "output_type": "execute_result",
          "data": {
            "text/plain": [
              "array([[0, 0, 0, 0, 0, 0, 0, 0, 1, 0, 0, 0],\n",
              "       [0, 0, 0, 0, 0, 0, 0, 0, 0, 0, 0, 1],\n",
              "       [0, 0, 0, 0, 0, 0, 0, 0, 0, 0, 0, 1],\n",
              "       [0, 0, 0, 0, 0, 1, 1, 0, 0, 0, 0, 0],\n",
              "       [0, 0, 0, 0, 0, 0, 0, 0, 0, 0, 0, 1]])"
            ]
          },
          "metadata": {
            "tags": []
          },
          "execution_count": 14
        }
      ]
    },
    {
      "cell_type": "code",
      "metadata": {
        "id": "_wWDXL7BJPTR",
        "colab": {
          "base_uri": "https://localhost:8080/"
        },
        "outputId": "a5476e36-c2be-4952-97a3-e5c261578d8f"
      },
      "source": [
        "mlb.classes_"
      ],
      "execution_count": 15,
      "outputs": [
        {
          "output_type": "execute_result",
          "data": {
            "text/plain": [
              "array(['AMBIENCE#GENERAL', 'DRINKS#PRICES', 'DRINKS#QUALITY',\n",
              "       'DRINKS#STYLE_OPTIONS', 'FOOD#PRICES', 'FOOD#QUALITY',\n",
              "       'FOOD#STYLE_OPTIONS', 'LOCATION#GENERAL', 'RESTAURANT#GENERAL',\n",
              "       'RESTAURANT#MISCELLANEOUS', 'RESTAURANT#PRICES', 'SERVICE#GENERAL'],\n",
              "      dtype=object)"
            ]
          },
          "metadata": {
            "tags": []
          },
          "execution_count": 15
        }
      ]
    },
    {
      "cell_type": "code",
      "metadata": {
        "id": "9CWgZlI0T8sl"
      },
      "source": [
        "#print(test_data)"
      ],
      "execution_count": 16,
      "outputs": []
    },
    {
      "cell_type": "code",
      "metadata": {
        "id": "5gHEvKiUJc6O"
      },
      "source": [
        "test_labels = mlb.transform([set(sample[1]) for sample in test_data])"
      ],
      "execution_count": 17,
      "outputs": []
    },
    {
      "cell_type": "code",
      "metadata": {
        "id": "DnVk_1f2gQaE",
        "colab": {
          "base_uri": "https://localhost:8080/"
        },
        "outputId": "44c956c2-af75-429b-8093-17a0fadc65dc"
      },
      "source": [
        "test_labels[0:5]"
      ],
      "execution_count": 18,
      "outputs": [
        {
          "output_type": "execute_result",
          "data": {
            "text/plain": [
              "array([[0, 0, 0, 0, 0, 1, 0, 0, 0, 0, 0, 0],\n",
              "       [0, 0, 0, 0, 0, 1, 0, 0, 0, 0, 0, 0],\n",
              "       [0, 0, 0, 0, 0, 0, 1, 0, 0, 0, 0, 0],\n",
              "       [0, 0, 0, 0, 0, 1, 0, 0, 0, 0, 0, 0],\n",
              "       [0, 0, 0, 0, 0, 1, 0, 0, 0, 0, 0, 0]])"
            ]
          },
          "metadata": {
            "tags": []
          },
          "execution_count": 18
        }
      ]
    },
    {
      "cell_type": "markdown",
      "metadata": {
        "id": "J022vabVb0_I"
      },
      "source": [
        "So, our labels are now stored as binary matrices -- exactly as we need them.\n",
        "\n",
        "Let's also construct a list of training inputs, as sklearn likes it:"
      ]
    },
    {
      "cell_type": "code",
      "metadata": {
        "id": "kQAKqSS-h7Wu"
      },
      "source": [
        "train_text = [review[0] for review in train_data]\n",
        "test_text = [review[0] for review in test_data]"
      ],
      "execution_count": 19,
      "outputs": []
    },
    {
      "cell_type": "code",
      "metadata": {
        "id": "1pK7VcpdiHPb",
        "colab": {
          "base_uri": "https://localhost:8080/"
        },
        "outputId": "08312ae6-0c00-41ea-a083-d339cf1dc39a"
      },
      "source": [
        "train_text[0:5]"
      ],
      "execution_count": 20,
      "outputs": [
        {
          "output_type": "execute_result",
          "data": {
            "text/plain": [
              "['Judging from previous posts this used to be a good place, but not any longer.',\n",
              " 'We, there were four of us, arrived at noon - the place was empty - and the staff acted like we were imposing on them and they were very rude.',\n",
              " 'They never brought us complimentary noodles, ignored repeated requests for sugar, and threw our dishes on the table.',\n",
              " 'The food was lousy - too sweet or too salty and the portions tiny.',\n",
              " 'After all that, they complained to me about the small tip.']"
            ]
          },
          "metadata": {
            "tags": []
          },
          "execution_count": 20
        }
      ]
    },
    {
      "cell_type": "markdown",
      "metadata": {
        "id": "uab8IEZdoJM_"
      },
      "source": [
        "## Data shape\n",
        "\n",
        "Printing data to have a clear picture."
      ]
    },
    {
      "cell_type": "code",
      "metadata": {
        "colab": {
          "base_uri": "https://localhost:8080/"
        },
        "id": "mog7s0wvoW7v",
        "outputId": "739696c3-db8a-430b-acd0-8596b4e6076b"
      },
      "source": [
        "print('Train text data is of type: {}'.format(type(train_text)))\n",
        "print('Train label data is of type: {}'.format(type(train_labels)))\n",
        "print('Train text size: {}'.format(len(train_text)))\n",
        "print('Test text size: {}'.format(len(test_text)))\n",
        "print('Train labels size: {}'.format(train_labels.shape))\n",
        "print('Test labels size: {}'.format(test_labels.shape))\n",
        "n_labels = test_labels.shape[1]\n",
        "print('Number of labels: {}'.format(n_labels))\n",
        "TAGS = mlb.classes_\n",
        "print('\\nThis are the different labels:')\n",
        "print(TAGS)"
      ],
      "execution_count": 21,
      "outputs": [
        {
          "output_type": "stream",
          "text": [
            "Train text data is of type: <class 'list'>\n",
            "Train label data is of type: <class 'numpy.ndarray'>\n",
            "Train text size: 2000\n",
            "Test text size: 676\n",
            "Train labels size: (2000, 12)\n",
            "Test labels size: (676, 12)\n",
            "Number of labels: 12\n",
            "\n",
            "This are the different labels:\n",
            "['AMBIENCE#GENERAL' 'DRINKS#PRICES' 'DRINKS#QUALITY'\n",
            " 'DRINKS#STYLE_OPTIONS' 'FOOD#PRICES' 'FOOD#QUALITY' 'FOOD#STYLE_OPTIONS'\n",
            " 'LOCATION#GENERAL' 'RESTAURANT#GENERAL' 'RESTAURANT#MISCELLANEOUS'\n",
            " 'RESTAURANT#PRICES' 'SERVICE#GENERAL']\n"
          ],
          "name": "stdout"
        }
      ]
    },
    {
      "cell_type": "markdown",
      "metadata": {
        "id": "bBs7fnCn_ZXY"
      },
      "source": [
        "## OneVsRestClassifier"
      ]
    },
    {
      "cell_type": "markdown",
      "metadata": {
        "id": "BwRkaD4wcE6q"
      },
      "source": [
        "Now we can train a simple multi-label classifier.\n",
        "\n",
        "We use Sklearn's OneVsRestClassifier to do this. This basically builds a seperate base classifier for each of our labels."
      ]
    },
    {
      "cell_type": "code",
      "metadata": {
        "id": "w6WxqVrBg4X4"
      },
      "source": [
        "from sklearn.pipeline import Pipeline\n",
        "from sklearn.naive_bayes import MultinomialNB\n",
        "from sklearn.linear_model import LogisticRegression\n",
        "from sklearn.feature_extraction.text import CountVectorizer\n",
        "from sklearn.feature_extraction.text import TfidfTransformer\n",
        "from sklearn.multiclass import OneVsRestClassifier\n",
        "\n",
        "text_clf = Pipeline([\n",
        "     ('vect', CountVectorizer()),\n",
        "     ('tfidf', TfidfTransformer()),\n",
        "     ('clf',  OneVsRestClassifier(LogisticRegression()))\n",
        " ])"
      ],
      "execution_count": 22,
      "outputs": []
    },
    {
      "cell_type": "code",
      "metadata": {
        "id": "wuDR3_Z_hka8",
        "colab": {
          "base_uri": "https://localhost:8080/"
        },
        "outputId": "2237a931-8e63-443e-dd83-3edcf64a4aa9"
      },
      "source": [
        "text_clf.fit(train_text, train_labels )"
      ],
      "execution_count": 23,
      "outputs": [
        {
          "output_type": "execute_result",
          "data": {
            "text/plain": [
              "Pipeline(memory=None,\n",
              "         steps=[('vect',\n",
              "                 CountVectorizer(analyzer='word', binary=False,\n",
              "                                 decode_error='strict',\n",
              "                                 dtype=<class 'numpy.int64'>, encoding='utf-8',\n",
              "                                 input='content', lowercase=True, max_df=1.0,\n",
              "                                 max_features=None, min_df=1,\n",
              "                                 ngram_range=(1, 1), preprocessor=None,\n",
              "                                 stop_words=None, strip_accents=None,\n",
              "                                 token_pattern='(?u)\\\\b\\\\w\\\\w+\\\\b',\n",
              "                                 tokenizer=None, vocabulary=Non...\n",
              "                 TfidfTransformer(norm='l2', smooth_idf=True,\n",
              "                                  sublinear_tf=False, use_idf=True)),\n",
              "                ('clf',\n",
              "                 OneVsRestClassifier(estimator=LogisticRegression(C=1.0,\n",
              "                                                                  class_weight=None,\n",
              "                                                                  dual=False,\n",
              "                                                                  fit_intercept=True,\n",
              "                                                                  intercept_scaling=1,\n",
              "                                                                  l1_ratio=None,\n",
              "                                                                  max_iter=100,\n",
              "                                                                  multi_class='auto',\n",
              "                                                                  n_jobs=None,\n",
              "                                                                  penalty='l2',\n",
              "                                                                  random_state=None,\n",
              "                                                                  solver='lbfgs',\n",
              "                                                                  tol=0.0001,\n",
              "                                                                  verbose=0,\n",
              "                                                                  warm_start=False),\n",
              "                                     n_jobs=None))],\n",
              "         verbose=False)"
            ]
          },
          "metadata": {
            "tags": []
          },
          "execution_count": 23
        }
      ]
    },
    {
      "cell_type": "markdown",
      "metadata": {
        "id": "uKFXy8x7chr3"
      },
      "source": [
        "Classifier is trained. Let's first see how can we apply it on test data. What comes out when we feed it some test data?"
      ]
    },
    {
      "cell_type": "code",
      "metadata": {
        "id": "bUBVNMOMiMdH"
      },
      "source": [
        "test_predictions = text_clf.predict(test_text)"
      ],
      "execution_count": 24,
      "outputs": []
    },
    {
      "cell_type": "code",
      "metadata": {
        "id": "BljUvwTpjBW0",
        "colab": {
          "base_uri": "https://localhost:8080/"
        },
        "outputId": "613316f2-c8c0-4a9c-8c6c-c2c457a603e1"
      },
      "source": [
        "test_predictions[0:5]"
      ],
      "execution_count": 25,
      "outputs": [
        {
          "output_type": "execute_result",
          "data": {
            "text/plain": [
              "array([[0, 0, 0, 0, 0, 0, 0, 0, 0, 0, 0, 0],\n",
              "       [0, 0, 0, 0, 0, 1, 0, 0, 0, 0, 0, 0],\n",
              "       [0, 0, 0, 0, 0, 0, 0, 0, 0, 0, 0, 0],\n",
              "       [0, 0, 0, 0, 0, 0, 0, 0, 0, 0, 0, 0],\n",
              "       [0, 0, 0, 0, 0, 0, 0, 0, 0, 0, 0, 0]])"
            ]
          },
          "metadata": {
            "tags": []
          },
          "execution_count": 25
        }
      ]
    },
    {
      "cell_type": "code",
      "metadata": {
        "id": "u0Bm_vDsET8x",
        "colab": {
          "base_uri": "https://localhost:8080/"
        },
        "outputId": "7cdb158d-6490-49aa-eeb7-3e66e870b415"
      },
      "source": [
        "test_labels[0:5]"
      ],
      "execution_count": 26,
      "outputs": [
        {
          "output_type": "execute_result",
          "data": {
            "text/plain": [
              "array([[0, 0, 0, 0, 0, 1, 0, 0, 0, 0, 0, 0],\n",
              "       [0, 0, 0, 0, 0, 1, 0, 0, 0, 0, 0, 0],\n",
              "       [0, 0, 0, 0, 0, 0, 1, 0, 0, 0, 0, 0],\n",
              "       [0, 0, 0, 0, 0, 1, 0, 0, 0, 0, 0, 0],\n",
              "       [0, 0, 0, 0, 0, 1, 0, 0, 0, 0, 0, 0]])"
            ]
          },
          "metadata": {
            "tags": []
          },
          "execution_count": 26
        }
      ]
    },
    {
      "cell_type": "markdown",
      "metadata": {
        "id": "xt3PUdPbcs88"
      },
      "source": [
        "So, the output of our classifier is also a binary matrix. We can evaluate the performance of our model using F1 measure (which is a geometric mean of precision and recall). \n",
        "\n",
        "F1 measure can be computed for each label independently and then merged using either macro or micro averaging. We will use micro-averaging that sums up the individual true positives, false positives, and false negatives of the system for different sets and the apply them to get the statistics. \n",
        "\n"
      ]
    },
    {
      "cell_type": "code",
      "metadata": {
        "id": "SqxTrW3AiSSy"
      },
      "source": [
        "from sklearn.metrics import f1_score, classification_report"
      ],
      "execution_count": 27,
      "outputs": []
    },
    {
      "cell_type": "code",
      "metadata": {
        "id": "iZ_fjQSgigIM",
        "colab": {
          "base_uri": "https://localhost:8080/"
        },
        "outputId": "4b746831-6a0e-42cc-ee48-1254558302b3"
      },
      "source": [
        "f1_score(test_labels,\n",
        "         test_predictions,\n",
        "         average='micro')"
      ],
      "execution_count": 28,
      "outputs": [
        {
          "output_type": "execute_result",
          "data": {
            "text/plain": [
              "0.4503441494591937"
            ]
          },
          "metadata": {
            "tags": []
          },
          "execution_count": 28
        }
      ]
    },
    {
      "cell_type": "code",
      "metadata": {
        "id": "R2vnMB7eiuTC",
        "colab": {
          "base_uri": "https://localhost:8080/"
        },
        "outputId": "db174429-088c-440b-f61c-2eb033a5bd2b"
      },
      "source": [
        "print(classification_report(test_labels, test_predictions, target_names=mlb.classes_, zero_division=0))"
      ],
      "execution_count": 29,
      "outputs": [
        {
          "output_type": "stream",
          "text": [
            "                          precision    recall  f1-score   support\n",
            "\n",
            "        AMBIENCE#GENERAL       1.00      0.21      0.35        57\n",
            "           DRINKS#PRICES       0.00      0.00      0.00         3\n",
            "          DRINKS#QUALITY       0.00      0.00      0.00        21\n",
            "    DRINKS#STYLE_OPTIONS       0.00      0.00      0.00        12\n",
            "             FOOD#PRICES       0.00      0.00      0.00        22\n",
            "            FOOD#QUALITY       0.78      0.54      0.64       226\n",
            "      FOOD#STYLE_OPTIONS       0.00      0.00      0.00        48\n",
            "        LOCATION#GENERAL       0.00      0.00      0.00        13\n",
            "      RESTAURANT#GENERAL       0.84      0.23      0.36       142\n",
            "RESTAURANT#MISCELLANEOUS       0.00      0.00      0.00        33\n",
            "       RESTAURANT#PRICES       0.00      0.00      0.00        21\n",
            "         SERVICE#GENERAL       0.95      0.43      0.60       145\n",
            "\n",
            "               micro avg       0.84      0.31      0.45       743\n",
            "               macro avg       0.30      0.12      0.16       743\n",
            "            weighted avg       0.66      0.31      0.41       743\n",
            "             samples avg       0.32      0.28      0.29       743\n",
            "\n"
          ],
          "name": "stdout"
        }
      ]
    },
    {
      "cell_type": "markdown",
      "metadata": {
        "id": "7ILNRIidLtJe"
      },
      "source": [
        "It's now your task to improve this.\n",
        "\n",
        "You can try a lot of things to make the classifier more accurate. Of course, it's very recommended to try different DNN based approaches. \n",
        "\n",
        "Note that there are only 2000 training sentences. This makes the task basically an excercise of transfer learning. You can try using pre-trained word embeddings, pre-trained models like BERT, etc.\n",
        "\n",
        "Note that the labels have some structure in them. Each label consists of two parts: e.g. FOOD#QUALITY consists of FOOD and QUALITY. Maybe try splitting the labels into two parts and predicting each part independanty? Of course, you need to glue them back up when doing evaluation.\n",
        "\n",
        "Multi-label classification can be easily handled with neural network models with a model that has one output for each label, but instead of simple cross-entropy, binary cross-entropy has to be used for optimization.\n",
        "\n",
        "Multi-label classification is a quite popular task and you can find a lot of tutorials on the internet. For example, many many text classification where a text can be assigned many tags (as in StackOverflow) are multi-label tasks.\n",
        "\n",
        "\n",
        "Check the slides of Lecture 1 on how the final project should look like, what parts it should contain and how it will be graded.\n",
        "\n",
        "\n"
      ]
    },
    {
      "cell_type": "markdown",
      "metadata": {
        "id": "i3kc6ozYVoo1"
      },
      "source": [
        "## Failing with OneVsOne"
      ]
    },
    {
      "cell_type": "code",
      "metadata": {
        "id": "icGZVw0IS_Q_"
      },
      "source": [
        "def get_index(l):\n",
        "  try:\n",
        "    return list(l).index(1)\n",
        "  except: \n",
        "    #print(l)\n",
        "    return 13"
      ],
      "execution_count": 30,
      "outputs": []
    },
    {
      "cell_type": "code",
      "metadata": {
        "id": "wqL-prRmUu2R"
      },
      "source": [
        "import numpy as np\n",
        "\n",
        "def reverse(l):\n",
        "  result = []\n",
        "  for e in l:\n",
        "    zeros = np.zeros(12, int)\n",
        "    if e != 13:\n",
        "      zeros[e] = 1\n",
        "    result.append(zeros)\n",
        "  return np.array(result)\n"
      ],
      "execution_count": 31,
      "outputs": []
    },
    {
      "cell_type": "code",
      "metadata": {
        "id": "ZuwKorIkjdA3",
        "colab": {
          "base_uri": "https://localhost:8080/"
        },
        "outputId": "2d113a76-8927-4381-d229-e43bd9720791"
      },
      "source": [
        "from sklearn.multiclass import OneVsOneClassifier\n",
        "\n",
        "text_clf_1vs1 = Pipeline([\n",
        "     ('vect', CountVectorizer()),\n",
        "     ('tfidf', TfidfTransformer()),\n",
        "     ('clf',  OneVsOneClassifier(LogisticRegression()))\n",
        " ])\n",
        "train_labels_1vs1 = list(map(lambda x: get_index(x), train_labels))\n",
        "text_clf_1vs1.fit(train_text, train_labels_1vs1)\n",
        "\n",
        "test_predictions = text_clf_1vs1.predict(test_text)\n",
        "\n",
        "test_predictions = reverse(test_predictions)\n",
        "print(test_predictions)\n",
        "#test_labels_1vs1 = list(map(lambda x: get_index(x), test_labels))\n",
        "#print(test_predictions)\n",
        "f1 = f1_score(test_labels,\n",
        "         test_predictions,\n",
        "         average='micro')\n",
        "print('F1: {}'.format(f1))\n",
        "print(classification_report(test_labels, test_predictions, target_names=mlb.classes_, zero_division=0))"
      ],
      "execution_count": 32,
      "outputs": [
        {
          "output_type": "stream",
          "text": [
            "[[0 0 0 ... 0 0 0]\n",
            " [0 0 0 ... 0 0 0]\n",
            " [0 0 0 ... 0 0 0]\n",
            " ...\n",
            " [0 0 0 ... 0 0 0]\n",
            " [0 0 0 ... 0 0 0]\n",
            " [0 0 0 ... 0 0 0]]\n",
            "F1: 0.5303703703703704\n",
            "                          precision    recall  f1-score   support\n",
            "\n",
            "        AMBIENCE#GENERAL       0.79      0.47      0.59        57\n",
            "           DRINKS#PRICES       0.00      0.00      0.00         3\n",
            "          DRINKS#QUALITY       0.00      0.00      0.00        21\n",
            "    DRINKS#STYLE_OPTIONS       0.00      0.00      0.00        12\n",
            "             FOOD#PRICES       0.00      0.00      0.00        22\n",
            "            FOOD#QUALITY       0.53      0.88      0.66       226\n",
            "      FOOD#STYLE_OPTIONS       0.00      0.00      0.00        48\n",
            "        LOCATION#GENERAL       0.00      0.00      0.00        13\n",
            "      RESTAURANT#GENERAL       0.61      0.56      0.58       142\n",
            "RESTAURANT#MISCELLANEOUS       0.00      0.00      0.00        33\n",
            "       RESTAURANT#PRICES       0.00      0.00      0.00        21\n",
            "         SERVICE#GENERAL       0.85      0.37      0.51       145\n",
            "\n",
            "               micro avg       0.59      0.48      0.53       743\n",
            "               macro avg       0.23      0.19      0.20       743\n",
            "            weighted avg       0.50      0.48      0.46       743\n",
            "             samples avg       0.53      0.45      0.48       743\n",
            "\n"
          ],
          "name": "stdout"
        }
      ]
    },
    {
      "cell_type": "markdown",
      "metadata": {
        "id": "tBLqZ6BMXeN7"
      },
      "source": [
        "## OutputCode"
      ]
    },
    {
      "cell_type": "code",
      "metadata": {
        "colab": {
          "base_uri": "https://localhost:8080/"
        },
        "id": "K-zgMkaZXgLX",
        "outputId": "2d1d080a-eb7f-4559-d0d0-bd160393d0c4"
      },
      "source": [
        "from sklearn.multiclass import OutputCodeClassifier\n",
        "from sklearn.preprocessing import FunctionTransformer\n",
        "\n",
        "text_clf_occ = Pipeline([\n",
        "     ('vect', CountVectorizer()),\n",
        "     ('tfidf', TfidfTransformer()), \n",
        "     ('to_dense', FunctionTransformer(lambda x: x.todense(), accept_sparse=True)),\n",
        "     ('clf',  OutputCodeClassifier(LogisticRegression()))\n",
        " ])\n",
        "#train_labels_1vs1 = list(map(lambda x: get_index(x), train_labels))\n",
        "#text_clf_occ.fit(train_text, train_labels)\n",
        "\n",
        "#test_predictions = text_clf_occ.predict(test_text)\n",
        "\n",
        "#test_predictions = reverse(test_predictions)\n",
        "print(test_predictions)\n",
        "#test_labels_1vs1 = list(map(lambda x: get_index(x), test_labels))\n",
        "#print(test_predictions)\n",
        "f1 = f1_score(test_labels,\n",
        "         test_predictions,\n",
        "         average='micro')\n",
        "print('F1: {}'.format(f1))\n",
        "print(classification_report(test_labels, test_predictions, target_names=mlb.classes_, zero_division=0))"
      ],
      "execution_count": 33,
      "outputs": [
        {
          "output_type": "stream",
          "text": [
            "[[0 0 0 ... 0 0 0]\n",
            " [0 0 0 ... 0 0 0]\n",
            " [0 0 0 ... 0 0 0]\n",
            " ...\n",
            " [0 0 0 ... 0 0 0]\n",
            " [0 0 0 ... 0 0 0]\n",
            " [0 0 0 ... 0 0 0]]\n",
            "F1: 0.5303703703703704\n",
            "                          precision    recall  f1-score   support\n",
            "\n",
            "        AMBIENCE#GENERAL       0.79      0.47      0.59        57\n",
            "           DRINKS#PRICES       0.00      0.00      0.00         3\n",
            "          DRINKS#QUALITY       0.00      0.00      0.00        21\n",
            "    DRINKS#STYLE_OPTIONS       0.00      0.00      0.00        12\n",
            "             FOOD#PRICES       0.00      0.00      0.00        22\n",
            "            FOOD#QUALITY       0.53      0.88      0.66       226\n",
            "      FOOD#STYLE_OPTIONS       0.00      0.00      0.00        48\n",
            "        LOCATION#GENERAL       0.00      0.00      0.00        13\n",
            "      RESTAURANT#GENERAL       0.61      0.56      0.58       142\n",
            "RESTAURANT#MISCELLANEOUS       0.00      0.00      0.00        33\n",
            "       RESTAURANT#PRICES       0.00      0.00      0.00        21\n",
            "         SERVICE#GENERAL       0.85      0.37      0.51       145\n",
            "\n",
            "               micro avg       0.59      0.48      0.53       743\n",
            "               macro avg       0.23      0.19      0.20       743\n",
            "            weighted avg       0.50      0.48      0.46       743\n",
            "             samples avg       0.53      0.45      0.48       743\n",
            "\n"
          ],
          "name": "stdout"
        }
      ]
    },
    {
      "cell_type": "markdown",
      "metadata": {
        "id": "fMkKv3DbfLEw"
      },
      "source": [
        "# BERT approach\n",
        "  "
      ]
    },
    {
      "cell_type": "markdown",
      "metadata": {
        "id": "1p0VaHZP9Beu"
      },
      "source": [
        "## Requirements"
      ]
    },
    {
      "cell_type": "code",
      "metadata": {
        "colab": {
          "base_uri": "https://localhost:8080/"
        },
        "id": "rA2RSDiEfK28",
        "outputId": "9d249d8d-0067-4991-984c-218e523845d7"
      },
      "source": [
        "!pip install transformers"
      ],
      "execution_count": 34,
      "outputs": [
        {
          "output_type": "stream",
          "text": [
            "Collecting transformers\n",
            "\u001b[?25l  Downloading https://files.pythonhosted.org/packages/d5/43/cfe4ee779bbd6a678ac6a97c5a5cdeb03c35f9eaebbb9720b036680f9a2d/transformers-4.6.1-py3-none-any.whl (2.2MB)\n",
            "\u001b[K     |████████████████████████████████| 2.3MB 6.8MB/s \n",
            "\u001b[?25hRequirement already satisfied: regex!=2019.12.17 in /usr/local/lib/python3.7/dist-packages (from transformers) (2019.12.20)\n",
            "Requirement already satisfied: importlib-metadata; python_version < \"3.8\" in /usr/local/lib/python3.7/dist-packages (from transformers) (4.0.1)\n",
            "Requirement already satisfied: packaging in /usr/local/lib/python3.7/dist-packages (from transformers) (20.9)\n",
            "Requirement already satisfied: numpy>=1.17 in /usr/local/lib/python3.7/dist-packages (from transformers) (1.19.5)\n",
            "Collecting sacremoses\n",
            "\u001b[?25l  Downloading https://files.pythonhosted.org/packages/75/ee/67241dc87f266093c533a2d4d3d69438e57d7a90abb216fa076e7d475d4a/sacremoses-0.0.45-py3-none-any.whl (895kB)\n",
            "\u001b[K     |████████████████████████████████| 901kB 49.9MB/s \n",
            "\u001b[?25hRequirement already satisfied: filelock in /usr/local/lib/python3.7/dist-packages (from transformers) (3.0.12)\n",
            "Requirement already satisfied: requests in /usr/local/lib/python3.7/dist-packages (from transformers) (2.23.0)\n",
            "Collecting tokenizers<0.11,>=0.10.1\n",
            "\u001b[?25l  Downloading https://files.pythonhosted.org/packages/d4/e2/df3543e8ffdab68f5acc73f613de9c2b155ac47f162e725dcac87c521c11/tokenizers-0.10.3-cp37-cp37m-manylinux_2_5_x86_64.manylinux1_x86_64.manylinux_2_12_x86_64.manylinux2010_x86_64.whl (3.3MB)\n",
            "\u001b[K     |████████████████████████████████| 3.3MB 48.8MB/s \n",
            "\u001b[?25hRequirement already satisfied: tqdm>=4.27 in /usr/local/lib/python3.7/dist-packages (from transformers) (4.41.1)\n",
            "Collecting huggingface-hub==0.0.8\n",
            "  Downloading https://files.pythonhosted.org/packages/a1/88/7b1e45720ecf59c6c6737ff332f41c955963090a18e72acbcbeac6b25e86/huggingface_hub-0.0.8-py3-none-any.whl\n",
            "Requirement already satisfied: typing-extensions>=3.6.4; python_version < \"3.8\" in /usr/local/lib/python3.7/dist-packages (from importlib-metadata; python_version < \"3.8\"->transformers) (3.7.4.3)\n",
            "Requirement already satisfied: zipp>=0.5 in /usr/local/lib/python3.7/dist-packages (from importlib-metadata; python_version < \"3.8\"->transformers) (3.4.1)\n",
            "Requirement already satisfied: pyparsing>=2.0.2 in /usr/local/lib/python3.7/dist-packages (from packaging->transformers) (2.4.7)\n",
            "Requirement already satisfied: joblib in /usr/local/lib/python3.7/dist-packages (from sacremoses->transformers) (1.0.1)\n",
            "Requirement already satisfied: six in /usr/local/lib/python3.7/dist-packages (from sacremoses->transformers) (1.15.0)\n",
            "Requirement already satisfied: click in /usr/local/lib/python3.7/dist-packages (from sacremoses->transformers) (7.1.2)\n",
            "Requirement already satisfied: idna<3,>=2.5 in /usr/local/lib/python3.7/dist-packages (from requests->transformers) (2.10)\n",
            "Requirement already satisfied: certifi>=2017.4.17 in /usr/local/lib/python3.7/dist-packages (from requests->transformers) (2020.12.5)\n",
            "Requirement already satisfied: urllib3!=1.25.0,!=1.25.1,<1.26,>=1.21.1 in /usr/local/lib/python3.7/dist-packages (from requests->transformers) (1.24.3)\n",
            "Requirement already satisfied: chardet<4,>=3.0.2 in /usr/local/lib/python3.7/dist-packages (from requests->transformers) (3.0.4)\n",
            "Installing collected packages: sacremoses, tokenizers, huggingface-hub, transformers\n",
            "Successfully installed huggingface-hub-0.0.8 sacremoses-0.0.45 tokenizers-0.10.3 transformers-4.6.1\n"
          ],
          "name": "stdout"
        }
      ]
    },
    {
      "cell_type": "code",
      "metadata": {
        "colab": {
          "base_uri": "https://localhost:8080/"
        },
        "id": "306lRrowfUcX",
        "outputId": "526e375e-8ae9-4083-a9c9-f5d837b94be0"
      },
      "source": [
        "import numpy as np\n",
        "import torch\n",
        "from torch.utils.data import Dataset, DataLoader\n",
        "\n",
        "import torch \n",
        "\n",
        "device = 'cpu'\n",
        "if torch.cuda.is_available():\n",
        "  device = torch.device('cuda')\n",
        "\n",
        "print(device)"
      ],
      "execution_count": 35,
      "outputs": [
        {
          "output_type": "stream",
          "text": [
            "cuda\n"
          ],
          "name": "stdout"
        }
      ]
    },
    {
      "cell_type": "markdown",
      "metadata": {
        "id": "PCWWRqDhq_sb"
      },
      "source": [
        "## BERT tokenizer"
      ]
    },
    {
      "cell_type": "code",
      "metadata": {
        "colab": {
          "base_uri": "https://localhost:8080/"
        },
        "id": "FRyFIFEArFiZ",
        "outputId": "794f955e-d887-4e97-cad8-32004a46e8e9"
      },
      "source": [
        "!pip install transformers"
      ],
      "execution_count": 36,
      "outputs": [
        {
          "output_type": "stream",
          "text": [
            "Requirement already satisfied: transformers in /usr/local/lib/python3.7/dist-packages (4.6.1)\n",
            "Requirement already satisfied: packaging in /usr/local/lib/python3.7/dist-packages (from transformers) (20.9)\n",
            "Requirement already satisfied: requests in /usr/local/lib/python3.7/dist-packages (from transformers) (2.23.0)\n",
            "Requirement already satisfied: filelock in /usr/local/lib/python3.7/dist-packages (from transformers) (3.0.12)\n",
            "Requirement already satisfied: regex!=2019.12.17 in /usr/local/lib/python3.7/dist-packages (from transformers) (2019.12.20)\n",
            "Requirement already satisfied: numpy>=1.17 in /usr/local/lib/python3.7/dist-packages (from transformers) (1.19.5)\n",
            "Requirement already satisfied: sacremoses in /usr/local/lib/python3.7/dist-packages (from transformers) (0.0.45)\n",
            "Requirement already satisfied: tokenizers<0.11,>=0.10.1 in /usr/local/lib/python3.7/dist-packages (from transformers) (0.10.3)\n",
            "Requirement already satisfied: huggingface-hub==0.0.8 in /usr/local/lib/python3.7/dist-packages (from transformers) (0.0.8)\n",
            "Requirement already satisfied: tqdm>=4.27 in /usr/local/lib/python3.7/dist-packages (from transformers) (4.41.1)\n",
            "Requirement already satisfied: importlib-metadata; python_version < \"3.8\" in /usr/local/lib/python3.7/dist-packages (from transformers) (4.0.1)\n",
            "Requirement already satisfied: pyparsing>=2.0.2 in /usr/local/lib/python3.7/dist-packages (from packaging->transformers) (2.4.7)\n",
            "Requirement already satisfied: urllib3!=1.25.0,!=1.25.1,<1.26,>=1.21.1 in /usr/local/lib/python3.7/dist-packages (from requests->transformers) (1.24.3)\n",
            "Requirement already satisfied: certifi>=2017.4.17 in /usr/local/lib/python3.7/dist-packages (from requests->transformers) (2020.12.5)\n",
            "Requirement already satisfied: idna<3,>=2.5 in /usr/local/lib/python3.7/dist-packages (from requests->transformers) (2.10)\n",
            "Requirement already satisfied: chardet<4,>=3.0.2 in /usr/local/lib/python3.7/dist-packages (from requests->transformers) (3.0.4)\n",
            "Requirement already satisfied: six in /usr/local/lib/python3.7/dist-packages (from sacremoses->transformers) (1.15.0)\n",
            "Requirement already satisfied: click in /usr/local/lib/python3.7/dist-packages (from sacremoses->transformers) (7.1.2)\n",
            "Requirement already satisfied: joblib in /usr/local/lib/python3.7/dist-packages (from sacremoses->transformers) (1.0.1)\n",
            "Requirement already satisfied: zipp>=0.5 in /usr/local/lib/python3.7/dist-packages (from importlib-metadata; python_version < \"3.8\"->transformers) (3.4.1)\n",
            "Requirement already satisfied: typing-extensions>=3.6.4; python_version < \"3.8\" in /usr/local/lib/python3.7/dist-packages (from importlib-metadata; python_version < \"3.8\"->transformers) (3.7.4.3)\n"
          ],
          "name": "stdout"
        }
      ]
    },
    {
      "cell_type": "code",
      "metadata": {
        "colab": {
          "base_uri": "https://localhost:8080/",
          "height": 0,
          "referenced_widgets": [
            "29cf10ae394f403897e6de0a4e202af5",
            "ebd351dd90e84031901b4a12f654020f",
            "a56b0f73c629491388b7c078d96fd29f",
            "c0935987060142df87e342762fa739dc",
            "78de4807f5ce41f7a2eeabff6a24eb72",
            "93252dad22d14933a2861484b85cfd46",
            "ba31d9a46be8400a945e385c53e36c31",
            "8da21352a1c34490a397e9e3e061ec5f",
            "58b757da1d4840508b148754d5239133",
            "066cf5aae9124cafb4c5cf3ea5cb71df",
            "1bbc145b3f9f442c8b1e7acf6aa862e7",
            "89e20a289e444bca91f0439a86abebc6",
            "c7256fb33a48409d8b3b679e8def4f0d",
            "f04399a0121c48d49eb9df6a1d711f1c",
            "0b4b0f46668b4751b53f510772bd0d5c",
            "a370c970cbc0495787261c59151c8e2b",
            "f2c8e883512b41f7bef0ffaf471cf726",
            "cfd42b1c62c44b97aa8da5b7b0cb4184",
            "99f0f9adeb3a4eeb9184278a49830771",
            "52c46e2f4bcf43d5932f3e0b738d809f",
            "2633032c854042fe81f481f2c2797194",
            "b523c1436532402598c7c89f186aca17",
            "a5841738fa564f3bb0641b9deb2760c8",
            "eca962448be749809be36eca747d9b81"
          ]
        },
        "id": "GSzeXGhHrBz5",
        "outputId": "3c43e8a9-49c4-4cd3-a6c8-e8c0b3cafcaa"
      },
      "source": [
        "from transformers import BertTokenizer\n",
        "tokenizer = BertTokenizer.from_pretrained('bert-base-cased', do_lower_case=False)"
      ],
      "execution_count": 37,
      "outputs": [
        {
          "output_type": "display_data",
          "data": {
            "application/vnd.jupyter.widget-view+json": {
              "model_id": "29cf10ae394f403897e6de0a4e202af5",
              "version_minor": 0,
              "version_major": 2
            },
            "text/plain": [
              "HBox(children=(FloatProgress(value=0.0, description='Downloading', max=213450.0, style=ProgressStyle(descripti…"
            ]
          },
          "metadata": {
            "tags": []
          }
        },
        {
          "output_type": "stream",
          "text": [
            "\n"
          ],
          "name": "stdout"
        },
        {
          "output_type": "display_data",
          "data": {
            "application/vnd.jupyter.widget-view+json": {
              "model_id": "58b757da1d4840508b148754d5239133",
              "version_minor": 0,
              "version_major": 2
            },
            "text/plain": [
              "HBox(children=(FloatProgress(value=0.0, description='Downloading', max=29.0, style=ProgressStyle(description_w…"
            ]
          },
          "metadata": {
            "tags": []
          }
        },
        {
          "output_type": "stream",
          "text": [
            "\n"
          ],
          "name": "stdout"
        },
        {
          "output_type": "display_data",
          "data": {
            "application/vnd.jupyter.widget-view+json": {
              "model_id": "f2c8e883512b41f7bef0ffaf471cf726",
              "version_minor": 0,
              "version_major": 2
            },
            "text/plain": [
              "HBox(children=(FloatProgress(value=0.0, description='Downloading', max=435797.0, style=ProgressStyle(descripti…"
            ]
          },
          "metadata": {
            "tags": []
          }
        },
        {
          "output_type": "stream",
          "text": [
            "\n"
          ],
          "name": "stdout"
        }
      ]
    },
    {
      "cell_type": "markdown",
      "metadata": {
        "id": "Zd9yJce1s-Pb"
      },
      "source": [
        "## TextDataset"
      ]
    },
    {
      "cell_type": "code",
      "metadata": {
        "id": "RDj8xCpWtAIb"
      },
      "source": [
        "class TextLabelDataset (Dataset):\n",
        "    def __init__(self, text, labels, tokenizer, max_len):\n",
        "        self.tokenizer = tokenizer\n",
        "        self.text = text\n",
        "        self.labels = labels\n",
        "        self.max_len = max_len\n",
        "        \n",
        "    def __len__(self):\n",
        "        return len(self.text)\n",
        "    \n",
        "    def __getitem__(self, item_idx):\n",
        "        text = self.text[item_idx]\n",
        "        inputs = self.tokenizer.encode_plus(\n",
        "            text,\n",
        "            None,\n",
        "            add_special_tokens=True,\n",
        "            max_length= self.max_len,\n",
        "            padding = 'max_length',\n",
        "            return_token_type_ids= False,\n",
        "            return_attention_mask= True,\n",
        "            truncation=True,\n",
        "            return_tensors = 'pt'\n",
        "          )\n",
        "        \n",
        "        input_ids = inputs['input_ids'].flatten()\n",
        "        attn_mask = inputs['attention_mask'].flatten()\n",
        "               \n",
        "        return {\n",
        "          'input_ids': input_ids ,\n",
        "          'attention_mask': attn_mask,\n",
        "          'label_ids':torch.tensor(self.labels[item_idx],dtype= torch.float)\n",
        "        }"
      ],
      "execution_count": 38,
      "outputs": []
    },
    {
      "cell_type": "code",
      "metadata": {
        "colab": {
          "base_uri": "https://localhost:8080/"
        },
        "id": "8gWAr-Ndzvvd",
        "outputId": "74559b20-c93e-4245-867d-0c6b0facd567"
      },
      "source": [
        "all_text = train_text + test_text\n",
        "all_text_lengths = map(lambda x: len(tokenizer.tokenize(x)), all_text)\n",
        "MAX_LEN = max(all_text_lengths) + 2\n",
        "print(MAX_LEN)"
      ],
      "execution_count": 39,
      "outputs": [
        {
          "output_type": "stream",
          "text": [
            "110\n"
          ],
          "name": "stdout"
        }
      ]
    },
    {
      "cell_type": "code",
      "metadata": {
        "id": "5FmAeTiPx2jj"
      },
      "source": [
        "train_dataset = TextLabelDataset(train_text, train_labels, tokenizer, MAX_LEN)\n",
        "test_dataset = TextLabelDataset(test_text, test_labels, tokenizer, MAX_LEN)"
      ],
      "execution_count": 40,
      "outputs": []
    },
    {
      "cell_type": "markdown",
      "metadata": {
        "id": "UwH569MgmCg_"
      },
      "source": [
        "## BERT Model"
      ]
    },
    {
      "cell_type": "code",
      "metadata": {
        "id": "9SSkpo3il2Fo"
      },
      "source": [
        "import torch.nn as nn\n",
        "import torch.nn.functional as F\n",
        "from transformers import BertModel\n",
        "\n",
        "class MyBertModel(nn.Module):\n",
        "    def __init__(self, num_classes, device='cpu', finetuning=False):\n",
        "        super().__init__()\n",
        "        self.bert = BertModel.from_pretrained('bert-base-cased', \n",
        "                                              return_dict=True)\n",
        "\n",
        "        self.fc = nn.Linear(self.bert.config.hidden_size, num_classes)\n",
        "        self.sig = nn.Sigmoid()\n",
        "\n",
        "        self.device = device\n",
        "        self.finetuning = finetuning\n",
        "\n",
        "    def forward(self, x, attn):\n",
        "        '''\n",
        "        x: (N, T). int64\n",
        "        Returns\n",
        "        enc: (N, T, num_classes)\n",
        "        '''\n",
        "        x = x.to(self.device)\n",
        "        # feed input tokens through BERT\n",
        "        if self.training and self.finetuning:\n",
        "            # print(\"->bert.train()\")\n",
        "            self.bert.train()\n",
        "\n",
        "            outputs = self.bert(input_ids=x,attention_mask=attn)\n",
        "        else:\n",
        "            self.bert.eval()\n",
        "            with torch.no_grad():\n",
        "              outputs = self.bert(x)\n",
        "        #print('outputs.pooler_output shape:')\n",
        "        #print(outputs.pooler_output.shape)\n",
        "        # feed BERT encodings through a classification layer\n",
        "        logits = self.fc(outputs.pooler_output)\n",
        "        #print('logits shape:')\n",
        "        #print(logits.shape)\n",
        "        \n",
        "        return self.sig(logits)\n",
        "    \n",
        "    def to_labels(self, result, threshold=0.5):\n",
        "        to_return = torch.empty_like(result)\n",
        "        for i in range(result.shape[0]):\n",
        "            for j in range(result.shape[1]):\n",
        "                if result[i][j] > threshold:\n",
        "                    to_return[i][j] = 1\n",
        "                else:\n",
        "                    to_return[i][j] = 0\n",
        "        return to_return\n"
      ],
      "execution_count": 41,
      "outputs": []
    },
    {
      "cell_type": "markdown",
      "metadata": {
        "id": "rGBEt5PjmFfd"
      },
      "source": [
        "## Train function"
      ]
    },
    {
      "cell_type": "code",
      "metadata": {
        "colab": {
          "base_uri": "https://localhost:8080/"
        },
        "id": "0vAVZb2F7_Yj",
        "outputId": "1e12f890-a866-4c8b-84b6-13d82768b889"
      },
      "source": [
        "!pip install sklearn_crfsuite\n",
        "import sklearn_crfsuite\n",
        "import sklearn_crfsuite.metrics"
      ],
      "execution_count": 42,
      "outputs": [
        {
          "output_type": "stream",
          "text": [
            "Collecting sklearn_crfsuite\n",
            "  Downloading https://files.pythonhosted.org/packages/25/74/5b7befa513482e6dee1f3dd68171a6c9dfc14c0eaa00f885ffeba54fe9b0/sklearn_crfsuite-0.3.6-py2.py3-none-any.whl\n",
            "Collecting python-crfsuite>=0.8.3\n",
            "\u001b[?25l  Downloading https://files.pythonhosted.org/packages/79/47/58f16c46506139f17de4630dbcfb877ce41a6355a1bbf3c443edb9708429/python_crfsuite-0.9.7-cp37-cp37m-manylinux1_x86_64.whl (743kB)\n",
            "\u001b[K     |████████████████████████████████| 747kB 10.5MB/s \n",
            "\u001b[?25hRequirement already satisfied: tqdm>=2.0 in /usr/local/lib/python3.7/dist-packages (from sklearn_crfsuite) (4.41.1)\n",
            "Requirement already satisfied: tabulate in /usr/local/lib/python3.7/dist-packages (from sklearn_crfsuite) (0.8.9)\n",
            "Requirement already satisfied: six in /usr/local/lib/python3.7/dist-packages (from sklearn_crfsuite) (1.15.0)\n",
            "Installing collected packages: python-crfsuite, sklearn-crfsuite\n",
            "Successfully installed python-crfsuite-0.9.7 sklearn-crfsuite-0.3.6\n"
          ],
          "name": "stdout"
        }
      ]
    },
    {
      "cell_type": "code",
      "metadata": {
        "id": "jXK4N3hamHav"
      },
      "source": [
        "def train(model, num_epochs, train_iter, dev_iter):\n",
        "  criterion = nn.BCELoss()\n",
        "  optimizer = torch.optim.Adam(model.parameters(), lr=0.0001)\n",
        "\n",
        "  for epoch in range(1, num_epochs+1):\n",
        "    print(\"Epoch %d\" % epoch)\n",
        "    \n",
        "    for i, batch in enumerate(train_iter):\n",
        "        model.train()\n",
        "        x = batch[\"input_ids\"]\n",
        "        y = batch[\"label_ids\"]\n",
        "        attn = batch[\"attention_mask\"]\n",
        "\n",
        "        #print(x.shape)\n",
        "        #print(y.shape)\n",
        "\n",
        "        optimizer.zero_grad()\n",
        "        x = x.to(device)\n",
        "        attn = attn.to(device)\n",
        "        logits = model(x, attn) # logits: (N, T, TAGS), y: (N, T)\n",
        "        #print(logits[0])\n",
        "\n",
        "        logits = logits.view(-1, logits.shape[-1]) # (N*T, TAGS)\n",
        "        y = y.to(device)\n",
        "        #y = y.view(-1)  # (N*T,)\n",
        "        #logits = logits.view(-1)\n",
        "        #print(logits.shape)\n",
        "        #print(y.shape)\n",
        "\n",
        "        loss = criterion(logits, y)\n",
        "        loss.backward()\n",
        "\n",
        "        optimizer.step()\n",
        "\n",
        "\n",
        "        if i % 10 == 0: # monitoring\n",
        "            print(f\"step: {i}, loss: {loss.item()}\")\n",
        "\n",
        "        if i % 100 == 0: # let's evaluate more frequently than every epoch\n",
        "            evaluate(\"test set\", dev_iter, model)"
      ],
      "execution_count": 43,
      "outputs": []
    },
    {
      "cell_type": "markdown",
      "metadata": {
        "id": "JmkTDgVcGfdQ"
      },
      "source": [
        "## Evaluate function"
      ]
    },
    {
      "cell_type": "code",
      "metadata": {
        "id": "RSBatQWrGiet"
      },
      "source": [
        "from sklearn.metrics import classification_report\n",
        "\n",
        "def evaluate(dataset_name, data_iter, model, full_report=False, threshold=0.5):\n",
        "  \n",
        "  model.eval()\n",
        "  not_started = True\n",
        "  with torch.no_grad():\n",
        "    for batch in data_iter:\n",
        "      x = batch[\"input_ids\"]\n",
        "      y = batch[\"label_ids\"]\n",
        "      attn = batch[\"attention_mask\"]\n",
        "      x = x.to(device)\n",
        "      y = y.to(device)\n",
        "\n",
        "      logits = model(x, attn)\n",
        "      y_pred = logits\n",
        "\n",
        "      if not_started:\n",
        "        y_seq = y\n",
        "        y_pred_seq = logits\n",
        "        not_started = False\n",
        "      else:\n",
        "        #print(y_seq.shape)\n",
        "        #print(y_pred_seq.shape)\n",
        "        y_seq = torch.cat((y_seq,y), dim=0)\n",
        "        y_pred_seq = torch.cat((y_pred_seq, y_pred), dim=0)\n",
        "  \n",
        "  y_pred_seq = model.to_labels(y_pred_seq, threshold)\n",
        "  y_seq = y_seq.cpu()\n",
        "  y_pred_seq = y_pred_seq.cpu()\n",
        "  accuracy = sklearn_crfsuite.metrics.flat_accuracy_score(y_seq, y_pred_seq)\n",
        "  \n",
        "  print('  Evaluation on {} -  acc: {:.4f}%'.format(dataset_name, accuracy))\n",
        "  print('     F1: {}'.format(f1_score(y_seq, y_pred_seq, average='micro')))\n",
        "  if full_report:\n",
        "    print(classification_report(y_seq, y_pred_seq, target_names=list(TAGS)))"
      ],
      "execution_count": 52,
      "outputs": []
    },
    {
      "cell_type": "markdown",
      "metadata": {
        "id": "POWaEnWjnRf_"
      },
      "source": [
        "## Model call"
      ]
    },
    {
      "cell_type": "code",
      "metadata": {
        "colab": {
          "base_uri": "https://localhost:8080/",
          "height": 0,
          "referenced_widgets": [
            "4d2e35c0131a4d34bb343880436c6b58",
            "89b678ebafcb425ea42115eb6e5b136e",
            "edf45df2a68145f6a1c6ed60d3ccdcd2",
            "9273570752de4a0da41bce670faab8da",
            "aedaaec0451a4f33b6615243bd19d47f",
            "aa2bfe50f261432bb52f67aa9b005d2d",
            "13f91b92ee9d47209ac48e32f1102e98",
            "9cedcabe03244d99be74c751a8bf5b9e",
            "67a3988e0d384ac5b86c67b68cc5f461",
            "3a1ba2ff8a04423aa68a6aa1577be480",
            "39a8e86941c14e4684ffe23cfd3156b1",
            "25e43079723b4b8ba7212b53964a893a",
            "953672c87e9843ebbe65fa90b43c501a",
            "ae68818a2bc64da1bca7cceab5cdbd59",
            "b985abc2e15a4db196c3e627e1f10c45",
            "209a8bf1b9d14fa98d14c42d3f908b5e"
          ]
        },
        "id": "rO7Dvj2fnTtz",
        "outputId": "570fdfaa-6068-4c03-c279-acd765042576"
      },
      "source": [
        "model = MyBertModel(n_labels, device, True).to(device)"
      ],
      "execution_count": 45,
      "outputs": [
        {
          "output_type": "display_data",
          "data": {
            "application/vnd.jupyter.widget-view+json": {
              "model_id": "4d2e35c0131a4d34bb343880436c6b58",
              "version_minor": 0,
              "version_major": 2
            },
            "text/plain": [
              "HBox(children=(FloatProgress(value=0.0, description='Downloading', max=570.0, style=ProgressStyle(description_…"
            ]
          },
          "metadata": {
            "tags": []
          }
        },
        {
          "output_type": "stream",
          "text": [
            "\n"
          ],
          "name": "stdout"
        },
        {
          "output_type": "display_data",
          "data": {
            "application/vnd.jupyter.widget-view+json": {
              "model_id": "67a3988e0d384ac5b86c67b68cc5f461",
              "version_minor": 0,
              "version_major": 2
            },
            "text/plain": [
              "HBox(children=(FloatProgress(value=0.0, description='Downloading', max=435779157.0, style=ProgressStyle(descri…"
            ]
          },
          "metadata": {
            "tags": []
          }
        },
        {
          "output_type": "stream",
          "text": [
            "\n"
          ],
          "name": "stdout"
        },
        {
          "output_type": "stream",
          "text": [
            "Some weights of the model checkpoint at bert-base-cased were not used when initializing BertModel: ['cls.predictions.decoder.weight', 'cls.predictions.transform.LayerNorm.bias', 'cls.predictions.transform.dense.weight', 'cls.seq_relationship.weight', 'cls.predictions.bias', 'cls.seq_relationship.bias', 'cls.predictions.transform.dense.bias', 'cls.predictions.transform.LayerNorm.weight']\n",
            "- This IS expected if you are initializing BertModel from the checkpoint of a model trained on another task or with another architecture (e.g. initializing a BertForSequenceClassification model from a BertForPreTraining model).\n",
            "- This IS NOT expected if you are initializing BertModel from the checkpoint of a model that you expect to be exactly identical (initializing a BertForSequenceClassification model from a BertForSequenceClassification model).\n"
          ],
          "name": "stderr"
        }
      ]
    },
    {
      "cell_type": "markdown",
      "metadata": {
        "id": "2VUny0KGpQUw"
      },
      "source": [
        "## Batching"
      ]
    },
    {
      "cell_type": "code",
      "metadata": {
        "id": "LpUaWt0MpSf5"
      },
      "source": [
        "# we use a small batch size, as BERT needs a lot of memory\n",
        "batch_size = 16\n",
        "\n",
        "train_iter = DataLoader(dataset=train_dataset,\n",
        "                                 batch_size=batch_size,\n",
        "                                 shuffle=True,\n",
        "                                 num_workers=2)\n",
        "dev_iter = DataLoader(dataset=test_dataset,\n",
        "                                 batch_size=batch_size,\n",
        "                                 shuffle=False,\n",
        "                                 num_workers=2)"
      ],
      "execution_count": 46,
      "outputs": []
    },
    {
      "cell_type": "markdown",
      "metadata": {
        "id": "c7Dx82CJpZi9"
      },
      "source": [
        "## Training"
      ]
    },
    {
      "cell_type": "code",
      "metadata": {
        "colab": {
          "base_uri": "https://localhost:8080/"
        },
        "id": "ezDsKWt1pb51",
        "outputId": "69fda025-bf19-4582-ce5c-cfcf24d39fac"
      },
      "source": [
        "train(model, 10, train_iter, dev_iter)"
      ],
      "execution_count": 47,
      "outputs": [
        {
          "output_type": "stream",
          "text": [
            "Epoch 1\n",
            "step: 0, loss: 0.667077898979187\n",
            "  Evaluation on test set -  acc: 0.7097%\n",
            "     F10.26106055851898335\n",
            "step: 10, loss: 0.3105679154396057\n",
            "step: 20, loss: 0.2545967698097229\n",
            "step: 30, loss: 0.2982507646083832\n",
            "step: 40, loss: 0.22019830346107483\n",
            "step: 50, loss: 0.2103111445903778\n",
            "step: 60, loss: 0.21519982814788818\n",
            "step: 70, loss: 0.20828253030776978\n",
            "step: 80, loss: 0.1488845944404602\n",
            "step: 90, loss: 0.16548088192939758\n",
            "step: 100, loss: 0.23972854018211365\n",
            "  Evaluation on test set -  acc: 0.9172%\n",
            "     F10.516546762589928\n",
            "step: 110, loss: 0.20653745532035828\n",
            "step: 120, loss: 0.13889962434768677\n",
            "Epoch 2\n",
            "step: 0, loss: 0.19331812858581543\n",
            "  Evaluation on test set -  acc: 0.9354%\n",
            "     F10.5459272097053726\n",
            "step: 10, loss: 0.20305995643138885\n",
            "step: 20, loss: 0.14982114732265472\n",
            "step: 30, loss: 0.20172254741191864\n",
            "step: 40, loss: 0.16523997485637665\n",
            "step: 50, loss: 0.14635300636291504\n",
            "step: 60, loss: 0.14436325430870056\n",
            "step: 70, loss: 0.15373605489730835\n",
            "step: 80, loss: 0.14928193390369415\n",
            "step: 90, loss: 0.14115288853645325\n",
            "step: 100, loss: 0.11009170114994049\n",
            "  Evaluation on test set -  acc: 0.9365%\n",
            "     F10.5253456221198157\n",
            "step: 110, loss: 0.16327624022960663\n",
            "step: 120, loss: 0.14182528853416443\n",
            "Epoch 3\n",
            "step: 0, loss: 0.15403056144714355\n",
            "  Evaluation on test set -  acc: 0.9284%\n",
            "     F10.5088757396449705\n",
            "step: 10, loss: 0.08988015353679657\n",
            "step: 20, loss: 0.06431495398283005\n",
            "step: 30, loss: 0.10880546271800995\n",
            "step: 40, loss: 0.10341738909482956\n",
            "step: 50, loss: 0.13704301416873932\n",
            "step: 60, loss: 0.10096007585525513\n",
            "step: 70, loss: 0.04213545843958855\n",
            "step: 80, loss: 0.14458243548870087\n",
            "step: 90, loss: 0.09140664339065552\n",
            "step: 100, loss: 0.1117125153541565\n",
            "  Evaluation on test set -  acc: 0.9392%\n",
            "     F10.5716768027801912\n",
            "step: 110, loss: 0.08898618072271347\n",
            "step: 120, loss: 0.13095609843730927\n",
            "Epoch 4\n",
            "step: 0, loss: 0.09668251872062683\n",
            "  Evaluation on test set -  acc: 0.9355%\n",
            "     F10.5023786869647955\n",
            "step: 10, loss: 0.05287618562579155\n",
            "step: 20, loss: 0.06775025278329849\n",
            "step: 30, loss: 0.06073295325040817\n",
            "step: 40, loss: 0.07981231808662415\n",
            "step: 50, loss: 0.07822747528553009\n",
            "step: 60, loss: 0.08140404522418976\n",
            "step: 70, loss: 0.07351328432559967\n",
            "step: 80, loss: 0.054150909185409546\n",
            "step: 90, loss: 0.047375909984111786\n",
            "step: 100, loss: 0.072088323533535\n",
            "  Evaluation on test set -  acc: 0.9221%\n",
            "     F10.5219364599092284\n",
            "step: 110, loss: 0.12198531627655029\n",
            "step: 120, loss: 0.09256806969642639\n",
            "Epoch 5\n",
            "step: 0, loss: 0.03072807565331459\n",
            "  Evaluation on test set -  acc: 0.9363%\n",
            "     F10.5217391304347826\n",
            "step: 10, loss: 0.032942578196525574\n",
            "step: 20, loss: 0.04193524271249771\n",
            "step: 30, loss: 0.03848873823881149\n",
            "step: 40, loss: 0.05051583796739578\n",
            "step: 50, loss: 0.06413190811872482\n",
            "step: 60, loss: 0.05433335155248642\n",
            "step: 70, loss: 0.059557609260082245\n",
            "step: 80, loss: 0.030312221497297287\n",
            "step: 90, loss: 0.04896269366145134\n",
            "step: 100, loss: 0.07537415623664856\n",
            "  Evaluation on test set -  acc: 0.9448%\n",
            "     F10.6964769647696477\n",
            "step: 110, loss: 0.03702351450920105\n",
            "step: 120, loss: 0.05635889619588852\n",
            "Epoch 6\n",
            "step: 0, loss: 0.03193891420960426\n",
            "  Evaluation on test set -  acc: 0.9430%\n",
            "     F10.6243902439024391\n",
            "step: 10, loss: 0.07043392956256866\n",
            "step: 20, loss: 0.03149040788412094\n",
            "step: 30, loss: 0.01769496127963066\n",
            "step: 40, loss: 0.0205707848072052\n",
            "step: 50, loss: 0.04339640960097313\n",
            "step: 60, loss: 0.04565463587641716\n",
            "step: 70, loss: 0.041683923453092575\n",
            "step: 80, loss: 0.08359020948410034\n",
            "step: 90, loss: 0.041961174458265305\n",
            "step: 100, loss: 0.037570610642433167\n",
            "  Evaluation on test set -  acc: 0.9295%\n",
            "     F10.5705705705705706\n",
            "step: 110, loss: 0.04606551676988602\n",
            "step: 120, loss: 0.052764274179935455\n",
            "Epoch 7\n",
            "step: 0, loss: 0.03700292482972145\n",
            "  Evaluation on test set -  acc: 0.9411%\n",
            "     F10.598993288590604\n",
            "step: 10, loss: 0.034576158970594406\n",
            "step: 20, loss: 0.02690943144261837\n",
            "step: 30, loss: 0.07234904170036316\n",
            "step: 40, loss: 0.03654608502984047\n",
            "step: 50, loss: 0.015101145021617413\n",
            "step: 60, loss: 0.03863424435257912\n",
            "step: 70, loss: 0.0511053204536438\n",
            "step: 80, loss: 0.03690216317772865\n",
            "step: 90, loss: 0.05547097325325012\n",
            "step: 100, loss: 0.03415154293179512\n",
            "  Evaluation on test set -  acc: 0.9340%\n",
            "     F10.6555054732775274\n",
            "step: 110, loss: 0.04593870788812637\n",
            "step: 120, loss: 0.04222574457526207\n",
            "Epoch 8\n",
            "step: 0, loss: 0.023785939440131187\n",
            "  Evaluation on test set -  acc: 0.9490%\n",
            "     F10.7112970711297071\n",
            "step: 10, loss: 0.028775041922926903\n",
            "step: 20, loss: 0.05493615195155144\n",
            "step: 30, loss: 0.004363792482763529\n",
            "step: 40, loss: 0.06733904778957367\n",
            "step: 50, loss: 0.033423151820898056\n",
            "step: 60, loss: 0.03620866686105728\n",
            "step: 70, loss: 0.01024223119020462\n",
            "step: 80, loss: 0.009459009394049644\n",
            "step: 90, loss: 0.011927152052521706\n",
            "step: 100, loss: 0.018114930018782616\n",
            "  Evaluation on test set -  acc: 0.9442%\n",
            "     F10.6064291920069506\n",
            "step: 110, loss: 0.011065728031098843\n",
            "step: 120, loss: 0.05840300768613815\n",
            "Epoch 9\n",
            "step: 0, loss: 0.024085629731416702\n",
            "  Evaluation on test set -  acc: 0.9009%\n",
            "     F10.4647137150466045\n",
            "step: 10, loss: 0.03112982027232647\n",
            "step: 20, loss: 0.03151138871908188\n",
            "step: 30, loss: 0.011887016706168652\n",
            "step: 40, loss: 0.011188628152012825\n",
            "step: 50, loss: 0.07645881175994873\n",
            "step: 60, loss: 0.01716282218694687\n",
            "step: 70, loss: 0.022344138473272324\n",
            "step: 80, loss: 0.010832810774445534\n",
            "step: 90, loss: 0.025582868605852127\n",
            "step: 100, loss: 0.006139050703495741\n",
            "  Evaluation on test set -  acc: 0.8969%\n",
            "     F10.4883720930232558\n",
            "step: 110, loss: 0.02768580988049507\n",
            "step: 120, loss: 0.013568699359893799\n",
            "Epoch 10\n",
            "step: 0, loss: 0.011457327753305435\n",
            "  Evaluation on test set -  acc: 0.9210%\n",
            "     F10.6204854943753702\n",
            "step: 10, loss: 0.03994360566139221\n",
            "step: 20, loss: 0.019504453986883163\n",
            "step: 30, loss: 0.04329685494303703\n",
            "step: 40, loss: 0.004986191168427467\n",
            "step: 50, loss: 0.009522664360702038\n",
            "step: 60, loss: 0.020764745771884918\n",
            "step: 70, loss: 0.014180464670062065\n",
            "step: 80, loss: 0.007475368678569794\n",
            "step: 90, loss: 0.03204105421900749\n",
            "step: 100, loss: 0.008235249668359756\n",
            "  Evaluation on test set -  acc: 0.9001%\n",
            "     F10.5583424209378408\n",
            "step: 110, loss: 0.015341410413384438\n",
            "step: 120, loss: 0.014053634367883205\n"
          ],
          "name": "stdout"
        }
      ]
    },
    {
      "cell_type": "markdown",
      "metadata": {
        "id": "QdkY_C2txEoD"
      },
      "source": [
        "## Evaluation"
      ]
    },
    {
      "cell_type": "code",
      "metadata": {
        "id": "sXZGF1ZmxERw",
        "colab": {
          "base_uri": "https://localhost:8080/"
        },
        "outputId": "f55f3268-c10a-45db-efa6-994eb122ee59"
      },
      "source": [
        "evaluate(\"dev\", dev_iter, model, full_report=True)"
      ],
      "execution_count": 48,
      "outputs": [
        {
          "output_type": "stream",
          "text": [
            "  Evaluation on dev -  acc: 0.9343%\n",
            "     F10.6434782608695653\n",
            "                          precision    recall  f1-score   support\n",
            "\n",
            "        AMBIENCE#GENERAL       0.94      0.51      0.66        57\n",
            "           DRINKS#PRICES       0.00      0.00      0.00         3\n",
            "          DRINKS#QUALITY       0.67      0.10      0.17        21\n",
            "    DRINKS#STYLE_OPTIONS       0.67      0.50      0.57        12\n",
            "             FOOD#PRICES       0.60      0.27      0.37        22\n",
            "            FOOD#QUALITY       0.79      0.82      0.81       226\n",
            "      FOOD#STYLE_OPTIONS       0.72      0.27      0.39        48\n",
            "        LOCATION#GENERAL       1.00      0.15      0.27        13\n",
            "      RESTAURANT#GENERAL       0.52      0.71      0.60       142\n",
            "RESTAURANT#MISCELLANEOUS       0.00      0.00      0.00        33\n",
            "       RESTAURANT#PRICES       0.40      0.10      0.15        21\n",
            "         SERVICE#GENERAL       0.55      0.92      0.69       145\n",
            "\n",
            "               micro avg       0.64      0.65      0.64       743\n",
            "               macro avg       0.57      0.36      0.39       743\n",
            "            weighted avg       0.64      0.65      0.60       743\n",
            "             samples avg       0.58      0.58      0.56       743\n",
            "\n"
          ],
          "name": "stdout"
        },
        {
          "output_type": "stream",
          "text": [
            "/usr/local/lib/python3.7/dist-packages/sklearn/metrics/_classification.py:1272: UndefinedMetricWarning: Precision and F-score are ill-defined and being set to 0.0 in labels with no predicted samples. Use `zero_division` parameter to control this behavior.\n",
            "  _warn_prf(average, modifier, msg_start, len(result))\n",
            "/usr/local/lib/python3.7/dist-packages/sklearn/metrics/_classification.py:1272: UndefinedMetricWarning: Precision and F-score are ill-defined and being set to 0.0 in samples with no predicted labels. Use `zero_division` parameter to control this behavior.\n",
            "  _warn_prf(average, modifier, msg_start, len(result))\n",
            "/usr/local/lib/python3.7/dist-packages/sklearn/metrics/_classification.py:1272: UndefinedMetricWarning: Recall and F-score are ill-defined and being set to 0.0 in samples with no true labels. Use `zero_division` parameter to control this behavior.\n",
            "  _warn_prf(average, modifier, msg_start, len(result))\n"
          ],
          "name": "stderr"
        }
      ]
    },
    {
      "cell_type": "markdown",
      "metadata": {
        "id": "NpnRhPPVFDN1"
      },
      "source": [
        "# Iterative search"
      ]
    },
    {
      "cell_type": "markdown",
      "metadata": {
        "id": "SBpIYV8MFGT8"
      },
      "source": [
        "## Model call"
      ]
    },
    {
      "cell_type": "code",
      "metadata": {
        "colab": {
          "base_uri": "https://localhost:8080/"
        },
        "id": "0cutBDGwFIkE",
        "outputId": "62f0732c-ffe8-4a6b-e542-ed35fa02df6f"
      },
      "source": [
        "model2 = MyBertModel(n_labels, device, True).to(device)"
      ],
      "execution_count": 49,
      "outputs": [
        {
          "output_type": "stream",
          "text": [
            "Some weights of the model checkpoint at bert-base-cased were not used when initializing BertModel: ['cls.predictions.decoder.weight', 'cls.predictions.transform.LayerNorm.bias', 'cls.predictions.transform.dense.weight', 'cls.seq_relationship.weight', 'cls.predictions.bias', 'cls.seq_relationship.bias', 'cls.predictions.transform.dense.bias', 'cls.predictions.transform.LayerNorm.weight']\n",
            "- This IS expected if you are initializing BertModel from the checkpoint of a model trained on another task or with another architecture (e.g. initializing a BertForSequenceClassification model from a BertForPreTraining model).\n",
            "- This IS NOT expected if you are initializing BertModel from the checkpoint of a model that you expect to be exactly identical (initializing a BertForSequenceClassification model from a BertForSequenceClassification model).\n"
          ],
          "name": "stderr"
        }
      ]
    },
    {
      "cell_type": "markdown",
      "metadata": {
        "id": "wUHLNSrSFnzt"
      },
      "source": [
        "## Train function"
      ]
    },
    {
      "cell_type": "code",
      "metadata": {
        "id": "OHdwEdLMFnLD"
      },
      "source": [
        "def train(model, num_epochs, train_iter, dev_iter, threshold,\n",
        "          learning_rate=0.0001):\n",
        "  criterion = nn.BCELoss()\n",
        "  optimizer = torch.optim.Adam(model.parameters(), lr=learning_rate)\n",
        "\n",
        "  for epoch in range(1, num_epochs+1):\n",
        "    print(\"Epoch %d\" % epoch)\n",
        "    \n",
        "    for i, batch in enumerate(train_iter):\n",
        "        model.train()\n",
        "        x = batch[\"input_ids\"]\n",
        "        y = batch[\"label_ids\"]\n",
        "        attn = batch[\"attention_mask\"]\n",
        "\n",
        "        optimizer.zero_grad()\n",
        "        x = x.to(device)\n",
        "        attn = attn.to(device)\n",
        "        logits = model(x, attn) \n",
        "\n",
        "        logits = logits.view(-1, logits.shape[-1]) # (N*T, TAGS)\n",
        "        y = y.to(device)\n",
        "\n",
        "        loss = criterion(logits, y)\n",
        "        loss.backward()\n",
        "\n",
        "        optimizer.step()\n",
        "\n",
        "    evaluate(\"test set\", dev_iter, model)"
      ],
      "execution_count": 50,
      "outputs": []
    },
    {
      "cell_type": "markdown",
      "metadata": {
        "id": "R7DvuE4DGwt1"
      },
      "source": [
        "## Iterative learning rate"
      ]
    },
    {
      "cell_type": "code",
      "metadata": {
        "colab": {
          "base_uri": "https://localhost:8080/",
          "height": 1000
        },
        "id": "rzHVHgFyGwYd",
        "outputId": "c04ac812-4af7-4eb5-9366-cf6ecadbc2bd"
      },
      "source": [
        "lrs = [0.00005, 0.0001, 0.0005, 0.001, 0.005, 0.01] # already from 0.005 F1 gets 0 all the time\n",
        "thrs = [0.4, 0.5, 0.6, 0.7]\n",
        "for lr in lrs:\n",
        "    for th in thrs:\n",
        "        model2 = MyBertModel(n_labels, device, True).to(device)\n",
        "        print(('***********\\n' + \\\n",
        "              'Current iteration:\\n' + \\\n",
        "              '\\tLearning rate:\\t{}\\n'+ \\\n",
        "              '\\tThreshold:\\t{}\\n'+ \\\n",
        "              '***********').format(lr, th))\n",
        "        train(model2, 5, train_iter, dev_iter, th, learning_rate=lr)"
      ],
      "execution_count": 53,
      "outputs": [
        {
          "output_type": "stream",
          "text": [
            "Some weights of the model checkpoint at bert-base-cased were not used when initializing BertModel: ['cls.predictions.decoder.weight', 'cls.predictions.transform.LayerNorm.bias', 'cls.predictions.transform.dense.weight', 'cls.seq_relationship.weight', 'cls.predictions.bias', 'cls.seq_relationship.bias', 'cls.predictions.transform.dense.bias', 'cls.predictions.transform.LayerNorm.weight']\n",
            "- This IS expected if you are initializing BertModel from the checkpoint of a model trained on another task or with another architecture (e.g. initializing a BertForSequenceClassification model from a BertForPreTraining model).\n",
            "- This IS NOT expected if you are initializing BertModel from the checkpoint of a model that you expect to be exactly identical (initializing a BertForSequenceClassification model from a BertForSequenceClassification model).\n"
          ],
          "name": "stderr"
        },
        {
          "output_type": "stream",
          "text": [
            "***********\n",
            "Current iteration:\n",
            "\tLearning rate:\t5e-05\n",
            "\tThreshold:\t0.4\n",
            "***********\n",
            "Epoch 1\n",
            "  Evaluation on test set -  acc: 0.9311%\n",
            "     F1: 0.5004468275245755\n",
            "Epoch 2\n",
            "  Evaluation on test set -  acc: 0.9379%\n",
            "     F1: 0.5617391304347826\n",
            "Epoch 3\n",
            "  Evaluation on test set -  acc: 0.9387%\n",
            "     F1: 0.5436179981634527\n",
            "Epoch 4\n",
            "  Evaluation on test set -  acc: 0.9480%\n",
            "     F1: 0.6580226904376012\n",
            "Epoch 5\n",
            "  Evaluation on test set -  acc: 0.9461%\n",
            "     F1: 0.6572549019607844\n"
          ],
          "name": "stdout"
        },
        {
          "output_type": "stream",
          "text": [
            "Some weights of the model checkpoint at bert-base-cased were not used when initializing BertModel: ['cls.predictions.decoder.weight', 'cls.predictions.transform.LayerNorm.bias', 'cls.predictions.transform.dense.weight', 'cls.seq_relationship.weight', 'cls.predictions.bias', 'cls.seq_relationship.bias', 'cls.predictions.transform.dense.bias', 'cls.predictions.transform.LayerNorm.weight']\n",
            "- This IS expected if you are initializing BertModel from the checkpoint of a model trained on another task or with another architecture (e.g. initializing a BertForSequenceClassification model from a BertForPreTraining model).\n",
            "- This IS NOT expected if you are initializing BertModel from the checkpoint of a model that you expect to be exactly identical (initializing a BertForSequenceClassification model from a BertForSequenceClassification model).\n"
          ],
          "name": "stderr"
        },
        {
          "output_type": "stream",
          "text": [
            "***********\n",
            "Current iteration:\n",
            "\tLearning rate:\t5e-05\n",
            "\tThreshold:\t0.5\n",
            "***********\n",
            "Epoch 1\n",
            "  Evaluation on test set -  acc: 0.9193%\n",
            "     F1: 0.38727782974742747\n",
            "Epoch 2\n",
            "  Evaluation on test set -  acc: 0.9310%\n",
            "     F1: 0.42622950819672123\n",
            "Epoch 3\n",
            "  Evaluation on test set -  acc: 0.9374%\n",
            "     F1: 0.5152671755725191\n",
            "Epoch 4\n",
            "  Evaluation on test set -  acc: 0.9448%\n",
            "     F1: 0.6776978417266186\n",
            "Epoch 5\n",
            "  Evaluation on test set -  acc: 0.9377%\n",
            "     F1: 0.5421577515865821\n"
          ],
          "name": "stdout"
        },
        {
          "output_type": "stream",
          "text": [
            "Some weights of the model checkpoint at bert-base-cased were not used when initializing BertModel: ['cls.predictions.decoder.weight', 'cls.predictions.transform.LayerNorm.bias', 'cls.predictions.transform.dense.weight', 'cls.seq_relationship.weight', 'cls.predictions.bias', 'cls.seq_relationship.bias', 'cls.predictions.transform.dense.bias', 'cls.predictions.transform.LayerNorm.weight']\n",
            "- This IS expected if you are initializing BertModel from the checkpoint of a model trained on another task or with another architecture (e.g. initializing a BertForSequenceClassification model from a BertForPreTraining model).\n",
            "- This IS NOT expected if you are initializing BertModel from the checkpoint of a model that you expect to be exactly identical (initializing a BertForSequenceClassification model from a BertForSequenceClassification model).\n"
          ],
          "name": "stderr"
        },
        {
          "output_type": "stream",
          "text": [
            "***********\n",
            "Current iteration:\n",
            "\tLearning rate:\t5e-05\n",
            "\tThreshold:\t0.6\n",
            "***********\n",
            "Epoch 1\n",
            "  Evaluation on test set -  acc: 0.9210%\n",
            "     F1: 0.2740656851642129\n",
            "Epoch 2\n",
            "  Evaluation on test set -  acc: 0.9369%\n",
            "     F1: 0.5169811320754718\n",
            "Epoch 3\n",
            "  Evaluation on test set -  acc: 0.9413%\n",
            "     F1: 0.5824561403508772\n",
            "Epoch 4\n",
            "  Evaluation on test set -  acc: 0.9421%\n",
            "     F1: 0.5976027397260274\n",
            "Epoch 5\n",
            "  Evaluation on test set -  acc: 0.9406%\n",
            "     F1: 0.5665467625899281\n"
          ],
          "name": "stdout"
        },
        {
          "output_type": "stream",
          "text": [
            "Some weights of the model checkpoint at bert-base-cased were not used when initializing BertModel: ['cls.predictions.decoder.weight', 'cls.predictions.transform.LayerNorm.bias', 'cls.predictions.transform.dense.weight', 'cls.seq_relationship.weight', 'cls.predictions.bias', 'cls.seq_relationship.bias', 'cls.predictions.transform.dense.bias', 'cls.predictions.transform.LayerNorm.weight']\n",
            "- This IS expected if you are initializing BertModel from the checkpoint of a model trained on another task or with another architecture (e.g. initializing a BertForSequenceClassification model from a BertForPreTraining model).\n",
            "- This IS NOT expected if you are initializing BertModel from the checkpoint of a model that you expect to be exactly identical (initializing a BertForSequenceClassification model from a BertForSequenceClassification model).\n"
          ],
          "name": "stderr"
        },
        {
          "output_type": "stream",
          "text": [
            "***********\n",
            "Current iteration:\n",
            "\tLearning rate:\t5e-05\n",
            "\tThreshold:\t0.7\n",
            "***********\n",
            "Epoch 1\n",
            "  Evaluation on test set -  acc: 0.9287%\n",
            "     F1: 0.41379310344827586\n",
            "Epoch 2\n",
            "  Evaluation on test set -  acc: 0.9353%\n",
            "     F1: 0.5187901008249313\n",
            "Epoch 3\n",
            "  Evaluation on test set -  acc: 0.9365%\n",
            "     F1: 0.5218198700092851\n",
            "Epoch 4\n",
            "  Evaluation on test set -  acc: 0.9460%\n",
            "     F1: 0.6676783004552351\n",
            "Epoch 5\n",
            "  Evaluation on test set -  acc: 0.9453%\n",
            "     F1: 0.6275167785234899\n"
          ],
          "name": "stdout"
        },
        {
          "output_type": "stream",
          "text": [
            "Some weights of the model checkpoint at bert-base-cased were not used when initializing BertModel: ['cls.predictions.decoder.weight', 'cls.predictions.transform.LayerNorm.bias', 'cls.predictions.transform.dense.weight', 'cls.seq_relationship.weight', 'cls.predictions.bias', 'cls.seq_relationship.bias', 'cls.predictions.transform.dense.bias', 'cls.predictions.transform.LayerNorm.weight']\n",
            "- This IS expected if you are initializing BertModel from the checkpoint of a model trained on another task or with another architecture (e.g. initializing a BertForSequenceClassification model from a BertForPreTraining model).\n",
            "- This IS NOT expected if you are initializing BertModel from the checkpoint of a model that you expect to be exactly identical (initializing a BertForSequenceClassification model from a BertForSequenceClassification model).\n"
          ],
          "name": "stderr"
        },
        {
          "output_type": "stream",
          "text": [
            "***********\n",
            "Current iteration:\n",
            "\tLearning rate:\t0.0001\n",
            "\tThreshold:\t0.4\n",
            "***********\n",
            "Epoch 1\n",
            "  Evaluation on test set -  acc: 0.9332%\n",
            "     F1: 0.48771266540642716\n",
            "Epoch 2\n",
            "  Evaluation on test set -  acc: 0.9360%\n",
            "     F1: 0.5234159779614325\n",
            "Epoch 3\n",
            "  Evaluation on test set -  acc: 0.9433%\n",
            "     F1: 0.6114864864864864\n",
            "Epoch 4\n",
            "  Evaluation on test set -  acc: 0.9438%\n",
            "     F1: 0.6686046511627907\n",
            "Epoch 5\n",
            "  Evaluation on test set -  acc: 0.9470%\n",
            "     F1: 0.6865889212827988\n"
          ],
          "name": "stdout"
        },
        {
          "output_type": "stream",
          "text": [
            "Some weights of the model checkpoint at bert-base-cased were not used when initializing BertModel: ['cls.predictions.decoder.weight', 'cls.predictions.transform.LayerNorm.bias', 'cls.predictions.transform.dense.weight', 'cls.seq_relationship.weight', 'cls.predictions.bias', 'cls.seq_relationship.bias', 'cls.predictions.transform.dense.bias', 'cls.predictions.transform.LayerNorm.weight']\n",
            "- This IS expected if you are initializing BertModel from the checkpoint of a model trained on another task or with another architecture (e.g. initializing a BertForSequenceClassification model from a BertForPreTraining model).\n",
            "- This IS NOT expected if you are initializing BertModel from the checkpoint of a model that you expect to be exactly identical (initializing a BertForSequenceClassification model from a BertForSequenceClassification model).\n"
          ],
          "name": "stderr"
        },
        {
          "output_type": "stream",
          "text": [
            "***********\n",
            "Current iteration:\n",
            "\tLearning rate:\t0.0001\n",
            "\tThreshold:\t0.5\n",
            "***********\n",
            "Epoch 1\n",
            "  Evaluation on test set -  acc: 0.9406%\n",
            "     F1: 0.6100323624595468\n",
            "Epoch 2\n",
            "  Evaluation on test set -  acc: 0.9479%\n",
            "     F1: 0.6758620689655171\n",
            "Epoch 3\n",
            "  Evaluation on test set -  acc: 0.9427%\n",
            "     F1: 0.6573323507737656\n",
            "Epoch 4\n",
            "  Evaluation on test set -  acc: 0.9353%\n",
            "     F1: 0.6252676659528908\n",
            "Epoch 5\n",
            "  Evaluation on test set -  acc: 0.9285%\n",
            "     F1: 0.5\n"
          ],
          "name": "stdout"
        },
        {
          "output_type": "stream",
          "text": [
            "Some weights of the model checkpoint at bert-base-cased were not used when initializing BertModel: ['cls.predictions.decoder.weight', 'cls.predictions.transform.LayerNorm.bias', 'cls.predictions.transform.dense.weight', 'cls.seq_relationship.weight', 'cls.predictions.bias', 'cls.seq_relationship.bias', 'cls.predictions.transform.dense.bias', 'cls.predictions.transform.LayerNorm.weight']\n",
            "- This IS expected if you are initializing BertModel from the checkpoint of a model trained on another task or with another architecture (e.g. initializing a BertForSequenceClassification model from a BertForPreTraining model).\n",
            "- This IS NOT expected if you are initializing BertModel from the checkpoint of a model that you expect to be exactly identical (initializing a BertForSequenceClassification model from a BertForSequenceClassification model).\n"
          ],
          "name": "stderr"
        },
        {
          "output_type": "stream",
          "text": [
            "***********\n",
            "Current iteration:\n",
            "\tLearning rate:\t0.0001\n",
            "\tThreshold:\t0.6\n",
            "***********\n",
            "Epoch 1\n",
            "  Evaluation on test set -  acc: 0.9349%\n",
            "     F1: 0.5285714285714286\n",
            "Epoch 2\n",
            "  Evaluation on test set -  acc: 0.9392%\n",
            "     F1: 0.5633303808680248\n",
            "Epoch 3\n",
            "  Evaluation on test set -  acc: 0.9302%\n",
            "     F1: 0.6112637362637363\n",
            "Epoch 4\n",
            "  Evaluation on test set -  acc: 0.9450%\n",
            "     F1: 0.6965986394557824\n",
            "Epoch 5\n",
            "  Evaluation on test set -  acc: 0.8931%\n",
            "     F1: 0.48238805970149257\n"
          ],
          "name": "stdout"
        },
        {
          "output_type": "stream",
          "text": [
            "Some weights of the model checkpoint at bert-base-cased were not used when initializing BertModel: ['cls.predictions.decoder.weight', 'cls.predictions.transform.LayerNorm.bias', 'cls.predictions.transform.dense.weight', 'cls.seq_relationship.weight', 'cls.predictions.bias', 'cls.seq_relationship.bias', 'cls.predictions.transform.dense.bias', 'cls.predictions.transform.LayerNorm.weight']\n",
            "- This IS expected if you are initializing BertModel from the checkpoint of a model trained on another task or with another architecture (e.g. initializing a BertForSequenceClassification model from a BertForPreTraining model).\n",
            "- This IS NOT expected if you are initializing BertModel from the checkpoint of a model that you expect to be exactly identical (initializing a BertForSequenceClassification model from a BertForSequenceClassification model).\n"
          ],
          "name": "stderr"
        },
        {
          "output_type": "stream",
          "text": [
            "***********\n",
            "Current iteration:\n",
            "\tLearning rate:\t0.0001\n",
            "\tThreshold:\t0.7\n",
            "***********\n",
            "Epoch 1\n",
            "  Evaluation on test set -  acc: 0.9316%\n",
            "     F1: 0.4798500468603561\n",
            "Epoch 2\n",
            "  Evaluation on test set -  acc: 0.9220%\n",
            "     F1: 0.2765714285714286\n",
            "Epoch 3\n",
            "  Evaluation on test set -  acc: 0.9418%\n",
            "     F1: 0.6652482269503547\n",
            "Epoch 4\n",
            "  Evaluation on test set -  acc: 0.8777%\n",
            "     F1: 0.3713561470215463\n",
            "Epoch 5\n",
            "  Evaluation on test set -  acc: 0.9020%\n",
            "     F1: 0.45881552076242343\n"
          ],
          "name": "stdout"
        },
        {
          "output_type": "stream",
          "text": [
            "Some weights of the model checkpoint at bert-base-cased were not used when initializing BertModel: ['cls.predictions.decoder.weight', 'cls.predictions.transform.LayerNorm.bias', 'cls.predictions.transform.dense.weight', 'cls.seq_relationship.weight', 'cls.predictions.bias', 'cls.seq_relationship.bias', 'cls.predictions.transform.dense.bias', 'cls.predictions.transform.LayerNorm.weight']\n",
            "- This IS expected if you are initializing BertModel from the checkpoint of a model trained on another task or with another architecture (e.g. initializing a BertForSequenceClassification model from a BertForPreTraining model).\n",
            "- This IS NOT expected if you are initializing BertModel from the checkpoint of a model that you expect to be exactly identical (initializing a BertForSequenceClassification model from a BertForSequenceClassification model).\n"
          ],
          "name": "stderr"
        },
        {
          "output_type": "stream",
          "text": [
            "***********\n",
            "Current iteration:\n",
            "\tLearning rate:\t0.0005\n",
            "\tThreshold:\t0.4\n",
            "***********\n",
            "Epoch 1\n",
            "  Evaluation on test set -  acc: 0.9084%\n",
            "     F1: 0.0\n",
            "Epoch 2\n",
            "  Evaluation on test set -  acc: 0.9084%\n",
            "     F1: 0.0\n",
            "Epoch 3\n",
            "  Evaluation on test set -  acc: 0.9084%\n",
            "     F1: 0.0\n",
            "Epoch 4\n",
            "  Evaluation on test set -  acc: 0.8808%\n",
            "     F1: 0.31853417899929526\n",
            "Epoch 5\n",
            "  Evaluation on test set -  acc: 0.9084%\n",
            "     F1: 0.0\n"
          ],
          "name": "stdout"
        },
        {
          "output_type": "stream",
          "text": [
            "Some weights of the model checkpoint at bert-base-cased were not used when initializing BertModel: ['cls.predictions.decoder.weight', 'cls.predictions.transform.LayerNorm.bias', 'cls.predictions.transform.dense.weight', 'cls.seq_relationship.weight', 'cls.predictions.bias', 'cls.seq_relationship.bias', 'cls.predictions.transform.dense.bias', 'cls.predictions.transform.LayerNorm.weight']\n",
            "- This IS expected if you are initializing BertModel from the checkpoint of a model trained on another task or with another architecture (e.g. initializing a BertForSequenceClassification model from a BertForPreTraining model).\n",
            "- This IS NOT expected if you are initializing BertModel from the checkpoint of a model that you expect to be exactly identical (initializing a BertForSequenceClassification model from a BertForSequenceClassification model).\n"
          ],
          "name": "stderr"
        },
        {
          "output_type": "stream",
          "text": [
            "***********\n",
            "Current iteration:\n",
            "\tLearning rate:\t0.0005\n",
            "\tThreshold:\t0.5\n",
            "***********\n",
            "Epoch 1\n",
            "  Evaluation on test set -  acc: 0.9084%\n",
            "     F1: 0.0\n",
            "Epoch 2\n",
            "  Evaluation on test set -  acc: 0.9084%\n",
            "     F1: 0.0\n",
            "Epoch 3\n",
            "  Evaluation on test set -  acc: 0.9084%\n",
            "     F1: 0.0\n",
            "Epoch 4\n",
            "  Evaluation on test set -  acc: 0.9084%\n",
            "     F1: 0.0\n",
            "Epoch 5\n",
            "  Evaluation on test set -  acc: 0.9084%\n",
            "     F1: 0.0\n"
          ],
          "name": "stdout"
        },
        {
          "output_type": "stream",
          "text": [
            "Some weights of the model checkpoint at bert-base-cased were not used when initializing BertModel: ['cls.predictions.decoder.weight', 'cls.predictions.transform.LayerNorm.bias', 'cls.predictions.transform.dense.weight', 'cls.seq_relationship.weight', 'cls.predictions.bias', 'cls.seq_relationship.bias', 'cls.predictions.transform.dense.bias', 'cls.predictions.transform.LayerNorm.weight']\n",
            "- This IS expected if you are initializing BertModel from the checkpoint of a model trained on another task or with another architecture (e.g. initializing a BertForSequenceClassification model from a BertForPreTraining model).\n",
            "- This IS NOT expected if you are initializing BertModel from the checkpoint of a model that you expect to be exactly identical (initializing a BertForSequenceClassification model from a BertForSequenceClassification model).\n"
          ],
          "name": "stderr"
        },
        {
          "output_type": "stream",
          "text": [
            "***********\n",
            "Current iteration:\n",
            "\tLearning rate:\t0.0005\n",
            "\tThreshold:\t0.6\n",
            "***********\n",
            "Epoch 1\n",
            "  Evaluation on test set -  acc: 0.9084%\n",
            "     F1: 0.0\n",
            "Epoch 2\n",
            "  Evaluation on test set -  acc: 0.9084%\n",
            "     F1: 0.0\n",
            "Epoch 3\n",
            "  Evaluation on test set -  acc: 0.9084%\n",
            "     F1: 0.0\n",
            "Epoch 4\n",
            "  Evaluation on test set -  acc: 0.9084%\n",
            "     F1: 0.0\n",
            "Epoch 5\n",
            "  Evaluation on test set -  acc: 0.9084%\n",
            "     F1: 0.0\n"
          ],
          "name": "stdout"
        },
        {
          "output_type": "stream",
          "text": [
            "Some weights of the model checkpoint at bert-base-cased were not used when initializing BertModel: ['cls.predictions.decoder.weight', 'cls.predictions.transform.LayerNorm.bias', 'cls.predictions.transform.dense.weight', 'cls.seq_relationship.weight', 'cls.predictions.bias', 'cls.seq_relationship.bias', 'cls.predictions.transform.dense.bias', 'cls.predictions.transform.LayerNorm.weight']\n",
            "- This IS expected if you are initializing BertModel from the checkpoint of a model trained on another task or with another architecture (e.g. initializing a BertForSequenceClassification model from a BertForPreTraining model).\n",
            "- This IS NOT expected if you are initializing BertModel from the checkpoint of a model that you expect to be exactly identical (initializing a BertForSequenceClassification model from a BertForSequenceClassification model).\n"
          ],
          "name": "stderr"
        },
        {
          "output_type": "stream",
          "text": [
            "***********\n",
            "Current iteration:\n",
            "\tLearning rate:\t0.0005\n",
            "\tThreshold:\t0.7\n",
            "***********\n",
            "Epoch 1\n",
            "  Evaluation on test set -  acc: 0.9084%\n",
            "     F1: 0.0\n",
            "Epoch 2\n",
            "  Evaluation on test set -  acc: 0.9084%\n",
            "     F1: 0.0\n",
            "Epoch 3\n",
            "  Evaluation on test set -  acc: 0.9084%\n",
            "     F1: 0.0\n",
            "Epoch 4\n",
            "  Evaluation on test set -  acc: 0.9084%\n",
            "     F1: 0.0\n",
            "Epoch 5\n",
            "  Evaluation on test set -  acc: 0.9084%\n",
            "     F1: 0.0\n"
          ],
          "name": "stdout"
        },
        {
          "output_type": "stream",
          "text": [
            "Some weights of the model checkpoint at bert-base-cased were not used when initializing BertModel: ['cls.predictions.decoder.weight', 'cls.predictions.transform.LayerNorm.bias', 'cls.predictions.transform.dense.weight', 'cls.seq_relationship.weight', 'cls.predictions.bias', 'cls.seq_relationship.bias', 'cls.predictions.transform.dense.bias', 'cls.predictions.transform.LayerNorm.weight']\n",
            "- This IS expected if you are initializing BertModel from the checkpoint of a model trained on another task or with another architecture (e.g. initializing a BertForSequenceClassification model from a BertForPreTraining model).\n",
            "- This IS NOT expected if you are initializing BertModel from the checkpoint of a model that you expect to be exactly identical (initializing a BertForSequenceClassification model from a BertForSequenceClassification model).\n"
          ],
          "name": "stderr"
        },
        {
          "output_type": "stream",
          "text": [
            "***********\n",
            "Current iteration:\n",
            "\tLearning rate:\t0.001\n",
            "\tThreshold:\t0.4\n",
            "***********\n",
            "Epoch 1\n",
            "  Evaluation on test set -  acc: 0.9084%\n",
            "     F1: 0.0\n",
            "Epoch 2\n",
            "  Evaluation on test set -  acc: 0.9084%\n",
            "     F1: 0.0\n",
            "Epoch 3\n",
            "  Evaluation on test set -  acc: 0.9084%\n",
            "     F1: 0.0\n",
            "Epoch 4\n",
            "  Evaluation on test set -  acc: 0.9084%\n",
            "     F1: 0.0\n",
            "Epoch 5\n",
            "  Evaluation on test set -  acc: 0.9084%\n",
            "     F1: 0.0\n"
          ],
          "name": "stdout"
        },
        {
          "output_type": "stream",
          "text": [
            "Some weights of the model checkpoint at bert-base-cased were not used when initializing BertModel: ['cls.predictions.decoder.weight', 'cls.predictions.transform.LayerNorm.bias', 'cls.predictions.transform.dense.weight', 'cls.seq_relationship.weight', 'cls.predictions.bias', 'cls.seq_relationship.bias', 'cls.predictions.transform.dense.bias', 'cls.predictions.transform.LayerNorm.weight']\n",
            "- This IS expected if you are initializing BertModel from the checkpoint of a model trained on another task or with another architecture (e.g. initializing a BertForSequenceClassification model from a BertForPreTraining model).\n",
            "- This IS NOT expected if you are initializing BertModel from the checkpoint of a model that you expect to be exactly identical (initializing a BertForSequenceClassification model from a BertForSequenceClassification model).\n"
          ],
          "name": "stderr"
        },
        {
          "output_type": "stream",
          "text": [
            "***********\n",
            "Current iteration:\n",
            "\tLearning rate:\t0.001\n",
            "\tThreshold:\t0.5\n",
            "***********\n",
            "Epoch 1\n",
            "  Evaluation on test set -  acc: 0.9084%\n",
            "     F1: 0.0\n",
            "Epoch 2\n",
            "  Evaluation on test set -  acc: 0.9084%\n",
            "     F1: 0.0\n",
            "Epoch 3\n",
            "  Evaluation on test set -  acc: 0.9084%\n",
            "     F1: 0.0\n",
            "Epoch 4\n",
            "  Evaluation on test set -  acc: 0.9084%\n",
            "     F1: 0.0\n",
            "Epoch 5\n",
            "  Evaluation on test set -  acc: 0.9084%\n",
            "     F1: 0.0\n"
          ],
          "name": "stdout"
        },
        {
          "output_type": "stream",
          "text": [
            "Some weights of the model checkpoint at bert-base-cased were not used when initializing BertModel: ['cls.predictions.decoder.weight', 'cls.predictions.transform.LayerNorm.bias', 'cls.predictions.transform.dense.weight', 'cls.seq_relationship.weight', 'cls.predictions.bias', 'cls.seq_relationship.bias', 'cls.predictions.transform.dense.bias', 'cls.predictions.transform.LayerNorm.weight']\n",
            "- This IS expected if you are initializing BertModel from the checkpoint of a model trained on another task or with another architecture (e.g. initializing a BertForSequenceClassification model from a BertForPreTraining model).\n",
            "- This IS NOT expected if you are initializing BertModel from the checkpoint of a model that you expect to be exactly identical (initializing a BertForSequenceClassification model from a BertForSequenceClassification model).\n"
          ],
          "name": "stderr"
        },
        {
          "output_type": "stream",
          "text": [
            "***********\n",
            "Current iteration:\n",
            "\tLearning rate:\t0.001\n",
            "\tThreshold:\t0.6\n",
            "***********\n",
            "Epoch 1\n",
            "  Evaluation on test set -  acc: 0.9084%\n",
            "     F1: 0.0\n",
            "Epoch 2\n"
          ],
          "name": "stdout"
        },
        {
          "output_type": "error",
          "ename": "KeyboardInterrupt",
          "evalue": "ignored",
          "traceback": [
            "\u001b[0;31m---------------------------------------------------------------------------\u001b[0m",
            "\u001b[0;31mKeyboardInterrupt\u001b[0m                         Traceback (most recent call last)",
            "\u001b[0;32m<ipython-input-53-73f66bc2afe7>\u001b[0m in \u001b[0;36m<module>\u001b[0;34m()\u001b[0m\n\u001b[1;32m      5\u001b[0m         \u001b[0mmodel2\u001b[0m \u001b[0;34m=\u001b[0m \u001b[0mMyBertModel\u001b[0m\u001b[0;34m(\u001b[0m\u001b[0mn_labels\u001b[0m\u001b[0;34m,\u001b[0m \u001b[0mdevice\u001b[0m\u001b[0;34m,\u001b[0m \u001b[0;32mTrue\u001b[0m\u001b[0;34m)\u001b[0m\u001b[0;34m.\u001b[0m\u001b[0mto\u001b[0m\u001b[0;34m(\u001b[0m\u001b[0mdevice\u001b[0m\u001b[0;34m)\u001b[0m\u001b[0;34m\u001b[0m\u001b[0;34m\u001b[0m\u001b[0m\n\u001b[1;32m      6\u001b[0m         \u001b[0mprint\u001b[0m\u001b[0;34m(\u001b[0m\u001b[0;34m(\u001b[0m\u001b[0;34m'***********\\n'\u001b[0m \u001b[0;34m+\u001b[0m               \u001b[0;34m'Current iteration:\\n'\u001b[0m \u001b[0;34m+\u001b[0m               \u001b[0;34m'\\tLearning rate:\\t{}\\n'\u001b[0m\u001b[0;34m+\u001b[0m               \u001b[0;34m'\\tThreshold:\\t{}\\n'\u001b[0m\u001b[0;34m+\u001b[0m               \u001b[0;34m'***********'\u001b[0m\u001b[0;34m)\u001b[0m\u001b[0;34m.\u001b[0m\u001b[0mformat\u001b[0m\u001b[0;34m(\u001b[0m\u001b[0mlr\u001b[0m\u001b[0;34m,\u001b[0m \u001b[0mth\u001b[0m\u001b[0;34m)\u001b[0m\u001b[0;34m)\u001b[0m\u001b[0;34m\u001b[0m\u001b[0;34m\u001b[0m\u001b[0m\n\u001b[0;32m----> 7\u001b[0;31m         \u001b[0mtrain\u001b[0m\u001b[0;34m(\u001b[0m\u001b[0mmodel2\u001b[0m\u001b[0;34m,\u001b[0m \u001b[0;36m5\u001b[0m\u001b[0;34m,\u001b[0m \u001b[0mtrain_iter\u001b[0m\u001b[0;34m,\u001b[0m \u001b[0mdev_iter\u001b[0m\u001b[0;34m,\u001b[0m \u001b[0mth\u001b[0m\u001b[0;34m,\u001b[0m \u001b[0mlearning_rate\u001b[0m\u001b[0;34m=\u001b[0m\u001b[0mlr\u001b[0m\u001b[0;34m)\u001b[0m\u001b[0;34m\u001b[0m\u001b[0;34m\u001b[0m\u001b[0m\n\u001b[0m",
            "\u001b[0;32m<ipython-input-50-4fd8b898ca96>\u001b[0m in \u001b[0;36mtrain\u001b[0;34m(model, num_epochs, train_iter, dev_iter, threshold, learning_rate)\u001b[0m\n\u001b[1;32m     19\u001b[0m \u001b[0;34m\u001b[0m\u001b[0m\n\u001b[1;32m     20\u001b[0m         \u001b[0mlogits\u001b[0m \u001b[0;34m=\u001b[0m \u001b[0mlogits\u001b[0m\u001b[0;34m.\u001b[0m\u001b[0mview\u001b[0m\u001b[0;34m(\u001b[0m\u001b[0;34m-\u001b[0m\u001b[0;36m1\u001b[0m\u001b[0;34m,\u001b[0m \u001b[0mlogits\u001b[0m\u001b[0;34m.\u001b[0m\u001b[0mshape\u001b[0m\u001b[0;34m[\u001b[0m\u001b[0;34m-\u001b[0m\u001b[0;36m1\u001b[0m\u001b[0;34m]\u001b[0m\u001b[0;34m)\u001b[0m \u001b[0;31m# (N*T, TAGS)\u001b[0m\u001b[0;34m\u001b[0m\u001b[0;34m\u001b[0m\u001b[0m\n\u001b[0;32m---> 21\u001b[0;31m         \u001b[0my\u001b[0m \u001b[0;34m=\u001b[0m \u001b[0my\u001b[0m\u001b[0;34m.\u001b[0m\u001b[0mto\u001b[0m\u001b[0;34m(\u001b[0m\u001b[0mdevice\u001b[0m\u001b[0;34m)\u001b[0m\u001b[0;34m\u001b[0m\u001b[0;34m\u001b[0m\u001b[0m\n\u001b[0m\u001b[1;32m     22\u001b[0m \u001b[0;34m\u001b[0m\u001b[0m\n\u001b[1;32m     23\u001b[0m         \u001b[0mloss\u001b[0m \u001b[0;34m=\u001b[0m \u001b[0mcriterion\u001b[0m\u001b[0;34m(\u001b[0m\u001b[0mlogits\u001b[0m\u001b[0;34m,\u001b[0m \u001b[0my\u001b[0m\u001b[0;34m)\u001b[0m\u001b[0;34m\u001b[0m\u001b[0;34m\u001b[0m\u001b[0m\n",
            "\u001b[0;31mKeyboardInterrupt\u001b[0m: "
          ]
        }
      ]
    },
    {
      "cell_type": "code",
      "metadata": {
        "id": "6I3nTxsiGvB9"
      },
      "source": [
        "evaluate(\"dev\", dev_iter, model, full_report=True)"
      ],
      "execution_count": null,
      "outputs": []
    }
  ]
}