{
  "nbformat": 4,
  "nbformat_minor": 0,
  "metadata": {
    "colab": {
      "name": "Default independent project guide 2021.ipynb",
      "provenance": [],
      "collapsed_sections": [],
      "include_colab_link": true
    },
    "kernelspec": {
      "name": "python3",
      "display_name": "Python 3"
    }
  },
  "cells": [
    {
      "cell_type": "markdown",
      "metadata": {
        "id": "view-in-github",
        "colab_type": "text"
      },
      "source": [
        "<a href=\"https://colab.research.google.com/github/Haavi97/ITS8040-NLSP/blob/master/Default_independent_project_guide_2021.ipynb\" target=\"_parent\"><img src=\"https://colab.research.google.com/assets/colab-badge.svg\" alt=\"Open In Colab\"/></a>"
      ]
    },
    {
      "cell_type": "code",
      "metadata": {
        "colab": {
          "base_uri": "https://localhost:8080/"
        },
        "id": "8wpvGjKgd3Lv",
        "outputId": "e97d8e8e-5cbe-47b9-fd43-26ad8d3b606d"
      },
      "source": [
        "!ls"
      ],
      "execution_count": 3,
      "outputs": [
        {
          "output_type": "stream",
          "text": [
            "git.ipynb  sample_data\n"
          ],
          "name": "stdout"
        }
      ]
    },
    {
      "cell_type": "markdown",
      "metadata": {
        "id": "wTfOjDBLLvIJ"
      },
      "source": [
        "The \"default\" project topic is about Aspect-Based Sentiment Analysis (ABSA). By \"default\" it is meant that you are supposed to choose this topic if you don't have any preferences about the topic yourself. You are free to choose any other sufficiently challenging topic, but please consult with the lecturer.\n",
        "\n",
        "The task comes from the SemEval 2016 Shared Task 5: http://alt.qcri.org/semeval2016/task5/\n",
        "\n",
        "There are different subtasks and slots in this task. You can limit you work on Task 1 Slot 1: Aspect Category Detection, and you can further focus on the restaurant domain only.\n",
        "\n",
        "The task is: given a sentence taken from a restaurant review, your system has to decide about which aspect category of the restaurant this sentence is, if any. The number of different aspect categories is fixed. One sentnce can correspond to zero, one or more aspect categories.\n",
        "\n",
        "Some examples:\n",
        "\n",
        "*   \"I was very disappointed with this restaurant.\" -> RESTAURANT#GENERAL\n",
        "*   \"I’ve asked a cart attendant for a lotus leaf wrapped rice and she replied back rice and just walked away.\" -> SERVICE#GENERAL\n",
        "*   \"Chow fun was dry; pork shu mai was more than usually greasy and had to share a table with loud and rude family.\" -> FOOD#QUALITY, AMBIENCE#GENERAL\n",
        "\n",
        "The Slot 3 of the task would be finding the polarity (negative, neutral, positive) of the aspect, but you don't have to implement this.\n",
        "\n",
        "Since the data and evaluation tools for this Shared task come in quite complex form, I have implemented very basic data loading for you, together with a simplest possible sklearn-based implementation for this task.\n",
        "\n",
        "\n",
        "\n"
      ]
    },
    {
      "cell_type": "markdown",
      "metadata": {
        "id": "zwYQtYiEO4kd"
      },
      "source": [
        "I have packed the data for the restaurant domain for this subtask on my site. Let's download it:"
      ]
    },
    {
      "cell_type": "code",
      "metadata": {
        "id": "VruNWeGQ85Dp",
        "colab": {
          "base_uri": "https://localhost:8080/"
        },
        "outputId": "7c8c02ec-2c4b-4a52-e74c-758630c8cac7"
      },
      "source": [
        "! wget --no-check-certificate https://www.phon.ioc.ee/~tanela/tmp/absa-en-restaurant.zip"
      ],
      "execution_count": null,
      "outputs": [
        {
          "output_type": "stream",
          "text": [
            "--2021-04-28 13:07:47--  https://www.phon.ioc.ee/~tanela/tmp/absa-en-restaurant.zip\n",
            "Resolving www.phon.ioc.ee (www.phon.ioc.ee)... 193.40.251.126\n",
            "Connecting to www.phon.ioc.ee (www.phon.ioc.ee)|193.40.251.126|:443... connected.\n",
            "WARNING: cannot verify www.phon.ioc.ee's certificate, issued by ‘CN=TERENA SSL CA 3,O=TERENA,L=Amsterdam,ST=Noord-Holland,C=NL’:\n",
            "  Issued certificate has expired.\n",
            "WARNING: no certificate subject alternative name matches\n",
            "\trequested host name ‘www.phon.ioc.ee’.\n",
            "HTTP request sent, awaiting response... 200 OK\n",
            "Length: 136921 (134K) [application/zip]\n",
            "Saving to: ‘absa-en-restaurant.zip’\n",
            "\n",
            "absa-en-restaurant. 100%[===================>] 133.71K   209KB/s    in 0.6s    \n",
            "\n",
            "2021-04-28 13:07:48 (209 KB/s) - ‘absa-en-restaurant.zip’ saved [136921/136921]\n",
            "\n"
          ],
          "name": "stdout"
        }
      ]
    },
    {
      "cell_type": "code",
      "metadata": {
        "id": "-_zt54N989bW",
        "colab": {
          "base_uri": "https://localhost:8080/"
        },
        "outputId": "2d935983-4d6b-4ce6-9e2c-1131aa2e6ed9"
      },
      "source": [
        "! unzip absa-en-restaurant.zip"
      ],
      "execution_count": null,
      "outputs": [
        {
          "output_type": "stream",
          "text": [
            "Archive:  absa-en-restaurant.zip\n",
            "  inflating: ABSA16_Restaurants_Train_SB1_v2.xml  \n",
            "  inflating: EN_REST_SB1_TEST.xml.gold  \n"
          ],
          "name": "stdout"
        }
      ]
    },
    {
      "cell_type": "markdown",
      "metadata": {
        "id": "JJiLrjJYPGf0"
      },
      "source": [
        "There are two files: training and test files. Both are in XML formats. Let's  take a peek:"
      ]
    },
    {
      "cell_type": "code",
      "metadata": {
        "id": "LqQznoWI9Gfe",
        "colab": {
          "base_uri": "https://localhost:8080/"
        },
        "outputId": "5200b13e-9ed8-4605-cafa-2669b32f6d16"
      },
      "source": [
        "! head -20 ABSA16_Restaurants_Train_SB1_v2.xml  "
      ],
      "execution_count": null,
      "outputs": [
        {
          "output_type": "stream",
          "text": [
            "<?xml version=\"1.0\" encoding=\"UTF-8\" standalone=\"yes\"?>\r\n",
            "<Reviews>\r\n",
            "    <Review rid=\"1004293\">\r\n",
            "        <sentences>\r\n",
            "            <sentence id=\"1004293:0\">\r\n",
            "                <text>Judging from previous posts this used to be a good place, but not any longer.</text>\r\n",
            "                <Opinions>\r\n",
            "                    <Opinion target=\"place\" category=\"RESTAURANT#GENERAL\" polarity=\"negative\" from=\"51\" to=\"56\"/>\r\n",
            "                </Opinions>\r\n",
            "            </sentence>\r\n",
            "            <sentence id=\"1004293:1\">\r\n",
            "                <text>We, there were four of us, arrived at noon - the place was empty - and the staff acted like we were imposing on them and they were very rude.</text>\r\n",
            "                <Opinions>\r\n",
            "                    <Opinion target=\"staff\" category=\"SERVICE#GENERAL\" polarity=\"negative\" from=\"75\" to=\"80\"/>\r\n",
            "                </Opinions>\r\n",
            "            </sentence>\r\n",
            "            <sentence id=\"1004293:2\">\r\n",
            "                <text>They never brought us complimentary noodles, ignored repeated requests for sugar, and threw our dishes on the table.</text>\r\n",
            "                <Opinions>\r\n",
            "                    <Opinion target=\"NULL\" category=\"SERVICE#GENERAL\" polarity=\"negative\" from=\"0\" to=\"0\"/>\r\n"
          ],
          "name": "stdout"
        }
      ]
    },
    {
      "cell_type": "code",
      "metadata": {
        "id": "Gekhfl_29N51",
        "colab": {
          "base_uri": "https://localhost:8080/"
        },
        "outputId": "eed48479-e6e4-4879-e529-027569827a94"
      },
      "source": [
        "! head -20 ABSA16_Restaurants_Train_SB1_v2.xml  "
      ],
      "execution_count": null,
      "outputs": [
        {
          "output_type": "stream",
          "text": [
            "<?xml version=\"1.0\" encoding=\"UTF-8\" standalone=\"yes\"?>\r\n",
            "<Reviews>\r\n",
            "    <Review rid=\"1004293\">\r\n",
            "        <sentences>\r\n",
            "            <sentence id=\"1004293:0\">\r\n",
            "                <text>Judging from previous posts this used to be a good place, but not any longer.</text>\r\n",
            "                <Opinions>\r\n",
            "                    <Opinion target=\"place\" category=\"RESTAURANT#GENERAL\" polarity=\"negative\" from=\"51\" to=\"56\"/>\r\n",
            "                </Opinions>\r\n",
            "            </sentence>\r\n",
            "            <sentence id=\"1004293:1\">\r\n",
            "                <text>We, there were four of us, arrived at noon - the place was empty - and the staff acted like we were imposing on them and they were very rude.</text>\r\n",
            "                <Opinions>\r\n",
            "                    <Opinion target=\"staff\" category=\"SERVICE#GENERAL\" polarity=\"negative\" from=\"75\" to=\"80\"/>\r\n",
            "                </Opinions>\r\n",
            "            </sentence>\r\n",
            "            <sentence id=\"1004293:2\">\r\n",
            "                <text>They never brought us complimentary noodles, ignored repeated requests for sugar, and threw our dishes on the table.</text>\r\n",
            "                <Opinions>\r\n",
            "                    <Opinion target=\"NULL\" category=\"SERVICE#GENERAL\" polarity=\"negative\" from=\"0\" to=\"0\"/>\r\n"
          ],
          "name": "stdout"
        }
      ]
    },
    {
      "cell_type": "markdown",
      "metadata": {
        "id": "Mw5X3UIhZOOA"
      },
      "source": [
        "There is a lot of information in this XML: each sentence has a list of Opinions, where each Opinion consists of category, polarity and the target word or phrase. We are really interested only in the raw sentence and the corresponding opinion categories.\n",
        "\n",
        "There are many ways to parse XML in Python. In this example we use a method that parses XML to Python dict, which is we will then process via loops."
      ]
    },
    {
      "cell_type": "code",
      "metadata": {
        "id": "Y9bSdaZk9RJW",
        "colab": {
          "base_uri": "https://localhost:8080/"
        },
        "outputId": "17d43308-29ee-410c-aabe-48129c3656b2"
      },
      "source": [
        "! pip install xmltodict"
      ],
      "execution_count": null,
      "outputs": [
        {
          "output_type": "stream",
          "text": [
            "Collecting xmltodict\n",
            "  Downloading https://files.pythonhosted.org/packages/28/fd/30d5c1d3ac29ce229f6bdc40bbc20b28f716e8b363140c26eff19122d8a5/xmltodict-0.12.0-py2.py3-none-any.whl\n",
            "Installing collected packages: xmltodict\n",
            "Successfully installed xmltodict-0.12.0\n"
          ],
          "name": "stdout"
        }
      ]
    },
    {
      "cell_type": "code",
      "metadata": {
        "id": "RNTRKIio-g3e"
      },
      "source": [
        "import xmltodict as xd\n",
        "\n",
        "\n",
        "with open('EN_REST_SB1_TEST.xml.gold','rb') as f:\n",
        "    d = xd.parse(f)"
      ],
      "execution_count": null,
      "outputs": []
    },
    {
      "cell_type": "code",
      "metadata": {
        "id": "X0sxmb5s-ug0",
        "colab": {
          "base_uri": "https://localhost:8080/"
        },
        "outputId": "21acd430-a3a9-4d21-8567-99765376aff0"
      },
      "source": [
        "d[\"Reviews\"][\"Review\"][0][\"sentences\"][\"sentence\"][0]"
      ],
      "execution_count": null,
      "outputs": [
        {
          "output_type": "execute_result",
          "data": {
            "text/plain": [
              "OrderedDict([('@id', 'en_BlueRibbonSushi_478218171:0'),\n",
              "             ('text', 'Yum!'),\n",
              "             ('Opinions',\n",
              "              OrderedDict([('Opinion',\n",
              "                            OrderedDict([('@target', 'NULL'),\n",
              "                                         ('@category', 'FOOD#QUALITY'),\n",
              "                                         ('@polarity', 'positive'),\n",
              "                                         ('@from', '0'),\n",
              "                                         ('@to', '0')]))]))])"
            ]
          },
          "metadata": {
            "tags": []
          },
          "execution_count": 7
        }
      ]
    },
    {
      "cell_type": "markdown",
      "metadata": {
        "id": "DRHwXfhvaJMT"
      },
      "source": [
        "Here is the function that parses the XML and returns a list containing sentences and the corresponding list of categories:"
      ]
    },
    {
      "cell_type": "code",
      "metadata": {
        "id": "XBjDpQc6-xpG"
      },
      "source": [
        "def read_data(filename):\n",
        "  result = []\n",
        "  with open(filename,'rb') as f:\n",
        "    d = xd.parse(f, force_list=('sentence', 'Opinion'))\n",
        "  for review in d[\"Reviews\"][\"Review\"]:\n",
        "    #print(review)\n",
        "    for sentence in review[\"sentences\"][\"sentence\"]:\n",
        "      \n",
        "      text = sentence[\"text\"]\n",
        "      opinion_cats = []\n",
        "      \n",
        "      if \"Opinions\" in sentence and sentence[\"Opinions\"] is not None:\n",
        "        opinions = sentence[\"Opinions\"][\"Opinion\"]\n",
        "        for opinion in opinions:\n",
        "          opinion_cats.append(opinion[\"@category\"])\n",
        "      result.append((text, opinion_cats))\n",
        "  return result\n",
        "\n"
      ],
      "execution_count": null,
      "outputs": []
    },
    {
      "cell_type": "code",
      "metadata": {
        "id": "HGpT08S_AtAI"
      },
      "source": [
        "train_data = read_data(\"ABSA16_Restaurants_Train_SB1_v2.xml\")\n",
        "test_data = read_data(\"EN_REST_SB1_TEST.xml.gold\")"
      ],
      "execution_count": null,
      "outputs": []
    },
    {
      "cell_type": "code",
      "metadata": {
        "id": "--w93Sg4ePQn",
        "colab": {
          "base_uri": "https://localhost:8080/"
        },
        "outputId": "ffb51a37-27ba-44e4-8b2f-7a77fd56ce46"
      },
      "source": [
        "print(len(train_data), len(test_data))"
      ],
      "execution_count": null,
      "outputs": [
        {
          "output_type": "stream",
          "text": [
            "2000 676\n"
          ],
          "name": "stdout"
        }
      ]
    },
    {
      "cell_type": "code",
      "metadata": {
        "id": "20RpEpp9Azno",
        "colab": {
          "base_uri": "https://localhost:8080/"
        },
        "outputId": "d085c4c2-a317-4930-e052-1df28544e7da"
      },
      "source": [
        "train_data[:5]"
      ],
      "execution_count": null,
      "outputs": [
        {
          "output_type": "execute_result",
          "data": {
            "text/plain": [
              "[('Judging from previous posts this used to be a good place, but not any longer.',\n",
              "  ['RESTAURANT#GENERAL']),\n",
              " ('We, there were four of us, arrived at noon - the place was empty - and the staff acted like we were imposing on them and they were very rude.',\n",
              "  ['SERVICE#GENERAL']),\n",
              " ('They never brought us complimentary noodles, ignored repeated requests for sugar, and threw our dishes on the table.',\n",
              "  ['SERVICE#GENERAL']),\n",
              " ('The food was lousy - too sweet or too salty and the portions tiny.',\n",
              "  ['FOOD#QUALITY', 'FOOD#STYLE_OPTIONS']),\n",
              " ('After all that, they complained to me about the small tip.',\n",
              "  ['SERVICE#GENERAL'])]"
            ]
          },
          "metadata": {
            "tags": []
          },
          "execution_count": 11
        }
      ]
    },
    {
      "cell_type": "markdown",
      "metadata": {
        "id": "2TvfCaAJanRj"
      },
      "source": [
        "So, each sentence can have zero or more categories. This task is called multi-label classification, as opposed to single-label classification where each sample corresponds to one and only one category.\n",
        "\n",
        "The sklearn package has some useful utilities for multi-label classification tasks."
      ]
    },
    {
      "cell_type": "code",
      "metadata": {
        "id": "UxSuYx03Dub3"
      },
      "source": [
        "from sklearn.preprocessing import MultiLabelBinarizer"
      ],
      "execution_count": null,
      "outputs": []
    },
    {
      "cell_type": "markdown",
      "metadata": {
        "id": "mNAU8zmkbhdI"
      },
      "source": [
        "MultiLabelBinarizer builds a mapping from multi-label labels to IDs, and also constructs a label matrix for our training ans test data."
      ]
    },
    {
      "cell_type": "code",
      "metadata": {
        "id": "rAVKh_ALIVme"
      },
      "source": [
        "mlb = MultiLabelBinarizer()\n",
        "train_labels = mlb.fit_transform([set(sample[1]) for sample in train_data])"
      ],
      "execution_count": null,
      "outputs": []
    },
    {
      "cell_type": "code",
      "metadata": {
        "id": "QeHPL6aMJDmY",
        "colab": {
          "base_uri": "https://localhost:8080/"
        },
        "outputId": "cac8494a-2841-4fde-9005-bdd342e483a4"
      },
      "source": [
        "train_labels[0:5]"
      ],
      "execution_count": null,
      "outputs": [
        {
          "output_type": "execute_result",
          "data": {
            "text/plain": [
              "array([[0, 0, 0, 0, 0, 0, 0, 0, 1, 0, 0, 0],\n",
              "       [0, 0, 0, 0, 0, 0, 0, 0, 0, 0, 0, 1],\n",
              "       [0, 0, 0, 0, 0, 0, 0, 0, 0, 0, 0, 1],\n",
              "       [0, 0, 0, 0, 0, 1, 1, 0, 0, 0, 0, 0],\n",
              "       [0, 0, 0, 0, 0, 0, 0, 0, 0, 0, 0, 1]])"
            ]
          },
          "metadata": {
            "tags": []
          },
          "execution_count": 14
        }
      ]
    },
    {
      "cell_type": "code",
      "metadata": {
        "id": "_wWDXL7BJPTR",
        "colab": {
          "base_uri": "https://localhost:8080/"
        },
        "outputId": "862cdc29-7c6f-458e-ca45-57787cacd222"
      },
      "source": [
        "mlb.classes_"
      ],
      "execution_count": null,
      "outputs": [
        {
          "output_type": "execute_result",
          "data": {
            "text/plain": [
              "array(['AMBIENCE#GENERAL', 'DRINKS#PRICES', 'DRINKS#QUALITY',\n",
              "       'DRINKS#STYLE_OPTIONS', 'FOOD#PRICES', 'FOOD#QUALITY',\n",
              "       'FOOD#STYLE_OPTIONS', 'LOCATION#GENERAL', 'RESTAURANT#GENERAL',\n",
              "       'RESTAURANT#MISCELLANEOUS', 'RESTAURANT#PRICES', 'SERVICE#GENERAL'],\n",
              "      dtype=object)"
            ]
          },
          "metadata": {
            "tags": []
          },
          "execution_count": 15
        }
      ]
    },
    {
      "cell_type": "code",
      "metadata": {
        "id": "5gHEvKiUJc6O"
      },
      "source": [
        "test_labels = mlb.transform([set(sample[1]) for sample in test_data])"
      ],
      "execution_count": null,
      "outputs": []
    },
    {
      "cell_type": "code",
      "metadata": {
        "id": "DnVk_1f2gQaE",
        "colab": {
          "base_uri": "https://localhost:8080/"
        },
        "outputId": "72153079-fdd2-4af7-93d1-1578282bdf4a"
      },
      "source": [
        "test_labels[0:5]"
      ],
      "execution_count": null,
      "outputs": [
        {
          "output_type": "execute_result",
          "data": {
            "text/plain": [
              "array([[0, 0, 0, 0, 0, 1, 0, 0, 0, 0, 0, 0],\n",
              "       [0, 0, 0, 0, 0, 1, 0, 0, 0, 0, 0, 0],\n",
              "       [0, 0, 0, 0, 0, 0, 1, 0, 0, 0, 0, 0],\n",
              "       [0, 0, 0, 0, 0, 1, 0, 0, 0, 0, 0, 0],\n",
              "       [0, 0, 0, 0, 0, 1, 0, 0, 0, 0, 0, 0]])"
            ]
          },
          "metadata": {
            "tags": []
          },
          "execution_count": 17
        }
      ]
    },
    {
      "cell_type": "markdown",
      "metadata": {
        "id": "J022vabVb0_I"
      },
      "source": [
        "So, our labels are now stored as binary matrices -- exactly as we need them.\n",
        "\n",
        "Let's also construct a list of training inputs, as sklearn likes it:"
      ]
    },
    {
      "cell_type": "code",
      "metadata": {
        "id": "kQAKqSS-h7Wu"
      },
      "source": [
        "train_text = [review[0] for review in train_data]\n",
        "test_text = [review[0] for review in test_data]"
      ],
      "execution_count": null,
      "outputs": []
    },
    {
      "cell_type": "code",
      "metadata": {
        "id": "1pK7VcpdiHPb",
        "colab": {
          "base_uri": "https://localhost:8080/"
        },
        "outputId": "b81be0a8-0044-4e90-9016-b43dfabea3b6"
      },
      "source": [
        "train_text[0:5]"
      ],
      "execution_count": null,
      "outputs": [
        {
          "output_type": "execute_result",
          "data": {
            "text/plain": [
              "['Judging from previous posts this used to be a good place, but not any longer.',\n",
              " 'We, there were four of us, arrived at noon - the place was empty - and the staff acted like we were imposing on them and they were very rude.',\n",
              " 'They never brought us complimentary noodles, ignored repeated requests for sugar, and threw our dishes on the table.',\n",
              " 'The food was lousy - too sweet or too salty and the portions tiny.',\n",
              " 'After all that, they complained to me about the small tip.']"
            ]
          },
          "metadata": {
            "tags": []
          },
          "execution_count": 19
        }
      ]
    },
    {
      "cell_type": "markdown",
      "metadata": {
        "id": "BwRkaD4wcE6q"
      },
      "source": [
        "Now we can train a simple multi-label classifier.\n",
        "\n",
        "We use Sklearn's OneVsRestClassifier to do this. This basically builds a seperate base classifier for each of our labels."
      ]
    },
    {
      "cell_type": "code",
      "metadata": {
        "id": "w6WxqVrBg4X4"
      },
      "source": [
        "from sklearn.pipeline import Pipeline\n",
        "from sklearn.naive_bayes import MultinomialNB\n",
        "from sklearn.linear_model import LogisticRegression\n",
        "from sklearn.feature_extraction.text import CountVectorizer\n",
        "from sklearn.feature_extraction.text import TfidfTransformer\n",
        "from sklearn.multiclass import OneVsRestClassifier\n",
        "\n",
        "text_clf = Pipeline([\n",
        "     ('vect', CountVectorizer()),\n",
        "     ('tfidf', TfidfTransformer()),\n",
        "     ('clf',  OneVsRestClassifier(LogisticRegression()))\n",
        " ])"
      ],
      "execution_count": null,
      "outputs": []
    },
    {
      "cell_type": "code",
      "metadata": {
        "id": "wuDR3_Z_hka8",
        "colab": {
          "base_uri": "https://localhost:8080/"
        },
        "outputId": "e434fcc6-a300-4eb4-e03c-d47e1e9f06a9"
      },
      "source": [
        "text_clf.fit(train_text, train_labels )"
      ],
      "execution_count": null,
      "outputs": [
        {
          "output_type": "execute_result",
          "data": {
            "text/plain": [
              "Pipeline(memory=None,\n",
              "         steps=[('vect',\n",
              "                 CountVectorizer(analyzer='word', binary=False,\n",
              "                                 decode_error='strict',\n",
              "                                 dtype=<class 'numpy.int64'>, encoding='utf-8',\n",
              "                                 input='content', lowercase=True, max_df=1.0,\n",
              "                                 max_features=None, min_df=1,\n",
              "                                 ngram_range=(1, 1), preprocessor=None,\n",
              "                                 stop_words=None, strip_accents=None,\n",
              "                                 token_pattern='(?u)\\\\b\\\\w\\\\w+\\\\b',\n",
              "                                 tokenizer=None, vocabulary=Non...\n",
              "                 TfidfTransformer(norm='l2', smooth_idf=True,\n",
              "                                  sublinear_tf=False, use_idf=True)),\n",
              "                ('clf',\n",
              "                 OneVsRestClassifier(estimator=LogisticRegression(C=1.0,\n",
              "                                                                  class_weight=None,\n",
              "                                                                  dual=False,\n",
              "                                                                  fit_intercept=True,\n",
              "                                                                  intercept_scaling=1,\n",
              "                                                                  l1_ratio=None,\n",
              "                                                                  max_iter=100,\n",
              "                                                                  multi_class='auto',\n",
              "                                                                  n_jobs=None,\n",
              "                                                                  penalty='l2',\n",
              "                                                                  random_state=None,\n",
              "                                                                  solver='lbfgs',\n",
              "                                                                  tol=0.0001,\n",
              "                                                                  verbose=0,\n",
              "                                                                  warm_start=False),\n",
              "                                     n_jobs=None))],\n",
              "         verbose=False)"
            ]
          },
          "metadata": {
            "tags": []
          },
          "execution_count": 21
        }
      ]
    },
    {
      "cell_type": "markdown",
      "metadata": {
        "id": "uKFXy8x7chr3"
      },
      "source": [
        "Classifier is trained. Let's first see how can we apply it on test data. What comes out when we feed it some test data?"
      ]
    },
    {
      "cell_type": "code",
      "metadata": {
        "id": "bUBVNMOMiMdH"
      },
      "source": [
        "test_predictions = text_clf.predict(test_text)"
      ],
      "execution_count": null,
      "outputs": []
    },
    {
      "cell_type": "code",
      "metadata": {
        "id": "BljUvwTpjBW0",
        "colab": {
          "base_uri": "https://localhost:8080/"
        },
        "outputId": "b4d7c0e9-36ca-4e12-8643-5e814357c349"
      },
      "source": [
        "test_predictions[0:5]"
      ],
      "execution_count": null,
      "outputs": [
        {
          "output_type": "execute_result",
          "data": {
            "text/plain": [
              "array([[0, 0, 0, 0, 0, 0, 0, 0, 0, 0, 0, 0],\n",
              "       [0, 0, 0, 0, 0, 1, 0, 0, 0, 0, 0, 0],\n",
              "       [0, 0, 0, 0, 0, 0, 0, 0, 0, 0, 0, 0],\n",
              "       [0, 0, 0, 0, 0, 0, 0, 0, 0, 0, 0, 0],\n",
              "       [0, 0, 0, 0, 0, 0, 0, 0, 0, 0, 0, 0]])"
            ]
          },
          "metadata": {
            "tags": []
          },
          "execution_count": 23
        }
      ]
    },
    {
      "cell_type": "code",
      "metadata": {
        "id": "u0Bm_vDsET8x",
        "colab": {
          "base_uri": "https://localhost:8080/"
        },
        "outputId": "c0910a35-4aee-4860-ad99-7444c93967f4"
      },
      "source": [
        "test_labels[0:5]"
      ],
      "execution_count": null,
      "outputs": [
        {
          "output_type": "execute_result",
          "data": {
            "text/plain": [
              "array([[0, 0, 0, 0, 0, 1, 0, 0, 0, 0, 0, 0],\n",
              "       [0, 0, 0, 0, 0, 1, 0, 0, 0, 0, 0, 0],\n",
              "       [0, 0, 0, 0, 0, 0, 1, 0, 0, 0, 0, 0],\n",
              "       [0, 0, 0, 0, 0, 1, 0, 0, 0, 0, 0, 0],\n",
              "       [0, 0, 0, 0, 0, 1, 0, 0, 0, 0, 0, 0]])"
            ]
          },
          "metadata": {
            "tags": []
          },
          "execution_count": 24
        }
      ]
    },
    {
      "cell_type": "markdown",
      "metadata": {
        "id": "xt3PUdPbcs88"
      },
      "source": [
        "So, the output of our classifier is also a binary matrix. We can evaluate the performance of our model using F1 measure (which is a geometric mean of precision and recall). \n",
        "\n",
        "F1 measure can be computed for each label independently and then merged using either macro or micro averaging. We will use micro-averaging that sums up the individual true positives, false positives, and false negatives of the system for different sets and the apply them to get the statistics. \n",
        "\n"
      ]
    },
    {
      "cell_type": "code",
      "metadata": {
        "id": "SqxTrW3AiSSy"
      },
      "source": [
        "from sklearn.metrics import f1_score, classification_report"
      ],
      "execution_count": null,
      "outputs": []
    },
    {
      "cell_type": "code",
      "metadata": {
        "id": "iZ_fjQSgigIM",
        "colab": {
          "base_uri": "https://localhost:8080/"
        },
        "outputId": "99c92a84-fc31-46a3-d6b4-245a355f5c52"
      },
      "source": [
        "f1_score(test_labels,\n",
        "         test_predictions,\n",
        "         average='micro')"
      ],
      "execution_count": null,
      "outputs": [
        {
          "output_type": "execute_result",
          "data": {
            "text/plain": [
              "0.4503441494591937"
            ]
          },
          "metadata": {
            "tags": []
          },
          "execution_count": 26
        }
      ]
    },
    {
      "cell_type": "code",
      "metadata": {
        "id": "R2vnMB7eiuTC",
        "colab": {
          "base_uri": "https://localhost:8080/"
        },
        "outputId": "a7806501-75dd-4298-e986-6287afc6efe5"
      },
      "source": [
        "print(classification_report(test_labels, test_predictions, target_names=mlb.classes_, zero_division=0))"
      ],
      "execution_count": null,
      "outputs": [
        {
          "output_type": "stream",
          "text": [
            "                          precision    recall  f1-score   support\n",
            "\n",
            "        AMBIENCE#GENERAL       1.00      0.21      0.35        57\n",
            "           DRINKS#PRICES       0.00      0.00      0.00         3\n",
            "          DRINKS#QUALITY       0.00      0.00      0.00        21\n",
            "    DRINKS#STYLE_OPTIONS       0.00      0.00      0.00        12\n",
            "             FOOD#PRICES       0.00      0.00      0.00        22\n",
            "            FOOD#QUALITY       0.78      0.54      0.64       226\n",
            "      FOOD#STYLE_OPTIONS       0.00      0.00      0.00        48\n",
            "        LOCATION#GENERAL       0.00      0.00      0.00        13\n",
            "      RESTAURANT#GENERAL       0.84      0.23      0.36       142\n",
            "RESTAURANT#MISCELLANEOUS       0.00      0.00      0.00        33\n",
            "       RESTAURANT#PRICES       0.00      0.00      0.00        21\n",
            "         SERVICE#GENERAL       0.95      0.43      0.60       145\n",
            "\n",
            "               micro avg       0.84      0.31      0.45       743\n",
            "               macro avg       0.30      0.12      0.16       743\n",
            "            weighted avg       0.66      0.31      0.41       743\n",
            "             samples avg       0.32      0.28      0.29       743\n",
            "\n"
          ],
          "name": "stdout"
        }
      ]
    },
    {
      "cell_type": "markdown",
      "metadata": {
        "id": "7ILNRIidLtJe"
      },
      "source": [
        "It's now your task to improve this.\n",
        "\n",
        "You can try a lot of things to make the classifier more accurate. Of course, it's very recommended to try different DNN based approaches. \n",
        "\n",
        "Note that there are only 2000 training sentences. This makes the task basically an excercise of transfer learning. You can try using pre-trained word embeddings, pre-trained models like BERT, etc.\n",
        "\n",
        "Note that the labels have some structure in them. Each label consists of two parts: e.g. FOOD#QUALITY consists of FOOD and QUALITY. Maybe try splitting the labels into two parts and predicting each part independanty? Of course, you need to glue them back up when doing evaluation.\n",
        "\n",
        "Multi-label classification can be easily handled with neural network models with a model that has one output for each label, but instead of simple cross-entropy, binary cross-entropy has to be used for optimization.\n",
        "\n",
        "Multi-label classification is a quite popular task and you can find a lot of tutorials on the internet. For example, many many text classification where a text can be assigned many tags (as in StackOverflow) are multi-label tasks.\n",
        "\n",
        "\n",
        "Check the slides of Lecture 1 on how the final project should look like, what parts it should contain and how it will be graded.\n",
        "\n",
        "\n"
      ]
    },
    {
      "cell_type": "code",
      "metadata": {
        "id": "ZuwKorIkjdA3"
      },
      "source": [
        ""
      ],
      "execution_count": null,
      "outputs": []
    }
  ]
}