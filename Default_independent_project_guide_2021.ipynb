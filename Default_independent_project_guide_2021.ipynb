{
  "nbformat": 4,
  "nbformat_minor": 0,
  "metadata": {
    "colab": {
      "name": "Default independent project guide 2021.ipynb",
      "provenance": [],
      "collapsed_sections": [
        "rGBEt5PjmFfd",
        "c7Dx82CJpZi9",
        "QdkY_C2txEoD"
      ],
      "toc_visible": true,
      "include_colab_link": true
    },
    "kernelspec": {
      "name": "python3",
      "display_name": "Python 3"
    },
    "accelerator": "GPU"
  },
  "cells": [
    {
      "cell_type": "markdown",
      "metadata": {
        "id": "view-in-github",
        "colab_type": "text"
      },
      "source": [
        "<a href=\"https://colab.research.google.com/github/Haavi97/ITS8040-NLSP/blob/master/Default_independent_project_guide_2021.ipynb\" target=\"_parent\"><img src=\"https://colab.research.google.com/assets/colab-badge.svg\" alt=\"Open In Colab\"/></a>"
      ]
    },
    {
      "cell_type": "markdown",
      "metadata": {
        "id": "xDOAOeayqH1R"
      },
      "source": [
        "# Task description"
      ]
    },
    {
      "cell_type": "markdown",
      "metadata": {
        "id": "wTfOjDBLLvIJ"
      },
      "source": [
        "The \"default\" project topic is about Aspect-Based Sentiment Analysis (ABSA). By \"default\" it is meant that you are supposed to choose this topic if you don't have any preferences about the topic yourself. You are free to choose any other sufficiently challenging topic, but please consult with the lecturer.\n",
        "\n",
        "The task comes from the SemEval 2016 Shared Task 5: http://alt.qcri.org/semeval2016/task5/\n",
        "\n",
        "There are different subtasks and slots in this task. You can limit you work on Task 1 Slot 1: Aspect Category Detection, and you can further focus on the restaurant domain only.\n",
        "\n",
        "The task is: given a sentence taken from a restaurant review, your system has to decide about which aspect category of the restaurant this sentence is, if any. The number of different aspect categories is fixed. One sentnce can correspond to zero, one or more aspect categories.\n",
        "\n",
        "Some examples:\n",
        "\n",
        "*   \"I was very disappointed with this restaurant.\" -> RESTAURANT#GENERAL\n",
        "*   \"I’ve asked a cart attendant for a lotus leaf wrapped rice and she replied back rice and just walked away.\" -> SERVICE#GENERAL\n",
        "*   \"Chow fun was dry; pork shu mai was more than usually greasy and had to share a table with loud and rude family.\" -> FOOD#QUALITY, AMBIENCE#GENERAL\n",
        "\n",
        "The Slot 3 of the task would be finding the polarity (negative, neutral, positive) of the aspect, but you don't have to implement this.\n",
        "\n",
        "Since the data and evaluation tools for this Shared task come in quite complex form, I have implemented very basic data loading for you, together with a simplest possible sklearn-based implementation for this task.\n",
        "\n",
        "\n",
        "\n"
      ]
    },
    {
      "cell_type": "markdown",
      "metadata": {
        "id": "zwYQtYiEO4kd"
      },
      "source": [
        "I have packed the data for the restaurant domain for this subtask on my site. Let's download it:"
      ]
    },
    {
      "cell_type": "code",
      "metadata": {
        "id": "VruNWeGQ85Dp",
        "colab": {
          "base_uri": "https://localhost:8080/"
        },
        "outputId": "3110d33c-ede9-4dc5-ab17-0b5a00f8f056"
      },
      "source": [
        "! wget --no-check-certificate https://www.phon.ioc.ee/~tanela/tmp/absa-en-restaurant.zip"
      ],
      "execution_count": 1,
      "outputs": [
        {
          "output_type": "stream",
          "text": [
            "--2021-05-31 10:24:21--  https://www.phon.ioc.ee/~tanela/tmp/absa-en-restaurant.zip\n",
            "Resolving www.phon.ioc.ee (www.phon.ioc.ee)... 193.40.251.126\n",
            "Connecting to www.phon.ioc.ee (www.phon.ioc.ee)|193.40.251.126|:443... connected.\n",
            "WARNING: cannot verify www.phon.ioc.ee's certificate, issued by ‘CN=TERENA SSL CA 3,O=TERENA,L=Amsterdam,ST=Noord-Holland,C=NL’:\n",
            "  Issued certificate has expired.\n",
            "WARNING: no certificate subject alternative name matches\n",
            "\trequested host name ‘www.phon.ioc.ee’.\n",
            "HTTP request sent, awaiting response... 200 OK\n",
            "Length: 136921 (134K) [application/zip]\n",
            "Saving to: ‘absa-en-restaurant.zip.2’\n",
            "\n",
            "absa-en-restaurant. 100%[===================>] 133.71K   878KB/s    in 0.2s    \n",
            "\n",
            "2021-05-31 10:24:22 (878 KB/s) - ‘absa-en-restaurant.zip.2’ saved [136921/136921]\n",
            "\n"
          ],
          "name": "stdout"
        }
      ]
    },
    {
      "cell_type": "code",
      "metadata": {
        "id": "-_zt54N989bW",
        "colab": {
          "base_uri": "https://localhost:8080/"
        },
        "outputId": "36de2932-3f60-40a4-efce-eb70a5135de1"
      },
      "source": [
        "! unzip absa-en-restaurant.zip"
      ],
      "execution_count": 2,
      "outputs": [
        {
          "output_type": "stream",
          "text": [
            "Archive:  absa-en-restaurant.zip\n",
            "replace ABSA16_Restaurants_Train_SB1_v2.xml? [y]es, [n]o, [A]ll, [N]one, [r]ename: n\n",
            "replace EN_REST_SB1_TEST.xml.gold? [y]es, [n]o, [A]ll, [N]one, [r]ename: n\n"
          ],
          "name": "stdout"
        }
      ]
    },
    {
      "cell_type": "markdown",
      "metadata": {
        "id": "JJiLrjJYPGf0"
      },
      "source": [
        "There are two files: training and test files. Both are in XML formats. Let's  take a peek:"
      ]
    },
    {
      "cell_type": "code",
      "metadata": {
        "id": "LqQznoWI9Gfe",
        "colab": {
          "base_uri": "https://localhost:8080/"
        },
        "outputId": "8ea47e15-ca88-4155-fd9d-d93bdce38b27"
      },
      "source": [
        "! head -20 ABSA16_Restaurants_Train_SB1_v2.xml  "
      ],
      "execution_count": 3,
      "outputs": [
        {
          "output_type": "stream",
          "text": [
            "<?xml version=\"1.0\" encoding=\"UTF-8\" standalone=\"yes\"?>\r\n",
            "<Reviews>\r\n",
            "    <Review rid=\"1004293\">\r\n",
            "        <sentences>\r\n",
            "            <sentence id=\"1004293:0\">\r\n",
            "                <text>Judging from previous posts this used to be a good place, but not any longer.</text>\r\n",
            "                <Opinions>\r\n",
            "                    <Opinion target=\"place\" category=\"RESTAURANT#GENERAL\" polarity=\"negative\" from=\"51\" to=\"56\"/>\r\n",
            "                </Opinions>\r\n",
            "            </sentence>\r\n",
            "            <sentence id=\"1004293:1\">\r\n",
            "                <text>We, there were four of us, arrived at noon - the place was empty - and the staff acted like we were imposing on them and they were very rude.</text>\r\n",
            "                <Opinions>\r\n",
            "                    <Opinion target=\"staff\" category=\"SERVICE#GENERAL\" polarity=\"negative\" from=\"75\" to=\"80\"/>\r\n",
            "                </Opinions>\r\n",
            "            </sentence>\r\n",
            "            <sentence id=\"1004293:2\">\r\n",
            "                <text>They never brought us complimentary noodles, ignored repeated requests for sugar, and threw our dishes on the table.</text>\r\n",
            "                <Opinions>\r\n",
            "                    <Opinion target=\"NULL\" category=\"SERVICE#GENERAL\" polarity=\"negative\" from=\"0\" to=\"0\"/>\r\n"
          ],
          "name": "stdout"
        }
      ]
    },
    {
      "cell_type": "code",
      "metadata": {
        "id": "Gekhfl_29N51",
        "colab": {
          "base_uri": "https://localhost:8080/"
        },
        "outputId": "4a1ba4ef-736c-43dd-d4cd-681dbcbf2abe"
      },
      "source": [
        "! head -20 ABSA16_Restaurants_Train_SB1_v2.xml  "
      ],
      "execution_count": 4,
      "outputs": [
        {
          "output_type": "stream",
          "text": [
            "<?xml version=\"1.0\" encoding=\"UTF-8\" standalone=\"yes\"?>\r\n",
            "<Reviews>\r\n",
            "    <Review rid=\"1004293\">\r\n",
            "        <sentences>\r\n",
            "            <sentence id=\"1004293:0\">\r\n",
            "                <text>Judging from previous posts this used to be a good place, but not any longer.</text>\r\n",
            "                <Opinions>\r\n",
            "                    <Opinion target=\"place\" category=\"RESTAURANT#GENERAL\" polarity=\"negative\" from=\"51\" to=\"56\"/>\r\n",
            "                </Opinions>\r\n",
            "            </sentence>\r\n",
            "            <sentence id=\"1004293:1\">\r\n",
            "                <text>We, there were four of us, arrived at noon - the place was empty - and the staff acted like we were imposing on them and they were very rude.</text>\r\n",
            "                <Opinions>\r\n",
            "                    <Opinion target=\"staff\" category=\"SERVICE#GENERAL\" polarity=\"negative\" from=\"75\" to=\"80\"/>\r\n",
            "                </Opinions>\r\n",
            "            </sentence>\r\n",
            "            <sentence id=\"1004293:2\">\r\n",
            "                <text>They never brought us complimentary noodles, ignored repeated requests for sugar, and threw our dishes on the table.</text>\r\n",
            "                <Opinions>\r\n",
            "                    <Opinion target=\"NULL\" category=\"SERVICE#GENERAL\" polarity=\"negative\" from=\"0\" to=\"0\"/>\r\n"
          ],
          "name": "stdout"
        }
      ]
    },
    {
      "cell_type": "markdown",
      "metadata": {
        "id": "Mw5X3UIhZOOA"
      },
      "source": [
        "There is a lot of information in this XML: each sentence has a list of Opinions, where each Opinion consists of category, polarity and the target word or phrase. We are really interested only in the raw sentence and the corresponding opinion categories.\n",
        "\n",
        "There are many ways to parse XML in Python. In this example we use a method that parses XML to Python dict, which is we will then process via loops."
      ]
    },
    {
      "cell_type": "code",
      "metadata": {
        "id": "Y9bSdaZk9RJW",
        "colab": {
          "base_uri": "https://localhost:8080/"
        },
        "outputId": "0f2fe2f3-e158-477e-8926-f63862d3ac8c"
      },
      "source": [
        "! pip install xmltodict"
      ],
      "execution_count": 5,
      "outputs": [
        {
          "output_type": "stream",
          "text": [
            "Requirement already satisfied: xmltodict in /usr/local/lib/python3.7/dist-packages (0.12.0)\n"
          ],
          "name": "stdout"
        }
      ]
    },
    {
      "cell_type": "code",
      "metadata": {
        "id": "RNTRKIio-g3e"
      },
      "source": [
        "import xmltodict as xd\n",
        "\n",
        "\n",
        "with open('EN_REST_SB1_TEST.xml.gold','rb') as f:\n",
        "    d = xd.parse(f)"
      ],
      "execution_count": 6,
      "outputs": []
    },
    {
      "cell_type": "code",
      "metadata": {
        "id": "X0sxmb5s-ug0",
        "colab": {
          "base_uri": "https://localhost:8080/"
        },
        "outputId": "5b39bb1b-15fd-4021-9f5a-44e20d48c1fb"
      },
      "source": [
        "d[\"Reviews\"][\"Review\"][0][\"sentences\"][\"sentence\"][0]"
      ],
      "execution_count": 7,
      "outputs": [
        {
          "output_type": "execute_result",
          "data": {
            "text/plain": [
              "OrderedDict([('@id', 'en_BlueRibbonSushi_478218171:0'),\n",
              "             ('text', 'Yum!'),\n",
              "             ('Opinions',\n",
              "              OrderedDict([('Opinion',\n",
              "                            OrderedDict([('@target', 'NULL'),\n",
              "                                         ('@category', 'FOOD#QUALITY'),\n",
              "                                         ('@polarity', 'positive'),\n",
              "                                         ('@from', '0'),\n",
              "                                         ('@to', '0')]))]))])"
            ]
          },
          "metadata": {
            "tags": []
          },
          "execution_count": 7
        }
      ]
    },
    {
      "cell_type": "markdown",
      "metadata": {
        "id": "DRHwXfhvaJMT"
      },
      "source": [
        "Here is the function that parses the XML and returns a list containing sentences and the corresponding list of categories:"
      ]
    },
    {
      "cell_type": "code",
      "metadata": {
        "id": "XBjDpQc6-xpG"
      },
      "source": [
        "def read_data(filename):\n",
        "  result = []\n",
        "  with open(filename,'rb') as f:\n",
        "    d = xd.parse(f, force_list=('sentence', 'Opinion'))\n",
        "  for review in d[\"Reviews\"][\"Review\"]:\n",
        "    #print(review)\n",
        "    for sentence in review[\"sentences\"][\"sentence\"]:\n",
        "      \n",
        "      text = sentence[\"text\"]\n",
        "      opinion_cats = []\n",
        "      \n",
        "      if \"Opinions\" in sentence and sentence[\"Opinions\"] is not None:\n",
        "        opinions = sentence[\"Opinions\"][\"Opinion\"]\n",
        "        for opinion in opinions:\n",
        "          opinion_cats.append(opinion[\"@category\"])\n",
        "      result.append((text, opinion_cats))\n",
        "  return result\n",
        "\n"
      ],
      "execution_count": 8,
      "outputs": []
    },
    {
      "cell_type": "code",
      "metadata": {
        "id": "HGpT08S_AtAI"
      },
      "source": [
        "train_data = read_data(\"ABSA16_Restaurants_Train_SB1_v2.xml\")\n",
        "test_data = read_data(\"EN_REST_SB1_TEST.xml.gold\")"
      ],
      "execution_count": 9,
      "outputs": []
    },
    {
      "cell_type": "code",
      "metadata": {
        "id": "--w93Sg4ePQn",
        "colab": {
          "base_uri": "https://localhost:8080/"
        },
        "outputId": "5af698a1-1b8d-42e9-8f39-8420f89d66b0"
      },
      "source": [
        "print(len(train_data), len(test_data))"
      ],
      "execution_count": 10,
      "outputs": [
        {
          "output_type": "stream",
          "text": [
            "2000 676\n"
          ],
          "name": "stdout"
        }
      ]
    },
    {
      "cell_type": "code",
      "metadata": {
        "id": "20RpEpp9Azno",
        "colab": {
          "base_uri": "https://localhost:8080/"
        },
        "outputId": "4bb64f54-0d2a-4cae-c060-8349c29c8cfd"
      },
      "source": [
        "train_data[:5]"
      ],
      "execution_count": 11,
      "outputs": [
        {
          "output_type": "execute_result",
          "data": {
            "text/plain": [
              "[('Judging from previous posts this used to be a good place, but not any longer.',\n",
              "  ['RESTAURANT#GENERAL']),\n",
              " ('We, there were four of us, arrived at noon - the place was empty - and the staff acted like we were imposing on them and they were very rude.',\n",
              "  ['SERVICE#GENERAL']),\n",
              " ('They never brought us complimentary noodles, ignored repeated requests for sugar, and threw our dishes on the table.',\n",
              "  ['SERVICE#GENERAL']),\n",
              " ('The food was lousy - too sweet or too salty and the portions tiny.',\n",
              "  ['FOOD#QUALITY', 'FOOD#STYLE_OPTIONS']),\n",
              " ('After all that, they complained to me about the small tip.',\n",
              "  ['SERVICE#GENERAL'])]"
            ]
          },
          "metadata": {
            "tags": []
          },
          "execution_count": 11
        }
      ]
    },
    {
      "cell_type": "markdown",
      "metadata": {
        "id": "OPm3-daEqWP2"
      },
      "source": [
        "## Multilabel binarizer"
      ]
    },
    {
      "cell_type": "markdown",
      "metadata": {
        "id": "2TvfCaAJanRj"
      },
      "source": [
        "So, each sentence can have zero or more categories. This task is called multi-label classification, as opposed to single-label classification where each sample corresponds to one and only one category.\n",
        "\n",
        "The sklearn package has some useful utilities for multi-label classification tasks."
      ]
    },
    {
      "cell_type": "code",
      "metadata": {
        "id": "UxSuYx03Dub3"
      },
      "source": [
        "from sklearn.preprocessing import MultiLabelBinarizer"
      ],
      "execution_count": 12,
      "outputs": []
    },
    {
      "cell_type": "markdown",
      "metadata": {
        "id": "mNAU8zmkbhdI"
      },
      "source": [
        "MultiLabelBinarizer builds a mapping from multi-label labels to IDs, and also constructs a label matrix for our training ans test data."
      ]
    },
    {
      "cell_type": "code",
      "metadata": {
        "id": "rAVKh_ALIVme"
      },
      "source": [
        "mlb = MultiLabelBinarizer()\n",
        "train_labels = mlb.fit_transform([set(sample[1]) for sample in train_data])"
      ],
      "execution_count": 13,
      "outputs": []
    },
    {
      "cell_type": "code",
      "metadata": {
        "id": "QeHPL6aMJDmY",
        "colab": {
          "base_uri": "https://localhost:8080/"
        },
        "outputId": "ddfe0522-1015-483d-d0b4-dc4ab07cbbd1"
      },
      "source": [
        "train_labels[0:5]"
      ],
      "execution_count": 14,
      "outputs": [
        {
          "output_type": "execute_result",
          "data": {
            "text/plain": [
              "array([[0, 0, 0, 0, 0, 0, 0, 0, 1, 0, 0, 0],\n",
              "       [0, 0, 0, 0, 0, 0, 0, 0, 0, 0, 0, 1],\n",
              "       [0, 0, 0, 0, 0, 0, 0, 0, 0, 0, 0, 1],\n",
              "       [0, 0, 0, 0, 0, 1, 1, 0, 0, 0, 0, 0],\n",
              "       [0, 0, 0, 0, 0, 0, 0, 0, 0, 0, 0, 1]])"
            ]
          },
          "metadata": {
            "tags": []
          },
          "execution_count": 14
        }
      ]
    },
    {
      "cell_type": "code",
      "metadata": {
        "id": "_wWDXL7BJPTR",
        "colab": {
          "base_uri": "https://localhost:8080/"
        },
        "outputId": "004c1de5-612e-4826-c398-f1d44fb4ff86"
      },
      "source": [
        "mlb.classes_"
      ],
      "execution_count": 15,
      "outputs": [
        {
          "output_type": "execute_result",
          "data": {
            "text/plain": [
              "array(['AMBIENCE#GENERAL', 'DRINKS#PRICES', 'DRINKS#QUALITY',\n",
              "       'DRINKS#STYLE_OPTIONS', 'FOOD#PRICES', 'FOOD#QUALITY',\n",
              "       'FOOD#STYLE_OPTIONS', 'LOCATION#GENERAL', 'RESTAURANT#GENERAL',\n",
              "       'RESTAURANT#MISCELLANEOUS', 'RESTAURANT#PRICES', 'SERVICE#GENERAL'],\n",
              "      dtype=object)"
            ]
          },
          "metadata": {
            "tags": []
          },
          "execution_count": 15
        }
      ]
    },
    {
      "cell_type": "code",
      "metadata": {
        "colab": {
          "base_uri": "https://localhost:8080/"
        },
        "id": "9CWgZlI0T8sl",
        "outputId": "515fc467-8204-456a-e0a6-07a156f8bdf7"
      },
      "source": [
        "print(test_data)"
      ],
      "execution_count": 16,
      "outputs": [
        {
          "output_type": "stream",
          "text": [
            "[('Yum!', ['FOOD#QUALITY']), ('Serves really good sushi.', ['FOOD#QUALITY']), ('Not the biggest portions but adequate.', ['FOOD#STYLE_OPTIONS']), ('Green Tea creme brulee is a must!', ['FOOD#QUALITY']), (\"Don't leave the restaurant without it.\", ['FOOD#QUALITY']), ('No Comparison', ['RESTAURANT#GENERAL']), (\"– I can't say enough about this place.\", ['RESTAURANT#GENERAL']), ('It has great sushi and even better service.', ['FOOD#QUALITY', 'SERVICE#GENERAL']), ('The entire staff was extremely accomodating and tended to my every need.', ['SERVICE#GENERAL']), (\"I've been to this restaurant over a dozen times with no complaints to date.\", ['RESTAURANT#GENERAL']), ('Snotty Attitude', ['SERVICE#GENERAL']), ('– We were treated very rudely here one time for breakfast.', ['SERVICE#GENERAL']), ('The owner is belligerent to guests that have a complaint.', ['SERVICE#GENERAL']), ('Good food!', ['FOOD#QUALITY']), ('– We love breakfast food.', []), ('This is a great place to get a delicious meal.', ['FOOD#QUALITY']), ('We never had to wait more than 5 minutes.', ['SERVICE#GENERAL']), ('The staff is pretty friendly.', ['SERVICE#GENERAL']), ('The onion rings are great!', ['FOOD#QUALITY']), ('They are not greasy or anything.', ['FOOD#QUALITY']), ('Overrated', ['RESTAURANT#GENERAL']), ('– I was highly disappointed in the food at Pagoda.', ['FOOD#QUALITY']), ('The lemon chicken tasted like sticky sweet donuts and the honey walnut prawns, the few they actually give you.....were not good.', ['FOOD#QUALITY', 'FOOD#QUALITY', 'FOOD#STYLE_OPTIONS']), ('The prices are outrageous, especially since the food was actually less satisfying than most neighborhood Chinese establishments.', []), ('Nice ambience, but highly overrated place.', ['AMBIENCE#GENERAL', 'RESTAURANT#GENERAL']), ('I will not go back.', ['RESTAURANT#GENERAL']), ('Worst Service I Ever Had', ['SERVICE#GENERAL']), ('– A group of 5 of us went there for Sunday brunch and sat outside.', []), ('Everyone that sat in the back outside agreed that it was the worst service we had ever received.', ['SERVICE#GENERAL']), ('Our waiter was non-existent and after our food finally arrived over an hour after we ordered, we were not given any water or utensils.', ['SERVICE#GENERAL']), ('I complained to the manager, but he was not even apologetic.', ['SERVICE#GENERAL']), ('I will never return again.', ['RESTAURANT#GENERAL']), ('Fabulous Italian Food!', ['FOOD#QUALITY']), ('– I highly recommend Mioposto.', ['RESTAURANT#GENERAL']), ('I am so happy to have a wonderful Italian restaurant in my neighborhood.', ['RESTAURANT#GENERAL']), ('The wine list is wonderful and the food reminds me of my recent trip to Italy.', ['DRINKS#STYLE_OPTIONS', 'FOOD#QUALITY']), ('I love this restaurant', ['RESTAURANT#GENERAL']), ('– I will never forget the amazing meal, service, and ambiance I experience at this restaurant.', ['FOOD#QUALITY', 'SERVICE#GENERAL', 'AMBIENCE#GENERAL']), ('It was absolutely amazing.', ['RESTAURANT#GENERAL']), ('The wine list is incredible and extensive and diverse, the food is all incredible and the staff was all very nice, good at their jobs and cultured.', ['DRINKS#STYLE_OPTIONS', 'FOOD#QUALITY', 'SERVICE#GENERAL']), ('I have not a bad thing to say about this place.', ['RESTAURANT#GENERAL']), ('AMAZING.', ['RESTAURANT#GENERAL']), ('I cannot wait to go back again this coming weekend!', ['RESTAURANT#GENERAL']), ('Mmm... good!', ['RESTAURANT#GENERAL']), ('– Went there last night with a friend.', []), ('She had heard from a co-worker about this place.', []), ('The food was great!', ['FOOD#QUALITY']), (\"It's *very* reasonably priced, esp for the quality of the food.\", ['FOOD#PRICES', 'FOOD#QUALITY']), ('I had the Kafta plate and it was perfect.', ['FOOD#QUALITY']), (\"We're going back. :D\", ['RESTAURANT#GENERAL']), ('Finally a meal that you will remember for a long time!', ['FOOD#QUALITY']), ('– In a age of incremental cost cutting in restaurants, its nice to see a place that bucks that trend, and just plain delivers high quality food and good service, period.', ['FOOD#QUALITY', 'SERVICE#GENERAL']), ('This is the place to relax and enjoy the finest quality food the industry can offer.', ['AMBIENCE#GENERAL', 'FOOD#QUALITY']), ('Caution - its real food for people who love the best.', ['FOOD#QUALITY']), ('Some of the food is clearly oriented toward foodies (like me) so if your not a foodie (nothing wrong with that)- head over to McDonalds or some Ruby Tuesday and have at it!', []), ('If your looking for real quality  (not the BS that is seen on yelp ratings - which allegedly recently got in trouble for \"adjusting\" ratings), you need to get in here!', []), ('Very Disappointing', ['RESTAURANT#GENERAL']), ('– I took my parents here for their anniversary-very very disappointed!!!', ['RESTAURANT#GENERAL']), ('I liked the atmosphere very much but the food was not worth the price.', ['AMBIENCE#GENERAL', 'FOOD#QUALITY', 'FOOD#PRICES']), ('I may not be a sushi guru but I can tell you that the food here is just okay and that there is not much else to it.', ['FOOD#QUALITY']), (\"Rice is too dry, tuna wasn't so fresh either.\", ['FOOD#QUALITY', 'FOOD#QUALITY']), ('Nothing really came across as outstanding.', ['FOOD#QUALITY']), ('Very disappointed.', ['RESTAURANT#GENERAL']), ('I have eaten here three times and have found the quality and variety of the fish to be excellent.', ['FOOD#QUALITY', 'FOOD#STYLE_OPTIONS']), ('However, the value and service are both severely lacking.', ['SERVICE#GENERAL', 'RESTAURANT#PRICES']), ('Portions contain less fish than one would expect, particularly since prices are in line with the best sushi places in NYC (Masa excluded, of course).', []), ('Furthermore, while the fish is unquestionably fresh, rolls tend to be inexplicably bland.', ['FOOD#QUALITY', 'FOOD#QUALITY']), ('The service ranges from mediocre to offensive.', ['SERVICE#GENERAL']), ('On a recent trip, our waiter was extremely dismissive, while no less than three staff members waited hand-and-foot on a pair of Japanese girls seated nearby.', ['SERVICE#GENERAL', 'SERVICE#GENERAL']), ('We were then charged for their most expensive sake ($20+ per serving) when we in fact drank a sake of less than half that price.', ['SERVICE#GENERAL']), ('But Im sure this was just an honest mistake...', []), ('Freshest sushi  – I love this restaurant.', ['FOOD#QUALITY', 'RESTAURANT#GENERAL']), ('They pay such detail to everything from miso soup to complex rolls.', ['FOOD#QUALITY', 'FOOD#QUALITY']), ('The sashimi was the freshest and most tender I have ever tasted.', ['FOOD#QUALITY']), ('Their apps are all delicious.', ['FOOD#QUALITY']), ('The only drawback is that this place is really expensive and the portions are on the small side.', ['RESTAURANT#PRICES', 'FOOD#STYLE_OPTIONS']), ('But the space is small and lovely, and the service is helpful.', ['AMBIENCE#GENERAL', 'SERVICE#GENERAL']), ('You are bound to have a very charming time.', ['RESTAURANT#GENERAL']), ('Not recommanded!!!', ['RESTAURANT#GENERAL']), ('– The food was not great & the waiters were rude.', ['FOOD#QUALITY', 'SERVICE#GENERAL']), ('It is not worth going at all and spend your money there!!!', ['RESTAURANT#GENERAL']), ('great service', ['SERVICE#GENERAL']), ('– Pretty cheap for sit down Mexican AND downtown.', ['RESTAURANT#PRICES', 'LOCATION#GENERAL']), ('my service was stellar!', ['SERVICE#GENERAL']), ('the bus boy even spotted that my table was shaking a stabilized it for me.', ['SERVICE#GENERAL']), ('food was fine, with a some little-tastier-than-normal salsa.', ['FOOD#QUALITY', 'FOOD#QUALITY']), (\"If you're in the area you shouldn't be disappointed.\", ['RESTAURANT#GENERAL']), (\"Ok.... – Maybe I went in on someone's bad day....\", ['RESTAURANT#GENERAL']), ('the food was great, the margaritas too but the waitress was too busy being nice to her other larger party than to take better care of my friend and me.', ['FOOD#QUALITY', 'DRINKS#QUALITY', 'SERVICE#GENERAL']), ('Took forever to get our order taken, water refills were too much to ask for and the only time she was fast was when we asked for our bill when we could get her attention.', ['SERVICE#GENERAL']), (\"I don't know if I'll be back....\", ['RESTAURANT#GENERAL']), ('Mama Mia – I live in the neighborhood and feel lucky to live by such a great pizza place.', ['RESTAURANT#GENERAL']), (\"the only problem is you really have to warm up the pizza before it's edible, even when you order ahead.\", ['FOOD#QUALITY']), (\"BUt once done, it's not too much dough, not too much cheese, not too much sauce.\", ['FOOD#QUALITY']), ('Best Sushi in town.', ['FOOD#QUALITY']), ('Have gone to all the top places.', []), ('Everything you want and more, very fresh.', ['FOOD#QUALITY', 'FOOD#STYLE_OPTIONS']), (\"Its worth the wait, especially since they'll give you a call when the table is ready.\", ['RESTAURANT#GENERAL', 'SERVICE#GENERAL']), ('The best calamari in Seattle!', ['FOOD#QUALITY']), ('– ...and the best summertime deck experience--they will even bring you a blanket if you get cold in the Seattle evening weather.', ['AMBIENCE#GENERAL', 'SERVICE#GENERAL']), ('A perfect place to take out of town guests any time of the year.', ['RESTAURANT#GENERAL']), ('Endless fun, awesome music, great staff!!!', ['AMBIENCE#GENERAL', 'SERVICE#GENERAL', 'RESTAURANT#GENERAL']), ('– By far the best bar in the east village...', ['RESTAURANT#GENERAL']), ('I went there with some friends one night to play bingo and watch the sox game and it was a blast!', ['RESTAURANT#GENERAL']), ('Every time \"0-sixtynine\" is called the bartender buys everyone drinks!', ['SERVICE#GENERAL']), ('Been there lots since and its always a good time.', ['RESTAURANT#GENERAL']), ('Great draft and bottle selection and the pizza rocks.', ['FOOD#QUALITY', 'DRINKS#STYLE_OPTIONS']), (\"Definitely has one of the best jukebox's i've seen in a long long time.\", ['AMBIENCE#GENERAL']), ('I FOUND A NEW HOME ON SECOND AVENUE!!!!!!!!!!!!', ['RESTAURANT#GENERAL']), ('– Where can I begin.', []), (\"I can't!!!\", []), ('Just go there and see for yourself.', ['RESTAURANT#GENERAL']), ('The food is great, the bartenders go that extra mile.', ['FOOD#QUALITY', 'SERVICE#GENERAL']), ('You need to watch your game, they will have it on for you.', ['SERVICE#GENERAL']), ('The owners are great fun and the beer selection is worth staying for.', ['SERVICE#GENERAL', 'DRINKS#STYLE_OPTIONS']), ('And the upstairs is a great place to hang out.', ['AMBIENCE#GENERAL']), ('Not alot of smoking places left in New York, but I have found my favorite smoking balconey in the city.', ['RESTAURANT#MISCELLANEOUS']), ('Kudos to these guys.', ['RESTAURANT#GENERAL']), ('I found a new home and just moved with a long lease.', ['RESTAURANT#GENERAL']), ('Thank you', []), ('Go Beyond the California Rolls...', []), ('The sushi here is delicious!', ['FOOD#QUALITY']), ('They have a wide variety of fish and they even list which oceans they come from; Atlantic or Pacific.', ['FOOD#STYLE_OPTIONS']), (\"I've had the Jellyfish, Horse Mackerel, Blue Fin Tuna and the Sake Ikura roll among others, and they were all good.\", ['FOOD#QUALITY', 'FOOD#QUALITY', 'FOOD#QUALITY', 'FOOD#QUALITY']), ('My only negative comment is that I wish the pieces were a little bigger.', ['FOOD#STYLE_OPTIONS']), ('The decor is rustic, traditional Japanese.', ['AMBIENCE#GENERAL']), ('The crowd is mixed yuppies, young and old.', ['RESTAURANT#MISCELLANEOUS']), ('The service was courteous and attentive.', ['SERVICE#GENERAL']), ('Mediocre food', ['FOOD#QUALITY']), ('– We ate on the outside patio area for dinner on a Saturday night.', []), ('The outside patio area has an abbreviated menu.', ['FOOD#STYLE_OPTIONS']), ('We ordered the marinated grapes, buffalo style chicken wings, and the turkey sandwich.', []), ('My g/f and I both agreed the food was very mediocre especially considering the price.', ['FOOD#QUALITY', 'FOOD#PRICES']), ('We are locals, and get the feeling the only way this place survives with such average food is because most customers are probably one-time customer tourists.', ['FOOD#QUALITY', 'RESTAURANT#GENERAL']), ('Service was decent.', ['SERVICE#GENERAL']), ('Drinks were good.', ['DRINKS#QUALITY']), (\"Unless you are just stopping in for a few drinks I wouldn't recommend going here.\", ['DRINKS#QUALITY', 'RESTAURANT#GENERAL']), ('You are likely to be disappointed.', ['RESTAURANT#GENERAL']), ('Excellent food, nice ambience, fairly expensive', ['FOOD#QUALITY', 'AMBIENCE#GENERAL', 'RESTAURANT#PRICES']), ('– I loved the pumpkin ravioli and the goat cheese gnocchi (5 big ones to a plate instead of 20 or so little gnocchis) and my sister loved her filet mignon on top of spinach and mashed potatoes.', ['FOOD#QUALITY', 'FOOD#QUALITY', 'FOOD#STYLE_OPTIONS', 'FOOD#QUALITY']), ('The ambiance was a peaceful and relaxing break amongst all the kids running around in Downtown Disney.', ['AMBIENCE#GENERAL']), ('It was romantic - and even nice even with my sister, reminded me of Italy, and had artwork and music that kept up the feeling of being in a Mediterrean villa.', ['AMBIENCE#GENERAL', 'AMBIENCE#GENERAL', 'AMBIENCE#GENERAL']), ('I recommend it for a night when you want to splurge! (it was a bit expensive)', ['RESTAURANT#GENERAL', 'RESTAURANT#PRICES']), ('Best Indian food in L.A.', ['FOOD#QUALITY']), (\"– I've been to over a dozen Indian places in L.A., and this is still my favorite.\", []), ('The best thing is, the prices are also quite reasonable.', ['RESTAURANT#PRICES']), ('The chicken curry and chicken tikka masala are my favorite meat dishes.', ['FOOD#QUALITY', 'FOOD#QUALITY']), ('The chana masala (garbanzo beans) are also excellent.', ['FOOD#QUALITY']), (\"It's located in a strip mall near the Beverly Center, not the greatest location, but the food keeps me coming back for more.\", ['LOCATION#GENERAL', 'FOOD#QUALITY']), ('hidden little jem', ['RESTAURANT#GENERAL']), ('– tucked away over by the Beverly Center.', ['LOCATION#GENERAL']), ('Never too crowded and always great service.', ['SERVICE#GENERAL', 'RESTAURANT#MISCELLANEOUS']), ('I think I have probably tried each item on their menu at least once it is all excellent.', ['FOOD#QUALITY']), ('I can highly recommend their various saag and paneer and korma.', ['FOOD#QUALITY', 'FOOD#QUALITY', 'FOOD#QUALITY']), ('You routinely see Indian families and friends dining there, which is always a good sign.', ['RESTAURANT#MISCELLANEOUS']), ('I appreciate their delivery too.', ['SERVICE#GENERAL']), ('Nice food but no spice!', ['FOOD#QUALITY', 'FOOD#QUALITY']), ('– I really enjoyed my meal here.', ['FOOD#QUALITY']), ('I had yummy lamb korma, saag paneer, samosas, naan, etc.', ['FOOD#QUALITY', 'FOOD#QUALITY', 'FOOD#QUALITY', 'FOOD#QUALITY']), ('The food was all good but it was way too mild.', ['FOOD#QUALITY', 'FOOD#QUALITY']), (\"Normally, places ask how hot you want it, but they didn't.\", ['SERVICE#GENERAL']), ('I should have thought to bring it up but never expected the food to be that mild.', ['FOOD#QUALITY']), ('I will give them another chance and make sure to tell them to kick it up several notches.', []), (\"The naan was some of the best I've had and I really enjoyed the bhartha, not too tomatoey.\", ['FOOD#QUALITY', 'FOOD#QUALITY']), ('Even the chickpeas, which I normally find too dry, were good.', ['FOOD#QUALITY']), (\"And they packaged everything nicely so it didn't spill.\", ['SERVICE#GENERAL']), ('awesome find', ['RESTAURANT#GENERAL']), (\"– I don't understand how I was a stranger to this place for so long... the fajita salad, the colorado, the fajitas - EVERYTHING is delicious.\", ['FOOD#QUALITY', 'FOOD#QUALITY', 'FOOD#QUALITY', 'FOOD#QUALITY', 'RESTAURANT#GENERAL']), ('I love the warm & cosy environment.', ['AMBIENCE#GENERAL']), (\"I just found out that you can have the place to yourself on nights and weekends for a private party - can't wait to celebrate my next birthday there.\", ['RESTAURANT#MISCELLANEOUS']), ('best restaurant in the world, great decor, great customer service, friendly manager', ['RESTAURANT#GENERAL', 'AMBIENCE#GENERAL', 'SERVICE#GENERAL', 'SERVICE#GENERAL']), ('– first of all henrymillionare you dont know a thing about middle eastern food so dont talk.', []), ('Cry me a river, stop complaining you obviously you have no taste in food.', []), ('i am never disappointed with there food.', ['FOOD#QUALITY']), ('the atmosphere is great.', ['AMBIENCE#GENERAL']), ('and all you other people that have a problem get some help', []), ('great lunch spot', ['RESTAURANT#GENERAL']), ('– Great financial district mexican spot.', ['RESTAURANT#GENERAL']), ('Always busy, but they are good at seating you promptly and have quick service.', ['SERVICE#GENERAL', 'SERVICE#GENERAL']), (\"Everything I've had here is good, taco salads, burritos, enchiladas i love this place.\", ['FOOD#QUALITY', 'FOOD#QUALITY', 'FOOD#QUALITY', 'RESTAURANT#GENERAL', 'FOOD#QUALITY']), ('Also have great margaritas!', ['DRINKS#QUALITY']), ('You can order to go if you have to get back to the office too!', ['SERVICE#GENERAL']), ('Lebanese Food!Yum!', ['FOOD#QUALITY']), (\"– I've been to Open Sesame only once, but I'm still reeling from the experience!!\", ['RESTAURANT#GENERAL']), ('The food is simply unforgettable!', ['FOOD#QUALITY']), ('I had the beef kabobs with a side of cucumber yogurt.', []), ('The presentation of the food was an added bonus, it looked just as great as it tasted!', ['FOOD#STYLE_OPTIONS', 'FOOD#QUALITY']), ('My best friend had the chicken shawarma and she STILL raves about it being the best anywhere!', ['FOOD#QUALITY']), ('Her sister had the baklava for dessert!', []), ('What a tastly, flaky treat!', ['FOOD#QUALITY']), ('The staff are friendly and the decor was ethic and colorful.', ['SERVICE#GENERAL', 'AMBIENCE#GENERAL']), ('GO TO OPEN SESAME!!!', ['RESTAURANT#GENERAL']), ('Holy Hummus!', ['FOOD#QUALITY']), ('– The food is here is incredible, though the quality is inconsistent during lunch.', ['FOOD#QUALITY', 'FOOD#QUALITY']), ('Dinners have always been excellent, in terms of food quality.', ['FOOD#QUALITY']), ('The open sesame combo plate is a bargain for the heap of food given.', ['FOOD#PRICES', 'FOOD#STYLE_OPTIONS']), ('The side of potatoes is to die for, as is the labne (yogurt dip).', ['FOOD#QUALITY', 'FOOD#QUALITY']), ('Also, they serve THE best hummus in America, with a drizzle of fragrant olive oil (which, I believe is the traditional way)!', ['FOOD#QUALITY', 'FOOD#STYLE_OPTIONS']), ('The only drawback is the crowded seating and the slow service.', ['RESTAURANT#MISCELLANEOUS', 'SERVICE#GENERAL']), (\"There have been several occasions when we've just not gotten some side dishes we've ordered.\", ['SERVICE#GENERAL']), (\"However, this place is a gem, and I won't stop going back.\", ['RESTAURANT#GENERAL']), ('great beer', ['DRINKS#QUALITY']), ('– My first time to dine at this restaurant was with my son and it was absolutely horrible!', ['RESTAURANT#GENERAL']), ('We waited over 30 minutes for our drinks and over 1 1/2 hours for our food.', ['SERVICE#GENERAL']), ('I swore never to return for a warm beer and mediocre meal.', ['DRINKS#QUALITY', 'FOOD#QUALITY']), ('HOWEVER, one Sunday afternoon my husband and I did go (although with my loud protests) and were pleasantly surprised.', ['RESTAURANT#GENERAL']), ('The band was very good and the service was attentive.', ['AMBIENCE#GENERAL', 'SERVICE#GENERAL']), ('Outside in the area between the restaurant and the park, children were running around while their parents sipped wine.', []), ('We ordered a selection of the small plates, and the shoe string onions, goat cheese pizza, grilled asparagus and fried brie with fruit were all very good.', ['FOOD#QUALITY', 'FOOD#QUALITY', 'FOOD#QUALITY', 'FOOD#QUALITY']), ('It was like dining at a completely different restaurant.', ['RESTAURANT#GENERAL']), ('We have since returned and also had a great experience, sampling more small plates and a variety of the beer ( cold and good).', ['DRINKS#QUALITY', 'RESTAURANT#GENERAL']), ('We did have the same waiter the second time, so maybe the service is spotty and our luck is good.', ['SERVICE#GENERAL']), ('Sunday afternoons there is a band playing and it is lots of fun.', ['AMBIENCE#GENERAL']), (\"Seattle's BEST Winelist\", ['DRINKS#STYLE_OPTIONS']), (\"– Ray's (suprisingly) has the city's BEST & most diverse wine list.\", ['DRINKS#STYLE_OPTIONS']), ('The sommelier is fantastic, down-to-earth, & extremely knowlegable.', ['SERVICE#GENERAL']), ('I would go back for the wine experience alone.', ['DRINKS#QUALITY']), ('Nice job!', ['RESTAURANT#GENERAL']), ('NOT THE PLACE IT ONCE WAS', ['RESTAURANT#GENERAL']), ('– It is sad to see a place that was once \"THE\" place to meet and eat for Bfast or Lunch, now be the place that is a big \"DONT BOTHER.\"', ['RESTAURANT#GENERAL']), ('The food is not what it once was (potions have seriously seen downsizing) prices have gone up, and the service is the worst I have experienced anywhere (including mainland Europe).', ['FOOD#QUALITY', 'FOOD#STYLE_OPTIONS', 'SERVICE#GENERAL', 'FOOD#PRICES']), ('What may be interesting to most is the worst sevice/attitude comes from the owners of this establishment.', ['SERVICE#GENERAL']), ('This establishment really made a marked decline after ( and this is recurring story ) the airing of FOOD TELEVISIONS \"DINERS, DRIVE-INS, AND DIVES\" hosted by Guy Fieri, in which Schooner or Later was subject of.', ['RESTAURANT#GENERAL']), ('Perhaps now, Scooner or Later falls into the \"Dive\" category.', ['RESTAURANT#GENERAL']), ('This is sad for what once was one of the best places you could ever eat.', ['RESTAURANT#GENERAL']), ('I hope one day Scooner or Later returns to what it once was.', ['RESTAURANT#GENERAL']), ('Untill this happens, my advice is to STAY AWAY.', ['RESTAURANT#GENERAL']), ('Open & Cool Place with the Best Pizza and Coffee', ['AMBIENCE#GENERAL', 'FOOD#QUALITY', 'DRINKS#QUALITY']), ('– Mioposto has a very creative & delicious pizza menu.', ['FOOD#QUALITY', 'FOOD#STYLE_OPTIONS']), ('The coffe is very good, too.', ['DRINKS#QUALITY']), ('Great open and friendly ambience.', ['AMBIENCE#GENERAL']), ('This place is charming and relaxing.', ['AMBIENCE#GENERAL']), ('The servers behind the counter are always friendly and helpful.', ['SERVICE#GENERAL']), ('It reminds me of those great little restaurants in San Francisco.', []), (\"It's a great place to enjoy food and meet friends.\", ['FOOD#QUALITY', 'RESTAURANT#MISCELLANEOUS']), ('Old Reliable', ['RESTAURANT#GENERAL']), (\"– After 12 years in Seattle Ray's rates as the place we always go back to.\", ['RESTAURANT#GENERAL']), ('Great food, spectacular location, and friendly service keep us coming back year after year.', ['FOOD#QUALITY', 'LOCATION#GENERAL', 'SERVICE#GENERAL']), ('Enjoyed the food', ['FOOD#QUALITY']), ('– First of all, I am not from Long Beach.', []), ('I was visiting SoCal a couple of months ago when the friend I was visiting decided to take me to this restaurant.', []), ('(She was actually going to take me to another mediterranean restaurant right across the street but they were not open yet even though it was a few minutes past their opening time.)', []), ('I liked it.', ['RESTAURANT#GENERAL']), ('Food was good and cheap.', ['FOOD#QUALITY', 'FOOD#PRICES']), ('I had the kafta plate and I enjoyed it.', ['FOOD#QUALITY']), ('It was so much though that I could barely finish but I did, since it was delicious.', ['FOOD#STYLE_OPTIONS', 'FOOD#QUALITY']), ('Atmosphere was nice.', ['AMBIENCE#GENERAL']), (\"Service was kind of slow, our waitress took forever to give us our check even though it wasn't that busy.\", ['SERVICE#GENERAL', 'SERVICE#GENERAL']), ('Still I would recommend this place.', ['RESTAURANT#GENERAL']), ('BTW, I really like Long Beach.', []), ('It was one of the few places in SoCal where you would actually walk around and not have to take a car.', []), ('WOW!!!!!!!!', ['RESTAURANT#GENERAL']), ('– IT CANT GET ANY BETTER!!!!!', ['RESTAURANT#GENERAL']), ('WHAT ELSE CAN YOU SAY NICE PEOPLE AMAZING FOOD WOW', ['FOOD#QUALITY', 'SERVICE#GENERAL', 'RESTAURANT#GENERAL']), ('Great food with an awesome atmosphere!', ['FOOD#QUALITY', 'AMBIENCE#GENERAL']), ('– Eggs, pancakes, potatoes, fresh fruit and yogurt -- everything they serve is delicious.', ['FOOD#QUALITY', 'FOOD#QUALITY', 'FOOD#QUALITY', 'FOOD#QUALITY', 'FOOD#QUALITY', 'FOOD#QUALITY']), (\"The best place for a leisure Sunday breakfast amidst yachts, then take a stroll through the nearby Farmer's Market.\", ['RESTAURANT#MISCELLANEOUS']), ('great meal – the fish on the omikase platter was absolutely decadent -- there was none of the stringiness that sometimes accompanies fair sushi -- this fish was perfect!!!!', ['FOOD#QUALITY', 'FOOD#QUALITY']), (\"plus, i am allergic to rice, and the waitstaff was unbelievably accomodating -- didn't even bat an eye!\", ['SERVICE#GENERAL']), ('and the waiter suggested a perfect sake!!', ['SERVICE#GENERAL', 'DRINKS#QUALITY']), ('absolutely fabulous!!!', ['RESTAURANT#GENERAL']), ('Unbeatable sushi!', ['FOOD#QUALITY']), ('Two thumbs up!', ['FOOD#QUALITY']), ('I love sushi, and I have eaten it all over the world.', []), ('This is right up there with places in Tokyo as far as the freshness is concerned.', ['FOOD#QUALITY']), ('Melt in your mouth nigiri and sashmi, and very tasty rolls too.', ['FOOD#QUALITY', 'FOOD#QUALITY', 'FOOD#QUALITY']), ('Be sure to try the oyster roll.', ['FOOD#QUALITY']), ('splendid', ['RESTAURANT#GENERAL']), ('– How to describe the best sushi in NYC: hmmmm, delicious, amazing, fantastic, suculent, perfect, nah, all of the above.', ['FOOD#QUALITY']), (\"I can't saybenough good things about this restaurant, and I can't wait for my next several visits.\", ['RESTAURANT#GENERAL']), ('The best Chuwam Mushi I have ever had.', ['FOOD#QUALITY']), ('Perfect on a cold day.', ['FOOD#QUALITY']), ('$6 with tip.', ['RESTAURANT#PRICES']), ('Perfection.', ['RESTAURANT#GENERAL']), ('Good Sushi, High Price', ['FOOD#QUALITY', 'FOOD#PRICES']), ('One of the best Sushi place in town.', ['RESTAURANT#GENERAL']), ('The house special roll is really good.', ['FOOD#QUALITY']), ('On weekends, you might have to wait for couple hours.', ['SERVICE#GENERAL']), ('However, they do take your cellphone numbers so that you can go hang out somewhere else till they call you up on your cellphone.', ['SERVICE#GENERAL']), ('A cozy spot for 2', ['AMBIENCE#GENERAL']), (\"– I can't believe Murphy's has been around for over 25 years, amazing.\", ['RESTAURANT#MISCELLANEOUS']), (\"That's a huge compliment, especially in the fickled restaurant business, ...enough already!\", ['RESTAURANT#GENERAL']), (\"Brunch at Murphy's is to die for, my specialty... egg white omelet, the food is always freshly prepared.\", ['FOOD#QUALITY', 'FOOD#QUALITY', 'FOOD#QUALITY']), (\"It's the perfect spot for a romantic date for 2 or a secret rendezvous!\", ['RESTAURANT#MISCELLANEOUS', 'AMBIENCE#GENERAL']), ('Save room for  scrumptious desserts.', ['FOOD#QUALITY']), (\"The restaurant offers an extensive wine list and an ambiance you won't forget!\", ['DRINKS#STYLE_OPTIONS', 'AMBIENCE#GENERAL']), (\"I guarantee you won't be disappointed, there's also valet parking.\", ['RESTAURANT#GENERAL', 'RESTAURANT#MISCELLANEOUS']), ('Addicting!', ['RESTAURANT#GENERAL']), ('– Best Mexican place for lunch in the financial district.', ['RESTAURANT#GENERAL']), ('Love the enchiladas and chicken soup - and be sure to check out their specials.', ['FOOD#QUALITY', 'FOOD#QUALITY', 'FOOD#QUALITY']), ('The cooks have been at the restaurant for years and cook family recipes.', ['FOOD#QUALITY']), ('Can get busy on Fridays for a table but once seated, the service is so efficient you can be in and out of there quickly.', ['SERVICE#GENERAL']), ('I went there with a friend from out of town... and we were both very impressed!', ['RESTAURANT#GENERAL']), ('Went on a Monday night, so there was no wait for a table.', []), ('The sushi was excellent and the wait staff was quick.', ['FOOD#QUALITY', 'SERVICE#GENERAL']), ('The price was right too.', ['RESTAURANT#PRICES']), ('The atmosphere was just okay.', ['AMBIENCE#GENERAL']), ('Space was limited, but the food made up for it.', ['RESTAURANT#MISCELLANEOUS', 'FOOD#QUALITY']), (\"I'd go back there in a heartbeat.\", ['RESTAURANT#GENERAL']), (\"Should have gone to Trader Joe's and had frozen pizza :(\", []), ('– My family went on a midweek evening to have dinner.', []), ('The restaurant was 80 % full and there was a sign posted \"wait to be seated.\"', []), (\"Well I guess it's hard to be seated when one is invisible to the staff.\", ['SERVICE#GENERAL']), ('We stood there for 10 minutes while employees walked back and forth ignoring us.', ['SERVICE#GENERAL']), ('Finally, my wife stood face to face in front of one of the staff and she asked, \"Are you waiting for a table?\"', ['SERVICE#GENERAL']), ('Once seated it took about 30 minutes to finally get the meal.', ['SERVICE#GENERAL']), ('The prior reviews said Kid friendly... give me a break with two young children that is light years.', ['RESTAURANT#MISCELLANEOUS']), (\"The Caesar salad I ordered had so much lemon I couldn't eat it.\", ['FOOD#QUALITY']), (\"The pizza was slightly reminescent of Baker's Beach pizza which occupied the the space years ago (a distant second).\", []), ('It was decent but nothing exceptional.', ['FOOD#QUALITY']), ('This establishment is consistent with my feelings of the rest of Chow Foods group.', []), ('We used to frequent most of their restaurants but over the years each one has really been disapointing.', []), (\"I'm a born and bred Southend resident and was excited to hear of this restaurant opening.\", []), ('Well, I guess maybe it might be beneficial for the management  to pay a visit to Tutta Bella in Columbia City for some tips.', []), ('Great food, better Margaritas!', ['FOOD#QUALITY', 'DRINKS#QUALITY']), ('– This is one of my top lunch spots, huge portions, fast service and amazing margaritas!!', ['RESTAURANT#GENERAL', 'FOOD#STYLE_OPTIONS', 'SERVICE#GENERAL', 'DRINKS#QUALITY']), ('it gets really busy, so get there on the early side so you can grab a seat, if you do have to wait, its not bad because the service is quick!', ['SERVICE#GENERAL']), ('Check out the art on the walls, very colorful!', ['AMBIENCE#GENERAL']), ('i love this place!', ['RESTAURANT#GENERAL']), ('– i have been eating at this place for over 8 years now and i have never had one bad meal.', ['FOOD#QUALITY']), ('i highly recommend this place to all that want to try indain food for the first time.', ['FOOD#QUALITY']), ('The lunch menu is an awesome deal!', ['FOOD#PRICES']), ('plenty of food,trust me .', ['FOOD#STYLE_OPTIONS']), ('Fresh ingrediants and super tasty.', ['FOOD#QUALITY', 'FOOD#QUALITY']), ('The place is the next best thing to my Moms cooking.', ['FOOD#QUALITY']), ('Best food, phenominal service', ['FOOD#QUALITY', 'SERVICE#GENERAL']), ('For the finicky sushi eater and those who have sampled the best NYC has to offer, the fish is the freshest and the service is superb.', ['FOOD#QUALITY', 'SERVICE#GENERAL']), (\"Not only can the selection be innovative, but there's a nice balance of traditional sushi as well.\", ['FOOD#STYLE_OPTIONS', 'FOOD#STYLE_OPTIONS']), ('The nicest waiters in town.', ['SERVICE#GENERAL']), ('WAY OVER-RATED!!!!', ['RESTAURANT#GENERAL']), ('– This place is unbelievably over-rated.', ['RESTAURANT#GENERAL']), (\"If I want to stand in line on Sunday for an hour to get average brunch food, then I would put Murphy's at the top of the list.\", ['FOOD#QUALITY', 'SERVICE#GENERAL']), ('The regular menu here is slightly above average that is not worth the snotty attitude that you receive.', ['FOOD#QUALITY', 'SERVICE#GENERAL']), ('10!', ['RESTAURANT#GENERAL']), ('Your a sushi fan, you love expertly cut fish, great sake, a killer SOHO location, and of course: Salmon, Tuna, Fluke, Yellow Tail, Cod, Mackeral, Jellyfish, Sea Urchin, Shrimp, Lobster, Sea Bream, Trout, Milk Fish, Blue Fin Tuna, Eel, Crab, Sardine, Monk Fish, Roe, Scallop, Oysters, and a varity of Toro.', ['FOOD#QUALITY', 'FOOD#STYLE_OPTIONS', 'DRINKS#QUALITY', 'LOCATION#GENERAL', 'FOOD#QUALITY', 'FOOD#QUALITY', 'FOOD#QUALITY', 'FOOD#QUALITY', 'FOOD#QUALITY', 'FOOD#QUALITY', 'FOOD#QUALITY', 'FOOD#QUALITY', 'FOOD#QUALITY', 'FOOD#QUALITY', 'FOOD#QUALITY', 'FOOD#QUALITY', 'FOOD#QUALITY', 'FOOD#QUALITY', 'FOOD#QUALITY', 'FOOD#QUALITY', 'FOOD#QUALITY', 'FOOD#QUALITY', 'FOOD#QUALITY', 'FOOD#QUALITY', 'FOOD#QUALITY', 'FOOD#STYLE_OPTIONS']), ('There is only one place on the east coast that has it all, plus a lot more.', ['RESTAURANT#GENERAL']), ('Better than nobu, tomoe, taka, yama, sugiyama, and the rest.', []), ('Bring your cell phone cause you may have to wait to get into the best sushi restaurant in the world: BLUE RIBBON SUSHI.', ['RESTAURANT#GENERAL']), ('Believe it baby!', []), ('Cut to the chase - this is amazing!', ['RESTAURANT#GENERAL']), (\"It's unpretentious and underground.\", ['AMBIENCE#GENERAL']), (\"It's fresh, welcoming, delicious, and relaxing.\", ['FOOD#QUALITY', 'AMBIENCE#GENERAL']), ('Hands down, the best tuna I have ever had.', ['FOOD#QUALITY']), (\"Blue Ribbon lives up to it's fantastic reputation.\", ['RESTAURANT#GENERAL']), ('I went here on a recommendation and will surely return time and time again.', ['RESTAURANT#GENERAL']), ('What a find!', ['RESTAURANT#GENERAL']), ('Well worth it', ['RESTAURANT#GENERAL']), ('Great value sushi with high quality & nice setting.', ['FOOD#PRICES', 'FOOD#QUALITY', 'AMBIENCE#GENERAL']), ('Good for late night dining (last minute planning) without reservations.', ['RESTAURANT#MISCELLANEOUS']), (\"Try the Chef's Choice for sushi as the smoked yellowtail was incredible and the rolls were also tasty.\", ['FOOD#QUALITY', 'FOOD#QUALITY', 'FOOD#QUALITY']), ('Poor customer service/poor pizza.', ['SERVICE#GENERAL', 'FOOD#QUALITY']), (\"– As with most restaurants in Seattle, Mioposto's service was bad and the food was overpriced.\", ['SERVICE#GENERAL', 'FOOD#PRICES']), (\"I know many people have their favorite types of pizza and pizza places, but Mioposto's pizza lacks quality and good taste.\", ['FOOD#QUALITY']), (\"To be honest, I've had better frozen pizza.\", ['FOOD#QUALITY']), (\"I'm not kidding.\", []), ('The only positive thing about Mioposto is the nice location.', ['LOCATION#GENERAL', 'RESTAURANT#GENERAL']), ('Love it every time', ['RESTAURANT#GENERAL']), (\"I was frankly shocked when I read the bad reviews - this place is fantastic; it has not let us down in any way, and we've eaten here more than 10 times.\", ['RESTAURANT#GENERAL']), ('People complain about the dim lighting, but that is one what I love about this place - if you want to stare at your food in bright light, go to McDonalds.', []), (\"The food is fantastic, and the waiting staff has been perfect every single time we've been there.\", ['FOOD#QUALITY', 'SERVICE#GENERAL']), ('The only problem would be the wait, but we usually just have a drink in the front while waiting.', ['SERVICE#GENERAL']), ('Never had one single problem there.', ['RESTAURANT#GENERAL']), ('Seafood Plus', ['FOOD#QUALITY']), ('– This was  great dining experience.', ['RESTAURANT#GENERAL']), (\"If you're going to see Danny Gans or just staying at the Mirage, don't miss this one.\", ['RESTAURANT#GENERAL']), ('The appetizer of oysters, lobster, crab (small size) made a perfect entre for my wife.', ['FOOD#QUALITY']), ('Seabass on lobster risotto was the best.', ['FOOD#QUALITY']), ('Caesar salad was superb.', ['FOOD#QUALITY']), ('Great bottle of wine.', ['DRINKS#QUALITY']), ('Leave room for dessert.', ['FOOD#QUALITY']), ('COMPLETELY OVER RATED!', ['RESTAURANT#GENERAL']), ('I will have to do more research before checking out new places based on Diners, drive-ins and dives reviews.', []), ('I noice most reviews mention the bad service.', []), ('The food was ok, but the service was so poor that the food was cold buy the time everyone in my party was served.', ['FOOD#QUALITY', 'SERVICE#GENERAL']), ('Even then, the order was not correct and we were still waiting for a couple items.', ['SERVICE#GENERAL']), (\"We had a very hard time getting the waitress' attention and finally had to get up and go inside to speak to a manager.\", ['SERVICE#GENERAL']), ('As it turns out the owner was seated right next to us and when he came over to check on our problems was very dismissive and offered a token 20% discount on our bill.', ['SERVICE#GENERAL']), ('When the bill came, he only took the discount off the food and not the drinks.', ['SERVICE#GENERAL']), ('It was clear he didn’t really care.', ['SERVICE#GENERAL']), ('With so many great breakfast/lunch places in So Cal, this one is not worth the wait or any extra effort to visit.', []), ('AVOID THE PLACE', ['RESTAURANT#GENERAL']), ('– Save yourself the waste of time & DO NOT visit.', ['RESTAURANT#GENERAL']), ('I made my 1st trip to the restaurant after finding their webpage online.', []), ('When I got there I sat up stairs where the atmosphere was cozy & the service was horrible!', ['AMBIENCE#GENERAL', 'SERVICE#GENERAL']), ('I waited for 10-15 minutes for service ordered a beer & was never served again.', ['SERVICE#GENERAL']), ('After sitting there with my empty glass for over 20 minutes I left.', ['SERVICE#GENERAL']), (\"I went home & looked them up online again where I discovered there is a link for a give away that doesn't work so emailed the restaurant about the non existent service & deceptive link.\", ['RESTAURANT#MISCELLANEOUS']), ('I never heard back from anyone more than a month ago.', ['RESTAURANT#MISCELLANEOUS']), ('After telling my friend about the situation he said lets try again but we will visit the lower bar.', []), (\"After sitting at the bar for over 20 minutes the bar keep had made only 2 drinks & kept telling us she'd be right with us.\", ['SERVICE#GENERAL']), ('We left without ever getting service.', ['SERVICE#GENERAL']), (\"As of writing this I just tried their give away a link again & it still doesn't work.\", ['RESTAURANT#MISCELLANEOUS']), ('There are so many better places to visit!', []), ('Best Crab Cakes in Town', ['FOOD#QUALITY']), (\"– Thats a big statement considering I've been pulling crab traps and making the cakes myself since I was about seven - but something about these little devils gets better every time.\", ['FOOD#QUALITY']), ('If you can, come to this place by boat and make it a whole evening.', ['RESTAURANT#MISCELLANEOUS']), ('Great seasonal fish and seafood, with a classy waterfront setting.', ['FOOD#QUALITY', 'FOOD#QUALITY', 'AMBIENCE#GENERAL']), ('Always a winner.', ['RESTAURANT#GENERAL']), ('Great Pizza, Poor Service', ['FOOD#QUALITY', 'SERVICE#GENERAL']), ('– Love their pizza, especially the mushroom pizza.', ['FOOD#QUALITY', 'FOOD#QUALITY']), ('Also love their caeser salad.', ['FOOD#QUALITY']), (\"Prefer to order it and pick it up though because I don't like the servers, one young woman in particular.\", ['SERVICE#GENERAL', 'SERVICE#GENERAL']), (\"She doesn't make you feel welcome and treats you like an annoyance.\", ['SERVICE#GENERAL']), ('But she is very friendly with certain people, making it even more annoying.', ['SERVICE#GENERAL']), ('Management should really take notice and train their waitstaff and teach them some proper manners.', ['SERVICE#GENERAL', 'SERVICE#GENERAL']), (\"Many people talk about the great pizza and poor service, so it can't just be the rantings of a few dissatisfied customers.\", ['FOOD#QUALITY', 'SERVICE#GENERAL']), (\"It's a great little place with tons of potential to be a neighborhood joint if the service weren't so impersonal and corporate-like.\", ['RESTAURANT#GENERAL', 'SERVICE#GENERAL']), ('Great Breakfast', ['FOOD#QUALITY']), ('– This place is famous for their breakfast.', ['FOOD#QUALITY']), ('They have been featured on the food network and they deserve it.', ['RESTAURANT#MISCELLANEOUS']), ('The food is great and they make a mean bloody mary.', ['FOOD#QUALITY', 'DRINKS#QUALITY']), ('I love breakfast here.', ['FOOD#QUALITY']), ('Their crab eggs benedict is addicting.', ['FOOD#QUALITY']), ('All their menu items are a hit, and they serve mimosas.', ['FOOD#QUALITY', 'DRINKS#STYLE_OPTIONS']), (\"Doesn't get any better than that.\", ['RESTAURANT#GENERAL']), ('best chinese food i have tasted in a long time', ['FOOD#QUALITY']), ('– we got a groupon for pagoda and decided to try it on a thursday night.', []), ('there was a guy playing the piano and singing at the bar area which was separate from the dinning area.', []), ('You can easily hear him though so it was a pleasant sound and not overbearing.', ['AMBIENCE#GENERAL']), ('the ambiance of the restaurant was nice and good for fine dinning.', ['AMBIENCE#GENERAL']), ('not too fine thought that you feel uncomfortable and have to dress up.', ['AMBIENCE#GENERAL']), ('the staff was very nice and courteous and obviously chinese.', ['SERVICE#GENERAL']), ('we ordered the honey walnut prawns which we always order at every chinese restaurant to determine the quality of food.', []), ('First off, the food came fast and all together :) i like that... i hate the pretentiousness of things coming in one after the other.', ['SERVICE#GENERAL']), ('so about the prawns, they were fresh and had a slight crispiness about the batter... soooo good... the walnuts were cut in smaller pieces and very crunchy and tasty.', ['FOOD#QUALITY', 'FOOD#QUALITY', 'FOOD#QUALITY']), ('yummy.', ['FOOD#QUALITY']), ('best honey walnyt prawns that we have every tasted.', ['FOOD#QUALITY']), ('next one that we ordered were prawns and scallop with brocolli.', []), ('the brocollis were so fresh and tasty.', ['FOOD#QUALITY']), ('i would normally not finish the brocolli when i order these kinds of food but for the first time, every piece was as eventful as the first one... the scallops and prawns was so fresh and nicely cooked.', ['FOOD#QUALITY', 'FOOD#QUALITY', 'FOOD#QUALITY']), ('not chewy at all.', ['FOOD#QUALITY']), ('for desert we had the mango ginger creme brulee... oh la la yummy!!!', ['FOOD#QUALITY']), ('melt in your mouth.', ['FOOD#QUALITY']), ('we are for sure coming back to this restaurant.', ['RESTAURANT#GENERAL']), ('every month if possible.', []), ('it is sad there is not many people who frequent eating at places like these that look pricey because they are at the hotel... but they are definitely one you dont want to miss, esp if your in downtown san jose.', ['RESTAURANT#GENERAL']), ('Chintzy portions', ['FOOD#STYLE_OPTIONS']), ('– The sushi here is perfectly good, but for $5 a piece, either the slices of fish should be larger, or there should be no pretense that this is a moderately priced restaurant (even for NYC).', ['FOOD#QUALITY', 'RESTAURANT#PRICES', 'FOOD#STYLE_OPTIONS', 'FOOD#PRICES']), ('We easily spent more than $40 per person (not including alcohol) and were still hungry.', ['RESTAURANT#PRICES', 'FOOD#STYLE_OPTIONS']), (\"I'm astonished that this restaurant is categorized as $$$ rather than $$$$.\", ['RESTAURANT#PRICES']), ('Terrible service, food ok, pricey', ['SERVICE#GENERAL', 'FOOD#QUALITY', 'RESTAURANT#PRICES']), ('– This past weekend had great weather for San Francisco standards.', []), (\"So for the 'after beach excursion', we thought we would end the day on a high note and make the trip across the street from the beach to Park Chalet.\", []), ('The restaurant was busy, however there were a few tables open.', []), (\"We put out name down and although there were open tables we were told that it'd be a 30 minute wait.\", ['SERVICE#GENERAL']), ('So here we are, my wife, 3 year old daughter and I trying to pass the time by hanging out in the front of the building (where the murals and artifacts are).', []), ('30 minutes went by and sure enough the pager buzzer went off.', []), ('We went back to the restaurant and low and behold, we were seated at one of the tables that was available 30 minutes ago!!', ['SERVICE#GENERAL']), ('Logic behind that?', []), ('None that I can think of.', ['SERVICE#GENERAL']), (\"We put in our order and although we ordered 4 appetizers, the food didn't arrive until 45 minutes later...WITH OUR MAIN COURSE.\", ['SERVICE#GENERAL']), ('Um so now what are appetizers for???', ['SERVICE#GENERAL']), (\"Oh I forgot to mention that they don't have bread service.\", ['SERVICE#GENERAL']), ('Its a good thing my daughter had some snacks in her lunch bag.', []), (\"My wife also ordered a teapot of hot water (she had a sore throat) and I guess that since it was only water, it wasn't a priority for them to actually bring it.\", ['SERVICE#GENERAL']), (\"In other words, if they aren't making $$ off of you then you don't rate high on their 'service scale'.\", ['SERVICE#GENERAL']), (\"Food wise, its ok but a bit pricey for what you get considering the restaurant isn't a fancy place.\", ['FOOD#QUALITY', 'RESTAURANT#PRICES', 'AMBIENCE#GENERAL']), ('The upside of the restaurant?', []), ('If I needed to name some they would include the location to the beach or Golden Gate park.', ['LOCATION#GENERAL']), (\"Its great if you spent the day there and didn't want to drive to eat.\", ['LOCATION#GENERAL']), ('Parking is reasonably good, they have their own lot and you can park in the park nearby.', ['RESTAURANT#MISCELLANEOUS']), ('Another plus is the open feel of the restaurant with glass walls on all sides.', ['AMBIENCE#GENERAL', 'AMBIENCE#GENERAL']), (\"I'd hate for tourists to go to Park Chalet and think that this is how all San Francisco restaurants are like.\", []), ('Always good.', ['RESTAURANT#GENERAL']), ('– A sushi-fiend friend recently visited and our group of three just had to come for dinner.', []), ('6pm on a Sat before a Broadway play and we were quickly seated and served.', ['SERVICE#GENERAL']), ('Amazing Spanish Mackeral special appetizer and perfect box sushi (that eel with avodcao -- um um um).', ['FOOD#QUALITY', 'FOOD#QUALITY', 'FOOD#QUALITY']), (\"As usual the omikase didn't disappoint in freshness, although it scored low on creativity and selection.\", ['FOOD#QUALITY', 'FOOD#STYLE_OPTIONS']), (\"Their specialty rolls are impressive, though I can't remember what we had.\", ['FOOD#QUALITY']), ('Great selection of sakes.', ['DRINKS#STYLE_OPTIONS']), ('Green tea creme brulee gets better each time I have it.', ['FOOD#QUALITY']), (\"It isn't the cheapest sushi but has been worth it every time.\", ['FOOD#PRICES', 'FOOD#QUALITY']), ('Very poor customer service.', ['SERVICE#GENERAL']), (\"– Schooner or Later's charming location along the marina in Long Beach and average food does not, unfortunately, compensate for its very poor customer service.\", ['LOCATION#GENERAL', 'FOOD#QUALITY', 'SERVICE#GENERAL']), ('While this diner had reasonably good food, the restaurant staff seemed completely indifferent to our presence, and this attitude was reflected in the lack of service.', ['FOOD#QUALITY', 'SERVICE#GENERAL']), ('As part of a small party of four, our food was dropped off without comment;', ['SERVICE#GENERAL']), ('any further needs we may have had could not have been met since no one stopped by the table.', ['SERVICE#GENERAL']), ('When we finally were able to flag someone down, it was someone entirely different from the person who had dropped off the food, who was also not the same person who had taken our order.', ['SERVICE#GENERAL']), ('After one member of our party had been bumped repeatedly by a waitress, a polite request that he not be bumped sent the waitress into an abusive rant.', ['SERVICE#GENERAL']), ('A brief conversation with the manager at the end of the meal was the greatest disappointment--to say we had been \"blown off\" would be an understatement.', ['SERVICE#GENERAL']), ('The manager continually interrupted with \"Is there anything else I can do for you?\", a strange comment because she had hardly listened, let alone responded to our expression of disappointment at our experience.', ['SERVICE#GENERAL']), (\"She promised to speak to the waitress who had flown off in a rage, but we could hardly take her promise seriously, seeing as she hadn't bothered to get the waitresses name.\", ['SERVICE#GENERAL']), (\"In short, Schooner or Later couldn't have cared less about our being at their establishment.\", ['SERVICE#GENERAL']), (\"Next time we will go somewhere else, or try other restaurants close by like Mimi's Cafe and Claim Jumper.\", []), (\"1 o'clock in the morning.\", []), ('you are with a hot date and he/she has an urge for sushi...then this might be the place.', ['FOOD#QUALITY']), ('the fish was fresh, though it was cut very thin.', ['FOOD#QUALITY', 'FOOD#STYLE_OPTIONS']), ('great service.', ['SERVICE#GENERAL']), ('good sake selection.', ['DRINKS#STYLE_OPTIONS']), ('Dungeness crabs here!', ['FOOD#QUALITY']), (\"– Ray's is THE place to go for high quality seafood dinners.\", ['FOOD#QUALITY']), ('And they give good quantity for the price.', ['FOOD#STYLE_OPTIONS', 'FOOD#PRICES']), (\"We were only in Seattle for one night and I'm so glad we picked Rays for dinner!\", ['RESTAURANT#GENERAL']), (\"I love Dungeness crabs and at Ray's you can get them served in about 6 different ways!\", ['FOOD#STYLE_OPTIONS']), ('We shared the family platter and I especially enjoyed the black cod in sake kasu.', ['FOOD#QUALITY']), ('I ended the meal with the unusual dessert of a port and chocolate tasting....yummy!', ['FOOD#QUALITY']), ('And the service was simply spendid - quite a delight.', ['SERVICE#GENERAL']), ('Great Breakfast', ['FOOD#QUALITY']), ('– Great drinks , corn beef hash, coffee, B Fast burritos, Gluten Free menu.', ['DRINKS#QUALITY', 'FOOD#QUALITY', 'DRINKS#QUALITY', 'FOOD#QUALITY', 'FOOD#STYLE_OPTIONS']), ('The service is fantastic at this fun place.', ['SERVICE#GENERAL', 'RESTAURANT#GENERAL']), ('If there is a line very day of the week for the entire time a place is open, you know it is great.', ['RESTAURANT#GENERAL']), ('This is the case at this gem.', ['RESTAURANT#GENERAL']), ('Best Neighborhood Standby.', ['RESTAURANT#GENERAL']), (\"You Can't Go Wrong Here.\", ['RESTAURANT#GENERAL']), ('– Every neighborhood has a few great local bars that are the best secrets.', []), ('In Grammercy/Union Square/East Village this is my neighbors and my favorite spot.', ['RESTAURANT#GENERAL']), ('The music is great, no night better or worse, the bar tenders are generous with the pouring, and the lighthearted atmosphere will lifts you spirits.', ['AMBIENCE#GENERAL', 'DRINKS#STYLE_OPTIONS', 'AMBIENCE#GENERAL']), (\"Seriously, you can't go wrong, if it is unpretentious local fun you seek.\", ['AMBIENCE#GENERAL']), ('Oh, and the cheese fries are awesome!', ['FOOD#QUALITY']), ('Good Food, Great Service, Average Prices (For the Strip)', ['FOOD#QUALITY', 'SERVICE#GENERAL', 'RESTAURANT#PRICES']), ('– I decided to eat at Stack because of their price fixed pre-show dinner.', ['FOOD#PRICES']), ('When I walked in, I was taken aback by their incredible wood decor.', ['AMBIENCE#GENERAL']), ('The music playing was very hip, 20-30 something pop music, but the subwoofer to the sound system was located under my seat, which became annoying midway through dinner.', ['AMBIENCE#GENERAL', 'AMBIENCE#GENERAL']), ('We were quickly seated and requested the special dinner, which came with: 1) Shellfish and Shrimp appetizer or Caesar Salad, 2) 9 oz steak (with a single potato chip), and 3) homemade donut holes.', []), ('I got the shellfish and shrimp appetizer and it was alright.', ['FOOD#QUALITY']), (\"It wasn't the freshest seafood ever, but the taste and presentation was OK.\", ['FOOD#STYLE_OPTIONS', 'FOOD#QUALITY']), ('Before the steak came, the server told us that the steak did not come with any sides and suggested I pick something from the menu.', []), ('I picked the asparagus, which turned out to be incredible and perfectly prepared.', ['FOOD#QUALITY']), ('It was steamed and tossed with garlic.', []), ('The 9 oz steak came next and it tasted great, at least initially.', ['FOOD#QUALITY']), ('The steak was done to my exact liking (medium rare) and was nice and juicy.', ['FOOD#QUALITY']), ('It?s served with either a peppercorn sauce or red wine reduction, though both were indistinguishable in taste.', ['FOOD#QUALITY', 'FOOD#QUALITY']), ('Though, one thing I realized later on was that the restaurant either used MSG or a meat tenderizer on the steak.', ['FOOD#QUALITY']), ('My mouth felt very dry afterwards and I had that signature ?MSG? taste lingering in my throat after I left the restaurant.', ['FOOD#QUALITY']), ('Finally, the homemade donut holes were served for desert.', []), ('They came in their own nifty take out box and with some homemade frosting; very light and not-too-sweet.', ['FOOD#QUALITY']), ('The desert was the perfect ending to an almost perfect dinner.', ['FOOD#QUALITY', 'FOOD#QUALITY']), ('The dinner only took us about an hour and the prices were alright for the strip, almost $50/pp after tax and tip (about average).', ['RESTAURANT#PRICES', 'SERVICE#GENERAL']), ('But the servers were extremely attentive and very friendly.', ['SERVICE#GENERAL']), ('Overall, I would go back and eat at the restaurant again.', ['RESTAURANT#GENERAL']), ('Just remember to dress a little urban-chic so you don?t look too far out of place.', ['RESTAURANT#MISCELLANEOUS']), (\"good sake, good food – i honestly don't know much about japanese food at all.\", ['DRINKS#QUALITY', 'FOOD#QUALITY']), ('In the past sake usuallly just tasted kind of like salty water to me.', []), ('Server made several sake suggestions which were very good.', ['DRINKS#QUALITY', 'SERVICE#GENERAL']), ('had many dishes but the BEST was the lobster 3 ways.', ['FOOD#QUALITY']), ('VERY GOOD!', ['RESTAURANT#GENERAL']), ('Overpriced', ['RESTAURANT#PRICES']), ('– We dined at the Colorado location today.', []), ('Waited 35 minutes for a table for 8 which was ok for such a big crowd.', ['SERVICE#GENERAL']), ('The waiter was a bit unfriendly and the feel of the restaurant was crowded.', ['SERVICE#GENERAL', 'AMBIENCE#GENERAL']), ('Also, there was only one bathroom stall- probably need more for such big crowds.', ['RESTAURANT#MISCELLANEOUS']), ('Most importantly, we were so excited about the food after seeing the very creative menu.', ['FOOD#STYLE_OPTIONS']), ('At best, the food was good and definately overpriced.', ['FOOD#QUALITY', 'FOOD#PRICES']), ('For the amount of food we got the prices should have been lower.', ['FOOD#STYLE_OPTIONS', 'FOOD#PRICES']), ('Not sure if I would go back.', ['RESTAURANT#GENERAL']), ('My favortie pizza joint in Seattle', ['RESTAURANT#GENERAL']), ('– This is my \"must bring out of town guests to\" restaurant and they always enjoy and rave about it.', ['RESTAURANT#GENERAL']), ('In fact, many want to return a second time during their visit.', ['RESTAURANT#GENERAL']), ('The pizza is delicious and the salads are fantastic.', ['FOOD#QUALITY', 'FOOD#QUALITY']), (\"I've always found the wait staff and, if you sit at the bar, the cooks very friendly.\", ['SERVICE#GENERAL', 'SERVICE#GENERAL']), (\"They aren't the most talkative, but everytime I've been there they have been very busy, which probably accounts for the lack of conversation.\", ['SERVICE#GENERAL']), ('I also really enjoy the simplicity of the decor and intimate feeling of a small restaurant.', ['AMBIENCE#GENERAL', 'AMBIENCE#GENERAL']), (\"It's just the right size for the menu.\", ['RESTAURANT#MISCELLANEOUS']), ('Excellent', ['RESTAURANT#GENERAL']), ('– My husband and I love eating at Mioposto Café.', ['RESTAURANT#GENERAL']), ('We’re can’t say enough about their delicious gourmet pizza’s!', ['FOOD#QUALITY']), ('You won’t be disappointed by their menu.', ['FOOD#STYLE_OPTIONS']), ('The pizza’s are thin crust and the menu offers very creative combinations and toppings.', ['FOOD#STYLE_OPTIONS', 'FOOD#STYLE_OPTIONS']), ('You never feel icky and stuffed after you eat there.', ['FOOD#QUALITY']), ('The pizza’s are light and scrumptious.', ['FOOD#QUALITY']), ('Try the Pizza Ensalata!', ['FOOD#QUALITY']), ('It’s a salad on top of pizza crust.', []), ('Absolutely delicious.', ['FOOD#QUALITY']), ('The pizza’s are not huge and the crust is thin…keep that in mind when you’re ordering.', ['FOOD#STYLE_OPTIONS', 'FOOD#STYLE_OPTIONS']), ('Worth the wait', ['RESTAURANT#GENERAL']), ('– Had to wait thirty minutes to get in the door on a tuesday morning, but it was so worth it.', ['RESTAURANT#MISCELLANEOUS', 'RESTAURANT#GENERAL']), ('The food is sinful.', ['FOOD#QUALITY']), ('The staff was really friendly.', ['SERVICE#GENERAL']), ('The atmosphere was great.', ['AMBIENCE#GENERAL']), (\"The specialty here is decadent pancakes, but I've been back now four times, and I've been wowed every time.\", ['FOOD#QUALITY']), ('Nothing on the menu is less than amazing.', ['FOOD#QUALITY']), ('Go with some friends, wait the half hour or so with a cup of joe, and enjoy more than your average breakfast.', ['FOOD#QUALITY', 'RESTAURANT#GENERAL']), ('Good eats.', ['FOOD#QUALITY']), ('Whose writing all the great reviews?', []), ('Why is it that (almost) every good review is by \"anonymous?\"', []), (\"I don't know why anyone would want to write a great review about this place.\", ['RESTAURANT#GENERAL']), ('I have been to this place, folks and it is BAD.', ['RESTAURANT#GENERAL']), (\"Maybe it is good for that one night once in a blue moon when the chefs decide to use fish that's half-way decent.\", ['FOOD#QUALITY']), ('I have been here, spent tons of money on a chef special dinner and it was a major dissappointment.', ['FOOD#QUALITY', 'FOOD#PRICES']), ('Fancy pieces of exotic fish on a $100 dollar plate and NOT ONE was eatable.', ['FOOD#PRICES', 'FOOD#QUALITY', 'FOOD#STYLE_OPTIONS']), ('DONOT GO!', ['RESTAURANT#GENERAL']), ('Delicious', ['FOOD#QUALITY']), ('– The atmosphere is great for any special occasion you might want to celebrate.', ['AMBIENCE#GENERAL']), ('The best dish are the honwy walnut prawns- just outstanding.', ['FOOD#QUALITY']), ('The service is really attentive and charming.', ['SERVICE#GENERAL']), ('4 Locations', []), ('– they have 4 locations.', []), ('the 2 listed and then one in Southglenn mall parking lot which is reviewed here and one in Ft Collins.', []), ('We waited for an hour to be seated.', ['SERVICE#GENERAL']), ('The service was excellent, the coffee was good even by starbucks standards and the food was outstanding.', ['SERVICE#GENERAL', 'DRINKS#QUALITY', 'FOOD#QUALITY']), ('It was worth the wait.', ['RESTAURANT#GENERAL']), ('Plan on waiting 30-70 minutes.', ['SERVICE#GENERAL']), ('Will definitely be back.', ['RESTAURANT#GENERAL']), ('Southglenn is largest location.', []), ('Delicious...!', ['FOOD#QUALITY']), ('– I recently had the pleasure of dining as this delightful restaurant on 2nd street and wow what a great evening we had.', ['RESTAURANT#GENERAL']), ('The food is fantastic, authentic, delicious and very, very affordable.', ['FOOD#QUALITY', 'FOOD#PRICES']), ('The decor was beautiful and unique.', ['AMBIENCE#GENERAL']), ('There was a really nice vibe about the place...good music, atmosphere and happy looking people.', ['AMBIENCE#GENERAL', 'AMBIENCE#GENERAL', 'AMBIENCE#GENERAL', 'RESTAURANT#MISCELLANEOUS']), ('Our server was very professional and friendly.', ['SERVICE#GENERAL']), (\"To the owners of Open Sesame...Bravo...I can't wait to come back to dine at your restaurant!\", ['RESTAURANT#GENERAL']), ('Delectable', ['FOOD#QUALITY']), (\"It's a tiny place so if you get there before 8pm on a weekend (Thurs?Sun) you will find it easier to get a table or a seat at the sushi bar.\", ['RESTAURANT#MISCELLANEOUS']), (\"Once you're inside, the real experience begins.\", ['RESTAURANT#GENERAL']), ('Everything, and I mean everything on the menu is delectable.', ['FOOD#QUALITY']), ('The waiters are very experienced and helpful with pairing your drink choice to your food tastes or vice versa.', ['SERVICE#GENERAL']), (\"The sushi is as fresh as it comes?you'd think ocean was in their backyard, no joke!\", ['FOOD#QUALITY']), (\"If you're interested in good tasting (without the fish taste or smell), large portions and creative sushi dishes this is your place...\", ['FOOD#QUALITY', 'FOOD#STYLE_OPTIONS', 'FOOD#STYLE_OPTIONS']), ('big thick pepperoni', ['FOOD#STYLE_OPTIONS']), (\"– The pepperoni's cut real thick--Yum.\", ['FOOD#STYLE_OPTIONS']), (\"The pizza itself is not exactly the best I've had EVER, but still pretty good.\", ['FOOD#QUALITY']), (\"I probably wouldn't go back though 'cuz I don't know if it's worth it.\", ['RESTAURANT#GENERAL']), (\"Maybe I'll go back once more many years from now when I've forgotten I went there already.\", ['RESTAURANT#GENERAL']), ('Sit in the Balcony', ['AMBIENCE#GENERAL']), ('– Not bad.', ['RESTAURANT#GENERAL']), ('Food was good and appetizing.', ['FOOD#QUALITY']), ('Portions was just enough for me, but may not be for a big eater.', ['FOOD#STYLE_OPTIONS']), ('Fair menu selection.', ['FOOD#STYLE_OPTIONS']), ('The appetizer was interesting, but the Creme Brulee was very savory and delicious.', ['FOOD#QUALITY', 'FOOD#QUALITY']), ('Indoor ambience was modern.', ['AMBIENCE#GENERAL']), (\"If it's nice outside, request for a table in the balcony.\", ['AMBIENCE#GENERAL']), (\"It's a great place to people watch.\", ['RESTAURANT#MISCELLANEOUS']), ('Although the service could be improved considering the money you put in.', ['SERVICE#GENERAL', 'RESTAURANT#PRICES']), ('Our drinks kept coming but our server came by a couple times.', ['SERVICE#GENERAL', 'SERVICE#GENERAL']), (\"Should check-up on us more frequently, don't you think?\", ['SERVICE#GENERAL']), ('Late night dinning with exeptional food.', ['FOOD#QUALITY']), (\"– I didn't want to go there because of the reviews and prices I saw on the internet.\", []), ('That was the last night in Vegas and was too late and most of the restaurant were closing - so we walked in the check the place.', []), ('We were seated right away, the table was private and nice.', ['SERVICE#GENERAL', 'AMBIENCE#GENERAL']), ('The service was exceptional - sometime there was a feeling that we were served by the army of friendly waiters.', ['SERVICE#GENERAL', 'SERVICE#GENERAL']), (\"The food was very good, filet mignon was probably the best I've ever try.\", ['FOOD#QUALITY', 'FOOD#QUALITY']), ('The portions are big though, so do not order too much.', ['FOOD#STYLE_OPTIONS']), ('Groovy music made the dinner casual.', ['AMBIENCE#GENERAL']), ('The most pleasant surprise was the check that did not exceed my expectations as it always happens in most of the places.', ['RESTAURANT#PRICES']), ('I have a but here - there was a bathroom attendant in the restroom which was odd.', ['RESTAURANT#MISCELLANEOUS']), ('The bathroom itself is very small with two toilets and only one sink, the girl was staying totally on the way hanging out paper towels from the dispenser.', ['RESTAURANT#MISCELLANEOUS']), ('There were 3 bottles of perfume on the sink and the line of girls trying to use the sink.', []), ('I felt ackward and next time went to the casino bathroom.', ['RESTAURANT#MISCELLANEOUS']), ('This place rocks!!', ['RESTAURANT#GENERAL']), ('– Mercedes restaurant is so tasty, the service is undeniably awesome!', ['SERVICE#GENERAL', 'FOOD#QUALITY']), ('The chips  and salsa are so yummy, and the prices are fabulous.', ['FOOD#QUALITY', 'RESTAURANT#PRICES']), ('The atmosphere is aspiring, and  the decor is festive and amazing..', ['AMBIENCE#GENERAL', 'AMBIENCE#GENERAL']), ('The catering is out of this world, and Raouls chicken vegetable soup rocks my world!!!', ['FOOD#QUALITY', 'FOOD#QUALITY']), ('Drinks are suberb, and I feel like I am in a Third World country when I walk in the door.', ['DRINKS#QUALITY', 'AMBIENCE#GENERAL']), ('Insultingly Overpriced', ['RESTAURANT#PRICES']), ('- Mediocre Service/Quality', ['SERVICE#GENERAL']), ('– This review is for the Southglen location which is not listed in Citysearch:  I wish this review would make a difference enough for it to be addressed by management but Snooze has people climbing over each other for a chance to eat at this overpriced restaurant with mediocre food and service, so this review as well as the other negative ones for their Larimer location will go unaddressed.', []), ('The presentation of Snooze is excellent and it is one of those places that you feel more sophisticated just for being there; but peel back the layers and you have an overpriced IHOP with a high brow menu.', ['AMBIENCE#GENERAL', 'FOOD#STYLE_OPTIONS', 'RESTAURANT#PRICES']), ('To start off, approximately 8-10 oz of orange juice will cost you $3.', ['DRINKS#PRICES']), ('They serve it in a tall, skinny hour-glass shaped glass to disguise the fact that you a getting a small juice at the price of a half gallon in a supermarket.', ['DRINKS#STYLE_OPTIONS', 'DRINKS#PRICES']), ('I should have just asked for the check when I saw that; but their menu was so unique that I continued.', ['FOOD#STYLE_OPTIONS']), ('The pancakes were certainly inventive but $8.50 for 3 - 6\" pancakes (one of them was more like 5\") in the pancake flight (sample of 3 different pancakes) is well over-priced.', ['FOOD#STYLE_OPTIONS', 'FOOD#PRICES', 'FOOD#STYLE_OPTIONS']), ('The pancakes should be larger (at least 8\") to justify the expense even with the unique offerings.', ['FOOD#STYLE_OPTIONS', 'FOOD#PRICES']), ('The flavors were good but I have had far better pancakes at a German pancake specialty restaurant that were a little cheaper but significantly larger.', []), (\"On my meal I had to send back my eggs for a simple request of breaking the yokes before cooking, and would have had to send them back again if I hadn't rejected the meal all together.\", ['FOOD#QUALITY', 'FOOD#QUALITY']), ('I rejected it because in the process of attempting to fix the eggs they broke something else in the dish and I was too frustrated to continue.', ['FOOD#QUALITY']), ('To their credit they removed the dish from the check; but no manager stopped by to ask what the problem was.', ['SERVICE#GENERAL', 'SERVICE#GENERAL']), ('In the end our check came to $27 for 4 small pancakes, a breakfast burrito, an orange juice and an iced tea (I had water).', ['FOOD#STYLE_OPTIONS', 'FOOD#PRICES', 'FOOD#PRICES', 'DRINKS#PRICES', 'DRINKS#PRICES']), ('This was 2 times what the same meal would have cost at Le Peep.', []), ('Snooze provided an inventive pancake offering, but Le Peep would have provided better service and quality.', []), ('Much more than just a great view!', ['LOCATION#GENERAL', 'RESTAURANT#GENERAL']), (\"– I am exceedingly pleased to report that my dinner at Ray's Boathouse last Friday completely exceeded my expectations.\", ['RESTAURANT#GENERAL']), (\"Ray's is something of a Seattle institution, but given its gorgeous Sound views, I had suspected that the accolades were more due to the scenery than to the food and service.\", ['LOCATION#GENERAL']), (\"Imagine my happy surprise upon finding that the views are only the third-best thing about Ray's!\", ['LOCATION#GENERAL', 'RESTAURANT#GENERAL']), ('To start things off, our lovely server Brooke was quickly on hand to take my drink order.', ['SERVICE#GENERAL']), (\"My party of two was feeling particularly ambitious, and we splurged on the Shilshole Sampler...a beautiful assortment of enormous white gulf prawns, smoked albacore tuna, Ray's fantastic manila clams seasoned with dill, scallops in a tasty soy dressing, and a tiny pile of Dungeness crab atop a sublime butter sauce.\", ['FOOD#STYLE_OPTIONS', 'FOOD#QUALITY', 'FOOD#QUALITY', 'FOOD#QUALITY', 'FOOD#QUALITY', 'FOOD#STYLE_OPTIONS']), ('For my entr&eacute;e, I completely enjoyed the seared Alaskan sea scallops complemented by chard, artichoke hearts, fennel, and pecorino toscano.', ['FOOD#QUALITY', 'FOOD#STYLE_OPTIONS']), ('The scallops are apparently cooked in a black olive butter which really makes them unique (not to mention tasty).', ['FOOD#QUALITY', 'FOOD#STYLE_OPTIONS']), ('My friend enjoyed the grilled Alaskan King Salmon with delectable creamed Washington russet potatoes and crisp green beans.', ['FOOD#QUALITY', 'FOOD#QUALITY', 'FOOD#QUALITY']), ('I had a taste of all three items on her plate, and they were superb.', ['FOOD#QUALITY']), (\"Our server continued to be attentive throughout the night, but I did remain puzzled by one issue:  Who thinks that Ray's is an appropriate place to take young children for dinner?\", ['SERVICE#GENERAL', 'RESTAURANT#MISCELLANEOUS']), ('Two rascally kids were seated near us for the first part of our dinner...they were replaced by a delightful preteen who pretended to gag every time seafood was mentioned at her table.', ['RESTAURANT#MISCELLANEOUS']), (\"Given that Ray's is a seafood restaurant...well, you get the idea...\", []), (\"All considered, I have to say that Ray's Boathouse is deserving of its title as a Seattle institution.\", ['RESTAURANT#GENERAL']), ('While I could have done without the youth who shared the evening with us, our wonderful server and food made the experience a very positive one.', ['SERVICE#GENERAL', 'FOOD#QUALITY', 'RESTAURANT#MISCELLANEOUS']), ('Oh yeah...the view was good, too.', ['LOCATION#GENERAL'])]\n"
          ],
          "name": "stdout"
        }
      ]
    },
    {
      "cell_type": "code",
      "metadata": {
        "id": "5gHEvKiUJc6O"
      },
      "source": [
        "test_labels = mlb.transform([set(sample[1]) for sample in test_data])"
      ],
      "execution_count": 17,
      "outputs": []
    },
    {
      "cell_type": "code",
      "metadata": {
        "id": "DnVk_1f2gQaE",
        "colab": {
          "base_uri": "https://localhost:8080/"
        },
        "outputId": "8669ffa5-382f-43d4-a429-7906adc6de7e"
      },
      "source": [
        "test_labels[0:5]"
      ],
      "execution_count": 18,
      "outputs": [
        {
          "output_type": "execute_result",
          "data": {
            "text/plain": [
              "array([[0, 0, 0, 0, 0, 1, 0, 0, 0, 0, 0, 0],\n",
              "       [0, 0, 0, 0, 0, 1, 0, 0, 0, 0, 0, 0],\n",
              "       [0, 0, 0, 0, 0, 0, 1, 0, 0, 0, 0, 0],\n",
              "       [0, 0, 0, 0, 0, 1, 0, 0, 0, 0, 0, 0],\n",
              "       [0, 0, 0, 0, 0, 1, 0, 0, 0, 0, 0, 0]])"
            ]
          },
          "metadata": {
            "tags": []
          },
          "execution_count": 18
        }
      ]
    },
    {
      "cell_type": "markdown",
      "metadata": {
        "id": "J022vabVb0_I"
      },
      "source": [
        "So, our labels are now stored as binary matrices -- exactly as we need them.\n",
        "\n",
        "Let's also construct a list of training inputs, as sklearn likes it:"
      ]
    },
    {
      "cell_type": "code",
      "metadata": {
        "id": "kQAKqSS-h7Wu"
      },
      "source": [
        "train_text = [review[0] for review in train_data]\n",
        "test_text = [review[0] for review in test_data]"
      ],
      "execution_count": 19,
      "outputs": []
    },
    {
      "cell_type": "code",
      "metadata": {
        "id": "1pK7VcpdiHPb",
        "colab": {
          "base_uri": "https://localhost:8080/"
        },
        "outputId": "f9a9461e-dc98-49a5-ea28-f8d7cd5f2763"
      },
      "source": [
        "train_text[0:5]"
      ],
      "execution_count": 20,
      "outputs": [
        {
          "output_type": "execute_result",
          "data": {
            "text/plain": [
              "['Judging from previous posts this used to be a good place, but not any longer.',\n",
              " 'We, there were four of us, arrived at noon - the place was empty - and the staff acted like we were imposing on them and they were very rude.',\n",
              " 'They never brought us complimentary noodles, ignored repeated requests for sugar, and threw our dishes on the table.',\n",
              " 'The food was lousy - too sweet or too salty and the portions tiny.',\n",
              " 'After all that, they complained to me about the small tip.']"
            ]
          },
          "metadata": {
            "tags": []
          },
          "execution_count": 20
        }
      ]
    },
    {
      "cell_type": "markdown",
      "metadata": {
        "id": "uab8IEZdoJM_"
      },
      "source": [
        "# Data shape\n",
        "\n",
        "Printing data to have a clear picture."
      ]
    },
    {
      "cell_type": "code",
      "metadata": {
        "colab": {
          "base_uri": "https://localhost:8080/"
        },
        "id": "mog7s0wvoW7v",
        "outputId": "f74fed07-b0bc-450d-adac-0da229d01462"
      },
      "source": [
        "print('Train text data is of type: {}'.format(type(train_text)))\n",
        "print('Train label data is of type: {}'.format(type(train_labels)))\n",
        "print('Train text size: {}'.format(len(train_text)))\n",
        "print('Test text size: {}'.format(len(test_text)))\n",
        "print('Train labels size: {}'.format(train_labels.shape))\n",
        "print('Test labels size: {}'.format(test_labels.shape))\n",
        "n_labels = test_labels.shape[1]\n",
        "print('Number of labels: {}'.format(n_labels))\n",
        "TAGS = mlb.classes_\n",
        "print('\\nThis are the different labels:')\n",
        "print(TAGS)"
      ],
      "execution_count": 21,
      "outputs": [
        {
          "output_type": "stream",
          "text": [
            "Train text data is of type: <class 'list'>\n",
            "Train label data is of type: <class 'numpy.ndarray'>\n",
            "Train text size: 2000\n",
            "Test text size: 676\n",
            "Train labels size: (2000, 12)\n",
            "Test labels size: (676, 12)\n",
            "Number of labels: 12\n",
            "\n",
            "This are the different labels:\n",
            "['AMBIENCE#GENERAL' 'DRINKS#PRICES' 'DRINKS#QUALITY'\n",
            " 'DRINKS#STYLE_OPTIONS' 'FOOD#PRICES' 'FOOD#QUALITY' 'FOOD#STYLE_OPTIONS'\n",
            " 'LOCATION#GENERAL' 'RESTAURANT#GENERAL' 'RESTAURANT#MISCELLANEOUS'\n",
            " 'RESTAURANT#PRICES' 'SERVICE#GENERAL']\n"
          ],
          "name": "stdout"
        }
      ]
    },
    {
      "cell_type": "markdown",
      "metadata": {
        "id": "BwRkaD4wcE6q"
      },
      "source": [
        "Now we can train a simple multi-label classifier.\n",
        "\n",
        "We use Sklearn's OneVsRestClassifier to do this. This basically builds a seperate base classifier for each of our labels."
      ]
    },
    {
      "cell_type": "code",
      "metadata": {
        "id": "w6WxqVrBg4X4"
      },
      "source": [
        "from sklearn.pipeline import Pipeline\n",
        "from sklearn.naive_bayes import MultinomialNB\n",
        "from sklearn.linear_model import LogisticRegression\n",
        "from sklearn.feature_extraction.text import CountVectorizer\n",
        "from sklearn.feature_extraction.text import TfidfTransformer\n",
        "from sklearn.multiclass import OneVsRestClassifier\n",
        "\n",
        "text_clf = Pipeline([\n",
        "     ('vect', CountVectorizer()),\n",
        "     ('tfidf', TfidfTransformer()),\n",
        "     ('clf',  OneVsRestClassifier(LogisticRegression()))\n",
        " ])"
      ],
      "execution_count": 22,
      "outputs": []
    },
    {
      "cell_type": "code",
      "metadata": {
        "id": "wuDR3_Z_hka8",
        "colab": {
          "base_uri": "https://localhost:8080/"
        },
        "outputId": "f18fd1c3-d0c3-4f1a-c509-3c18c8168ca9"
      },
      "source": [
        "text_clf.fit(train_text, train_labels )"
      ],
      "execution_count": 23,
      "outputs": [
        {
          "output_type": "execute_result",
          "data": {
            "text/plain": [
              "Pipeline(memory=None,\n",
              "         steps=[('vect',\n",
              "                 CountVectorizer(analyzer='word', binary=False,\n",
              "                                 decode_error='strict',\n",
              "                                 dtype=<class 'numpy.int64'>, encoding='utf-8',\n",
              "                                 input='content', lowercase=True, max_df=1.0,\n",
              "                                 max_features=None, min_df=1,\n",
              "                                 ngram_range=(1, 1), preprocessor=None,\n",
              "                                 stop_words=None, strip_accents=None,\n",
              "                                 token_pattern='(?u)\\\\b\\\\w\\\\w+\\\\b',\n",
              "                                 tokenizer=None, vocabulary=Non...\n",
              "                 TfidfTransformer(norm='l2', smooth_idf=True,\n",
              "                                  sublinear_tf=False, use_idf=True)),\n",
              "                ('clf',\n",
              "                 OneVsRestClassifier(estimator=LogisticRegression(C=1.0,\n",
              "                                                                  class_weight=None,\n",
              "                                                                  dual=False,\n",
              "                                                                  fit_intercept=True,\n",
              "                                                                  intercept_scaling=1,\n",
              "                                                                  l1_ratio=None,\n",
              "                                                                  max_iter=100,\n",
              "                                                                  multi_class='auto',\n",
              "                                                                  n_jobs=None,\n",
              "                                                                  penalty='l2',\n",
              "                                                                  random_state=None,\n",
              "                                                                  solver='lbfgs',\n",
              "                                                                  tol=0.0001,\n",
              "                                                                  verbose=0,\n",
              "                                                                  warm_start=False),\n",
              "                                     n_jobs=None))],\n",
              "         verbose=False)"
            ]
          },
          "metadata": {
            "tags": []
          },
          "execution_count": 23
        }
      ]
    },
    {
      "cell_type": "markdown",
      "metadata": {
        "id": "uKFXy8x7chr3"
      },
      "source": [
        "Classifier is trained. Let's first see how can we apply it on test data. What comes out when we feed it some test data?"
      ]
    },
    {
      "cell_type": "code",
      "metadata": {
        "id": "bUBVNMOMiMdH"
      },
      "source": [
        "test_predictions = text_clf.predict(test_text)"
      ],
      "execution_count": 24,
      "outputs": []
    },
    {
      "cell_type": "code",
      "metadata": {
        "id": "BljUvwTpjBW0",
        "colab": {
          "base_uri": "https://localhost:8080/"
        },
        "outputId": "09e4ab9d-e57a-4f30-d19f-2d7fb9e49f3f"
      },
      "source": [
        "test_predictions[0:5]"
      ],
      "execution_count": 25,
      "outputs": [
        {
          "output_type": "execute_result",
          "data": {
            "text/plain": [
              "array([[0, 0, 0, 0, 0, 0, 0, 0, 0, 0, 0, 0],\n",
              "       [0, 0, 0, 0, 0, 1, 0, 0, 0, 0, 0, 0],\n",
              "       [0, 0, 0, 0, 0, 0, 0, 0, 0, 0, 0, 0],\n",
              "       [0, 0, 0, 0, 0, 0, 0, 0, 0, 0, 0, 0],\n",
              "       [0, 0, 0, 0, 0, 0, 0, 0, 0, 0, 0, 0]])"
            ]
          },
          "metadata": {
            "tags": []
          },
          "execution_count": 25
        }
      ]
    },
    {
      "cell_type": "code",
      "metadata": {
        "id": "u0Bm_vDsET8x",
        "colab": {
          "base_uri": "https://localhost:8080/"
        },
        "outputId": "00c94ebb-136c-4166-9a49-72b003f9d188"
      },
      "source": [
        "test_labels[0:5]"
      ],
      "execution_count": 26,
      "outputs": [
        {
          "output_type": "execute_result",
          "data": {
            "text/plain": [
              "array([[0, 0, 0, 0, 0, 1, 0, 0, 0, 0, 0, 0],\n",
              "       [0, 0, 0, 0, 0, 1, 0, 0, 0, 0, 0, 0],\n",
              "       [0, 0, 0, 0, 0, 0, 1, 0, 0, 0, 0, 0],\n",
              "       [0, 0, 0, 0, 0, 1, 0, 0, 0, 0, 0, 0],\n",
              "       [0, 0, 0, 0, 0, 1, 0, 0, 0, 0, 0, 0]])"
            ]
          },
          "metadata": {
            "tags": []
          },
          "execution_count": 26
        }
      ]
    },
    {
      "cell_type": "markdown",
      "metadata": {
        "id": "xt3PUdPbcs88"
      },
      "source": [
        "So, the output of our classifier is also a binary matrix. We can evaluate the performance of our model using F1 measure (which is a geometric mean of precision and recall). \n",
        "\n",
        "F1 measure can be computed for each label independently and then merged using either macro or micro averaging. We will use micro-averaging that sums up the individual true positives, false positives, and false negatives of the system for different sets and the apply them to get the statistics. \n",
        "\n"
      ]
    },
    {
      "cell_type": "code",
      "metadata": {
        "id": "SqxTrW3AiSSy"
      },
      "source": [
        "from sklearn.metrics import f1_score, classification_report"
      ],
      "execution_count": 27,
      "outputs": []
    },
    {
      "cell_type": "code",
      "metadata": {
        "id": "iZ_fjQSgigIM",
        "colab": {
          "base_uri": "https://localhost:8080/"
        },
        "outputId": "82384e36-6a3e-43a6-8b1d-6a71c52b2adf"
      },
      "source": [
        "f1_score(test_labels,\n",
        "         test_predictions,\n",
        "         average='micro')"
      ],
      "execution_count": 28,
      "outputs": [
        {
          "output_type": "execute_result",
          "data": {
            "text/plain": [
              "0.4503441494591937"
            ]
          },
          "metadata": {
            "tags": []
          },
          "execution_count": 28
        }
      ]
    },
    {
      "cell_type": "code",
      "metadata": {
        "id": "R2vnMB7eiuTC",
        "colab": {
          "base_uri": "https://localhost:8080/"
        },
        "outputId": "65266fd9-2863-4256-a2b6-26cbc5558e72"
      },
      "source": [
        "print(classification_report(test_labels, test_predictions, target_names=mlb.classes_, zero_division=0))"
      ],
      "execution_count": 29,
      "outputs": [
        {
          "output_type": "stream",
          "text": [
            "                          precision    recall  f1-score   support\n",
            "\n",
            "        AMBIENCE#GENERAL       1.00      0.21      0.35        57\n",
            "           DRINKS#PRICES       0.00      0.00      0.00         3\n",
            "          DRINKS#QUALITY       0.00      0.00      0.00        21\n",
            "    DRINKS#STYLE_OPTIONS       0.00      0.00      0.00        12\n",
            "             FOOD#PRICES       0.00      0.00      0.00        22\n",
            "            FOOD#QUALITY       0.78      0.54      0.64       226\n",
            "      FOOD#STYLE_OPTIONS       0.00      0.00      0.00        48\n",
            "        LOCATION#GENERAL       0.00      0.00      0.00        13\n",
            "      RESTAURANT#GENERAL       0.84      0.23      0.36       142\n",
            "RESTAURANT#MISCELLANEOUS       0.00      0.00      0.00        33\n",
            "       RESTAURANT#PRICES       0.00      0.00      0.00        21\n",
            "         SERVICE#GENERAL       0.95      0.43      0.60       145\n",
            "\n",
            "               micro avg       0.84      0.31      0.45       743\n",
            "               macro avg       0.30      0.12      0.16       743\n",
            "            weighted avg       0.66      0.31      0.41       743\n",
            "             samples avg       0.32      0.28      0.29       743\n",
            "\n"
          ],
          "name": "stdout"
        }
      ]
    },
    {
      "cell_type": "markdown",
      "metadata": {
        "id": "7ILNRIidLtJe"
      },
      "source": [
        "It's now your task to improve this.\n",
        "\n",
        "You can try a lot of things to make the classifier more accurate. Of course, it's very recommended to try different DNN based approaches. \n",
        "\n",
        "Note that there are only 2000 training sentences. This makes the task basically an excercise of transfer learning. You can try using pre-trained word embeddings, pre-trained models like BERT, etc.\n",
        "\n",
        "Note that the labels have some structure in them. Each label consists of two parts: e.g. FOOD#QUALITY consists of FOOD and QUALITY. Maybe try splitting the labels into two parts and predicting each part independanty? Of course, you need to glue them back up when doing evaluation.\n",
        "\n",
        "Multi-label classification can be easily handled with neural network models with a model that has one output for each label, but instead of simple cross-entropy, binary cross-entropy has to be used for optimization.\n",
        "\n",
        "Multi-label classification is a quite popular task and you can find a lot of tutorials on the internet. For example, many many text classification where a text can be assigned many tags (as in StackOverflow) are multi-label tasks.\n",
        "\n",
        "\n",
        "Check the slides of Lecture 1 on how the final project should look like, what parts it should contain and how it will be graded.\n",
        "\n",
        "\n"
      ]
    },
    {
      "cell_type": "markdown",
      "metadata": {
        "id": "i3kc6ozYVoo1"
      },
      "source": [
        "Failing with OneVsOne"
      ]
    },
    {
      "cell_type": "code",
      "metadata": {
        "id": "icGZVw0IS_Q_"
      },
      "source": [
        "def get_index(l):\n",
        "  try:\n",
        "    return list(l).index(1)\n",
        "  except: \n",
        "    #print(l)\n",
        "    return 13"
      ],
      "execution_count": 30,
      "outputs": []
    },
    {
      "cell_type": "code",
      "metadata": {
        "id": "wqL-prRmUu2R"
      },
      "source": [
        "import numpy as np\n",
        "\n",
        "def reverse(l):\n",
        "  result = []\n",
        "  for e in l:\n",
        "    zeros = np.zeros(12, int)\n",
        "    if e != 13:\n",
        "      zeros[e] = 1\n",
        "    result.append(zeros)\n",
        "  return np.array(result)\n"
      ],
      "execution_count": 31,
      "outputs": []
    },
    {
      "cell_type": "code",
      "metadata": {
        "id": "ZuwKorIkjdA3",
        "colab": {
          "base_uri": "https://localhost:8080/"
        },
        "outputId": "5992cd81-c53a-4f99-8f22-9440b6c030b3"
      },
      "source": [
        "from sklearn.multiclass import OneVsOneClassifier\n",
        "\n",
        "text_clf_1vs1 = Pipeline([\n",
        "     ('vect', CountVectorizer()),\n",
        "     ('tfidf', TfidfTransformer()),\n",
        "     ('clf',  OneVsOneClassifier(LogisticRegression()))\n",
        " ])\n",
        "train_labels_1vs1 = list(map(lambda x: get_index(x), train_labels))\n",
        "text_clf_1vs1.fit(train_text, train_labels_1vs1)\n",
        "\n",
        "test_predictions = text_clf_1vs1.predict(test_text)\n",
        "\n",
        "test_predictions = reverse(test_predictions)\n",
        "print(test_predictions)\n",
        "#test_labels_1vs1 = list(map(lambda x: get_index(x), test_labels))\n",
        "#print(test_predictions)\n",
        "f1 = f1_score(test_labels,\n",
        "         test_predictions,\n",
        "         average='micro')\n",
        "print('F1: {}'.format(f1))\n",
        "print(classification_report(test_labels, test_predictions, target_names=mlb.classes_, zero_division=0))"
      ],
      "execution_count": 32,
      "outputs": [
        {
          "output_type": "stream",
          "text": [
            "[[0 0 0 ... 0 0 0]\n",
            " [0 0 0 ... 0 0 0]\n",
            " [0 0 0 ... 0 0 0]\n",
            " ...\n",
            " [0 0 0 ... 0 0 0]\n",
            " [0 0 0 ... 0 0 0]\n",
            " [0 0 0 ... 0 0 0]]\n",
            "F1: 0.5303703703703704\n",
            "                          precision    recall  f1-score   support\n",
            "\n",
            "        AMBIENCE#GENERAL       0.79      0.47      0.59        57\n",
            "           DRINKS#PRICES       0.00      0.00      0.00         3\n",
            "          DRINKS#QUALITY       0.00      0.00      0.00        21\n",
            "    DRINKS#STYLE_OPTIONS       0.00      0.00      0.00        12\n",
            "             FOOD#PRICES       0.00      0.00      0.00        22\n",
            "            FOOD#QUALITY       0.53      0.88      0.66       226\n",
            "      FOOD#STYLE_OPTIONS       0.00      0.00      0.00        48\n",
            "        LOCATION#GENERAL       0.00      0.00      0.00        13\n",
            "      RESTAURANT#GENERAL       0.61      0.56      0.58       142\n",
            "RESTAURANT#MISCELLANEOUS       0.00      0.00      0.00        33\n",
            "       RESTAURANT#PRICES       0.00      0.00      0.00        21\n",
            "         SERVICE#GENERAL       0.85      0.37      0.51       145\n",
            "\n",
            "               micro avg       0.59      0.48      0.53       743\n",
            "               macro avg       0.23      0.19      0.20       743\n",
            "            weighted avg       0.50      0.48      0.46       743\n",
            "             samples avg       0.53      0.45      0.48       743\n",
            "\n"
          ],
          "name": "stdout"
        }
      ]
    },
    {
      "cell_type": "markdown",
      "metadata": {
        "id": "tBLqZ6BMXeN7"
      },
      "source": [
        "Trying OutputCode"
      ]
    },
    {
      "cell_type": "code",
      "metadata": {
        "colab": {
          "base_uri": "https://localhost:8080/"
        },
        "id": "K-zgMkaZXgLX",
        "outputId": "9e5f4671-c0a8-4e06-e963-9a3584f186f7"
      },
      "source": [
        "from sklearn.multiclass import OutputCodeClassifier\n",
        "from sklearn.preprocessing import FunctionTransformer\n",
        "\n",
        "text_clf_occ = Pipeline([\n",
        "     ('vect', CountVectorizer()),\n",
        "     ('tfidf', TfidfTransformer()), \n",
        "     ('to_dense', FunctionTransformer(lambda x: x.todense(), accept_sparse=True)),\n",
        "     ('clf',  OutputCodeClassifier(LogisticRegression()))\n",
        " ])\n",
        "#train_labels_1vs1 = list(map(lambda x: get_index(x), train_labels))\n",
        "#text_clf_occ.fit(train_text, train_labels)\n",
        "\n",
        "#test_predictions = text_clf_occ.predict(test_text)\n",
        "\n",
        "#test_predictions = reverse(test_predictions)\n",
        "print(test_predictions)\n",
        "#test_labels_1vs1 = list(map(lambda x: get_index(x), test_labels))\n",
        "#print(test_predictions)\n",
        "f1 = f1_score(test_labels,\n",
        "         test_predictions,\n",
        "         average='micro')\n",
        "print('F1: {}'.format(f1))\n",
        "print(classification_report(test_labels, test_predictions, target_names=mlb.classes_, zero_division=0))"
      ],
      "execution_count": 33,
      "outputs": [
        {
          "output_type": "stream",
          "text": [
            "[[0 0 0 ... 0 0 0]\n",
            " [0 0 0 ... 0 0 0]\n",
            " [0 0 0 ... 0 0 0]\n",
            " ...\n",
            " [0 0 0 ... 0 0 0]\n",
            " [0 0 0 ... 0 0 0]\n",
            " [0 0 0 ... 0 0 0]]\n",
            "F1: 0.5303703703703704\n",
            "                          precision    recall  f1-score   support\n",
            "\n",
            "        AMBIENCE#GENERAL       0.79      0.47      0.59        57\n",
            "           DRINKS#PRICES       0.00      0.00      0.00         3\n",
            "          DRINKS#QUALITY       0.00      0.00      0.00        21\n",
            "    DRINKS#STYLE_OPTIONS       0.00      0.00      0.00        12\n",
            "             FOOD#PRICES       0.00      0.00      0.00        22\n",
            "            FOOD#QUALITY       0.53      0.88      0.66       226\n",
            "      FOOD#STYLE_OPTIONS       0.00      0.00      0.00        48\n",
            "        LOCATION#GENERAL       0.00      0.00      0.00        13\n",
            "      RESTAURANT#GENERAL       0.61      0.56      0.58       142\n",
            "RESTAURANT#MISCELLANEOUS       0.00      0.00      0.00        33\n",
            "       RESTAURANT#PRICES       0.00      0.00      0.00        21\n",
            "         SERVICE#GENERAL       0.85      0.37      0.51       145\n",
            "\n",
            "               micro avg       0.59      0.48      0.53       743\n",
            "               macro avg       0.23      0.19      0.20       743\n",
            "            weighted avg       0.50      0.48      0.46       743\n",
            "             samples avg       0.53      0.45      0.48       743\n",
            "\n"
          ],
          "name": "stdout"
        }
      ]
    },
    {
      "cell_type": "markdown",
      "metadata": {
        "id": "fMkKv3DbfLEw"
      },
      "source": [
        "# BERT approach\n",
        "  "
      ]
    },
    {
      "cell_type": "code",
      "metadata": {
        "colab": {
          "base_uri": "https://localhost:8080/"
        },
        "id": "rA2RSDiEfK28",
        "outputId": "cf6c7d6a-2cf4-483b-e40a-6984833d4e7d"
      },
      "source": [
        "!pip install transformers"
      ],
      "execution_count": 34,
      "outputs": [
        {
          "output_type": "stream",
          "text": [
            "Requirement already satisfied: transformers in /usr/local/lib/python3.7/dist-packages (4.6.1)\n",
            "Requirement already satisfied: requests in /usr/local/lib/python3.7/dist-packages (from transformers) (2.23.0)\n",
            "Requirement already satisfied: numpy>=1.17 in /usr/local/lib/python3.7/dist-packages (from transformers) (1.19.5)\n",
            "Requirement already satisfied: regex!=2019.12.17 in /usr/local/lib/python3.7/dist-packages (from transformers) (2019.12.20)\n",
            "Requirement already satisfied: tokenizers<0.11,>=0.10.1 in /usr/local/lib/python3.7/dist-packages (from transformers) (0.10.3)\n",
            "Requirement already satisfied: importlib-metadata; python_version < \"3.8\" in /usr/local/lib/python3.7/dist-packages (from transformers) (4.0.1)\n",
            "Requirement already satisfied: huggingface-hub==0.0.8 in /usr/local/lib/python3.7/dist-packages (from transformers) (0.0.8)\n",
            "Requirement already satisfied: tqdm>=4.27 in /usr/local/lib/python3.7/dist-packages (from transformers) (4.41.1)\n",
            "Requirement already satisfied: packaging in /usr/local/lib/python3.7/dist-packages (from transformers) (20.9)\n",
            "Requirement already satisfied: filelock in /usr/local/lib/python3.7/dist-packages (from transformers) (3.0.12)\n",
            "Requirement already satisfied: sacremoses in /usr/local/lib/python3.7/dist-packages (from transformers) (0.0.45)\n",
            "Requirement already satisfied: urllib3!=1.25.0,!=1.25.1,<1.26,>=1.21.1 in /usr/local/lib/python3.7/dist-packages (from requests->transformers) (1.24.3)\n",
            "Requirement already satisfied: chardet<4,>=3.0.2 in /usr/local/lib/python3.7/dist-packages (from requests->transformers) (3.0.4)\n",
            "Requirement already satisfied: idna<3,>=2.5 in /usr/local/lib/python3.7/dist-packages (from requests->transformers) (2.10)\n",
            "Requirement already satisfied: certifi>=2017.4.17 in /usr/local/lib/python3.7/dist-packages (from requests->transformers) (2020.12.5)\n",
            "Requirement already satisfied: zipp>=0.5 in /usr/local/lib/python3.7/dist-packages (from importlib-metadata; python_version < \"3.8\"->transformers) (3.4.1)\n",
            "Requirement already satisfied: typing-extensions>=3.6.4; python_version < \"3.8\" in /usr/local/lib/python3.7/dist-packages (from importlib-metadata; python_version < \"3.8\"->transformers) (3.7.4.3)\n",
            "Requirement already satisfied: pyparsing>=2.0.2 in /usr/local/lib/python3.7/dist-packages (from packaging->transformers) (2.4.7)\n",
            "Requirement already satisfied: joblib in /usr/local/lib/python3.7/dist-packages (from sacremoses->transformers) (1.0.1)\n",
            "Requirement already satisfied: six in /usr/local/lib/python3.7/dist-packages (from sacremoses->transformers) (1.15.0)\n",
            "Requirement already satisfied: click in /usr/local/lib/python3.7/dist-packages (from sacremoses->transformers) (7.1.2)\n"
          ],
          "name": "stdout"
        }
      ]
    },
    {
      "cell_type": "code",
      "metadata": {
        "colab": {
          "base_uri": "https://localhost:8080/"
        },
        "id": "306lRrowfUcX",
        "outputId": "79f4651f-79f8-4364-d7e2-c1e20c0039cb"
      },
      "source": [
        "import numpy as np\n",
        "import torch\n",
        "from torch.utils.data import Dataset, DataLoader\n",
        "\n",
        "import torch \n",
        "\n",
        "device = 'cpu'\n",
        "if torch.cuda.is_available():\n",
        "  device = torch.device('cuda')\n",
        "\n",
        "print(device)"
      ],
      "execution_count": 35,
      "outputs": [
        {
          "output_type": "stream",
          "text": [
            "cuda\n"
          ],
          "name": "stdout"
        }
      ]
    },
    {
      "cell_type": "markdown",
      "metadata": {
        "id": "PCWWRqDhq_sb"
      },
      "source": [
        "## BERT tokenizer"
      ]
    },
    {
      "cell_type": "code",
      "metadata": {
        "colab": {
          "base_uri": "https://localhost:8080/"
        },
        "id": "FRyFIFEArFiZ",
        "outputId": "5c020a5d-05be-42c3-e879-9086acc5651e"
      },
      "source": [
        "!pip install transformers"
      ],
      "execution_count": 36,
      "outputs": [
        {
          "output_type": "stream",
          "text": [
            "Requirement already satisfied: transformers in /usr/local/lib/python3.7/dist-packages (4.6.1)\n",
            "Requirement already satisfied: requests in /usr/local/lib/python3.7/dist-packages (from transformers) (2.23.0)\n",
            "Requirement already satisfied: regex!=2019.12.17 in /usr/local/lib/python3.7/dist-packages (from transformers) (2019.12.20)\n",
            "Requirement already satisfied: numpy>=1.17 in /usr/local/lib/python3.7/dist-packages (from transformers) (1.19.5)\n",
            "Requirement already satisfied: tqdm>=4.27 in /usr/local/lib/python3.7/dist-packages (from transformers) (4.41.1)\n",
            "Requirement already satisfied: filelock in /usr/local/lib/python3.7/dist-packages (from transformers) (3.0.12)\n",
            "Requirement already satisfied: huggingface-hub==0.0.8 in /usr/local/lib/python3.7/dist-packages (from transformers) (0.0.8)\n",
            "Requirement already satisfied: sacremoses in /usr/local/lib/python3.7/dist-packages (from transformers) (0.0.45)\n",
            "Requirement already satisfied: tokenizers<0.11,>=0.10.1 in /usr/local/lib/python3.7/dist-packages (from transformers) (0.10.3)\n",
            "Requirement already satisfied: packaging in /usr/local/lib/python3.7/dist-packages (from transformers) (20.9)\n",
            "Requirement already satisfied: importlib-metadata; python_version < \"3.8\" in /usr/local/lib/python3.7/dist-packages (from transformers) (4.0.1)\n",
            "Requirement already satisfied: urllib3!=1.25.0,!=1.25.1,<1.26,>=1.21.1 in /usr/local/lib/python3.7/dist-packages (from requests->transformers) (1.24.3)\n",
            "Requirement already satisfied: idna<3,>=2.5 in /usr/local/lib/python3.7/dist-packages (from requests->transformers) (2.10)\n",
            "Requirement already satisfied: chardet<4,>=3.0.2 in /usr/local/lib/python3.7/dist-packages (from requests->transformers) (3.0.4)\n",
            "Requirement already satisfied: certifi>=2017.4.17 in /usr/local/lib/python3.7/dist-packages (from requests->transformers) (2020.12.5)\n",
            "Requirement already satisfied: joblib in /usr/local/lib/python3.7/dist-packages (from sacremoses->transformers) (1.0.1)\n",
            "Requirement already satisfied: click in /usr/local/lib/python3.7/dist-packages (from sacremoses->transformers) (7.1.2)\n",
            "Requirement already satisfied: six in /usr/local/lib/python3.7/dist-packages (from sacremoses->transformers) (1.15.0)\n",
            "Requirement already satisfied: pyparsing>=2.0.2 in /usr/local/lib/python3.7/dist-packages (from packaging->transformers) (2.4.7)\n",
            "Requirement already satisfied: zipp>=0.5 in /usr/local/lib/python3.7/dist-packages (from importlib-metadata; python_version < \"3.8\"->transformers) (3.4.1)\n",
            "Requirement already satisfied: typing-extensions>=3.6.4; python_version < \"3.8\" in /usr/local/lib/python3.7/dist-packages (from importlib-metadata; python_version < \"3.8\"->transformers) (3.7.4.3)\n"
          ],
          "name": "stdout"
        }
      ]
    },
    {
      "cell_type": "code",
      "metadata": {
        "id": "GSzeXGhHrBz5"
      },
      "source": [
        "from transformers import BertTokenizer\n",
        "tokenizer = BertTokenizer.from_pretrained('bert-base-cased', do_lower_case=False)"
      ],
      "execution_count": 37,
      "outputs": []
    },
    {
      "cell_type": "markdown",
      "metadata": {
        "id": "Zd9yJce1s-Pb"
      },
      "source": [
        "## TextDataset"
      ]
    },
    {
      "cell_type": "code",
      "metadata": {
        "id": "RDj8xCpWtAIb"
      },
      "source": [
        "class TextLabelDataset (Dataset):\n",
        "    def __init__(self, text, labels, tokenizer, max_len):\n",
        "        self.tokenizer = tokenizer\n",
        "        self.text = text\n",
        "        self.labels = labels\n",
        "        self.max_len = max_len\n",
        "        \n",
        "    def __len__(self):\n",
        "        return len(self.text)\n",
        "    \n",
        "    def __getitem__(self, item_idx):\n",
        "        text = self.text[item_idx]\n",
        "        inputs = self.tokenizer.encode_plus(\n",
        "            text,\n",
        "            None,\n",
        "            add_special_tokens=True,\n",
        "            max_length= self.max_len,\n",
        "            padding = 'max_length',\n",
        "            return_token_type_ids= False,\n",
        "            return_attention_mask= True,\n",
        "            truncation=True,\n",
        "            return_tensors = 'pt'\n",
        "          )\n",
        "        \n",
        "        input_ids = inputs['input_ids'].flatten()\n",
        "        attn_mask = inputs['attention_mask'].flatten()\n",
        "               \n",
        "        return {\n",
        "          'input_ids': input_ids ,\n",
        "          'attention_mask': attn_mask,\n",
        "          'label_ids':torch.tensor(self.labels[item_idx],dtype= torch.float)\n",
        "        }"
      ],
      "execution_count": 38,
      "outputs": []
    },
    {
      "cell_type": "code",
      "metadata": {
        "colab": {
          "base_uri": "https://localhost:8080/"
        },
        "id": "8gWAr-Ndzvvd",
        "outputId": "39465339-9532-41bb-bf40-50aa1abb26e2"
      },
      "source": [
        "all_text = train_text + test_text\n",
        "all_text_lengths = map(lambda x: len(tokenizer.tokenize(x)), all_text)\n",
        "MAX_LEN = max(all_text_lengths) + 2\n",
        "print(MAX_LEN)"
      ],
      "execution_count": 39,
      "outputs": [
        {
          "output_type": "stream",
          "text": [
            "110\n"
          ],
          "name": "stdout"
        }
      ]
    },
    {
      "cell_type": "code",
      "metadata": {
        "id": "5FmAeTiPx2jj"
      },
      "source": [
        "train_dataset = TextLabelDataset(train_text, train_labels, tokenizer, MAX_LEN)\n",
        "test_dataset = TextLabelDataset(test_text, test_labels, tokenizer, MAX_LEN)"
      ],
      "execution_count": 40,
      "outputs": []
    },
    {
      "cell_type": "markdown",
      "metadata": {
        "id": "UwH569MgmCg_"
      },
      "source": [
        "## BERT Model"
      ]
    },
    {
      "cell_type": "code",
      "metadata": {
        "id": "9SSkpo3il2Fo"
      },
      "source": [
        "import torch.nn as nn\n",
        "import torch.nn.functional as F\n",
        "from transformers import BertModel\n",
        "\n",
        "class BertModel(nn.Module):\n",
        "    def __init__(self, num_classes, device='cpu', finetuning=False):\n",
        "        super().__init__()\n",
        "        self.bert = BertModel.from_pretrained('bert-base-cased')\n",
        "\n",
        "        self.fc = nn.Linear(768, num_classes)\n",
        "\n",
        "        self.device = device\n",
        "        self.finetuning = finetuning\n",
        "\n",
        "    def forward(self, x):\n",
        "        '''\n",
        "        x: (N, T). int64\n",
        "        Returns\n",
        "        enc: (N, T, num_classes)\n",
        "        '''\n",
        "        x = x.to(self.device)\n",
        "        # feed input tokens through BERT\n",
        "        if self.training and self.finetuning:\n",
        "            # print(\"->bert.train()\")\n",
        "            self.bert.train()\n",
        "\n",
        "            outputs = self.bert(x)\n",
        "            enc = outputs[0]\n",
        "        else:\n",
        "            self.bert.eval()\n",
        "            with torch.no_grad():\n",
        "              outputs = self.bert(x)\n",
        "              enc = outputs[0]\n",
        "\n",
        "        # feed BERT encodings through a classification layer\n",
        "        logits = self.fc(enc)\n",
        "        \n",
        "        return logits\n"
      ],
      "execution_count": 41,
      "outputs": []
    },
    {
      "cell_type": "markdown",
      "metadata": {
        "id": "rGBEt5PjmFfd"
      },
      "source": [
        "## Train and evaluate functions"
      ]
    },
    {
      "cell_type": "code",
      "metadata": {
        "colab": {
          "base_uri": "https://localhost:8080/"
        },
        "id": "0vAVZb2F7_Yj",
        "outputId": "6e37f320-3a49-44a5-99fa-7db21388e2bb"
      },
      "source": [
        "!pip install sklearn_crfsuite\n",
        "import sklearn_crfsuite\n",
        "import sklearn_crfsuite.metrics"
      ],
      "execution_count": 42,
      "outputs": [
        {
          "output_type": "stream",
          "text": [
            "Requirement already satisfied: sklearn_crfsuite in /usr/local/lib/python3.7/dist-packages (0.3.6)\n",
            "Requirement already satisfied: tqdm>=2.0 in /usr/local/lib/python3.7/dist-packages (from sklearn_crfsuite) (4.41.1)\n",
            "Requirement already satisfied: six in /usr/local/lib/python3.7/dist-packages (from sklearn_crfsuite) (1.15.0)\n",
            "Requirement already satisfied: tabulate in /usr/local/lib/python3.7/dist-packages (from sklearn_crfsuite) (0.8.9)\n",
            "Requirement already satisfied: python-crfsuite>=0.8.3 in /usr/local/lib/python3.7/dist-packages (from sklearn_crfsuite) (0.9.7)\n"
          ],
          "name": "stdout"
        }
      ]
    },
    {
      "cell_type": "code",
      "metadata": {
        "id": "jXK4N3hamHav"
      },
      "source": [
        "def train(model, num_epochs, train_iter, dev_iter):\n",
        "  criterion = nn.BCELoss() \n",
        "  optimizer = torch.optim.Adam(model.parameters(), lr=0.0001)\n",
        "\n",
        "  for epoch in range(1, num_epochs+1):\n",
        "    print(\"Epoch %d\" % epoch)\n",
        "    \n",
        "    for i, batch in enumerate(train_iter):\n",
        "        model.train()\n",
        "        x = batch[\"input_ids\"]\n",
        "        y = batch[\"label_ids\"]\n",
        "\n",
        "        optimizer.zero_grad()\n",
        "        x = x.to(device)\n",
        "        logits = model(x) # logits: (N, T, TAGS), y: (N, T)\n",
        "\n",
        "        logits = logits.view(-1, logits.shape[-1]) # (N*T, TAGS)\n",
        "        y = y.to(device)\n",
        "        y = y.view(-1)  # (N*T,)\n",
        "\n",
        "        loss = criterion(logits, y)\n",
        "        loss.backward()\n",
        "\n",
        "        optimizer.step()\n",
        "\n",
        "\n",
        "        if i % 10 == 0: # monitoring\n",
        "            print(f\"step: {i}, loss: {loss.item()}\")\n",
        "\n",
        "        if i % 100 == 0: # let's evaluate more frequently than every epoch\n",
        "            evaluate(\"dev\", dev_iter, model)\n",
        "\n",
        "\n",
        "def evaluate(dataset_name, data_iter, model, full_report=False):\n",
        "  \n",
        "  model.eval()\n",
        "  y_pred_seq = []\n",
        "  y_seq = []\n",
        "  with torch.no_grad():\n",
        "    for batch in data_iter:\n",
        "      x = batch[\"input_ids\"]\n",
        "      y = batch[\"label_ids\"]\n",
        "\n",
        "      logits = model(x)  # y_hat: (N, T)\n",
        "      y_pred = logits.argmax(-1)\n",
        "      \n",
        "      for i in range(len(y)):\n",
        "        head_i = is_heads[i]\n",
        "        y_i = y[i].cpu().numpy()\n",
        "        y_pred_i = y_pred[i].cpu().numpy()\n",
        "            \n",
        "        # we only count the predictions that correspond to head tokens\n",
        "        # and ignore the predictions of the continuation tokens\n",
        "        y_pred_i = [TAGS[y_pred_j] for y_pred_j in y_pred_i][1:-1]\n",
        "        y_i = [TAGS[y_j] for y_j in y_i][1:-1]\n",
        "\n",
        "        y_pred_seq.append(y_pred_i)\n",
        "        y_seq.append(y_i)\n",
        "  \n",
        "  accuracy = sklearn_crfsuite.metrics.flat_accuracy_score(y_seq, y_pred_seq)\n",
        "  \n",
        "  print('  Evaluation on {} -  acc: {:.4f}%'.format(dataset_name, accuracy))\n",
        "  if full_report:\n",
        "    print(sklearn_crfsuite.metrics.flat_classification_report(y_seq, y_pred_seq, labels=[\"LOC\", \"MISC\", \"ORG\", \"PER\"]))\n",
        "       \n"
      ],
      "execution_count": 43,
      "outputs": []
    },
    {
      "cell_type": "markdown",
      "metadata": {
        "id": "POWaEnWjnRf_"
      },
      "source": [
        "## Model call"
      ]
    },
    {
      "cell_type": "code",
      "metadata": {
        "colab": {
          "base_uri": "https://localhost:8080/"
        },
        "id": "SnU4ltCj8HVF",
        "outputId": "92e6861f-bbf3-4883-8f3a-ff512246648f"
      },
      "source": [
        "!pip install tensorflow-gpu"
      ],
      "execution_count": 44,
      "outputs": [
        {
          "output_type": "stream",
          "text": [
            "Requirement already satisfied: tensorflow-gpu in /usr/local/lib/python3.7/dist-packages (2.5.0)\n",
            "Requirement already satisfied: wrapt~=1.12.1 in /usr/local/lib/python3.7/dist-packages (from tensorflow-gpu) (1.12.1)\n",
            "Requirement already satisfied: google-pasta~=0.2 in /usr/local/lib/python3.7/dist-packages (from tensorflow-gpu) (0.2.0)\n",
            "Requirement already satisfied: grpcio~=1.34.0 in /usr/local/lib/python3.7/dist-packages (from tensorflow-gpu) (1.34.1)\n",
            "Requirement already satisfied: opt-einsum~=3.3.0 in /usr/local/lib/python3.7/dist-packages (from tensorflow-gpu) (3.3.0)\n",
            "Requirement already satisfied: typing-extensions~=3.7.4 in /usr/local/lib/python3.7/dist-packages (from tensorflow-gpu) (3.7.4.3)\n",
            "Requirement already satisfied: termcolor~=1.1.0 in /usr/local/lib/python3.7/dist-packages (from tensorflow-gpu) (1.1.0)\n",
            "Requirement already satisfied: astunparse~=1.6.3 in /usr/local/lib/python3.7/dist-packages (from tensorflow-gpu) (1.6.3)\n",
            "Requirement already satisfied: tensorflow-estimator<2.6.0,>=2.5.0rc0 in /usr/local/lib/python3.7/dist-packages (from tensorflow-gpu) (2.5.0)\n",
            "Requirement already satisfied: h5py~=3.1.0 in /usr/local/lib/python3.7/dist-packages (from tensorflow-gpu) (3.1.0)\n",
            "Requirement already satisfied: tensorboard~=2.5 in /usr/local/lib/python3.7/dist-packages (from tensorflow-gpu) (2.5.0)\n",
            "Requirement already satisfied: six~=1.15.0 in /usr/local/lib/python3.7/dist-packages (from tensorflow-gpu) (1.15.0)\n",
            "Requirement already satisfied: keras-preprocessing~=1.1.2 in /usr/local/lib/python3.7/dist-packages (from tensorflow-gpu) (1.1.2)\n",
            "Requirement already satisfied: flatbuffers~=1.12.0 in /usr/local/lib/python3.7/dist-packages (from tensorflow-gpu) (1.12)\n",
            "Requirement already satisfied: numpy~=1.19.2 in /usr/local/lib/python3.7/dist-packages (from tensorflow-gpu) (1.19.5)\n",
            "Requirement already satisfied: protobuf>=3.9.2 in /usr/local/lib/python3.7/dist-packages (from tensorflow-gpu) (3.12.4)\n",
            "Requirement already satisfied: wheel~=0.35 in /usr/local/lib/python3.7/dist-packages (from tensorflow-gpu) (0.36.2)\n",
            "Requirement already satisfied: absl-py~=0.10 in /usr/local/lib/python3.7/dist-packages (from tensorflow-gpu) (0.12.0)\n",
            "Requirement already satisfied: keras-nightly~=2.5.0.dev in /usr/local/lib/python3.7/dist-packages (from tensorflow-gpu) (2.5.0.dev2021032900)\n",
            "Requirement already satisfied: gast==0.4.0 in /usr/local/lib/python3.7/dist-packages (from tensorflow-gpu) (0.4.0)\n",
            "Requirement already satisfied: cached-property; python_version < \"3.8\" in /usr/local/lib/python3.7/dist-packages (from h5py~=3.1.0->tensorflow-gpu) (1.5.2)\n",
            "Requirement already satisfied: requests<3,>=2.21.0 in /usr/local/lib/python3.7/dist-packages (from tensorboard~=2.5->tensorflow-gpu) (2.23.0)\n",
            "Requirement already satisfied: google-auth<2,>=1.6.3 in /usr/local/lib/python3.7/dist-packages (from tensorboard~=2.5->tensorflow-gpu) (1.30.0)\n",
            "Requirement already satisfied: tensorboard-data-server<0.7.0,>=0.6.0 in /usr/local/lib/python3.7/dist-packages (from tensorboard~=2.5->tensorflow-gpu) (0.6.1)\n",
            "Requirement already satisfied: markdown>=2.6.8 in /usr/local/lib/python3.7/dist-packages (from tensorboard~=2.5->tensorflow-gpu) (3.3.4)\n",
            "Requirement already satisfied: setuptools>=41.0.0 in /usr/local/lib/python3.7/dist-packages (from tensorboard~=2.5->tensorflow-gpu) (56.1.0)\n",
            "Requirement already satisfied: google-auth-oauthlib<0.5,>=0.4.1 in /usr/local/lib/python3.7/dist-packages (from tensorboard~=2.5->tensorflow-gpu) (0.4.4)\n",
            "Requirement already satisfied: werkzeug>=0.11.15 in /usr/local/lib/python3.7/dist-packages (from tensorboard~=2.5->tensorflow-gpu) (1.0.1)\n",
            "Requirement already satisfied: tensorboard-plugin-wit>=1.6.0 in /usr/local/lib/python3.7/dist-packages (from tensorboard~=2.5->tensorflow-gpu) (1.8.0)\n",
            "Requirement already satisfied: chardet<4,>=3.0.2 in /usr/local/lib/python3.7/dist-packages (from requests<3,>=2.21.0->tensorboard~=2.5->tensorflow-gpu) (3.0.4)\n",
            "Requirement already satisfied: certifi>=2017.4.17 in /usr/local/lib/python3.7/dist-packages (from requests<3,>=2.21.0->tensorboard~=2.5->tensorflow-gpu) (2020.12.5)\n",
            "Requirement already satisfied: idna<3,>=2.5 in /usr/local/lib/python3.7/dist-packages (from requests<3,>=2.21.0->tensorboard~=2.5->tensorflow-gpu) (2.10)\n",
            "Requirement already satisfied: urllib3!=1.25.0,!=1.25.1,<1.26,>=1.21.1 in /usr/local/lib/python3.7/dist-packages (from requests<3,>=2.21.0->tensorboard~=2.5->tensorflow-gpu) (1.24.3)\n",
            "Requirement already satisfied: pyasn1-modules>=0.2.1 in /usr/local/lib/python3.7/dist-packages (from google-auth<2,>=1.6.3->tensorboard~=2.5->tensorflow-gpu) (0.2.8)\n",
            "Requirement already satisfied: cachetools<5.0,>=2.0.0 in /usr/local/lib/python3.7/dist-packages (from google-auth<2,>=1.6.3->tensorboard~=2.5->tensorflow-gpu) (4.2.2)\n",
            "Requirement already satisfied: rsa<5,>=3.1.4; python_version >= \"3.6\" in /usr/local/lib/python3.7/dist-packages (from google-auth<2,>=1.6.3->tensorboard~=2.5->tensorflow-gpu) (4.7.2)\n",
            "Requirement already satisfied: importlib-metadata; python_version < \"3.8\" in /usr/local/lib/python3.7/dist-packages (from markdown>=2.6.8->tensorboard~=2.5->tensorflow-gpu) (4.0.1)\n",
            "Requirement already satisfied: requests-oauthlib>=0.7.0 in /usr/local/lib/python3.7/dist-packages (from google-auth-oauthlib<0.5,>=0.4.1->tensorboard~=2.5->tensorflow-gpu) (1.3.0)\n",
            "Requirement already satisfied: pyasn1<0.5.0,>=0.4.6 in /usr/local/lib/python3.7/dist-packages (from pyasn1-modules>=0.2.1->google-auth<2,>=1.6.3->tensorboard~=2.5->tensorflow-gpu) (0.4.8)\n",
            "Requirement already satisfied: zipp>=0.5 in /usr/local/lib/python3.7/dist-packages (from importlib-metadata; python_version < \"3.8\"->markdown>=2.6.8->tensorboard~=2.5->tensorflow-gpu) (3.4.1)\n",
            "Requirement already satisfied: oauthlib>=3.0.0 in /usr/local/lib/python3.7/dist-packages (from requests-oauthlib>=0.7.0->google-auth-oauthlib<0.5,>=0.4.1->tensorboard~=2.5->tensorflow-gpu) (3.1.0)\n"
          ],
          "name": "stdout"
        }
      ]
    },
    {
      "cell_type": "code",
      "metadata": {
        "colab": {
          "base_uri": "https://localhost:8080/",
          "height": 287
        },
        "id": "rO7Dvj2fnTtz",
        "outputId": "65f24300-e5ec-4692-ea28-2a634cb79acf"
      },
      "source": [
        "model = BertModel(n_labels, device, True).to(device)"
      ],
      "execution_count": 45,
      "outputs": [
        {
          "output_type": "error",
          "ename": "AttributeError",
          "evalue": "ignored",
          "traceback": [
            "\u001b[0;31m---------------------------------------------------------------------------\u001b[0m",
            "\u001b[0;31mAttributeError\u001b[0m                            Traceback (most recent call last)",
            "\u001b[0;32m<ipython-input-45-cdae98ad1927>\u001b[0m in \u001b[0;36m<module>\u001b[0;34m()\u001b[0m\n\u001b[0;32m----> 1\u001b[0;31m \u001b[0mmodel\u001b[0m \u001b[0;34m=\u001b[0m \u001b[0mBertModel\u001b[0m\u001b[0;34m(\u001b[0m\u001b[0mn_labels\u001b[0m\u001b[0;34m,\u001b[0m \u001b[0mdevice\u001b[0m\u001b[0;34m,\u001b[0m \u001b[0;32mTrue\u001b[0m\u001b[0;34m)\u001b[0m\u001b[0;34m.\u001b[0m\u001b[0mto\u001b[0m\u001b[0;34m(\u001b[0m\u001b[0mdevice\u001b[0m\u001b[0;34m)\u001b[0m\u001b[0;34m\u001b[0m\u001b[0;34m\u001b[0m\u001b[0m\n\u001b[0m",
            "\u001b[0;32m<ipython-input-41-44519bf45ec1>\u001b[0m in \u001b[0;36m__init__\u001b[0;34m(self, num_classes, device, finetuning)\u001b[0m\n\u001b[1;32m      6\u001b[0m     \u001b[0;32mdef\u001b[0m \u001b[0m__init__\u001b[0m\u001b[0;34m(\u001b[0m\u001b[0mself\u001b[0m\u001b[0;34m,\u001b[0m \u001b[0mnum_classes\u001b[0m\u001b[0;34m,\u001b[0m \u001b[0mdevice\u001b[0m\u001b[0;34m=\u001b[0m\u001b[0;34m'cpu'\u001b[0m\u001b[0;34m,\u001b[0m \u001b[0mfinetuning\u001b[0m\u001b[0;34m=\u001b[0m\u001b[0;32mFalse\u001b[0m\u001b[0;34m)\u001b[0m\u001b[0;34m:\u001b[0m\u001b[0;34m\u001b[0m\u001b[0;34m\u001b[0m\u001b[0m\n\u001b[1;32m      7\u001b[0m         \u001b[0msuper\u001b[0m\u001b[0;34m(\u001b[0m\u001b[0;34m)\u001b[0m\u001b[0;34m.\u001b[0m\u001b[0m__init__\u001b[0m\u001b[0;34m(\u001b[0m\u001b[0;34m)\u001b[0m\u001b[0;34m\u001b[0m\u001b[0;34m\u001b[0m\u001b[0m\n\u001b[0;32m----> 8\u001b[0;31m         \u001b[0mself\u001b[0m\u001b[0;34m.\u001b[0m\u001b[0mbert\u001b[0m \u001b[0;34m=\u001b[0m \u001b[0mBertModel\u001b[0m\u001b[0;34m.\u001b[0m\u001b[0mfrom_pretrained\u001b[0m\u001b[0;34m(\u001b[0m\u001b[0;34m'bert-base-cased'\u001b[0m\u001b[0;34m)\u001b[0m\u001b[0;34m\u001b[0m\u001b[0;34m\u001b[0m\u001b[0m\n\u001b[0m\u001b[1;32m      9\u001b[0m \u001b[0;34m\u001b[0m\u001b[0m\n\u001b[1;32m     10\u001b[0m         \u001b[0mself\u001b[0m\u001b[0;34m.\u001b[0m\u001b[0mfc\u001b[0m \u001b[0;34m=\u001b[0m \u001b[0mnn\u001b[0m\u001b[0;34m.\u001b[0m\u001b[0mLinear\u001b[0m\u001b[0;34m(\u001b[0m\u001b[0;36m768\u001b[0m\u001b[0;34m,\u001b[0m \u001b[0mnum_classes\u001b[0m\u001b[0;34m)\u001b[0m\u001b[0;34m\u001b[0m\u001b[0;34m\u001b[0m\u001b[0m\n",
            "\u001b[0;31mAttributeError\u001b[0m: type object 'BertModel' has no attribute 'from_pretrained'"
          ]
        }
      ]
    },
    {
      "cell_type": "markdown",
      "metadata": {
        "id": "2VUny0KGpQUw"
      },
      "source": [
        "## Batching"
      ]
    },
    {
      "cell_type": "code",
      "metadata": {
        "id": "LpUaWt0MpSf5"
      },
      "source": [
        "# we use a small batch size, as BERT needs a lot of memory\n",
        "batch_size = 16\n",
        "\n",
        "train_iter = DataLoader(dataset=train_dataset,\n",
        "                                 batch_size=batch_size,\n",
        "                                 shuffle=True,\n",
        "                                 num_workers=2)\n",
        "dev_iter = DataLoader(dataset=test_dataset,\n",
        "                                 batch_size=batch_size,\n",
        "                                 shuffle=False,\n",
        "                                 num_workers=2)"
      ],
      "execution_count": null,
      "outputs": []
    },
    {
      "cell_type": "markdown",
      "metadata": {
        "id": "c7Dx82CJpZi9"
      },
      "source": [
        "## Training"
      ]
    },
    {
      "cell_type": "code",
      "metadata": {
        "id": "ezDsKWt1pb51"
      },
      "source": [
        "train(model, 1, train_iter, dev_iter)"
      ],
      "execution_count": null,
      "outputs": []
    },
    {
      "cell_type": "markdown",
      "metadata": {
        "id": "QdkY_C2txEoD"
      },
      "source": [
        "## Evaluation"
      ]
    },
    {
      "cell_type": "code",
      "metadata": {
        "id": "sXZGF1ZmxERw"
      },
      "source": [
        "evaluate(\"dev\", dev_iter, model, full_report=True)"
      ],
      "execution_count": null,
      "outputs": []
    }
  ]
}